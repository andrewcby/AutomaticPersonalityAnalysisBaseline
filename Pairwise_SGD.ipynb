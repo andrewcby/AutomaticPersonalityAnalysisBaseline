{
 "cells": [
  {
   "cell_type": "code",
   "execution_count": 8,
   "metadata": {
    "collapsed": false
   },
   "outputs": [],
   "source": [
    "import os, csv, random, time\n",
    "\n",
    "from __future__ import division\n",
    "from matplotlib import  pyplot as plt\n",
    "from scipy import stats, optimize\n",
    "from collections import deque\n",
    "from statsmodels.base.model import GenericLikelihoodModel\n",
    "from scipy.stats import bernoulli,poisson,norm,expon\n",
    "from multiprocessing import Process, Lock\n",
    "# from pathos.multiprocessing import ProcessingPool as Pool\n",
    "\n",
    "import numpy as np\n",
    "import scipy.io as sio\n",
    "import seaborn as sns\n",
    "\n",
    "%matplotlib inline"
   ]
  },
  {
   "cell_type": "markdown",
   "metadata": {},
   "source": [
    "# Generate score for videos, and find all possible pairs"
   ]
  },
  {
   "cell_type": "code",
   "execution_count": 2,
   "metadata": {
    "collapsed": false
   },
   "outputs": [
    {
     "name": "stdout",
     "output_type": "stream",
     "text": [
      "Total number of pairs for 30 videos is:  435\n"
     ]
    }
   ],
   "source": [
    "video_num = 30\n",
    "global video_score\n",
    "video_score = np.random.uniform(-5,5,video_num)\n",
    "resolution = 0.1\n",
    "video_score = np.round(video_score/resolution)*resolution\n",
    "\n",
    "pairs_truth = []\n",
    "\n",
    "for i in range(len(video_score)-1):\n",
    "    for j in range(i+1, len(video_score)):\n",
    "        if video_score[i] > video_score[j]:\n",
    "            pairs_truth.append((i,j))\n",
    "        else:\n",
    "            pairs_truth.append((j,i))\n",
    "            \n",
    "total_pairs = len(pairs_truth)\n",
    "\n",
    "print 'Total number of pairs for %d videos is: ' %video_num, total_pairs"
   ]
  },
  {
   "cell_type": "markdown",
   "metadata": {},
   "source": [
    "# SGD\n",
    "Assuming the pair $(w_i,w_j)$ means $w_i > w_j$, this function calculates $\\frac{\\partial L}{\\partial w_i} = \\frac{exp(w_j-w_i)}{1+exp(w_j-w_i)}$, where $w_i$ represent the weight to be taken derivative of. Return value is the gradient of the log likelihood function with respect to $w_i$"
   ]
  },
  {
   "cell_type": "code",
   "execution_count": 3,
   "metadata": {
    "collapsed": true
   },
   "outputs": [],
   "source": [
    "def calc_gradient(pairs, w, w_i):\n",
    "    gradient = 0\n",
    "    \n",
    "    for pair in pairs:\n",
    "        if w_i == pair[0]:\n",
    "            out = -1\n",
    "        elif w_i == pair[1]:\n",
    "            out = 1  \n",
    "        else:\n",
    "            out = 0\n",
    "            \n",
    "        gradient -= out/(1/(np.exp(w[pair[1]]-w[pair[0]]))+1)\n",
    "    \n",
    "    return gradient"
   ]
  },
  {
   "cell_type": "markdown",
   "metadata": {},
   "source": [
    "$w_{old}$ saves the original values of the gradient, so that later when updating the values, the values to be updated are still using the original value"
   ]
  },
  {
   "cell_type": "code",
   "execution_count": 4,
   "metadata": {
    "collapsed": true
   },
   "outputs": [],
   "source": [
    "def update_gradient(pairs, w, eta):\n",
    "    w_old = w\n",
    "    for i in range(len(w)):\n",
    "        w[i] += eta*calc_gradient(pairs, w_old, i)\n",
    "    return w"
   ]
  },
  {
   "cell_type": "code",
   "execution_count": 5,
   "metadata": {
    "collapsed": true
   },
   "outputs": [],
   "source": [
    "def likelihood(pairs, w):\n",
    "    l = 1\n",
    "    for pair in pairs:\n",
    "        l += np.log(1+np.exp(w[pair[1]]-w[pair[0]]))\n",
    "    return l"
   ]
  },
  {
   "cell_type": "code",
   "execution_count": 11,
   "metadata": {
    "collapsed": false
   },
   "outputs": [
    {
     "name": "stdout",
     "output_type": "stream",
     "text": [
      "hello world 0\n",
      "hello world 1\n",
      "hello world 2\n",
      "hello world 3\n",
      "hello world 4\n",
      "hello world 5\n",
      "hello world 6\n",
      "hello world 7\n",
      "hello world 8\n",
      "hello world 9\n"
     ]
    }
   ],
   "source": [
    "def f(l, i):\n",
    "    l.acquire()\n",
    "    print 'hello world', i\n",
    "    l.release()\n",
    "\n",
    "if __name__ == '__main__':\n",
    "    lock = Lock()\n",
    "\n",
    "    for num in range(10):\n",
    "        Process(target=f, args=(lock, num)).start()"
   ]
  },
  {
   "cell_type": "code",
   "execution_count": 6,
   "metadata": {
    "collapsed": false
   },
   "outputs": [
    {
     "name": "stdout",
     "output_type": "stream",
     "text": [
      "302.206808753\n",
      "186.321341799\n",
      "162.190183374\n",
      "153.168345375\n",
      "149.299647749\n"
     ]
    },
    {
     "ename": "KeyboardInterrupt",
     "evalue": "",
     "output_type": "error",
     "traceback": [
      "\u001b[0;31m---------------------------------------------------------------------------\u001b[0m",
      "\u001b[0;31mKeyboardInterrupt\u001b[0m                         Traceback (most recent call last)",
      "\u001b[0;32m<ipython-input-6-8414e34bdd35>\u001b[0m in \u001b[0;36m<module>\u001b[0;34m()\u001b[0m\n\u001b[1;32m      9\u001b[0m \u001b[0;32mfor\u001b[0m \u001b[0mi\u001b[0m \u001b[0;32min\u001b[0m \u001b[0mrange\u001b[0m\u001b[0;34m(\u001b[0m\u001b[0;36m15000\u001b[0m\u001b[0;34m)\u001b[0m\u001b[0;34m:\u001b[0m\u001b[0;34m\u001b[0m\u001b[0m\n\u001b[1;32m     10\u001b[0m \u001b[0;34m\u001b[0m\u001b[0m\n\u001b[0;32m---> 11\u001b[0;31m     \u001b[0mw\u001b[0m \u001b[0;34m=\u001b[0m \u001b[0mupdate_gradient\u001b[0m\u001b[0;34m(\u001b[0m\u001b[0mpairs\u001b[0m\u001b[0;34m,\u001b[0m \u001b[0mw\u001b[0m\u001b[0;34m,\u001b[0m \u001b[0;36m0.001\u001b[0m\u001b[0;34m)\u001b[0m\u001b[0;34m\u001b[0m\u001b[0m\n\u001b[0m\u001b[1;32m     12\u001b[0m     \u001b[0;32mif\u001b[0m \u001b[0mi\u001b[0m \u001b[0;34m%\u001b[0m \u001b[0;36m1000\u001b[0m \u001b[0;34m==\u001b[0m\u001b[0;36m0\u001b[0m\u001b[0;34m:\u001b[0m\u001b[0;34m\u001b[0m\u001b[0m\n\u001b[1;32m     13\u001b[0m         \u001b[0mlike\u001b[0m \u001b[0;34m=\u001b[0m  \u001b[0mlikelihood\u001b[0m\u001b[0;34m(\u001b[0m\u001b[0mpairs_truth\u001b[0m\u001b[0;34m,\u001b[0m \u001b[0mw\u001b[0m\u001b[0;34m)\u001b[0m\u001b[0;34m\u001b[0m\u001b[0m\n",
      "\u001b[0;32m<ipython-input-4-2c92fbf17866>\u001b[0m in \u001b[0;36mupdate_gradient\u001b[0;34m(pairs, w, eta)\u001b[0m\n\u001b[1;32m      2\u001b[0m     \u001b[0mw_old\u001b[0m \u001b[0;34m=\u001b[0m \u001b[0mw\u001b[0m\u001b[0;34m\u001b[0m\u001b[0m\n\u001b[1;32m      3\u001b[0m     \u001b[0;32mfor\u001b[0m \u001b[0mi\u001b[0m \u001b[0;32min\u001b[0m \u001b[0mrange\u001b[0m\u001b[0;34m(\u001b[0m\u001b[0mlen\u001b[0m\u001b[0;34m(\u001b[0m\u001b[0mw\u001b[0m\u001b[0;34m)\u001b[0m\u001b[0;34m)\u001b[0m\u001b[0;34m:\u001b[0m\u001b[0;34m\u001b[0m\u001b[0m\n\u001b[0;32m----> 4\u001b[0;31m         \u001b[0mw\u001b[0m\u001b[0;34m[\u001b[0m\u001b[0mi\u001b[0m\u001b[0;34m]\u001b[0m \u001b[0;34m+=\u001b[0m \u001b[0meta\u001b[0m\u001b[0;34m*\u001b[0m\u001b[0mcalc_gradient\u001b[0m\u001b[0;34m(\u001b[0m\u001b[0mpairs\u001b[0m\u001b[0;34m,\u001b[0m \u001b[0mw_old\u001b[0m\u001b[0;34m,\u001b[0m \u001b[0mi\u001b[0m\u001b[0;34m)\u001b[0m\u001b[0;34m\u001b[0m\u001b[0m\n\u001b[0m\u001b[1;32m      5\u001b[0m     \u001b[0;32mreturn\u001b[0m \u001b[0mw\u001b[0m\u001b[0;34m\u001b[0m\u001b[0m\n",
      "\u001b[0;32m<ipython-input-3-fd0395fc7714>\u001b[0m in \u001b[0;36mcalc_gradient\u001b[0;34m(pairs, w, w_i)\u001b[0m\n\u001b[1;32m     10\u001b[0m             \u001b[0mout\u001b[0m \u001b[0;34m=\u001b[0m \u001b[0;36m0\u001b[0m\u001b[0;34m\u001b[0m\u001b[0m\n\u001b[1;32m     11\u001b[0m \u001b[0;34m\u001b[0m\u001b[0m\n\u001b[0;32m---> 12\u001b[0;31m         \u001b[0mgradient\u001b[0m \u001b[0;34m-=\u001b[0m \u001b[0mout\u001b[0m\u001b[0;34m/\u001b[0m\u001b[0;34m(\u001b[0m\u001b[0;36m1\u001b[0m\u001b[0;34m/\u001b[0m\u001b[0;34m(\u001b[0m\u001b[0mnp\u001b[0m\u001b[0;34m.\u001b[0m\u001b[0mexp\u001b[0m\u001b[0;34m(\u001b[0m\u001b[0mw\u001b[0m\u001b[0;34m[\u001b[0m\u001b[0mpair\u001b[0m\u001b[0;34m[\u001b[0m\u001b[0;36m1\u001b[0m\u001b[0;34m]\u001b[0m\u001b[0;34m]\u001b[0m\u001b[0;34m-\u001b[0m\u001b[0mw\u001b[0m\u001b[0;34m[\u001b[0m\u001b[0mpair\u001b[0m\u001b[0;34m[\u001b[0m\u001b[0;36m0\u001b[0m\u001b[0;34m]\u001b[0m\u001b[0;34m]\u001b[0m\u001b[0;34m)\u001b[0m\u001b[0;34m)\u001b[0m\u001b[0;34m+\u001b[0m\u001b[0;36m1\u001b[0m\u001b[0;34m)\u001b[0m\u001b[0;34m\u001b[0m\u001b[0m\n\u001b[0m\u001b[1;32m     13\u001b[0m \u001b[0;34m\u001b[0m\u001b[0m\n\u001b[1;32m     14\u001b[0m     \u001b[0;32mreturn\u001b[0m \u001b[0mgradient\u001b[0m\u001b[0;34m\u001b[0m\u001b[0m\n",
      "\u001b[0;31mKeyboardInterrupt\u001b[0m: "
     ]
    }
   ],
   "source": [
    "global w\n",
    "w = np.zeros(video_num)\n",
    "num_test_pairs = int(0.15* total_pairs)\n",
    "\n",
    "pairs = [pairs_truth[i] for i in random.sample(range(total_pairs), num_test_pairs)]\n",
    "results = []\n",
    "\n",
    "like_prev = 100000\n",
    "for i in range(15000):\n",
    "    \n",
    "    w = update_gradient(pairs, w, 0.001)\n",
    "    if i % 1000 ==0:\n",
    "        like =  likelihood(pairs_truth, w)\n",
    "#         if like_prev < like:\n",
    "#             break\n",
    "        like_prev = like\n",
    "        print like\n",
    "    results.append(w[0])\n",
    "    "
   ]
  },
  {
   "cell_type": "code",
   "execution_count": 42,
   "metadata": {
    "collapsed": false
   },
   "outputs": [
    {
     "name": "stdout",
     "output_type": "stream",
     "text": [
      "Result Order \t True Order \t Result Score \t Ture Score\n",
      "1 \t\t3 \t\t-5.54619672028 \t\t-4.7\n",
      "16 \t\t25 \t\t-3.3349833521 \t\t-2.8\n",
      "41 \t\t36 \t\t-0.967289309387 \t\t-1.8\n",
      "59 \t\t55 \t\t0.74804417552 \t\t0.6\n",
      "69 \t\t69 \t\t1.44151824313 \t\t2.0\n",
      "18 \t\t21 \t\t-3.2747357902 \t\t-3.0\n",
      "74 \t\t79 \t\t2.05526018781 \t\t3.1\n",
      "94 \t\t93 \t\t4.62663105833 \t\t4.3\n",
      "34 \t\t37 \t\t-1.61675801913 \t\t-1.7\n",
      "54 \t\t54 \t\t0.301827061681 \t\t0.5\n",
      "27 \t\t22 \t\t-2.27181581053 \t\t-2.9\n",
      "5 \t\t6 \t\t-4.62299039947 \t\t-4.5\n",
      "30 \t\t30 \t\t-2.08923272226 \t\t-2.4\n",
      "23 \t\t28 \t\t-2.66801603308 \t\t-2.5\n",
      "87 \t\t88 \t\t3.72988003473 \t\t4.0\n",
      "53 \t\t49 \t\t0.276283619835 \t\t-0.2\n",
      "17 \t\t20 \t\t-3.29459188225 \t\t-3.2\n",
      "10 \t\t14 \t\t-3.88942914976 \t\t-3.9\n",
      "96 \t\t95 \t\t5.09480436443 \t\t4.4\n",
      "0 \t\t1 \t\t-6.30015894064 \t\t-4.9\n",
      "38 \t\t40 \t\t-1.18978803691 \t\t-1.4\n",
      "56 \t\t63 \t\t0.427008799542 \t\t1.2\n",
      "63 \t\t61 \t\t1.09495595902 \t\t1.1\n",
      "85 \t\t82 \t\t3.63801345308 \t\t3.4\n",
      "40 \t\t42 \t\t-0.987647594156 \t\t-0.7\n",
      "80 \t\t85 \t\t2.77417088898 \t\t3.7\n",
      "14 \t\t13 \t\t-3.51359831478 \t\t-3.9\n",
      "76 \t\t72 \t\t2.273596161 \t\t2.2\n",
      "84 \t\t84 \t\t3.12594652362 \t\t3.6\n",
      "43 \t\t45 \t\t-0.630983016842 \t\t-0.5\n",
      "99 \t\t97 \t\t5.4185379517 \t\t4.5\n",
      "78 \t\t78 \t\t2.65972457944 \t\t3.1\n",
      "21 \t\t17 \t\t-2.78134318971 \t\t-3.7\n",
      "28 \t\t27 \t\t-2.22568626333 \t\t-2.6\n",
      "58 \t\t59 \t\t0.712853772408 \t\t0.9\n",
      "88 \t\t89 \t\t3.76420928533 \t\t4.0\n",
      "4 \t\t4 \t\t-4.74123100822 \t\t-4.7\n",
      "60 \t\t64 \t\t0.776355761376 \t\t1.2\n",
      "73 \t\t75 \t\t2.02768218504 \t\t2.5\n",
      "70 \t\t77 \t\t1.66752973728 \t\t3.0\n",
      "82 \t\t81 \t\t2.94240997045 \t\t3.3\n",
      "3 \t\t0 \t\t-5.45380638974 \t\t-4.9\n",
      "11 \t\t9 \t\t-3.71863761015 \t\t-4.2\n",
      "83 \t\t87 \t\t3.11965551875 \t\t3.9\n",
      "26 \t\t23 \t\t-2.28341582227 \t\t-2.8\n",
      "37 \t\t34 \t\t-1.39098143988 \t\t-2.0\n",
      "31 \t\t24 \t\t-1.90390379736 \t\t-2.8\n",
      "13 \t\t10 \t\t-3.67536205705 \t\t-4.1\n",
      "72 \t\t71 \t\t1.82321856188 \t\t2.1\n",
      "48 \t\t57 \t\t-0.267364537317 \t\t0.7\n",
      "47 \t\t46 \t\t-0.32735163505 \t\t-0.3\n",
      "71 \t\t68 \t\t1.81841906159 \t\t1.8\n",
      "35 \t\t33 \t\t-1.56494357432 \t\t-2.2\n",
      "19 \t\t19 \t\t-3.18327923614 \t\t-3.6\n",
      "93 \t\t92 \t\t4.57167497632 \t\t4.3\n",
      "75 \t\t76 \t\t2.2727524246 \t\t3.0\n",
      "8 \t\t15 \t\t-4.29730332652 \t\t-3.9\n",
      "79 \t\t73 \t\t2.69083992552 \t\t2.3\n",
      "62 \t\t58 \t\t0.89053032272 \t\t0.9\n",
      "39 \t\t41 \t\t-1.03003153339 \t\t-1.3\n",
      "12 \t\t7 \t\t-3.677388285 \t\t-4.3\n",
      "33 \t\t39 \t\t-1.69355239904 \t\t-1.5\n",
      "90 \t\t98 \t\t4.009550534 \t\t4.6\n",
      "15 \t\t12 \t\t-3.48683147659 \t\t-3.9\n",
      "25 \t\t35 \t\t-2.36006089414 \t\t-1.9\n",
      "64 \t\t65 \t\t1.19611079645 \t\t1.3\n",
      "46 \t\t44 \t\t-0.394894769319 \t\t-0.5\n",
      "51 \t\t53 \t\t-0.0552641666774 \t\t0.3\n",
      "65 \t\t74 \t\t1.37051385891 \t\t2.4\n",
      "2 \t\t2 \t\t-5.50412066681 \t\t-4.8\n",
      "6 \t\t11 \t\t-4.50671499118 \t\t-4.0\n",
      "91 \t\t90 \t\t4.08776408394 \t\t4.1\n",
      "81 \t\t83 \t\t2.85501527752 \t\t3.6\n",
      "86 \t\t80 \t\t3.64621105512 \t\t3.2\n",
      "67 \t\t67 \t\t1.40313100152 \t\t1.6\n",
      "89 \t\t86 \t\t3.8738937942 \t\t3.7\n",
      "49 \t\t51 \t\t-0.120725834693 \t\t0.2\n",
      "52 \t\t56 \t\t0.232478586802 \t\t0.6\n",
      "29 \t\t29 \t\t-2.09723628047 \t\t-2.4\n",
      "7 \t\t5 \t\t-4.34128663573 \t\t-4.6\n",
      "42 \t\t47 \t\t-0.917236998975 \t\t-0.3\n",
      "36 \t\t32 \t\t-1.44991594028 \t\t-2.2\n",
      "66 \t\t66 \t\t1.38113310031 \t\t1.3\n",
      "97 \t\t94 \t\t5.23633699105 \t\t4.4\n",
      "68 \t\t62 \t\t1.43699702124 \t\t1.1\n",
      "45 \t\t38 \t\t-0.583581952957 \t\t-1.6\n",
      "50 \t\t48 \t\t-0.102348010739 \t\t-0.3\n",
      "24 \t\t26 \t\t-2.64276113752 \t\t-2.6\n",
      "92 \t\t91 \t\t4.21830358004 \t\t4.2\n",
      "61 \t\t60 \t\t0.849959211885 \t\t1.0\n",
      "95 \t\t99 \t\t4.6570203218 \t\t4.7\n",
      "57 \t\t52 \t\t0.675910647121 \t\t0.2\n",
      "44 \t\t43 \t\t-0.598571138558 \t\t-0.7\n",
      "22 \t\t18 \t\t-2.77317621581 \t\t-3.6\n",
      "20 \t\t16 \t\t-2.87807393215 \t\t-3.9\n",
      "98 \t\t96 \t\t5.25413125339 \t\t4.4\n",
      "55 \t\t50 \t\t0.306531538654 \t\t-0.0\n",
      "32 \t\t31 \t\t-1.739231256 \t\t-2.4\n",
      "9 \t\t8 \t\t-4.25244825228 \t\t-4.3\n",
      "77 \t\t70 \t\t2.3629497606 \t\t2.0\n"
     ]
    },
    {
     "data": {
      "text/plain": [
       "(array([ 11.,  21.,  18.,  12.,  13.,  10.,   4.,   6.,   1.,   4.]),\n",
       " array([  0.,   1.,   2.,   3.,   4.,   5.,   6.,   7.,   8.,   9.,  10.]),\n",
       " <a list of 10 Patch objects>)"
      ]
     },
     "execution_count": 42,
     "metadata": {},
     "output_type": "execute_result"
    },
    {
     "data": {
      "image/png": "[encoded data removed]",
      "text/plain": [
       "<matplotlib.figure.Figure at 0x103aad950>"
      ]
     },
     "metadata": {},
     "output_type": "display_data"
    }
   ],
   "source": [
    "def matching_func(param):\n",
    "    \"\"\"\n",
    "    Function used to calculate L2 norm of v and w_star. Used to find a and b.\n",
    "    Here params is [a, b]\n",
    "    \"\"\"\n",
    "    return np.linalg.norm(video_score - param[0]*np.array(w) - param[1])\n",
    "\n",
    "\n",
    "def regularized_vector():\n",
    "    \n",
    "    coeff = optimize.minimize(matching_func, [0, 0])\n",
    "\n",
    "    a = coeff['x'][0]\n",
    "    b = coeff['x'][1]\n",
    "    v = a*np.array(w)+b\n",
    "    return v\n",
    "\n",
    "v = regularized_vector()\n",
    "\n",
    "true_order = np.array(video_score).argsort()\n",
    "true_ranks = true_order.argsort()\n",
    "\n",
    "temp_o = np.array(w).argsort()\n",
    "temp_r = temp_o.argsort()\n",
    "\n",
    "resolution = 0.1\n",
    "video_score_results = np.round(np.array(results)/resolution)*resolution\n",
    "\n",
    "print 'Result Order \\t True Order \\t Result Score \\t Ture Score'\n",
    "for i in range(len(temp_r)):\n",
    "    print temp_r[i], '\\t\\t', true_ranks[i], '\\t\\t', v[i], '\\t\\t', video_score[i]\n",
    "    \n",
    "diff = np.abs(temp_r - true_ranks)\n",
    "plt.hist(diff, alpha=0.5)"
   ]
  },
  {
   "cell_type": "markdown",
   "metadata": {},
   "source": [
    "# Generate Data using Generative function "
   ]
  },
  {
   "cell_type": "code",
   "execution_count": null,
   "metadata": {
    "collapsed": false
   },
   "outputs": [],
   "source": [
    "video_score"
   ]
  },
  {
   "cell_type": "code",
   "execution_count": 7,
   "metadata": {
    "collapsed": false
   },
   "outputs": [
    {
     "ename": "NameError",
     "evalue": "global name 'multiprocessing' is not defined",
     "output_type": "error",
     "traceback": [
      "\u001b[1;31m---------------------------------------------------------------------------\u001b[0m",
      "\u001b[1;31mNameError\u001b[0m                                 Traceback (most recent call last)",
      "\u001b[1;32m<ipython-input-7-b37e9c442ffc>\u001b[0m in \u001b[0;36m<module>\u001b[1;34m()\u001b[0m\n\u001b[0;32m     14\u001b[0m     \u001b[0mp\u001b[0m\u001b[1;33m.\u001b[0m\u001b[0mmap\u001b[0m\u001b[1;33m(\u001b[0m\u001b[0mf\u001b[0m\u001b[1;33m,\u001b[0m \u001b[1;33m[\u001b[0m\u001b[1;36m0\u001b[0m\u001b[1;33m,\u001b[0m\u001b[1;36m1\u001b[0m\u001b[1;33m,\u001b[0m\u001b[1;36m2\u001b[0m\u001b[1;33m,\u001b[0m\u001b[1;36m3\u001b[0m\u001b[1;33m,\u001b[0m\u001b[1;36m4\u001b[0m\u001b[1;33m]\u001b[0m\u001b[1;33m)\u001b[0m\u001b[1;33m\u001b[0m\u001b[0m\n\u001b[0;32m     15\u001b[0m \u001b[1;33m\u001b[0m\u001b[0m\n\u001b[1;32m---> 16\u001b[1;33m \u001b[0mmp_handler\u001b[0m\u001b[1;33m(\u001b[0m\u001b[1;33m)\u001b[0m\u001b[1;33m\u001b[0m\u001b[0m\n\u001b[0m",
      "\u001b[1;32m<ipython-input-7-b37e9c442ffc>\u001b[0m in \u001b[0;36mmp_handler\u001b[1;34m()\u001b[0m\n\u001b[0;32m     11\u001b[0m \u001b[1;33m\u001b[0m\u001b[0m\n\u001b[0;32m     12\u001b[0m \u001b[1;32mdef\u001b[0m \u001b[0mmp_handler\u001b[0m\u001b[1;33m(\u001b[0m\u001b[1;33m)\u001b[0m\u001b[1;33m:\u001b[0m\u001b[1;33m\u001b[0m\u001b[0m\n\u001b[1;32m---> 13\u001b[1;33m     \u001b[0mp\u001b[0m \u001b[1;33m=\u001b[0m \u001b[0mmultiprocessing\u001b[0m\u001b[1;33m.\u001b[0m\u001b[0mPool\u001b[0m\u001b[1;33m(\u001b[0m\u001b[1;36m2\u001b[0m\u001b[1;33m)\u001b[0m\u001b[1;33m\u001b[0m\u001b[0m\n\u001b[0m\u001b[0;32m     14\u001b[0m     \u001b[0mp\u001b[0m\u001b[1;33m.\u001b[0m\u001b[0mmap\u001b[0m\u001b[1;33m(\u001b[0m\u001b[0mf\u001b[0m\u001b[1;33m,\u001b[0m \u001b[1;33m[\u001b[0m\u001b[1;36m0\u001b[0m\u001b[1;33m,\u001b[0m\u001b[1;36m1\u001b[0m\u001b[1;33m,\u001b[0m\u001b[1;36m2\u001b[0m\u001b[1;33m,\u001b[0m\u001b[1;36m3\u001b[0m\u001b[1;33m,\u001b[0m\u001b[1;36m4\u001b[0m\u001b[1;33m]\u001b[0m\u001b[1;33m)\u001b[0m\u001b[1;33m\u001b[0m\u001b[0m\n\u001b[0;32m     15\u001b[0m \u001b[1;33m\u001b[0m\u001b[0m\n",
      "\u001b[1;31mNameError\u001b[0m: global name 'multiprocessing' is not defined"
     ]
    }
   ],
   "source": [
    "from multiprocessing import Pool\n",
    "\n",
    "\n",
    "def f(i):\n",
    "    print 'Evaluating trait %d', i+1\n",
    "    model = Pairwise(pairs[i])\n",
    "    w_init = np.random.uniform(-5,5,video_num)\n",
    "    results = model.fit(w_init, maxiter=1000000, maxfun=1000000)\n",
    "    estimated_for_each_trait[str(i)] = results.params\n",
    "    return estimated_for_each_trait\n",
    "\n",
    "def mp_handler():\n",
    "    p = multiprocessing.Pool(2)\n",
    "    p.map(f, [0,1,2,3,4])\n",
    "    \n",
    "mp_handler()"
   ]
  },
  {
   "cell_type": "code",
   "execution_count": 8,
   "metadata": {
    "collapsed": false
   },
   "outputs": [],
   "source": [
    "def update_gradient_concur(pairs, w):\n",
    "    w_old = w\n",
    "    eta = 0.01\n",
    "    for i in range(len(w)):\n",
    "        w[i] += eta*calc_gradient(pairs, w_old, i)\n",
    "    return w"
   ]
  },
  {
   "cell_type": "code",
   "execution_count": null,
   "metadata": {
    "collapsed": false
   },
   "outputs": [],
   "source": []
  },
  {
   "cell_type": "code",
   "execution_count": null,
   "metadata": {
    "collapsed": false
   },
   "outputs": [],
   "source": []
  },
  {
   "cell_type": "code",
   "execution_count": null,
   "metadata": {
    "collapsed": false
   },
   "outputs": [],
   "source": [
    "import multiprocessing\n",
    "\n",
    "w = np.zeros(30)\n",
    "pairs = pairs_truth\n",
    "\n",
    "p = multiprocessing.Pool(2)\n",
    "\n",
    "for i in range(10000):\n",
    "    w = p.map(update_gradient_concur, pairs, w)\n",
    "    if i % 500 ==0:\n",
    "        print likelihood(pairs_truth, w)\n",
    "        \n",
    "    \n",
    "\n",
    "\n",
    "    p = multiprocessing.Process(target=update_gradient_concur, args=(pairs, w,))\n",
    "    p.start()\n",
    "    p.join()"
   ]
  },
  {
   "cell_type": "code",
   "execution_count": 41,
   "metadata": {
    "collapsed": false
   },
   "outputs": [
    {
     "ename": "TypeError",
     "evalue": "object of type 'numpy.float64' has no len()",
     "output_type": "error",
     "traceback": [
      "\u001b[1;31m---------------------------------------------------------------------------\u001b[0m",
      "\u001b[1;31mTypeError\u001b[0m                                 Traceback (most recent call last)",
      "\u001b[1;32m<ipython-input-41-a94048cd3ef0>\u001b[0m in \u001b[0;36m<module>\u001b[1;34m()\u001b[0m\n\u001b[0;32m     31\u001b[0m \u001b[1;33m\u001b[0m\u001b[0m\n\u001b[0;32m     32\u001b[0m \u001b[1;32mfor\u001b[0m \u001b[0mi\u001b[0m \u001b[1;32min\u001b[0m \u001b[0mrange\u001b[0m\u001b[1;33m(\u001b[0m\u001b[1;36m10000\u001b[0m\u001b[1;33m)\u001b[0m\u001b[1;33m:\u001b[0m\u001b[1;33m\u001b[0m\u001b[0m\n\u001b[1;32m---> 33\u001b[1;33m     \u001b[0mw\u001b[0m \u001b[1;33m=\u001b[0m \u001b[0mPool\u001b[0m\u001b[1;33m(\u001b[0m\u001b[1;33m)\u001b[0m\u001b[1;33m.\u001b[0m\u001b[0mmap\u001b[0m\u001b[1;33m(\u001b[0m\u001b[0mupdate_gradient_concur\u001b[0m\u001b[1;33m,\u001b[0m \u001b[1;33m[\u001b[0m\u001b[0mpairs_truth\u001b[0m\u001b[1;33m]\u001b[0m\u001b[1;33m,\u001b[0m \u001b[1;33m[\u001b[0m\u001b[0mw\u001b[0m\u001b[1;33m]\u001b[0m\u001b[1;33m)\u001b[0m\u001b[1;33m\u001b[0m\u001b[0m\n\u001b[0m\u001b[0;32m     34\u001b[0m     \u001b[1;32mif\u001b[0m \u001b[0mi\u001b[0m \u001b[1;33m%\u001b[0m \u001b[1;36m500\u001b[0m \u001b[1;33m==\u001b[0m\u001b[1;36m0\u001b[0m\u001b[1;33m:\u001b[0m\u001b[1;33m\u001b[0m\u001b[0m\n\u001b[0;32m     35\u001b[0m         \u001b[1;32mprint\u001b[0m \u001b[0mlikelihood\u001b[0m\u001b[1;33m(\u001b[0m\u001b[0mpairs_truth\u001b[0m\u001b[1;33m,\u001b[0m \u001b[0mw\u001b[0m\u001b[1;33m)\u001b[0m\u001b[1;33m\u001b[0m\u001b[0m\n",
      "\u001b[1;32m/home/ubuntu/anaconda2/lib/python2.7/site-packages/pathos-0.2a1.dev0-py2.7.egg/pathos/multiprocessing.pyc\u001b[0m in \u001b[0;36mmap\u001b[1;34m(self, f, *args, **kwds)\u001b[0m\n\u001b[0;32m    131\u001b[0m         \u001b[0mAbstractWorkerPool\u001b[0m\u001b[1;33m.\u001b[0m\u001b[0m_AbstractWorkerPool__map\u001b[0m\u001b[1;33m(\u001b[0m\u001b[0mself\u001b[0m\u001b[1;33m,\u001b[0m \u001b[0mf\u001b[0m\u001b[1;33m,\u001b[0m \u001b[1;33m*\u001b[0m\u001b[0margs\u001b[0m\u001b[1;33m,\u001b[0m \u001b[1;33m**\u001b[0m\u001b[0mkwds\u001b[0m\u001b[1;33m)\u001b[0m\u001b[1;33m\u001b[0m\u001b[0m\n\u001b[0;32m    132\u001b[0m         \u001b[0m_pool\u001b[0m \u001b[1;33m=\u001b[0m \u001b[0mself\u001b[0m\u001b[1;33m.\u001b[0m\u001b[0m_serve\u001b[0m\u001b[1;33m(\u001b[0m\u001b[1;33m)\u001b[0m\u001b[1;33m\u001b[0m\u001b[0m\n\u001b[1;32m--> 133\u001b[1;33m         \u001b[1;32mreturn\u001b[0m \u001b[0m_pool\u001b[0m\u001b[1;33m.\u001b[0m\u001b[0mmap\u001b[0m\u001b[1;33m(\u001b[0m\u001b[0mstar\u001b[0m\u001b[1;33m(\u001b[0m\u001b[0mf\u001b[0m\u001b[1;33m)\u001b[0m\u001b[1;33m,\u001b[0m \u001b[0mzip\u001b[0m\u001b[1;33m(\u001b[0m\u001b[1;33m*\u001b[0m\u001b[0margs\u001b[0m\u001b[1;33m)\u001b[0m\u001b[1;33m)\u001b[0m \u001b[1;31m# chunksize\u001b[0m\u001b[1;33m\u001b[0m\u001b[0m\n\u001b[0m\u001b[0;32m    134\u001b[0m     \u001b[0mmap\u001b[0m\u001b[1;33m.\u001b[0m\u001b[0m__doc__\u001b[0m \u001b[1;33m=\u001b[0m \u001b[0mAbstractWorkerPool\u001b[0m\u001b[1;33m.\u001b[0m\u001b[0mmap\u001b[0m\u001b[1;33m.\u001b[0m\u001b[0m__doc__\u001b[0m\u001b[1;33m\u001b[0m\u001b[0m\n\u001b[0;32m    135\u001b[0m     \u001b[1;32mdef\u001b[0m \u001b[0mimap\u001b[0m\u001b[1;33m(\u001b[0m\u001b[0mself\u001b[0m\u001b[1;33m,\u001b[0m \u001b[0mf\u001b[0m\u001b[1;33m,\u001b[0m \u001b[1;33m*\u001b[0m\u001b[0margs\u001b[0m\u001b[1;33m,\u001b[0m \u001b[1;33m**\u001b[0m\u001b[0mkwds\u001b[0m\u001b[1;33m)\u001b[0m\u001b[1;33m:\u001b[0m\u001b[1;33m\u001b[0m\u001b[0m\n",
      "\u001b[1;32m/home/ubuntu/anaconda2/lib/python2.7/site-packages/multiprocess-0.70.4-py2.7-linux-x86_64.egg/multiprocess/pool.pyc\u001b[0m in \u001b[0;36mmap\u001b[1;34m(self, func, iterable, chunksize)\u001b[0m\n\u001b[0;32m    249\u001b[0m         '''\n\u001b[0;32m    250\u001b[0m         \u001b[1;32massert\u001b[0m \u001b[0mself\u001b[0m\u001b[1;33m.\u001b[0m\u001b[0m_state\u001b[0m \u001b[1;33m==\u001b[0m \u001b[0mRUN\u001b[0m\u001b[1;33m\u001b[0m\u001b[0m\n\u001b[1;32m--> 251\u001b[1;33m         \u001b[1;32mreturn\u001b[0m \u001b[0mself\u001b[0m\u001b[1;33m.\u001b[0m\u001b[0mmap_async\u001b[0m\u001b[1;33m(\u001b[0m\u001b[0mfunc\u001b[0m\u001b[1;33m,\u001b[0m \u001b[0miterable\u001b[0m\u001b[1;33m,\u001b[0m \u001b[0mchunksize\u001b[0m\u001b[1;33m)\u001b[0m\u001b[1;33m.\u001b[0m\u001b[0mget\u001b[0m\u001b[1;33m(\u001b[0m\u001b[1;33m)\u001b[0m\u001b[1;33m\u001b[0m\u001b[0m\n\u001b[0m\u001b[0;32m    252\u001b[0m \u001b[1;33m\u001b[0m\u001b[0m\n\u001b[0;32m    253\u001b[0m     \u001b[1;32mdef\u001b[0m \u001b[0mimap\u001b[0m\u001b[1;33m(\u001b[0m\u001b[0mself\u001b[0m\u001b[1;33m,\u001b[0m \u001b[0mfunc\u001b[0m\u001b[1;33m,\u001b[0m \u001b[0miterable\u001b[0m\u001b[1;33m,\u001b[0m \u001b[0mchunksize\u001b[0m\u001b[1;33m=\u001b[0m\u001b[1;36m1\u001b[0m\u001b[1;33m)\u001b[0m\u001b[1;33m:\u001b[0m\u001b[1;33m\u001b[0m\u001b[0m\n",
      "\u001b[1;32m/home/ubuntu/anaconda2/lib/python2.7/site-packages/multiprocess-0.70.4-py2.7-linux-x86_64.egg/multiprocess/pool.pyc\u001b[0m in \u001b[0;36mget\u001b[1;34m(self, timeout)\u001b[0m\n\u001b[0;32m    565\u001b[0m             \u001b[1;32mreturn\u001b[0m \u001b[0mself\u001b[0m\u001b[1;33m.\u001b[0m\u001b[0m_value\u001b[0m\u001b[1;33m\u001b[0m\u001b[0m\n\u001b[0;32m    566\u001b[0m         \u001b[1;32melse\u001b[0m\u001b[1;33m:\u001b[0m\u001b[1;33m\u001b[0m\u001b[0m\n\u001b[1;32m--> 567\u001b[1;33m             \u001b[1;32mraise\u001b[0m \u001b[0mself\u001b[0m\u001b[1;33m.\u001b[0m\u001b[0m_value\u001b[0m\u001b[1;33m\u001b[0m\u001b[0m\n\u001b[0m\u001b[0;32m    568\u001b[0m \u001b[1;33m\u001b[0m\u001b[0m\n\u001b[0;32m    569\u001b[0m     \u001b[1;32mdef\u001b[0m \u001b[0m_set\u001b[0m\u001b[1;33m(\u001b[0m\u001b[0mself\u001b[0m\u001b[1;33m,\u001b[0m \u001b[0mi\u001b[0m\u001b[1;33m,\u001b[0m \u001b[0mobj\u001b[0m\u001b[1;33m)\u001b[0m\u001b[1;33m:\u001b[0m\u001b[1;33m\u001b[0m\u001b[0m\n",
      "\u001b[1;31mTypeError\u001b[0m: object of type 'numpy.float64' has no len()"
     ]
    }
   ],
   "source": [
    "def update_gradient_concur(pairs, w):\n",
    "    import numpy as np\n",
    "#     print pairs # result is a list of pairs\n",
    "    w_old = w[0]\n",
    "    w = w[0]\n",
    "    eta = 0.01\n",
    "    for i in range(len(w)):\n",
    "        gradient = 0\n",
    "    \n",
    "        for pair in pairs:\n",
    "            if i == pair[0]:\n",
    "                out = -1\n",
    "            elif i == pair[1]:\n",
    "                out = 1  \n",
    "            else:\n",
    "                out = 0\n",
    "            \n",
    "        gradient -= out/(1/(np.exp(w_old[pair[1]]-w_old[pair[0]]))+1)\n",
    "        \n",
    "        w[i] += eta*gradient\n",
    "    return w\n",
    "\n",
    "def likelihood(pairs, w):\n",
    "    l = 1\n",
    "    w = w[0]\n",
    "    for pair in pairs:        \n",
    "        l += np.log(1+np.exp(w[pair[1]]-w[pair[0]]))\n",
    "    return l\n",
    "\n",
    "w = np.zeros(30)\n",
    "\n",
    "for i in range(10000):\n",
    "    w = Pool().map(update_gradient_concur, [pairs_truth], [w])\n",
    "    if i % 500 ==0:\n",
    "        print likelihood(pairs_truth, w)\n",
    "\n",
    "print res"
   ]
  },
  {
   "cell_type": "code",
   "execution_count": null,
   "metadata": {
    "collapsed": true
   },
   "outputs": [],
   "source": [
    "num_test_pairs = (0.2* self.total_pairs).astype(int)\n",
    "\n",
    "test_pairs = [self.pairs_truth[i] for i in random.sample(range(self.total_pairs), num_test_pairs)]\n",
    "self.endog = np.array(test_pairs)\n",
    "\n",
    "w_init = np.random.uniform(-5,5,video_num)\n",
    "self.fit(w_init)\n",
    "\n",
    "if showResult:\n",
    "    res = self.rank[0]\n",
    "    compare_rank(self.w_star, res, False, True)\n",
    "    plt.legend([str(i) for i in num_test_pairs])  \n",
    "if Nihar:\n",
    "    output_error_nihar.append(self.performance_nihar())\n",
    "if Isabelle:\n",
    "    output_error_isabelle.append(self.performance_isabelle())\n"
   ]
  },
  {
   "cell_type": "code",
   "execution_count": null,
   "metadata": {
    "collapsed": true
   },
   "outputs": [],
   "source": []
  },
  {
   "cell_type": "code",
   "execution_count": null,
   "metadata": {
    "collapsed": true
   },
   "outputs": [],
   "source": []
  }
 ],
 "metadata": {
  "kernelspec": {
   "display_name": "Python 2",
   "language": "python",
   "name": "python2"
  },
  "language_info": {
   "codemirror_mode": {
    "name": "ipython",
    "version": 2
   },
   "file_extension": ".py",
   "mimetype": "text/x-python",
   "name": "python",
   "nbconvert_exporter": "python",
   "pygments_lexer": "ipython2",
   "version": "2.7.10"
  }
 },
 "nbformat": 4,
 "nbformat_minor": 0
}
