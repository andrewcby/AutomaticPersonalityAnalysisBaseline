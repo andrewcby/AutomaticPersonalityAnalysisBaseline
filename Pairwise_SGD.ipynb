{
 "cells": [
  {
   "cell_type": "code",
   "execution_count": 1,
   "metadata": {
    "collapsed": false
   },
   "outputs": [],
   "source": [
    "import os, csv, random, time\n",
    "\n",
    "from __future__ import division\n",
    "from matplotlib import  pyplot as plt\n",
    "from scipy import stats, optimize\n",
    "from collections import deque\n",
    "from statsmodels.base.model import GenericLikelihoodModel\n",
    "from scipy.stats import bernoulli,poisson,norm,expon\n",
    "from multiprocessing import Process, Lock\n",
    "# from pathos.multiprocessing import ProcessingPool as Pool\n",
    "\n",
    "import numpy as np\n",
    "import scipy.io as sio\n",
    "import seaborn as sns\n",
    "\n",
    "%matplotlib inline"
   ]
  },
  {
   "cell_type": "markdown",
   "metadata": {},
   "source": [
    "# Generate score for videos, and find all possible pairs"
   ]
  },
  {
   "cell_type": "code",
   "execution_count": 17,
   "metadata": {
    "collapsed": false
   },
   "outputs": [
    {
     "name": "stdout",
     "output_type": "stream",
     "text": [
      "Total number of pairs for 30 videos is:  435\n"
     ]
    }
   ],
   "source": [
    "video_num = 30\n",
    "global video_score\n",
    "video_score = np.random.uniform(-5,5,video_num)\n",
    "resolution = 0.1\n",
    "video_score = np.round(video_score/resolution)*resolution\n",
    "\n",
    "pairs_truth = []\n",
    "\n",
    "for i in range(len(video_score)-1):\n",
    "    for j in range(i+1, len(video_score)):\n",
    "        if video_score[i] > video_score[j]:\n",
    "            pairs_truth.append((i,j))\n",
    "        else:\n",
    "            pairs_truth.append((j,i))\n",
    "            \n",
    "total_pairs = len(pairs_truth)\n",
    "\n",
    "print 'Total number of pairs for %d videos is: ' %video_num, total_pairs"
   ]
  },
  {
   "cell_type": "markdown",
   "metadata": {},
   "source": [
    "# SGD\n",
    "Assuming the pair $(w_i,w_j)$ means $w_i > w_j$, this function calculates $\\frac{\\partial L}{\\partial w_i} = \\frac{exp(w_j-w_i)}{1+exp(w_j-w_i)}$, where $w_i$ represent the weight to be taken derivative of. Return value is the gradient of the log likelihood function with respect to $w_i$"
   ]
  },
  {
   "cell_type": "code",
   "execution_count": 18,
   "metadata": {
    "collapsed": true
   },
   "outputs": [],
   "source": [
    "def calc_gradient(pairs, w, w_i):\n",
    "    gradient = 0\n",
    "    \n",
    "    for pair in pairs:\n",
    "        if w_i == pair[0]:\n",
    "            out = -1\n",
    "        elif w_i == pair[1]:\n",
    "            out = 1  \n",
    "        else:\n",
    "            out = 0\n",
    "            \n",
    "        gradient -= out/(1/(np.exp(w[pair[1]]-w[pair[0]]))+1)\n",
    "    \n",
    "    return gradient"
   ]
  },
  {
   "cell_type": "markdown",
   "metadata": {},
   "source": [
    "$w_{old}$ saves the original values of the gradient, so that later when updating the values, the values to be updated are still using the original value"
   ]
  },
  {
   "cell_type": "code",
   "execution_count": 19,
   "metadata": {
    "collapsed": true
   },
   "outputs": [],
   "source": [
    "def update_gradient(pairs, w, eta):\n",
    "    w_old = w\n",
    "    for i in range(len(w)):\n",
    "        w[i] += eta*calc_gradient(pairs, w_old, i)\n",
    "    return w"
   ]
  },
  {
   "cell_type": "code",
   "execution_count": 20,
   "metadata": {
    "collapsed": true
   },
   "outputs": [],
   "source": [
    "def likelihood(pairs, w):\n",
    "    l = 1\n",
    "    for pair in pairs:\n",
    "        l += np.log(1+np.exp(w[pair[1]]-w[pair[0]]))\n",
    "    return l"
   ]
  },
  {
   "cell_type": "code",
   "execution_count": null,
   "metadata": {
    "collapsed": false
   },
   "outputs": [],
   "source": []
  },
  {
   "cell_type": "code",
   "execution_count": 22,
   "metadata": {
    "collapsed": false
   },
   "outputs": [
    {
     "name": "stdout",
     "output_type": "stream",
     "text": [
      "302.22679781\n",
      "193.313818028\n",
      "169.544050022\n",
      "159.103386913\n",
      "153.246591798\n",
      "149.502506454\n",
      "146.903451507\n",
      "144.996942306\n",
      "143.545392233\n",
      "142.412900334\n",
      "141.516201151\n",
      "140.801232371\n",
      "140.231086987\n",
      "139.77944479\n",
      "139.426810849\n"
     ]
    }
   ],
   "source": [
    "global w\n",
    "w = np.zeros(video_num)\n",
    "num_test_pairs = int(0.15* total_pairs)\n",
    "\n",
    "pairs = [pairs_truth[i] for i in random.sample(range(total_pairs), num_test_pairs)]\n",
    "results = []\n",
    "\n",
    "like_prev = 100000\n",
    "for i in range(15000):\n",
    "    \n",
    "    w = update_gradient(pairs, w, 0.001)\n",
    "    if i % 1000 ==0:\n",
    "        like =  likelihood(pairs_truth, w)\n",
    "#         if like_prev < like:\n",
    "#             break\n",
    "        like_prev = like\n",
    "        print i % 1000, like\n",
    "    results.append(w[0])\n",
    "    "
   ]
  },
  {
   "cell_type": "code",
   "execution_count": null,
   "metadata": {
    "collapsed": true
   },
   "outputs": [],
   "source": []
  },
  {
   "cell_type": "code",
   "execution_count": 23,
   "metadata": {
    "collapsed": false
   },
   "outputs": [
    {
     "name": "stdout",
     "output_type": "stream",
     "text": [
      "Result Order \t True Order \t Result Score \t Ture Score\n",
      "19 \t\t27 \t\t1.35067309079 \t\t3.8\n",
      "29 \t\t20 \t\t4.71807017373 \t\t2.2\n",
      "6 \t\t5 \t\t-3.40127225504 \t\t-3.8\n",
      "18 \t\t19 \t\t1.16249588371 \t\t1.8\n",
      "14 \t\t18 \t\t-0.137879016376 \t\t1.5\n",
      "0 \t\t0 \t\t-5.95255514363 \t\t-5.0\n",
      "21 \t\t16 \t\t1.71590457969 \t\t0.6\n",
      "24 \t\t29 \t\t3.21391692981 \t\t4.8\n",
      "22 \t\t13 \t\t1.84519316602 \t\t-0.0\n",
      "1 \t\t8 \t\t-4.17663736582 \t\t-2.3\n",
      "23 \t\t28 \t\t1.91328550227 \t\t4.0\n",
      "12 \t\t12 \t\t-0.513834532617 \t\t-0.4\n",
      "4 \t\t7 \t\t-3.54222426963 \t\t-3.3\n",
      "20 \t\t21 \t\t1.46128798256 \t\t2.6\n",
      "13 \t\t15 \t\t-0.333986201563 \t\t0.2\n",
      "9 \t\t10 \t\t-1.77038475359 \t\t-1.9\n",
      "26 \t\t25 \t\t3.61214243855 \t\t3.5\n",
      "16 \t\t17 \t\t0.568386339357 \t\t1.2\n",
      "10 \t\t6 \t\t-1.50127099607 \t\t-3.3\n",
      "5 \t\t3 \t\t-3.41388023048 \t\t-4.5\n",
      "27 \t\t26 \t\t3.6456892746 \t\t3.8\n",
      "25 \t\t22 \t\t3.46305111663 \t\t2.7\n",
      "2 \t\t4 \t\t-3.73856682815 \t\t-4.5\n",
      "7 \t\t2 \t\t-1.95128543202 \t\t-4.8\n",
      "15 \t\t14 \t\t-0.0981777438419 \t\t0.2\n",
      "8 \t\t11 \t\t-1.94917421354 \t\t-1.8\n",
      "11 \t\t9 \t\t-1.09863526265 \t\t-2.2\n",
      "17 \t\t23 \t\t0.64973661096 \t\t3.1\n",
      "3 \t\t1 \t\t-3.56601514896 \t\t-5.0\n",
      "28 \t\t24 \t\t4.52594635783 \t\t3.5\n"
     ]
    },
    {
     "data": {
      "text/plain": [
       "(array([ 2.,  8.,  5.,  3.,  3.,  4.,  1.,  1.,  1.,  2.]),\n",
       " array([ 0. ,  0.9,  1.8,  2.7,  3.6,  4.5,  5.4,  6.3,  7.2,  8.1,  9. ]),\n",
       " <a list of 10 Patch objects>)"
      ]
     },
     "execution_count": 23,
     "metadata": {},
     "output_type": "execute_result"
    },
    {
     "data": {
      "image/png": "[encoded data removed]",
      "text/plain": [
       "<matplotlib.figure.Figure at 0x7f58f743a850>"
      ]
     },
     "metadata": {},
     "output_type": "display_data"
    }
   ],
   "source": [
    "def matching_func(param):\n",
    "    \"\"\"\n",
    "    Function used to calculate L2 norm of v and w_star. Used to find a and b.\n",
    "    Here params is [a, b]\n",
    "    \"\"\"\n",
    "    return np.linalg.norm(video_score - param[0]*np.array(w) - param[1])\n",
    "\n",
    "\n",
    "def regularized_vector():\n",
    "    \n",
    "    coeff = optimize.minimize(matching_func, [0, 0])\n",
    "\n",
    "    a = coeff['x'][0]\n",
    "    b = coeff['x'][1]\n",
    "    v = a*np.array(w)+b\n",
    "    return v\n",
    "\n",
    "v = regularized_vector()\n",
    "\n",
    "true_order = np.array(video_score).argsort()\n",
    "true_ranks = true_order.argsort()\n",
    "\n",
    "temp_o = np.array(w).argsort()\n",
    "temp_r = temp_o.argsort()\n",
    "\n",
    "resolution = 0.1\n",
    "video_score_results = np.round(np.array(results)/resolution)*resolution\n",
    "\n",
    "print 'Result Order \\t True Order \\t Result Score \\t Ture Score'\n",
    "for i in range(len(temp_r)):\n",
    "    print temp_r[i], '\\t\\t', true_ranks[i], '\\t\\t', v[i], '\\t\\t', video_score[i]\n",
    "    \n",
    "diff = np.abs(temp_r - true_ranks)\n",
    "plt.hist(diff, alpha=0.5)"
   ]
  },
  {
   "cell_type": "markdown",
   "metadata": {},
   "source": [
    "# Generate Data using Generative function "
   ]
  },
  {
   "cell_type": "code",
   "execution_count": null,
   "metadata": {
    "collapsed": false
   },
   "outputs": [],
   "source": [
    "video_score"
   ]
  },
  {
   "cell_type": "code",
   "execution_count": 7,
   "metadata": {
    "collapsed": false
   },
   "outputs": [
    {
     "ename": "NameError",
     "evalue": "global name 'multiprocessing' is not defined",
     "output_type": "error",
     "traceback": [
      "\u001b[1;31m---------------------------------------------------------------------------\u001b[0m",
      "\u001b[1;31mNameError\u001b[0m                                 Traceback (most recent call last)",
      "\u001b[1;32m<ipython-input-7-b37e9c442ffc>\u001b[0m in \u001b[0;36m<module>\u001b[1;34m()\u001b[0m\n\u001b[0;32m     14\u001b[0m     \u001b[0mp\u001b[0m\u001b[1;33m.\u001b[0m\u001b[0mmap\u001b[0m\u001b[1;33m(\u001b[0m\u001b[0mf\u001b[0m\u001b[1;33m,\u001b[0m \u001b[1;33m[\u001b[0m\u001b[1;36m0\u001b[0m\u001b[1;33m,\u001b[0m\u001b[1;36m1\u001b[0m\u001b[1;33m,\u001b[0m\u001b[1;36m2\u001b[0m\u001b[1;33m,\u001b[0m\u001b[1;36m3\u001b[0m\u001b[1;33m,\u001b[0m\u001b[1;36m4\u001b[0m\u001b[1;33m]\u001b[0m\u001b[1;33m)\u001b[0m\u001b[1;33m\u001b[0m\u001b[0m\n\u001b[0;32m     15\u001b[0m \u001b[1;33m\u001b[0m\u001b[0m\n\u001b[1;32m---> 16\u001b[1;33m \u001b[0mmp_handler\u001b[0m\u001b[1;33m(\u001b[0m\u001b[1;33m)\u001b[0m\u001b[1;33m\u001b[0m\u001b[0m\n\u001b[0m",
      "\u001b[1;32m<ipython-input-7-b37e9c442ffc>\u001b[0m in \u001b[0;36mmp_handler\u001b[1;34m()\u001b[0m\n\u001b[0;32m     11\u001b[0m \u001b[1;33m\u001b[0m\u001b[0m\n\u001b[0;32m     12\u001b[0m \u001b[1;32mdef\u001b[0m \u001b[0mmp_handler\u001b[0m\u001b[1;33m(\u001b[0m\u001b[1;33m)\u001b[0m\u001b[1;33m:\u001b[0m\u001b[1;33m\u001b[0m\u001b[0m\n\u001b[1;32m---> 13\u001b[1;33m     \u001b[0mp\u001b[0m \u001b[1;33m=\u001b[0m \u001b[0mmultiprocessing\u001b[0m\u001b[1;33m.\u001b[0m\u001b[0mPool\u001b[0m\u001b[1;33m(\u001b[0m\u001b[1;36m2\u001b[0m\u001b[1;33m)\u001b[0m\u001b[1;33m\u001b[0m\u001b[0m\n\u001b[0m\u001b[0;32m     14\u001b[0m     \u001b[0mp\u001b[0m\u001b[1;33m.\u001b[0m\u001b[0mmap\u001b[0m\u001b[1;33m(\u001b[0m\u001b[0mf\u001b[0m\u001b[1;33m,\u001b[0m \u001b[1;33m[\u001b[0m\u001b[1;36m0\u001b[0m\u001b[1;33m,\u001b[0m\u001b[1;36m1\u001b[0m\u001b[1;33m,\u001b[0m\u001b[1;36m2\u001b[0m\u001b[1;33m,\u001b[0m\u001b[1;36m3\u001b[0m\u001b[1;33m,\u001b[0m\u001b[1;36m4\u001b[0m\u001b[1;33m]\u001b[0m\u001b[1;33m)\u001b[0m\u001b[1;33m\u001b[0m\u001b[0m\n\u001b[0;32m     15\u001b[0m \u001b[1;33m\u001b[0m\u001b[0m\n",
      "\u001b[1;31mNameError\u001b[0m: global name 'multiprocessing' is not defined"
     ]
    }
   ],
   "source": [
    "from multiprocessing import Pool\n",
    "\n",
    "\n",
    "def f(i):\n",
    "    print 'Evaluating trait %d', i+1\n",
    "    model = Pairwise(pairs[i])\n",
    "    w_init = np.random.uniform(-5,5,video_num)\n",
    "    results = model.fit(w_init, maxiter=1000000, maxfun=1000000)\n",
    "    estimated_for_each_trait[str(i)] = results.params\n",
    "    return estimated_for_each_trait\n",
    "\n",
    "def mp_handler():\n",
    "    p = multiprocessing.Pool(2)\n",
    "    p.map(f, [0,1,2,3,4])\n",
    "    \n",
    "mp_handler()"
   ]
  },
  {
   "cell_type": "code",
   "execution_count": 8,
   "metadata": {
    "collapsed": false
   },
   "outputs": [],
   "source": [
    "def update_gradient_concur(pairs, w):\n",
    "    w_old = w\n",
    "    eta = 0.01\n",
    "    for i in range(len(w)):\n",
    "        w[i] += eta*calc_gradient(pairs, w_old, i)\n",
    "    return w"
   ]
  },
  {
   "cell_type": "code",
   "execution_count": null,
   "metadata": {
    "collapsed": false
   },
   "outputs": [],
   "source": []
  },
  {
   "cell_type": "code",
   "execution_count": null,
   "metadata": {
    "collapsed": false
   },
   "outputs": [],
   "source": []
  },
  {
   "cell_type": "code",
   "execution_count": null,
   "metadata": {
    "collapsed": false
   },
   "outputs": [],
   "source": [
    "import multiprocessing\n",
    "\n",
    "w = np.zeros(30)\n",
    "pairs = pairs_truth\n",
    "\n",
    "p = multiprocessing.Pool(2)\n",
    "\n",
    "for i in range(10000):\n",
    "    w = p.map(update_gradient_concur, pairs, w)\n",
    "    if i % 500 ==0:\n",
    "        print likelihood(pairs_truth, w)\n",
    "        \n",
    "    \n",
    "\n",
    "\n",
    "    p = multiprocessing.Process(target=update_gradient_concur, args=(pairs, w,))\n",
    "    p.start()\n",
    "    p.join()"
   ]
  },
  {
   "cell_type": "code",
   "execution_count": 41,
   "metadata": {
    "collapsed": false
   },
   "outputs": [
    {
     "ename": "TypeError",
     "evalue": "object of type 'numpy.float64' has no len()",
     "output_type": "error",
     "traceback": [
      "\u001b[1;31m---------------------------------------------------------------------------\u001b[0m",
      "\u001b[1;31mTypeError\u001b[0m                                 Traceback (most recent call last)",
      "\u001b[1;32m<ipython-input-41-a94048cd3ef0>\u001b[0m in \u001b[0;36m<module>\u001b[1;34m()\u001b[0m\n\u001b[0;32m     31\u001b[0m \u001b[1;33m\u001b[0m\u001b[0m\n\u001b[0;32m     32\u001b[0m \u001b[1;32mfor\u001b[0m \u001b[0mi\u001b[0m \u001b[1;32min\u001b[0m \u001b[0mrange\u001b[0m\u001b[1;33m(\u001b[0m\u001b[1;36m10000\u001b[0m\u001b[1;33m)\u001b[0m\u001b[1;33m:\u001b[0m\u001b[1;33m\u001b[0m\u001b[0m\n\u001b[1;32m---> 33\u001b[1;33m     \u001b[0mw\u001b[0m \u001b[1;33m=\u001b[0m \u001b[0mPool\u001b[0m\u001b[1;33m(\u001b[0m\u001b[1;33m)\u001b[0m\u001b[1;33m.\u001b[0m\u001b[0mmap\u001b[0m\u001b[1;33m(\u001b[0m\u001b[0mupdate_gradient_concur\u001b[0m\u001b[1;33m,\u001b[0m \u001b[1;33m[\u001b[0m\u001b[0mpairs_truth\u001b[0m\u001b[1;33m]\u001b[0m\u001b[1;33m,\u001b[0m \u001b[1;33m[\u001b[0m\u001b[0mw\u001b[0m\u001b[1;33m]\u001b[0m\u001b[1;33m)\u001b[0m\u001b[1;33m\u001b[0m\u001b[0m\n\u001b[0m\u001b[0;32m     34\u001b[0m     \u001b[1;32mif\u001b[0m \u001b[0mi\u001b[0m \u001b[1;33m%\u001b[0m \u001b[1;36m500\u001b[0m \u001b[1;33m==\u001b[0m\u001b[1;36m0\u001b[0m\u001b[1;33m:\u001b[0m\u001b[1;33m\u001b[0m\u001b[0m\n\u001b[0;32m     35\u001b[0m         \u001b[1;32mprint\u001b[0m \u001b[0mlikelihood\u001b[0m\u001b[1;33m(\u001b[0m\u001b[0mpairs_truth\u001b[0m\u001b[1;33m,\u001b[0m \u001b[0mw\u001b[0m\u001b[1;33m)\u001b[0m\u001b[1;33m\u001b[0m\u001b[0m\n",
      "\u001b[1;32m/home/ubuntu/anaconda2/lib/python2.7/site-packages/pathos-0.2a1.dev0-py2.7.egg/pathos/multiprocessing.pyc\u001b[0m in \u001b[0;36mmap\u001b[1;34m(self, f, *args, **kwds)\u001b[0m\n\u001b[0;32m    131\u001b[0m         \u001b[0mAbstractWorkerPool\u001b[0m\u001b[1;33m.\u001b[0m\u001b[0m_AbstractWorkerPool__map\u001b[0m\u001b[1;33m(\u001b[0m\u001b[0mself\u001b[0m\u001b[1;33m,\u001b[0m \u001b[0mf\u001b[0m\u001b[1;33m,\u001b[0m \u001b[1;33m*\u001b[0m\u001b[0margs\u001b[0m\u001b[1;33m,\u001b[0m \u001b[1;33m**\u001b[0m\u001b[0mkwds\u001b[0m\u001b[1;33m)\u001b[0m\u001b[1;33m\u001b[0m\u001b[0m\n\u001b[0;32m    132\u001b[0m         \u001b[0m_pool\u001b[0m \u001b[1;33m=\u001b[0m \u001b[0mself\u001b[0m\u001b[1;33m.\u001b[0m\u001b[0m_serve\u001b[0m\u001b[1;33m(\u001b[0m\u001b[1;33m)\u001b[0m\u001b[1;33m\u001b[0m\u001b[0m\n\u001b[1;32m--> 133\u001b[1;33m         \u001b[1;32mreturn\u001b[0m \u001b[0m_pool\u001b[0m\u001b[1;33m.\u001b[0m\u001b[0mmap\u001b[0m\u001b[1;33m(\u001b[0m\u001b[0mstar\u001b[0m\u001b[1;33m(\u001b[0m\u001b[0mf\u001b[0m\u001b[1;33m)\u001b[0m\u001b[1;33m,\u001b[0m \u001b[0mzip\u001b[0m\u001b[1;33m(\u001b[0m\u001b[1;33m*\u001b[0m\u001b[0margs\u001b[0m\u001b[1;33m)\u001b[0m\u001b[1;33m)\u001b[0m \u001b[1;31m# chunksize\u001b[0m\u001b[1;33m\u001b[0m\u001b[0m\n\u001b[0m\u001b[0;32m    134\u001b[0m     \u001b[0mmap\u001b[0m\u001b[1;33m.\u001b[0m\u001b[0m__doc__\u001b[0m \u001b[1;33m=\u001b[0m \u001b[0mAbstractWorkerPool\u001b[0m\u001b[1;33m.\u001b[0m\u001b[0mmap\u001b[0m\u001b[1;33m.\u001b[0m\u001b[0m__doc__\u001b[0m\u001b[1;33m\u001b[0m\u001b[0m\n\u001b[0;32m    135\u001b[0m     \u001b[1;32mdef\u001b[0m \u001b[0mimap\u001b[0m\u001b[1;33m(\u001b[0m\u001b[0mself\u001b[0m\u001b[1;33m,\u001b[0m \u001b[0mf\u001b[0m\u001b[1;33m,\u001b[0m \u001b[1;33m*\u001b[0m\u001b[0margs\u001b[0m\u001b[1;33m,\u001b[0m \u001b[1;33m**\u001b[0m\u001b[0mkwds\u001b[0m\u001b[1;33m)\u001b[0m\u001b[1;33m:\u001b[0m\u001b[1;33m\u001b[0m\u001b[0m\n",
      "\u001b[1;32m/home/ubuntu/anaconda2/lib/python2.7/site-packages/multiprocess-0.70.4-py2.7-linux-x86_64.egg/multiprocess/pool.pyc\u001b[0m in \u001b[0;36mmap\u001b[1;34m(self, func, iterable, chunksize)\u001b[0m\n\u001b[0;32m    249\u001b[0m         '''\n\u001b[0;32m    250\u001b[0m         \u001b[1;32massert\u001b[0m \u001b[0mself\u001b[0m\u001b[1;33m.\u001b[0m\u001b[0m_state\u001b[0m \u001b[1;33m==\u001b[0m \u001b[0mRUN\u001b[0m\u001b[1;33m\u001b[0m\u001b[0m\n\u001b[1;32m--> 251\u001b[1;33m         \u001b[1;32mreturn\u001b[0m \u001b[0mself\u001b[0m\u001b[1;33m.\u001b[0m\u001b[0mmap_async\u001b[0m\u001b[1;33m(\u001b[0m\u001b[0mfunc\u001b[0m\u001b[1;33m,\u001b[0m \u001b[0miterable\u001b[0m\u001b[1;33m,\u001b[0m \u001b[0mchunksize\u001b[0m\u001b[1;33m)\u001b[0m\u001b[1;33m.\u001b[0m\u001b[0mget\u001b[0m\u001b[1;33m(\u001b[0m\u001b[1;33m)\u001b[0m\u001b[1;33m\u001b[0m\u001b[0m\n\u001b[0m\u001b[0;32m    252\u001b[0m \u001b[1;33m\u001b[0m\u001b[0m\n\u001b[0;32m    253\u001b[0m     \u001b[1;32mdef\u001b[0m \u001b[0mimap\u001b[0m\u001b[1;33m(\u001b[0m\u001b[0mself\u001b[0m\u001b[1;33m,\u001b[0m \u001b[0mfunc\u001b[0m\u001b[1;33m,\u001b[0m \u001b[0miterable\u001b[0m\u001b[1;33m,\u001b[0m \u001b[0mchunksize\u001b[0m\u001b[1;33m=\u001b[0m\u001b[1;36m1\u001b[0m\u001b[1;33m)\u001b[0m\u001b[1;33m:\u001b[0m\u001b[1;33m\u001b[0m\u001b[0m\n",
      "\u001b[1;32m/home/ubuntu/anaconda2/lib/python2.7/site-packages/multiprocess-0.70.4-py2.7-linux-x86_64.egg/multiprocess/pool.pyc\u001b[0m in \u001b[0;36mget\u001b[1;34m(self, timeout)\u001b[0m\n\u001b[0;32m    565\u001b[0m             \u001b[1;32mreturn\u001b[0m \u001b[0mself\u001b[0m\u001b[1;33m.\u001b[0m\u001b[0m_value\u001b[0m\u001b[1;33m\u001b[0m\u001b[0m\n\u001b[0;32m    566\u001b[0m         \u001b[1;32melse\u001b[0m\u001b[1;33m:\u001b[0m\u001b[1;33m\u001b[0m\u001b[0m\n\u001b[1;32m--> 567\u001b[1;33m             \u001b[1;32mraise\u001b[0m \u001b[0mself\u001b[0m\u001b[1;33m.\u001b[0m\u001b[0m_value\u001b[0m\u001b[1;33m\u001b[0m\u001b[0m\n\u001b[0m\u001b[0;32m    568\u001b[0m \u001b[1;33m\u001b[0m\u001b[0m\n\u001b[0;32m    569\u001b[0m     \u001b[1;32mdef\u001b[0m \u001b[0m_set\u001b[0m\u001b[1;33m(\u001b[0m\u001b[0mself\u001b[0m\u001b[1;33m,\u001b[0m \u001b[0mi\u001b[0m\u001b[1;33m,\u001b[0m \u001b[0mobj\u001b[0m\u001b[1;33m)\u001b[0m\u001b[1;33m:\u001b[0m\u001b[1;33m\u001b[0m\u001b[0m\n",
      "\u001b[1;31mTypeError\u001b[0m: object of type 'numpy.float64' has no len()"
     ]
    }
   ],
   "source": [
    "def update_gradient_concur(pairs, w):\n",
    "    import numpy as np\n",
    "#     print pairs # result is a list of pairs\n",
    "    w_old = w[0]\n",
    "    w = w[0]\n",
    "    eta = 0.01\n",
    "    for i in range(len(w)):\n",
    "        gradient = 0\n",
    "    \n",
    "        for pair in pairs:\n",
    "            if i == pair[0]:\n",
    "                out = -1\n",
    "            elif i == pair[1]:\n",
    "                out = 1  \n",
    "            else:\n",
    "                out = 0\n",
    "            \n",
    "        gradient -= out/(1/(np.exp(w_old[pair[1]]-w_old[pair[0]]))+1)\n",
    "        \n",
    "        w[i] += eta*gradient\n",
    "    return w\n",
    "\n",
    "def likelihood(pairs, w):\n",
    "    l = 1\n",
    "    w = w[0]\n",
    "    for pair in pairs:        \n",
    "        l += np.log(1+np.exp(w[pair[1]]-w[pair[0]]))\n",
    "    return l\n",
    "\n",
    "w = np.zeros(30)\n",
    "\n",
    "for i in range(10000):\n",
    "    w = Pool().map(update_gradient_concur, [pairs_truth], [w])\n",
    "    if i % 500 ==0:\n",
    "        print likelihood(pairs_truth, w)\n",
    "\n",
    "print res"
   ]
  },
  {
   "cell_type": "code",
   "execution_count": null,
   "metadata": {
    "collapsed": true
   },
   "outputs": [],
   "source": [
    "num_test_pairs = (0.2* self.total_pairs).astype(int)\n",
    "\n",
    "test_pairs = [self.pairs_truth[i] for i in random.sample(range(self.total_pairs), num_test_pairs)]\n",
    "self.endog = np.array(test_pairs)\n",
    "\n",
    "w_init = np.random.uniform(-5,5,video_num)\n",
    "self.fit(w_init)\n",
    "\n",
    "if showResult:\n",
    "    res = self.rank[0]\n",
    "    compare_rank(self.w_star, res, False, True)\n",
    "    plt.legend([str(i) for i in num_test_pairs])  \n",
    "if Nihar:\n",
    "    output_error_nihar.append(self.performance_nihar())\n",
    "if Isabelle:\n",
    "    output_error_isabelle.append(self.performance_isabelle())\n"
   ]
  },
  {
   "cell_type": "code",
   "execution_count": null,
   "metadata": {
    "collapsed": true
   },
   "outputs": [],
   "source": []
  },
  {
   "cell_type": "code",
   "execution_count": null,
   "metadata": {
    "collapsed": true
   },
   "outputs": [],
   "source": []
  }
 ],
 "metadata": {
  "kernelspec": {
   "display_name": "Python 2",
   "language": "python",
   "name": "python2"
  },
  "language_info": {
   "codemirror_mode": {
    "name": "ipython",
    "version": 2
   },
   "file_extension": ".py",
   "mimetype": "text/x-python",
   "name": "python",
   "nbconvert_exporter": "python",
   "pygments_lexer": "ipython2",
   "version": "2.7.11"
  }
 },
 "nbformat": 4,
 "nbformat_minor": 0
}
