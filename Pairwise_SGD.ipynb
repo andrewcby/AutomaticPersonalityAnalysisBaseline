{
 "cells": [
  {
   "cell_type": "code",
   "execution_count": 1,
   "metadata": {
    "collapsed": true
   },
   "outputs": [],
   "source": [
    "import os, csv, random\n",
    "\n",
    "from __future__ import division\n",
    "from matplotlib import  pyplot as plt\n",
    "from memory_profiler import profile\n",
    "from scipy import stats\n",
    "from statsmodels.base.model import GenericLikelihoodModel\n",
    "\n",
    "import numpy as np\n",
    "import scipy.io as sio\n",
    "import seaborn as sns\n",
    "\n",
    "%matplotlib inline"
   ]
  },
  {
   "cell_type": "markdown",
   "metadata": {},
   "source": [
    "# Generate score for videos, and find all possible pairs"
   ]
  },
  {
   "cell_type": "code",
   "execution_count": 2,
   "metadata": {
    "collapsed": false
   },
   "outputs": [
    {
     "name": "stdout",
     "output_type": "stream",
     "text": [
      "Total number of pairs for 30 videos is:  435\n"
     ]
    }
   ],
   "source": [
    "video_num = 30\n",
    "\n",
    "video_score = np.random.uniform(-5,5,video_num)\n",
    "resolution = 0.1\n",
    "video_score = np.round(video_score/resolution)*resolution\n",
    "\n",
    "pairs_truth = []\n",
    "\n",
    "for i in range(len(video_score)-1):\n",
    "    for j in range(i+1, len(video_score)):\n",
    "        if video_score[i] > video_score[j]:\n",
    "            pairs_truth.append((i,j))\n",
    "        else:\n",
    "            pairs_truth.append((j,i))\n",
    "            \n",
    "total_pairs = len(pairs_truth)\n",
    "print 'Total number of pairs for %d videos is: ' %video_num, total_pairs"
   ]
  },
  {
   "cell_type": "markdown",
   "metadata": {},
   "source": [
    "# SGD\n",
    "Assuming the pair $(w_i,w_j)$ means $w_i > w_j$, this function calculates $\\frac{\\partial L}{\\partial w_i} = \\frac{exp(w_j-w_i)}{1+exp(w_j-w_i)}$, where $w_i$ represent the weight to be taken derivative of. Return value is the gradient of the log likelihood function with respect to $w_i$"
   ]
  },
  {
   "cell_type": "code",
   "execution_count": 8,
   "metadata": {
    "collapsed": true
   },
   "outputs": [],
   "source": [
    "def calc_gradient(pairs, w, w_i):\n",
    "    gradient = 0\n",
    "    \n",
    "    for pair in pairs:\n",
    "        if w_i == pair[0]:\n",
    "            out = -1\n",
    "        elif w_i == pair[1]:\n",
    "            out = 1  \n",
    "        else:\n",
    "            out = 0\n",
    "            \n",
    "        gradient -= out/(1/(np.exp(w[pair[1]]-w[pair[0]]))+1)\n",
    "    \n",
    "    return gradient"
   ]
  },
  {
   "cell_type": "markdown",
   "metadata": {},
   "source": [
    "$w_{old}$ saves the original values of the gradient, so that later when updating the values, the values to be updated are still using the original value"
   ]
  },
  {
   "cell_type": "code",
   "execution_count": 10,
   "metadata": {
    "collapsed": true
   },
   "outputs": [],
   "source": [
    "def update_gradient(pairs, w, eta):\n",
    "    w_old = w\n",
    "    for i in range(len(w)):\n",
    "        w[i] += eta*calc_gradient(pairs, w_old, i)\n",
    "    return w"
   ]
  },
  {
   "cell_type": "code",
   "execution_count": 18,
   "metadata": {
    "collapsed": true
   },
   "outputs": [],
   "source": [
    "def likelihood(pairs, w):\n",
    "    l = 1\n",
    "    for pair in pairs:\n",
    "        l += np.log(1+np.exp(w[pair[1]]-w[pair[0]]))\n",
    "    return l"
   ]
  },
  {
   "cell_type": "code",
   "execution_count": 19,
   "metadata": {
    "collapsed": false
   },
   "outputs": [
    {
     "name": "stdout",
     "output_type": "stream",
     "text": [
      "280.911721014\n",
      "35.8156555211\n",
      "26.5535403357\n",
      "22.1919668482\n",
      "19.4908374881\n",
      "17.5960079407\n",
      "16.1671714304\n",
      "15.0374277632\n",
      "14.1136934517\n",
      "13.3392654908\n",
      "12.6772976688\n",
      "12.1026330975\n",
      "11.5974103694\n",
      "11.1485385899\n",
      "10.7461674325\n",
      "10.3827188481\n",
      "10.0522514892\n",
      "9.75003039168\n",
      "9.47222774914\n",
      "9.21570995382\n"
     ]
    }
   ],
   "source": [
    "w = np.zeros(30)\n",
    "pairs = pairs_truth\n",
    "results = []\n",
    "for i in range(10000):\n",
    "    \n",
    "    w = update_gradient(pairs, w, 0.01)\n",
    "    if i % 500 ==0:\n",
    "#         print w\n",
    "        print likelihood(pairs_truth, w)\n",
    "    results.append(w[0])\n",
    "    "
   ]
  },
  {
   "cell_type": "code",
   "execution_count": 22,
   "metadata": {
    "collapsed": false
   },
   "outputs": [
    {
     "name": "stdout",
     "output_type": "stream",
     "text": [
      "[15 14 21 29  4  8  0 28  6  9  1 20 16 17 25 10 22 11 19 26 18  7 12 27 24\n",
      "  3  2  5 23 13]\n",
      "[15 14 20 28  4  8  0 29  5  9  1 21 16 17 25 10 22 11 19 26 18  7 12 27 24\n",
      "  3  2  6 23 13]\n",
      "[  0.61503281  -0.61658997   6.907792    19.80744364 -14.07631589\n",
      "  -8.23463522 -22.53531545  22.53453472 -12.50247263  -6.90929083\n",
      " -19.80883775   8.23328938   1.84898605   3.08999934  14.07504652\n",
      "  -5.61505851   9.59901248  -4.34456394   5.61361208  15.77179651\n",
      "   4.34309981  -9.60040282  -3.09156515  17.64681377  12.50126534\n",
      " -15.77313287 -17.6481498  -11.01793091  11.01662265  -1.85057937]\n"
     ]
    }
   ],
   "source": [
    "true_order = np.array(video_score).argsort()\n",
    "true_ranks = true_order.argsort()\n",
    "\n",
    "temp_o = np.array(w).argsort()\n",
    "temp_r = temp_o.argsort()\n",
    "\n",
    "print true_ranks\n",
    "print temp_r\n",
    "print w"
   ]
  },
  {
   "cell_type": "markdown",
   "metadata": {},
   "source": [
    "# Generate Data using Generative function "
   ]
  },
  {
   "cell_type": "code",
   "execution_count": 13,
   "metadata": {
    "collapsed": false
   },
   "outputs": [
    {
     "data": {
      "text/plain": [
       "array([-0.5, -1. ,  1.5,  4.4, -3.7, -2.7, -4.7,  4.4, -3.4, -2.5, -4.1,\n",
       "        1.5, -0.4, -0.2,  3.2, -2.5,  1.7, -2. ,  1.1,  3.8,  0.7, -3. ,\n",
       "       -1.3,  4.2,  3.1, -3.9, -4. , -3.4,  2.2, -1.1])"
      ]
     },
     "execution_count": 13,
     "metadata": {},
     "output_type": "execute_result"
    }
   ],
   "source": [
    "video_score"
   ]
  },
  {
   "cell_type": "code",
   "execution_count": null,
   "metadata": {
    "collapsed": true
   },
   "outputs": [],
   "source": []
  },
  {
   "cell_type": "code",
   "execution_count": null,
   "metadata": {
    "collapsed": true
   },
   "outputs": [],
   "source": []
  },
  {
   "cell_type": "code",
   "execution_count": null,
   "metadata": {
    "collapsed": true
   },
   "outputs": [],
   "source": []
  },
  {
   "cell_type": "code",
   "execution_count": null,
   "metadata": {
    "collapsed": true
   },
   "outputs": [],
   "source": []
  },
  {
   "cell_type": "code",
   "execution_count": null,
   "metadata": {
    "collapsed": true
   },
   "outputs": [],
   "source": []
  },
  {
   "cell_type": "code",
   "execution_count": null,
   "metadata": {
    "collapsed": true
   },
   "outputs": [],
   "source": []
  },
  {
   "cell_type": "code",
   "execution_count": null,
   "metadata": {
    "collapsed": true
   },
   "outputs": [],
   "source": []
  },
  {
   "cell_type": "code",
   "execution_count": null,
   "metadata": {
    "collapsed": true
   },
   "outputs": [],
   "source": []
  },
  {
   "cell_type": "code",
   "execution_count": null,
   "metadata": {
    "collapsed": true
   },
   "outputs": [],
   "source": []
  }
 ],
 "metadata": {
  "kernelspec": {
   "display_name": "Python 2",
   "language": "python",
   "name": "python2"
  },
  "language_info": {
   "codemirror_mode": {
    "name": "ipython",
    "version": 2
   },
   "file_extension": ".py",
   "mimetype": "text/x-python",
   "name": "python",
   "nbconvert_exporter": "python",
   "pygments_lexer": "ipython2",
   "version": "2.7.10"
  }
 },
 "nbformat": 4,
 "nbformat_minor": 0
}
