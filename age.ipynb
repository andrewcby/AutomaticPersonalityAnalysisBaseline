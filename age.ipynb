{
 "cells": [
  {
   "cell_type": "code",
   "execution_count": 1,
   "metadata": {
    "collapsed": false
   },
   "outputs": [],
   "source": [
    "from functions import mle , gradient, init_graph, matching_func, regularized_vector, sigmoid, noise_generation\n",
    "\n",
    "import random, csv, time, os, pickle, re, math\n",
    "\n",
    "import numpy as np\n",
    "import pandas as pd\n",
    "import matplotlib.pyplot as plt\n",
    "\n",
    "from scipy import optimize\n",
    "from scipy.stats import bernoulli\n",
    "from scipy.io import savemat\n",
    "from __future__ import division\n",
    "from datetime import datetime\n",
    "\n",
    "%matplotlib inline"
   ]
  },
  {
   "cell_type": "code",
   "execution_count": 2,
   "metadata": {
    "collapsed": false
   },
   "outputs": [],
   "source": [
    "# file format\n",
    "# file_name  real_age  apparent_age  worker_age  worker_gender\n",
    "\n",
    "ReRead = False\n",
    "\n",
    "if ReRead:\n",
    "    path = './age/'\n",
    "    csv_files = [f for f in os.listdir(path) if f.endswith('.csv')]\n",
    "\n",
    "    votes = dict()\n",
    "\n",
    "    for files in csv_files:\n",
    "        time0 = time.time()\n",
    "        files = path+files\n",
    "        df = pd.read_csv(files)\n",
    "        for row in df.iterrows():\n",
    "            if row[1]['file_name'] in votes.keys():\n",
    "                votes[row[1]['file_name']]['votes'].append(row[1]['apparent_age'])\n",
    "            else:\n",
    "                votes[row[1]['file_name']] = dict()\n",
    "                votes[row[1]['file_name']]['votes'] = [row[1]['apparent_age']]\n",
    "                votes[row[1]['file_name']]['age'] = row[1]['real_age']\n",
    "        print time.time()-time0\n",
    "        \n",
    "    for key in votes.keys():\n",
    "        votes[key]['avg'] = np.mean(votes[key]['votes'])\n",
    "    pickle.dump( votes, open( 'real_votes.p', \"wb\" ) )"
   ]
  },
  {
   "cell_type": "code",
   "execution_count": 3,
   "metadata": {
    "collapsed": false
   },
   "outputs": [],
   "source": [
    "# Real votes will be saved in the pickle file. In the future can directly load it\n",
    "votes = pickle.load( open( 'real_votes.p', \"rb\" ) )"
   ]
  },
  {
   "cell_type": "markdown",
   "metadata": {},
   "source": [
    "# Below is the code for pairs generate from individual votes and zero noise in generation. Use $\\sigma = \\sqrt2s$, where s is the standard deviation of the age data in the BLT model. "
   ]
  },
  {
   "cell_type": "code",
   "execution_count": 19,
   "metadata": {
    "collapsed": false
   },
   "outputs": [
    {
     "name": "stdout",
     "output_type": "stream",
     "text": [
      "378.524878979\n"
     ]
    }
   ],
   "source": [
    "items = votes.keys()\n",
    "tot_num = len(items)\n",
    "nlogn = int(tot_num*np.log(tot_num))\n",
    "fractions = [0.5]\n",
    "sigma = (4*np.sqrt(2))\n",
    "\n",
    "for fraction in fractions:\n",
    "    pairs = init_graph(tot_num, int(nlogn*fraction))\n",
    "    \n",
    "    for i in range(len(pairs)):\n",
    "        if random.choice(votes[items[pairs[i][0]]]['votes']) < random.choice(votes[items[pairs[i][1]]]['votes']):\n",
    "            pairs[i] = (pairs[i][1] ,pairs[i][0])\n",
    "        \n",
    "    start_time = time.time()\n",
    "    w = np.ones(tot_num)\n",
    "    res = optimize.minimize(mle, w, \n",
    "                            method='Newton-CG',\n",
    "                            jac=gradient,\n",
    "                            args=(pairs,sigma,),\n",
    "                            tol = 10,\n",
    "                            options={'disp': False})\n",
    "    \n",
    "    print time.time() - start_time"
   ]
  },
  {
   "cell_type": "markdown",
   "metadata": {
    "collapsed": true
   },
   "source": [
    "# Below is the code for pair generation with the average age for each person; use the same sigma for generation and fit in the BLT model"
   ]
  },
  {
   "cell_type": "code",
   "execution_count": 21,
   "metadata": {
    "collapsed": false
   },
   "outputs": [
    {
     "name": "stdout",
     "output_type": "stream",
     "text": [
      "407.040500879\n"
     ]
    }
   ],
   "source": [
    "items = votes.keys()\n",
    "tot_num = len(items)\n",
    "nlogn = int(tot_num*np.log(tot_num))\n",
    "fractions = [0.5]\n",
    "sigma = (4*np.sqrt(2))\n",
    "\n",
    "for fraction in fractions:\n",
    "    pairs = init_graph(tot_num, int(nlogn*fraction))\n",
    "    \n",
    "    for i in range(len(pairs)):\n",
    "        if votes[items[pairs[i][0]]]['avg'] < votes[items[pairs[i][1]]]['avg']:\n",
    "            pairs[i] = (pairs[i][1] ,pairs[i][0])\n",
    "        \n",
    "    start_time = time.time()\n",
    "    w = np.ones(tot_num)\n",
    "    res1 = optimize.minimize(mle, w, \n",
    "                            method='Newton-CG',\n",
    "                            jac=gradient,\n",
    "                            args=(pairs,sigma,),\n",
    "                            tol = 10,\n",
    "                            options={'disp': False})\n",
    "    \n",
    "    print time.time() - start_time"
   ]
  },
  {
   "cell_type": "code",
   "execution_count": 16,
   "metadata": {
    "collapsed": false
   },
   "outputs": [
    {
     "data": {
      "text/plain": [
       "0.78712430916044962"
      ]
     },
     "execution_count": 16,
     "metadata": {},
     "output_type": "execute_result"
    }
   ],
   "source": [
    "def R2(yhat, y):\n",
    "    ybar = np.sum(y)/len(y) \n",
    "    ssreg = np.sum((yhat-ybar)**2)\n",
    "    sstot = np.sum((y - ybar)**2)\n",
    "    return ssreg/sstot\n",
    "\n",
    "w_star = []\n",
    "w_hat = []\n",
    "w_apparent = []\n",
    "\n",
    "for i in range(len(items)):\n",
    "    w_star.append(votes[items[i]]['age'])\n",
    "    w_apparent.append(np.mean(votes[items[i]]['votes']))\n",
    "w_hat_raw = res['x']\n",
    "w_hat = regularized_vector(w_star,w_hat_raw)\n",
    "\n",
    "R2(w_hat, w_apparent)"
   ]
  },
  {
   "cell_type": "code",
   "execution_count": 20,
   "metadata": {
    "collapsed": false
   },
   "outputs": [
    {
     "data": {
      "text/plain": [
       "0.79074917106450648"
      ]
     },
     "execution_count": 20,
     "metadata": {},
     "output_type": "execute_result"
    }
   ],
   "source": [
    "def R2(yhat, y):\n",
    "    ybar = np.sum(y)/len(y) \n",
    "    ssreg = np.sum((yhat-ybar)**2)\n",
    "    sstot = np.sum((y - ybar)**2)\n",
    "    return ssreg/sstot\n",
    "\n",
    "w_star = []\n",
    "w_hat = []\n",
    "w_apparent = []\n",
    "\n",
    "for i in range(len(items)):\n",
    "    w_star.append(votes[items[i]]['age'])\n",
    "    w_apparent.append(np.mean(votes[items[i]]['votes']))\n",
    "w_hat_raw = res['x']\n",
    "w_hat = regularized_vector(w_star,w_hat_raw)\n",
    "\n",
    "R2(w_hat, w_apparent)"
   ]
  },
  {
   "cell_type": "code",
   "execution_count": 22,
   "metadata": {
    "collapsed": false
   },
   "outputs": [
    {
     "data": {
      "text/plain": [
       "0.79504486961474141"
      ]
     },
     "execution_count": 22,
     "metadata": {},
     "output_type": "execute_result"
    }
   ],
   "source": [
    "def R2(yhat, y):\n",
    "    ybar = np.sum(y)/len(y) \n",
    "    ssreg = np.sum((yhat-ybar)**2)\n",
    "    sstot = np.sum((y - ybar)**2)\n",
    "    return ssreg/sstot\n",
    "\n",
    "w_star = []\n",
    "w_hat = []\n",
    "w_apparent = []\n",
    "\n",
    "for i in range(len(items)):\n",
    "    w_star.append(votes[items[i]]['age'])\n",
    "    w_apparent.append(np.mean(votes[items[i]]['votes']))\n",
    "w_hat_raw = res1['x']\n",
    "w_hat = regularized_vector(w_star,w_hat_raw)\n",
    "\n",
    "R2(w_hat, w_apparent)"
   ]
  },
  {
   "cell_type": "code",
   "execution_count": null,
   "metadata": {
    "collapsed": true
   },
   "outputs": [],
   "source": []
  }
 ],
 "metadata": {
  "kernelspec": {
   "display_name": "Python 2",
   "language": "python",
   "name": "python2"
  },
  "language_info": {
   "codemirror_mode": {
    "name": "ipython",
    "version": 2
   },
   "file_extension": ".py",
   "mimetype": "text/x-python",
   "name": "python",
   "nbconvert_exporter": "python",
   "pygments_lexer": "ipython2",
   "version": "2.7.10"
  }
 },
 "nbformat": 4,
 "nbformat_minor": 0
}
