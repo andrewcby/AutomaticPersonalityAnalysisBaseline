{
 "cells": [
  {
   "cell_type": "code",
   "execution_count": 2,
   "metadata": {
    "collapsed": false
   },
   "outputs": [],
   "source": [
    "from functions import mle , gradient, init_graph, matching_func, regularized_vector, sigmoid, noise_generation\n",
    "\n",
    "import random, csv, time, os, pickle, re, math\n",
    "\n",
    "import numpy as np\n",
    "import pandas as pd\n",
    "import matplotlib.pyplot as plt\n",
    "\n",
    "from scipy import optimize\n",
    "from scipy.stats import bernoulli\n",
    "from scipy.io import savemat\n",
    "from __future__ import division\n",
    "from datetime import datetime"
   ]
  },
  {
   "cell_type": "code",
   "execution_count": null,
   "metadata": {
    "collapsed": true
   },
   "outputs": [],
   "source": [
    "def append_pair(comp, name1, name2, name_to_num):\n",
    "    if comp == 'LEFT':\n",
    "        return((name_to_num[name1], name_to_num[name2]))\n",
    "    if comp == 'RIGHT':\n",
    "        return((name_to_num[name2], name_to_num[name1]))\n",
    "\n",
    "\n",
    "# Used to store video name and their corresponding index\n",
    "name_to_num = dict()\n",
    "# Here pairs will be a list of 5 lists correpesonding to each of the 5 traits\n",
    "pairs = [[],[],[],[],[]]\n",
    "\n",
    "j = 0\n",
    "path = './AMT_results/'   # place here all csv files from AMT results\n",
    "files = [f for f in os.listdir(path) if f.endswith('.csv')]\n",
    "for file in files:\n",
    "    print file\n",
    "    with open(path+file, 'rb') as csvfile:\n",
    "        reader = csv.reader(csvfile, delimiter=',')\n",
    "        next(reader, None)\n",
    "        for row in reader:      \n",
    "            if not row[1] in name_to_num:\n",
    "                name_to_num[row[1]] = j\n",
    "                j += 1\n",
    "            if not row[2] in name_to_num:\n",
    "                name_to_num[row[2]] = j\n",
    "                j += 1\n",
    "            for i in range(3,8):\n",
    "                pair = append_pair(row[i],row[1],row[2],name_to_num)\n",
    "                if pair != None:\n",
    "                    pairs[i-3].append(pair)\n",
    "video_num = j\n",
    "\n",
    "\n",
    "video_num\n",
    "len(pairs[0])"
   ]
  },
  {
   "cell_type": "code",
   "execution_count": 22,
   "metadata": {
    "collapsed": false
   },
   "outputs": [],
   "source": [
    "pickle.dump( dict({'pairs':pairs}), open( 'AMT_pairs.p', \"wb\" ) )"
   ]
  },
  {
   "cell_type": "code",
   "execution_count": 4,
   "metadata": {
    "collapsed": false
   },
   "outputs": [
    {
     "name": "stdout",
     "output_type": "stream",
     "text": [
      "3088.27992511\n"
     ]
    }
   ],
   "source": [
    "w = np.ones(10000)\n",
    "\n",
    "start_time = time.time()\n",
    "\n",
    "res = optimize.minimize(mle, w, \n",
    "                        method='Newton-CG',\n",
    "                        jac=gradient,\n",
    "                        args=(pairs[0],1,),\n",
    "                        tol = 10,\n",
    "                        options={'disp': False})\n",
    "\n",
    "pickle.dump( dict({'x':res.x}), open( 'AMT_0.p', \"wb\" ) )\n",
    "print time.time() - start_time"
   ]
  },
  {
   "cell_type": "code",
   "execution_count": 5,
   "metadata": {
    "collapsed": false
   },
   "outputs": [
    {
     "name": "stdout",
     "output_type": "stream",
     "text": [
      "3050.96932912\n"
     ]
    }
   ],
   "source": [
    "w = np.ones(10000)\n",
    "\n",
    "start_time = time.time()\n",
    "\n",
    "res = optimize.minimize(mle, w, \n",
    "                        method='Newton-CG',\n",
    "                        jac=gradient,\n",
    "                        args=(pairs[1],1,),\n",
    "                        tol = 10,\n",
    "                        options={'disp': False})\n",
    "\n",
    "pickle.dump( dict({'x':res.x}), open( 'AMT_1.p', \"wb\" ) )\n",
    "print time.time() - start_time"
   ]
  },
  {
   "cell_type": "code",
   "execution_count": 6,
   "metadata": {
    "collapsed": false
   },
   "outputs": [
    {
     "name": "stdout",
     "output_type": "stream",
     "text": [
      "3248.16994596\n"
     ]
    }
   ],
   "source": [
    "w = np.ones(10000)\n",
    "\n",
    "start_time = time.time()\n",
    "\n",
    "res = optimize.minimize(mle, w, \n",
    "                        method='Newton-CG',\n",
    "                        jac=gradient,\n",
    "                        args=(pairs[2],1,),\n",
    "                        tol = 10,\n",
    "                        options={'disp': False})\n",
    "\n",
    "pickle.dump( dict({'x':res.x}), open( 'AMT_2.p', \"wb\" ) )\n",
    "print time.time() - start_time"
   ]
  },
  {
   "cell_type": "code",
   "execution_count": 7,
   "metadata": {
    "collapsed": false
   },
   "outputs": [
    {
     "name": "stdout",
     "output_type": "stream",
     "text": [
      "3535.49453211\n"
     ]
    }
   ],
   "source": [
    "w = np.ones(10000)\n",
    "\n",
    "start_time = time.time()\n",
    "\n",
    "res = optimize.minimize(mle, w, \n",
    "                        method='Newton-CG',\n",
    "                        jac=gradient,\n",
    "                        args=(pairs[3],1,),\n",
    "                        tol = 10,\n",
    "                        options={'disp': False})\n",
    "\n",
    "pickle.dump( dict({'x':res.x}), open( 'AMT_3.p', \"wb\" ) )\n",
    "print time.time() - start_time"
   ]
  },
  {
   "cell_type": "code",
   "execution_count": 8,
   "metadata": {
    "collapsed": false
   },
   "outputs": [
    {
     "name": "stdout",
     "output_type": "stream",
     "text": [
      "3913.07666302\n"
     ]
    }
   ],
   "source": [
    "w = np.ones(10000)\n",
    "\n",
    "start_time = time.time()\n",
    "\n",
    "res = optimize.minimize(mle, w, \n",
    "                        method='Newton-CG',\n",
    "                        jac=gradient,\n",
    "                        args=(pairs[4],1,),\n",
    "                        tol = 10,\n",
    "                        options={'disp': False})\n",
    "\n",
    "pickle.dump( dict({'x':res.x}), open( 'AMT_4.p', \"wb\" ) )\n",
    "print time.time() - start_time"
   ]
  },
  {
   "cell_type": "markdown",
   "metadata": {},
   "source": [
    "# Below is reconstruction accuracy calculation"
   ]
  },
  {
   "cell_type": "code",
   "execution_count": 57,
   "metadata": {
    "collapsed": false
   },
   "outputs": [
    {
     "data": {
      "text/plain": [
       "0.20630241285824419"
      ]
     },
     "execution_count": 57,
     "metadata": {},
     "output_type": "execute_result"
    }
   ],
   "source": [
    "scores = pickle.load( open( 'AMT_4.p', \"rb\" ) )\n",
    "pairs = pickle.load( open( 'AMT_pairs.p', \"rb\" ) )\n",
    "pairs = pairs['pairs'][4]\n",
    "scoresx = scores['x']\n",
    "np.std(scores['x'])/2"
   ]
  },
  {
   "cell_type": "code",
   "execution_count": 58,
   "metadata": {
    "collapsed": false
   },
   "outputs": [
    {
     "name": "stdout",
     "output_type": "stream",
     "text": [
      "0.674939053077\n"
     ]
    }
   ],
   "source": [
    "discount =0\n",
    "cool = 0\n",
    "threshold = 0.206\n",
    "weight = 0.5\n",
    "for i in range(len(pairs)):\n",
    "    if (scoresx[pairs[i][0]]-scoresx[pairs[i][1]] >= 0) and (scoresx[pairs[i][0]]-scoresx[pairs[i][1]] < threshold):\n",
    "        cool += weight\n",
    "        discount+=1\n",
    "    if (scoresx[pairs[i][0]]-scoresx[pairs[i][1]] < 0) and (scoresx[pairs[i][1]]-scoresx[pairs[i][0]] < threshold):\n",
    "        cool += weight\n",
    "        discount+=1\n",
    "    if (scoresx[pairs[i][0]]-scoresx[pairs[i][1]] >= threshold):\n",
    "        cool += 1\n",
    "    \n",
    "print cool/(321684-discount*(1-weight))"
   ]
  },
  {
   "cell_type": "code",
   "execution_count": 59,
   "metadata": {
    "collapsed": false
   },
   "outputs": [
    {
     "name": "stdout",
     "output_type": "stream",
     "text": [
      "0.585587097897\n"
     ]
    }
   ],
   "source": [
    "scoresx = scores['x']\n",
    "discount =0\n",
    "cool = 0\n",
    "\n",
    "for i in range(len(pairs)):\n",
    "    if (scoresx[pairs[i][0]]-scoresx[pairs[i][1]] > 0):\n",
    "        cool += 1\n",
    "\n",
    "print cool/(321684)"
   ]
  },
  {
   "cell_type": "markdown",
   "metadata": {
    "collapsed": true
   },
   "source": [
    "# Below is naive counting method as a baseline calculation"
   ]
  },
  {
   "cell_type": "code",
   "execution_count": 4,
   "metadata": {
    "collapsed": false
   },
   "outputs": [],
   "source": [
    "scores = pickle.load( open( 'AMT_0.p', \"rb\" ) )\n",
    "pairs_all = pickle.load( open( 'AMT_pairs.p', \"rb\" ) )\n"
   ]
  },
  {
   "cell_type": "code",
   "execution_count": 7,
   "metadata": {
    "collapsed": false
   },
   "outputs": [
    {
     "name": "stdout",
     "output_type": "stream",
     "text": [
      "On trait 0 and accuracy is: 0.627127864612\n",
      "On trait 1 and accuracy is: 0.58064192326\n",
      "On trait 2 and accuracy is: 0.629143041093\n",
      "On trait 3 and accuracy is: 0.608602894001\n",
      "On trait 4 and accuracy is: 0.598095039884\n"
     ]
    }
   ],
   "source": [
    "scores = [np.zeros(10000),np.zeros(10000),np.zeros(10000),np.zeros(10000),np.zeros(10000)]\n",
    "for trait in range(5):\n",
    "    pairs = pairs_all['pairs'][trait]\n",
    "    for pair in pairs:\n",
    "        scores[trait][pair[0]] += 1\n",
    "    correct = 0\n",
    "    for pair in pairs:\n",
    "        if scores[trait][pair[0]] > scores[trait][pair[1]]:\n",
    "            correct += 1\n",
    "    print 'On trait',trait,'and accuracy is:', correct/len(pairs)"
   ]
  },
  {
   "cell_type": "code",
   "execution_count": null,
   "metadata": {
    "collapsed": true
   },
   "outputs": [],
   "source": []
  }
 ],
 "metadata": {
  "kernelspec": {
   "display_name": "Python 2",
   "language": "python",
   "name": "python2"
  },
  "language_info": {
   "codemirror_mode": {
    "name": "ipython",
    "version": 2
   },
   "file_extension": ".py",
   "mimetype": "text/x-python",
   "name": "python",
   "nbconvert_exporter": "python",
   "pygments_lexer": "ipython2",
   "version": "2.7.10"
  }
 },
 "nbformat": 4,
 "nbformat_minor": 0
}
