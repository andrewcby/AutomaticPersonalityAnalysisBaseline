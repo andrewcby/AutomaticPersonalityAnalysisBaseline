{
 "cells": [
  {
   "cell_type": "code",
   "execution_count": 4,
   "metadata": {
    "collapsed": false,
    "scrolled": true
   },
   "outputs": [],
   "source": [
    "import sys\n",
    "\n",
    "sys.path.append('/usr/local/lib/python2.7/site-packages')\n",
    "\n",
    "import os, cv2, time\n",
    "import pandas as pd\n",
    "import numpy as np\n",
    "import matplotlib.pyplot as plt\n",
    "from PIL import Image\n",
    "from resizeimage import resizeimage\n",
    "%matplotlib inline"
   ]
  },
  {
   "cell_type": "code",
   "execution_count": 5,
   "metadata": {
    "collapsed": false
   },
   "outputs": [],
   "source": [
    "video_path = './Validation/'\n",
    "image_path = './Validation_Image/'\n",
    "files = [f for f in os.listdir(video_path) if f.endswith('.mp4')]"
   ]
  },
  {
   "cell_type": "code",
   "execution_count": 6,
   "metadata": {
    "collapsed": false
   },
   "outputs": [
    {
     "data": {
      "text/plain": [
       "2000"
      ]
     },
     "execution_count": 6,
     "metadata": {},
     "output_type": "execute_result"
    }
   ],
   "source": [
    "len(files)"
   ]
  },
  {
   "cell_type": "code",
   "execution_count": 7,
   "metadata": {
    "collapsed": false
   },
   "outputs": [
    {
     "name": "stdout",
     "output_type": "stream",
     "text": [
      "Currently on: 0 and it has been: 0.000385999679565 seconds\n",
      "Currently on: 500 and it has been: 679.284995794 seconds\n",
      "Currently on: 1000 and it has been: 1371.22079492 seconds\n",
      "Currently on: 1500 and it has been: 2067.35627985 seconds\n"
     ]
    }
   ],
   "source": [
    "counter = 0\n",
    "starttime = time.time()\n",
    "\n",
    "for video_file in files:\n",
    "    if counter % 500 == 0:\n",
    "        print 'Currently on:', counter, 'and it has been:',time.time()-starttime,'seconds'\n",
    "    vidcap = cv2.VideoCapture(video_path+video_file)\n",
    "    success,image = vidcap.read()\n",
    "    cv2.imwrite(image_path+video_file[:-3]+'jpg', image)\n",
    "    counter += 1"
   ]
  },
  {
   "cell_type": "code",
   "execution_count": 44,
   "metadata": {
    "collapsed": false
   },
   "outputs": [],
   "source": [
    "vid_files = [f[:-3] for f in os.listdir(video_path) if f.endswith('.mp4')]\n",
    "img_files = [f[:-3] for f in os.listdir(image_path) if f.endswith('.jpg')]\n",
    "diff = [i for i in vid_files if i not in img_files]"
   ]
  },
  {
   "cell_type": "code",
   "execution_count": 54,
   "metadata": {
    "collapsed": false
   },
   "outputs": [],
   "source": [
    "starttime = time.time()\n",
    "\n",
    "for video_file in diff:\n",
    "    vidcap = cv2.VideoCapture(video_path+video_file+'mp4')\n",
    "    success,image = vidcap.read()\n",
    "    cv2.imwrite(image_path+video_file+'jpg', image)\n",
    "    counter += 1"
   ]
  },
  {
   "cell_type": "code",
   "execution_count": null,
   "metadata": {
    "collapsed": false
   },
   "outputs": [],
   "source": []
  },
  {
   "cell_type": "code",
   "execution_count": 50,
   "metadata": {
    "collapsed": false
   },
   "outputs": [
    {
     "data": {
      "text/plain": [
       "True"
      ]
     },
     "execution_count": 50,
     "metadata": {},
     "output_type": "execute_result"
    }
   ],
   "source": [
    "vidcap = cv2.VideoCapture(video_path+'_01AyUz9J9I.002.mp4')\n",
    "success,image = vidcap.read()\n",
    "cv2.imwrite(image_path+'_01AyUz9J9I.002.jpg', image)"
   ]
  },
  {
   "cell_type": "code",
   "execution_count": null,
   "metadata": {
    "collapsed": true
   },
   "outputs": [],
   "source": []
  }
 ],
 "metadata": {
  "kernelspec": {
   "display_name": "Python 2",
   "language": "python",
   "name": "python2"
  },
  "language_info": {
   "codemirror_mode": {
    "name": "ipython",
    "version": 2
   },
   "file_extension": ".py",
   "mimetype": "text/x-python",
   "name": "python",
   "nbconvert_exporter": "python",
   "pygments_lexer": "ipython2",
   "version": "2.7.10"
  }
 },
 "nbformat": 4,
 "nbformat_minor": 0
}
