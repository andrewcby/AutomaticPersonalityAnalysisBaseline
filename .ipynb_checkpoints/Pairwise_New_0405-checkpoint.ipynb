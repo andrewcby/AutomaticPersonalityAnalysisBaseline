{
 "cells": [
  {
   "cell_type": "code",
   "execution_count": 1,
   "metadata": {
    "collapsed": true
   },
   "outputs": [],
   "source": [
    "import random, csv, time, os\n",
    "\n",
    "import numpy as np\n",
    "import pandas as pd\n",
    "import matplotlib.pyplot as plt\n",
    "\n",
    "from scipy import optimize\n",
    "from scipy.stats import bernoulli\n",
    "from scipy.io import savemat\n",
    "\n",
    "%matplotlib inline"
   ]
  },
  {
   "cell_type": "code",
   "execution_count": 6,
   "metadata": {
    "collapsed": false
   },
   "outputs": [],
   "source": [
    "video_num = 300\n",
    "\n",
    "video_score = np.random.uniform(-5,5,video_num)\n",
    "resolution = 0.1\n",
    "video_score = np.round(video_score/resolution)*resolution\n",
    "\n",
    "pairs_truth = []\n",
    "\n",
    "for i in range(len(video_score)-1):\n",
    "    for j in range(i+1, len(video_score)):\n",
    "        if video_score[i] > video_score[j]:\n",
    "            pairs_truth.append((i,j))\n",
    "        else:\n",
    "            pairs_truth.append((j,i))\n",
    "\n",
    "total_pairs = len(pairs_truth)  "
   ]
  },
  {
   "cell_type": "code",
   "execution_count": 4,
   "metadata": {
    "collapsed": true
   },
   "outputs": [],
   "source": [
    "def mle(w, pairs):    \n",
    "    \"\"\"\n",
    "    Calculate the MLE of w.\n",
    "    Due to the fact that optimize.minimize only takes 1 input, \n",
    "    here the pair information is imported from global variable\n",
    "    \"\"\"    \n",
    "    out = 1\n",
    "                \n",
    "    for pair in pairs:\n",
    "        if pair[0] == -1 or pair[1] == -1:\n",
    "            continue\n",
    "        out *= 1/(1+np.exp(-w[pair[0]] + w[pair[1]]))   \n",
    "        \n",
    "    return -np.log(out)\n",
    "\n",
    "def gradient(w,pairs):\n",
    "    grad = []\n",
    "    for i in range(len(w)):\n",
    "        gradient = 0\n",
    "\n",
    "        for pair in pairs:\n",
    "            if i == pair[0]:\n",
    "                out = -1\n",
    "            elif i == pair[1]:\n",
    "                out = 1  \n",
    "            else:\n",
    "                continue\n",
    "            gradient -= out / (1/(np.exp(w[pair[1]]-w[pair[0]])) +1 )\n",
    "\n",
    "        grad.append(-gradient)\n",
    "        \n",
    "    return np.array(grad)\n",
    "\n",
    "def hessian(w, pairs):\n",
    "    hessian = np.zeros((300, 300))\n",
    "    for pair in pairs:\n",
    "        exp_0 = np.exp(w[pair[1]]-w[pair[0]])\n",
    "        hess = exp_0/(1+exp_0)**2\n",
    "        hessian[pair[0], pair[1]] = hess\n",
    "        hessian[pair[1], pair[0]] = hess\n",
    "        \n",
    "    return hessian\n",
    "\n",
    "def compare_rank(video_score, results, verbose=False, hist=False):\n",
    "    true_order = np.array(video_score).argsort()\n",
    "    true_ranks = true_order.argsort()\n",
    "\n",
    "    temp_o = np.array(results).argsort()\n",
    "    temp_r = temp_o.argsort()\n",
    "\n",
    "    resolution = 0.1\n",
    "    video_score_results = np.round(np.array(results)/resolution)*resolution\n",
    "    \n",
    "    if verbose:\n",
    "        print 'Result Order \\t True Order \\t Result Score \\t Ture Score'\n",
    "        for i in range(len(temp_r)):\n",
    "            print temp_r[i], '\\t\\t', true_ranks[i], '\\t\\t', video_score_results[i], '\\t\\t', video_score[i]\n",
    "            \n",
    "    if hist:\n",
    "        diff = np.abs(temp_r - true_ranks)\n",
    "        plt.hist(diff, alpha=0.5)"
   ]
  },
  {
   "cell_type": "markdown",
   "metadata": {},
   "source": [
    "# Below is just a general test to see how if the model performs nicely."
   ]
  },
  {
   "cell_type": "code",
   "execution_count": 66,
   "metadata": {
    "collapsed": false
   },
   "outputs": [
    {
     "name": "stdout",
     "output_type": "stream",
     "text": [
      "Time Spent: 3.97 seconds\n"
     ]
    }
   ],
   "source": [
    "w = np.ones(video_num)\n",
    "\n",
    "test_pairs = [pairs_truth[i] for i in random.sample(range(total_pairs),int(total_pairs*0.5))]\n",
    "\n",
    "start_time = time.time()\n",
    "\n",
    "res = optimize.minimize(mle, w, \n",
    "                        method='Newton-CG',\n",
    "                        jac=gradient,\n",
    "                        args=(test_pairs,),\n",
    "                        tol = 1,\n",
    "                        options={'disp': False})\n",
    "\n",
    "print  'Time Spent: %.2f seconds' %float(time.time() - start_time)"
   ]
  },
  {
   "cell_type": "code",
   "execution_count": 67,
   "metadata": {
    "collapsed": false
   },
   "outputs": [
    {
     "data": {
      "image/png": "[encoded data removed]",
      "text/plain": [
       "<matplotlib.figure.Figure at 0x7f06d0849e90>"
      ]
     },
     "metadata": {},
     "output_type": "display_data"
    }
   ],
   "source": [
    "compare_rank(video_score, res.x, verbose=False, hist=True)"
   ]
  },
  {
   "cell_type": "markdown",
   "metadata": {
    "collapsed": false
   },
   "source": [
    "# Introducing different methods of calculating error."
   ]
  },
  {
   "cell_type": "code",
   "execution_count": 38,
   "metadata": {
    "collapsed": true
   },
   "outputs": [],
   "source": [
    "def matching_func(param, video_score, w_hat):\n",
    "    \"\"\"\n",
    "    Function used to calculate L2 norm of v and w_star. Used to find a and b.\n",
    "    Here param is [a, b]\n",
    "    \"\"\"\n",
    "    return np.linalg.norm(video_score - param[0]*np.array(w_hat) - param[1])\n",
    "\n",
    "\n",
    "def regularized_vector(video_score,w_hat):\n",
    "    \"\"\"\n",
    "    Function to generate vector v after using matching_func to find optimal a and b\n",
    "    \"\"\"\n",
    "    coeff = optimize.minimize(matching_func, [0, 0], args=(video_score, w_hat))\n",
    "\n",
    "    a = coeff['x'][0]\n",
    "    b = coeff['x'][1]\n",
    "    v = a*np.array(w_hat)+b\n",
    "    return v\n",
    "\n",
    "def performance_isabelle(video_score, video_num, w_hat):\n",
    "    \"\"\"\n",
    "    Performance evaluation using method proposed by Isabelle. \n",
    "    \"\"\"\n",
    "    epsilon = 0.0001\n",
    "    error = 0\n",
    "    v = regularized_vector(video_score,w_hat)\n",
    "\n",
    "    true_order = np.array(video_score).argsort()\n",
    "\n",
    "    what = [ w_hat[i] for i in true_order]\n",
    "    wstar = [ video_score[i] for i in true_order]\n",
    "\n",
    "    for i in range(video_num-2):\n",
    "        error += np.abs((wstar[i+1]-wstar[i])/(wstar[i+2]-wstar[i]+epsilon)-\n",
    "                        (what[i+1]-what[i])/(what[i+2]-what[i]+epsilon))\n",
    "    \n",
    "    return error\n",
    "\n",
    "def performance_nihar(video_score, w_hat):\n",
    "    \"\"\"\n",
    "    Performance evaluation using method proposed by Nihar\n",
    "    \"\"\"\n",
    "    v = regularized_vector(video_score,w_hat)\n",
    "    return np.linalg.norm(video_score - v)\n",
    "\n",
    "\n",
    "def performance_rank_compare(video_score, w_hat, pairs):\n",
    "    \"\"\"\n",
    "    Using the basics rank compare method\n",
    "    \"\"\"\n",
    "    true_order = np.array(video_score).argsort()\n",
    "    true_ranks = true_order.argsort()\n",
    "\n",
    "    temp_o = np.array(w_hat).argsort()\n",
    "    temp_r = temp_o.argsort()\n",
    "    \n",
    "    true_scores = np.zeros(len(w_hat))\n",
    "    temp_scores = np.zeros(len(w_hat))\n",
    "    \n",
    "    for i in range(len(scores)):\n",
    "        true_scores[i] = 1 - true_ranks[i]/len(scores)\n",
    "        counter = 0\n",
    "        for pair in pairs:\n",
    "            if pair[0] == i:\n",
    "                temp_scores[i] += 1\n",
    "                counter += 1\n",
    "            elif pair[1] == i:\n",
    "                counter += 1\n",
    "        temp_scores[i] /= counter\n",
    "    return "
   ]
  },
  {
   "cell_type": "markdown",
   "metadata": {},
   "source": [
    "### Sparsity"
   ]
  },
  {
   "cell_type": "code",
   "execution_count": 13,
   "metadata": {
    "collapsed": false
   },
   "outputs": [
    {
     "name": "stdout",
     "output_type": "stream",
     "text": [
      "On Iteration 0\n",
      "On Iteration 1\n",
      "On Iteration 2\n",
      "On Iteration 3\n",
      "On Iteration 4\n",
      "On Iteration 5\n",
      "On Iteration 6\n",
      "On Iteration 7\n",
      "On Iteration 8\n",
      "On Iteration 9\n",
      "On Iteration 10\n",
      "On Iteration 11\n",
      "On Iteration 12\n",
      "On Iteration 13\n",
      "On Iteration 14\n"
     ]
    }
   ],
   "source": [
    "\n",
    "num_test_pairs = (np.array((1,0.9,0.8,0.7,0.6,0.5,0.4,0.3,0.2,0.1))* total_pairs).astype(int)\n",
    "iterations = 15\n",
    "\n",
    "sparsity_result = np.zeros((iterations,len(num_test_pairs),video_num))\n",
    "sparsity_video_score = video_score\n",
    "\n",
    "for iteration in range(iterations):\n",
    "    print 'On Iteration %d' % iteration\n",
    "    for j in range(len(num_test_pairs)):\n",
    "        \n",
    "        test_pair_num = num_test_pairs[j]\n",
    "#         print 'Current evaluating with %d test pairs' % test_pair_num\n",
    "\n",
    "        test_pairs = [pairs_truth[i] for i in random.sample(range(total_pairs), test_pair_num)]\n",
    "\n",
    "        w = np.ones(video_num)\n",
    "\n",
    "        res = optimize.minimize(mle, w, \n",
    "                                method='Newton-CG',\n",
    "                                jac=gradient,\n",
    "                                args=(test_pairs,),\n",
    "                                tol = 1,\n",
    "                                options={'disp': False})\n",
    "        \n",
    "        sparsity_result[iteration,j,:] = res.x"
   ]
  },
  {
   "cell_type": "code",
   "execution_count": 14,
   "metadata": {
    "collapsed": false
   },
   "outputs": [],
   "source": [
    "sparsity_error_nihar = np.zeros((iterations,len(num_test_pairs)))\n",
    "sparsity_error_isabelle = np.zeros((iterations,len(num_test_pairs)))\n",
    "\n",
    "for iteration in range(iterations):\n",
    "    for j in range(len(num_test_pairs)):\n",
    "        sparsity_error_nihar[iteration,j] = performance_nihar(sparsity_video_score,\n",
    "                                                              sparsity_result[iteration,j,:])\n",
    "        sparsity_error_isabelle[iteration,j] = performance_isabelle(sparsity_video_score, \n",
    "                                                                    video_num, sparsity_result[iteration,j,:])\n",
    "        \n",
    "sparsity_error_nihar_mean = np.zeros(len(num_test_pairs))\n",
    "sparsity_error_nihar_std = np.zeros(len(num_test_pairs))\n",
    "sparsity_error_isabelle_mean = np.zeros(len(num_test_pairs))\n",
    "sparsity_error_isabelle_std = np.zeros(len(num_test_pairs))\n",
    "\n",
    "sparsity_error_nihar_mean = np.mean(sparsity_error_nihar, axis=0)\n",
    "sparsity_error_nihar_std = np.std(sparsity_error_nihar, axis=0)\n",
    "sparsity_error_isabelle_mean = np.mean(sparsity_error_isabelle, axis=0)\n",
    "sparsity_error_isabelle_std = np.std(sparsity_error_isabelle, axis=0)"
   ]
  },
  {
   "cell_type": "code",
   "execution_count": 64,
   "metadata": {
    "collapsed": false
   },
   "outputs": [
    {
     "data": {
      "text/plain": [
       "(0, 17)"
      ]
     },
     "execution_count": 64,
     "metadata": {},
     "output_type": "execute_result"
    },
    {
     "data": {
      "image/png": "[encoded data removed]",
      "text/plain": [
       "<matplotlib.figure.Figure at 0x7f06d39b6bd0>"
      ]
     },
     "metadata": {},
     "output_type": "display_data"
    },
    {
     "data": {
      "image/png": "[encoded data removed]",
      "text/plain": [
       "<matplotlib.figure.Figure at 0x7f06d09b0c50>"
      ]
     },
     "metadata": {},
     "output_type": "display_data"
    }
   ],
   "source": [
    "pct = np.array((1,0.9,0.8,0.7,0.6,0.5,0.4,0.3,0.2,0.1))*100\n",
    "plt.figure()\n",
    "plt.plot(pct,sparsity_error_isabelle_mean,'b')\n",
    "plt.plot(pct,sparsity_error_isabelle_mean+sparsity_error_isabelle_std,'r')\n",
    "plt.plot(pct,sparsity_error_isabelle_mean-sparsity_error_isabelle_std,'r')\n",
    "plt.title('Error vs. Sparsity using Isabelle\\'s Method')\n",
    "plt.xlabel('Percent of Pairs Used')\n",
    "plt.ylabel('Error using Isabelle\\'s Method')\n",
    "plt.figure()\n",
    "plt.plot(pct,sparsity_error_nihar_mean,'b')\n",
    "plt.plot(pct,sparsity_error_nihar_mean+sparsity_error_nihar_std,'r')\n",
    "plt.plot(pct,sparsity_error_nihar_mean-sparsity_error_nihar_std,'r')\n",
    "plt.title('Error vs. Sparsity using Nihar\\'s Method')\n",
    "plt.xlabel('Percent of Pairs Used')\n",
    "plt.ylabel('Error using Nihar\\'s Method')\n",
    "plt.ylim([0,17])"
   ]
  },
  {
   "cell_type": "code",
   "execution_count": null,
   "metadata": {
    "collapsed": false
   },
   "outputs": [],
   "source": []
  },
  {
   "cell_type": "markdown",
   "metadata": {
    "collapsed": false
   },
   "source": [
    "### Different Number of Videos"
   ]
  },
  {
   "cell_type": "code",
   "execution_count": 65,
   "metadata": {
    "collapsed": false
   },
   "outputs": [
    {
     "name": "stdout",
     "output_type": "stream",
     "text": [
      "Currently on iteration 0\n",
      "Currently on iteration 1\n",
      "Currently on iteration 2\n",
      "Currently on iteration 3\n",
      "Currently on iteration 4\n",
      "Currently on iteration 5\n",
      "Currently on iteration 6\n",
      "Currently on iteration 7\n",
      "Currently on iteration 8\n",
      "Currently on iteration 9\n",
      "Currently on iteration 10\n",
      "Currently on iteration 11\n",
      "Currently on iteration 12\n",
      "Currently on iteration 13\n",
      "Currently on iteration 14\n"
     ]
    }
   ],
   "source": [
    "video_nums = [50,100,150,200,250,300]\n",
    "\n",
    "num_video_result = {}\n",
    "iterations = 15\n",
    "\n",
    "for video_num in video_nums:\n",
    "    num_video_result[str(video_num)] = np.zeros((iterations*2, video_num))\n",
    "\n",
    "for iteration in range(iterations):\n",
    "    print 'Currently on iteration %d' % iteration\n",
    "    \n",
    "    for video_num in video_nums:\n",
    "\n",
    "        video_score = np.random.uniform(-5,5,video_num)\n",
    "        resolution = 0.1\n",
    "        video_score = np.round(video_score/resolution)*resolution\n",
    "\n",
    "        pairs_truth = []\n",
    "\n",
    "        for i in range(len(video_score)-1):\n",
    "            for j in range(i+1, len(video_score)):\n",
    "                if video_score[i] > video_score[j]:\n",
    "                    pairs_truth.append((i,j))\n",
    "                else:\n",
    "                    pairs_truth.append((j,i))\n",
    "\n",
    "        total_pairs = len(pairs_truth)  \n",
    "\n",
    "        print 'Current evaluating with %d videos' % video_num\n",
    "\n",
    "        test_pairs = pairs_truth\n",
    "    #     test_pairs = [pairs_truth[i] for i in random.sample(range(total_pairs), test_pair_num)]\n",
    "\n",
    "        w = np.ones(video_num)\n",
    "\n",
    "        res = optimize.minimize(mle, w, \n",
    "                                method='Newton-CG',\n",
    "                                jac=gradient,\n",
    "                                args=(test_pairs,),\n",
    "                                tol = 1,\n",
    "                                options={'disp': False})\n",
    "        \n",
    "        num_video_result[str(video_num)][iteration*2,:] = video_score\n",
    "        num_video_result[str(video_num)][iteration*2+1,:] = res.x"
   ]
  },
  {
   "cell_type": "code",
   "execution_count": 39,
   "metadata": {
    "collapsed": false
   },
   "outputs": [],
   "source": [
    "number_video_error_nihar = np.zeros((iterations,len(video_nums)))\n",
    "number_video_error_isabelle = np.zeros((iterations,len(video_nums)))\n",
    "\n",
    "for iteration in range(iterations):\n",
    "    for j in range(len(video_nums)):\n",
    "\n",
    "        number_video_error_nihar[iteration, j] = performance_nihar(num_video_result[str(video_nums[j])][iteration, :], \n",
    "                                                                   num_video_result[str(video_nums[j])][iteration+1, :])\n",
    "        \n",
    "        number_video_error_isabelle[iteration, j] = performance_isabelle(num_video_result[str(video_nums[j])][iteration, :],\n",
    "                                                                         video_nums[j],\n",
    "                                                                         num_video_result[str(video_nums[j])][iteration+1, :])\n",
    "        \n",
    "        \n",
    "number_video_error_nihar_mean = np.zeros(len(video_nums))\n",
    "number_video_error_nihar_std = np.zeros(len(video_nums))\n",
    "number_video_error_isabelle_mean = np.zeros(len(video_nums))\n",
    "number_video_error_isabelle_std = np.zeros(len(video_nums))\n",
    "\n",
    "number_video_error_nihar_mean = np.mean(number_video_error_nihar, axis=0)\n",
    "number_video_error_nihar_std = np.std(number_video_error_nihar, axis=0)\n",
    "number_video_error_isabelle_mean = np.mean(number_video_error_isabelle, axis=0)\n",
    "number_video_error_isabelle_std = np.std(number_video_error_isabelle, axis=0)"
   ]
  },
  {
   "cell_type": "code",
   "execution_count": 61,
   "metadata": {
    "collapsed": false
   },
   "outputs": [
    {
     "data": {
      "text/plain": [
       "<matplotlib.text.Text at 0x7f06d0789f50>"
      ]
     },
     "execution_count": 61,
     "metadata": {},
     "output_type": "execute_result"
    },
    {
     "data": {
      "image/png": "[encoded data removed]",
      "text/plain": [
       "<matplotlib.figure.Figure at 0x7f06d06929d0>"
      ]
     },
     "metadata": {},
     "output_type": "display_data"
    },
    {
     "data": {
      "image/png": "[encoded data removed]",
      "text/plain": [
       "<matplotlib.figure.Figure at 0x7f06d138c210>"
      ]
     },
     "metadata": {},
     "output_type": "display_data"
    }
   ],
   "source": [
    "plt.figure()\n",
    "plt.plot(video_nums, number_video_error_nihar_mean,'b')\n",
    "plt.plot(video_nums, number_video_error_nihar_mean+number_video_error_nihar_std,'r')\n",
    "plt.plot(video_nums, number_video_error_nihar_mean-number_video_error_nihar_std,'r')\n",
    "plt.title('Error vs. Number of Videos using Nihar\\'s Method')\n",
    "plt.xlabel('Number of Videos')\n",
    "plt.ylabel('Error using Nihar\\'s Method')\n",
    "plt.figure()\n",
    "plt.plot(video_nums, number_video_error_isabelle_mean,'b')\n",
    "plt.plot(video_nums, number_video_error_isabelle_mean+number_video_error_isabelle_std,'r')\n",
    "plt.plot(video_nums, number_video_error_isabelle_mean-number_video_error_isabelle_std,'r')\n",
    "plt.title('Error vs. Number of Videos using Isabelle\\'s Method')\n",
    "plt.xlabel('Number of Videos')\n",
    "plt.ylabel('Error using Isabelle\\'s Method')"
   ]
  },
  {
   "cell_type": "code",
   "execution_count": null,
   "metadata": {
    "collapsed": false
   },
   "outputs": [],
   "source": []
  },
  {
   "cell_type": "code",
   "execution_count": 42,
   "metadata": {
    "collapsed": false
   },
   "outputs": [],
   "source": [
    "savemat('num_video_result.mat', num_video_result)\n",
    "sparsity_result_dict = {}\n",
    "sparsity_result_dict['result'] =sparsity_result\n",
    "savemat('sparsity_result.mat', sparsity_result_dict)"
   ]
  },
  {
   "cell_type": "markdown",
   "metadata": {
    "collapsed": false
   },
   "source": [
    "### Generate data with BTL with diff sparsity"
   ]
  },
  {
   "cell_type": "code",
   "execution_count": 43,
   "metadata": {
    "collapsed": false
   },
   "outputs": [],
   "source": [
    "def sigmoid(x):\n",
    "    return 1 / (1 + np.exp(-x))\n",
    "\n",
    "def noise_generation(video_score, pair):\n",
    "    \"\"\"\n",
    "    Generate a decision of whether to flip, using proability from normal distribution and then \n",
    "    Bernoulli to decide whether to flip\n",
    "    \"\"\"\n",
    "\n",
    "    difference = video_score[pair[0]] - video_score[pair[1]]\n",
    "    p = sigmoid(difference)*(1-sigmoid(difference))\n",
    "    decision = bernoulli.rvs(p,size=1)\n",
    "\n",
    "    return decision"
   ]
  },
  {
   "cell_type": "code",
   "execution_count": 53,
   "metadata": {
    "collapsed": false
   },
   "outputs": [
    {
     "name": "stdout",
     "output_type": "stream",
     "text": [
      "On Iteration 0\n",
      "On Iteration 1\n",
      "On Iteration 2\n",
      "On Iteration 3\n",
      "On Iteration 4\n",
      "On Iteration 5\n",
      "On Iteration 6\n",
      "On Iteration 7\n",
      "On Iteration 8\n",
      "On Iteration 9\n",
      "On Iteration 10\n",
      "On Iteration 11\n",
      "On Iteration 12\n",
      "On Iteration 13\n",
      "On Iteration 14\n"
     ]
    }
   ],
   "source": [
    "num_test_pairs = (np.array((1,0.9,0.8,0.7,0.6,0.5,0.4,0.3,0.2,0.1))* total_pairs).astype(int)\n",
    "\n",
    "iterations = 15\n",
    "sparsity_generative_result = np.zeros((iterations,len(num_test_pairs),video_num))\n",
    "sparsity_generative_video_score = video_score\n",
    "\n",
    "for iteration in range(iterations):\n",
    "    \n",
    "    print 'On Iteration %d' % iteration\n",
    "    \n",
    "    for j in range(len(num_test_pairs)):\n",
    "        \n",
    "        test_pair_num = num_test_pairs[j]\n",
    "        \n",
    "        test_pairs = [pairs_truth[i] for i in random.sample(range(total_pairs), test_pair_num)]\n",
    "\n",
    "        for i in range(len(test_pairs)):\n",
    "            if noise_generation(video_score, test_pairs[i]):\n",
    "                temp = (test_pairs[i][1], test_pairs[i][0])\n",
    "                test_pairs[i] = temp\n",
    "\n",
    "        w = np.ones(video_num)\n",
    "\n",
    "        res = optimize.minimize(mle, w, \n",
    "                                method='Newton-CG',\n",
    "                                jac=gradient,\n",
    "                                args=(test_pairs,),\n",
    "                                tol = 1,\n",
    "                                options={'disp': False})\n",
    "\n",
    "        sparsity_generative_result[iteration,j,:] = res.x"
   ]
  },
  {
   "cell_type": "code",
   "execution_count": 54,
   "metadata": {
    "collapsed": false
   },
   "outputs": [],
   "source": [
    "sparsity_error_generative_nihar = np.zeros((iterations,len(num_test_pairs)))\n",
    "sparsity_error_generative_isabelle = np.zeros((iterations,len(num_test_pairs)))\n",
    "\n",
    "for iteration in range(iterations):\n",
    "    for j in range(len(num_test_pairs)):\n",
    "        sparsity_error_generative_nihar[iteration,j] = performance_nihar(sparsity_generative_video_score,\n",
    "                                                              sparsity_generative_result[iteration,j,:])\n",
    "        sparsity_error_generative_isabelle[iteration,j] = performance_isabelle(sparsity_generative_video_score, \n",
    "                                                                    video_num, sparsity_generative_result[iteration,j,:])\n",
    "        \n",
    "sparsity_error_generative_nihar_mean = np.zeros(len(num_test_pairs))\n",
    "sparsity_error_generative_nihar_std = np.zeros(len(num_test_pairs))\n",
    "sparsity_error_generative_isabelle_mean = np.zeros(len(num_test_pairs))\n",
    "sparsity_error_generative_isabelle_std = np.zeros(len(num_test_pairs))\n",
    "\n",
    "sparsity_error_generative_nihar_mean = np.mean(sparsity_error_generative_nihar, axis=0)\n",
    "sparsity_error_generative_nihar_std = np.std(sparsity_error_generative_nihar, axis=0)\n",
    "sparsity_error_generative_isabelle_mean = np.mean(sparsity_error_generative_isabelle, axis=0)\n",
    "sparsity_error_generative_isabelle_std = np.std(sparsity_error_generative_isabelle, axis=0)"
   ]
  },
  {
   "cell_type": "code",
   "execution_count": 58,
   "metadata": {
    "collapsed": false
   },
   "outputs": [
    {
     "data": {
      "text/plain": [
       "<matplotlib.text.Text at 0x7f06d0910b90>"
      ]
     },
     "execution_count": 58,
     "metadata": {},
     "output_type": "execute_result"
    },
    {
     "data": {
      "image/png": "[encoded data removed]",
      "text/plain": [
       "<matplotlib.figure.Figure at 0x7f06d0b5ca90>"
      ]
     },
     "metadata": {},
     "output_type": "display_data"
    },
    {
     "data": {
      "image/png": "[encoded data removed]",
      "text/plain": [
       "<matplotlib.figure.Figure at 0x7f06d0a19110>"
      ]
     },
     "metadata": {},
     "output_type": "display_data"
    }
   ],
   "source": [
    "plt.figure()\n",
    "plt.plot(sparsity_error_generative_nihar_mean,'b')\n",
    "plt.plot(sparsity_error_generative_nihar_mean+sparsity_error_generative_nihar_std,'r')\n",
    "plt.plot(sparsity_error_generative_nihar_mean-sparsity_error_generative_nihar_std,'r')\n",
    "plt.title('Error vs. Sparsity using Nihar\\'s Method using Generative Error')\n",
    "plt.xlabel('Percent of Pairs Used')\n",
    "plt.ylabel('Error using Nihar\\'s Method')\n",
    "\n",
    "plt.figure()\n",
    "plt.plot(sparsity_error_generative_isabelle_mean,'b')\n",
    "plt.plot(sparsity_error_generative_isabelle_mean+sparsity_error_generative_isabelle_std,'r')\n",
    "plt.plot(sparsity_error_generative_isabelle_mean-sparsity_error_generative_isabelle_std,'r')\n",
    "plt.title('Error vs. Sparsity using Isabelle\\'s Method using Generative Error')\n",
    "plt.xlabel('Percent of Pairs Used')\n",
    "plt.ylabel('Error using Isabelle\\'s Method')"
   ]
  },
  {
   "cell_type": "code",
   "execution_count": 71,
   "metadata": {
    "collapsed": false
   },
   "outputs": [],
   "source": [
    "sparsity_generative_result_dict = {}\n",
    "sparsity_generative_result_dict['result'] =sparsity_generative_result\n",
    "savemat('sparsity_generative_result.mat', sparsity_generative_result_dict)"
   ]
  },
  {
   "cell_type": "code",
   "execution_count": null,
   "metadata": {
    "collapsed": false
   },
   "outputs": [],
   "source": []
  },
  {
   "cell_type": "code",
   "execution_count": null,
   "metadata": {
    "collapsed": true
   },
   "outputs": [],
   "source": []
  },
  {
   "cell_type": "markdown",
   "metadata": {},
   "source": [
    "# Comparing Between Marc's Pair Choice Method and Randomly Select pairs"
   ]
  },
  {
   "cell_type": "code",
   "execution_count": 72,
   "metadata": {
    "collapsed": false
   },
   "outputs": [],
   "source": [
    "import numpy as np\n",
    "\n",
    "\n",
    "def init_graph(num_nodes, num_edges):\n",
    "    # If the number of edges is lower than num_nodes-1, raise error\n",
    "    if num_edges < num_nodes:\n",
    "        raise AttributeError('The number of edges must be >= num_nodes')\n",
    "\n",
    "    # Define list of neighbors (with initial circular connection)\n",
    "    neighbors = [[i-1, i+1] for i in range(num_nodes)]\n",
    "    neighbors[0][0], neighbors[-1][1] = num_nodes-1, 0\n",
    "\n",
    "    # Define list of node indices, maximum degree and number of placed nodes\n",
    "    nodes, max_degree, num_placed = range(num_nodes), int(np.ceil((2.0 * num_edges) / num_nodes)), num_nodes\n",
    "\n",
    "    def rewire_pairs(p0, p1):\n",
    "        # Select existing pair\n",
    "        ph1 = np.random.choice(num_nodes)\n",
    "        ph2 = neighbors[ph1][np.random.choice(len(neighbors[ph1]))]\n",
    "        while p0 in neighbors[ph2] or p1 in neighbors[ph1] or p0 in [ph1, ph2] or p1 in [ph1, ph2]:\n",
    "            ph1 = np.random.choice(num_nodes)\n",
    "            ph2 = neighbors[ph1][np.random.choice(len(neighbors[ph1]))]\n",
    "\n",
    "        # Rewire with current pair\n",
    "        neighbors[ph1].remove(ph2)\n",
    "        neighbors[ph2].remove(ph1)\n",
    "        neighbors[ph1].append(p1)\n",
    "        neighbors[p1].append(ph1)\n",
    "        neighbors[ph2].append(p0)\n",
    "        neighbors[p0].append(ph2)\n",
    "\n",
    "    # Start placing random edges\n",
    "    while num_placed < num_edges:\n",
    "        # If only one node left, rewire with existing pair\n",
    "        if len(nodes) == 1:\n",
    "            rewire_pairs(nodes[0], nodes[0])\n",
    "            num_placed += 1\n",
    "            continue\n",
    "\n",
    "        # Sample random pair of nodes\n",
    "        pair = np.random.choice(nodes, size=2, replace=False)\n",
    "\n",
    "        # If pair already connected, do rewiring\n",
    "        if pair[0] in neighbors[pair[1]]:\n",
    "            rewire_pairs(pair[0], pair[1])\n",
    "            num_placed += 1\n",
    "\n",
    "        # Else, place edge between nodes\n",
    "        else:\n",
    "            neighbors[pair[0]].append(pair[1])\n",
    "            neighbors[pair[1]].append(pair[0])\n",
    "            num_placed += 1\n",
    "\n",
    "        # If max degree reached for first node, remove from sampling list\n",
    "        if len(neighbors[pair[0]]) >= max_degree:\n",
    "            nodes.remove(pair[0])\n",
    "\n",
    "        # If max degree reached for second node, remove from sampling list\n",
    "        if len(neighbors[pair[1]]) >= max_degree:\n",
    "            nodes.remove(pair[1])\n",
    "\n",
    "    # Return pairs\n",
    "    return [(i, j) for i, il in enumerate(neighbors) for j in sorted(il) if i < j]"
   ]
  },
  {
   "cell_type": "code",
   "execution_count": 73,
   "metadata": {
    "collapsed": false
   },
   "outputs": [],
   "source": [
    "pairs = init_graph(num_nodes=300, num_edges=total_pairs/2)"
   ]
  },
  {
   "cell_type": "code",
   "execution_count": null,
   "metadata": {
    "collapsed": false
   },
   "outputs": [],
   "source": []
  },
  {
   "cell_type": "code",
   "execution_count": 87,
   "metadata": {
    "collapsed": false
   },
   "outputs": [
    {
     "name": "stdout",
     "output_type": "stream",
     "text": [
      "Time Spent: 3.95 seconds\n"
     ]
    }
   ],
   "source": [
    "w = np.ones(video_num)\n",
    "\n",
    "test_pairs = [pairs_truth[i] for i in random.sample(range(total_pairs),int(total_pairs*0.5))]\n",
    "\n",
    "start_time = time.time()\n",
    "\n",
    "res = optimize.minimize(mle, w, \n",
    "                        method='Newton-CG',\n",
    "                        jac=gradient,\n",
    "                        args=(test_pairs,),\n",
    "                        tol = 1,\n",
    "                        options={'disp': False})\n",
    "\n",
    "print  'Time Spent: %.2f seconds' %float(time.time() - start_time)"
   ]
  },
  {
   "cell_type": "code",
   "execution_count": 90,
   "metadata": {
    "collapsed": false
   },
   "outputs": [
    {
     "data": {
      "text/plain": [
       "<matplotlib.text.Text at 0x7f06d02f0ad0>"
      ]
     },
     "execution_count": 90,
     "metadata": {},
     "output_type": "execute_result"
    },
    {
     "data": {
      "image/png": "[encoded data removed]",
      "text/plain": [
       "<matplotlib.figure.Figure at 0x7f06d02dfdd0>"
      ]
     },
     "metadata": {},
     "output_type": "display_data"
    }
   ],
   "source": [
    "compare_rank(video_score, res.x, verbose=False, hist=True)\n",
    "plt.title('Randomly Select Pairs')\n",
    "plt.xlabel('Ranking Difference')"
   ]
  },
  {
   "cell_type": "code",
   "execution_count": 91,
   "metadata": {
    "collapsed": false
   },
   "outputs": [
    {
     "name": "stdout",
     "output_type": "stream",
     "text": [
      "Time Spent: 5.89 seconds\n"
     ]
    }
   ],
   "source": [
    "w = np.ones(video_num)\n",
    "\n",
    "test_pairs = init_graph(num_nodes=300, num_edges=22425)\n",
    "\n",
    "start_time = time.time()\n",
    "\n",
    "res = optimize.minimize(mle, w, \n",
    "                        method='Newton-CG',\n",
    "                        jac=gradient,\n",
    "                        args=(test_pairs,),\n",
    "                        tol = 1,\n",
    "                        options={'disp': False})\n",
    "\n",
    "print  'Time Spent: %.2f seconds' %float(time.time() - start_time)"
   ]
  },
  {
   "cell_type": "code",
   "execution_count": 92,
   "metadata": {
    "collapsed": false
   },
   "outputs": [
    {
     "data": {
      "text/plain": [
       "<matplotlib.text.Text at 0x7f06d030b0d0>"
      ]
     },
     "execution_count": 92,
     "metadata": {},
     "output_type": "execute_result"
    },
    {
     "data": {
      "image/png": "[encoded data removed]",
      "text/plain": [
       "<matplotlib.figure.Figure at 0x7f06d0498750>"
      ]
     },
     "metadata": {},
     "output_type": "display_data"
    }
   ],
   "source": [
    "compare_rank(video_score, res.x, verbose=False, hist=True)\n",
    "plt.title('Selected Pairs using Marc\\'s Method')\n",
    "plt.title('Randomly Select Pairs')\n",
    "plt.xlabel('Ranking Difference')"
   ]
  },
  {
   "cell_type": "code",
   "execution_count": null,
   "metadata": {
    "collapsed": false
   },
   "outputs": [],
   "source": []
  },
  {
   "cell_type": "code",
   "execution_count": null,
   "metadata": {
    "collapsed": false
   },
   "outputs": [],
   "source": []
  },
  {
   "cell_type": "code",
   "execution_count": null,
   "metadata": {
    "collapsed": true
   },
   "outputs": [],
   "source": []
  },
  {
   "cell_type": "code",
   "execution_count": null,
   "metadata": {
    "collapsed": true
   },
   "outputs": [],
   "source": []
  },
  {
   "cell_type": "code",
   "execution_count": null,
   "metadata": {
    "collapsed": true
   },
   "outputs": [],
   "source": []
  },
  {
   "cell_type": "code",
   "execution_count": null,
   "metadata": {
    "collapsed": true
   },
   "outputs": [],
   "source": []
  },
  {
   "cell_type": "code",
   "execution_count": null,
   "metadata": {
    "collapsed": true
   },
   "outputs": [],
   "source": []
  },
  {
   "cell_type": "code",
   "execution_count": null,
   "metadata": {
    "collapsed": true
   },
   "outputs": [],
   "source": []
  },
  {
   "cell_type": "code",
   "execution_count": null,
   "metadata": {
    "collapsed": true
   },
   "outputs": [],
   "source": []
  }
 ],
 "metadata": {
  "kernelspec": {
   "display_name": "Python 2",
   "language": "python",
   "name": "python2"
  },
  "language_info": {
   "codemirror_mode": {
    "name": "ipython",
    "version": 2
   },
   "file_extension": ".py",
   "mimetype": "text/x-python",
   "name": "python",
   "nbconvert_exporter": "python",
   "pygments_lexer": "ipython2",
   "version": "2.7.11"
  }
 },
 "nbformat": 4,
 "nbformat_minor": 0
}
