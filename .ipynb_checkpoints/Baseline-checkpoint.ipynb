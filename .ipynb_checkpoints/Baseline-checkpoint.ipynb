{
 "cells": [
  {
   "cell_type": "code",
   "execution_count": 2,
   "metadata": {
    "collapsed": false
   },
   "outputs": [],
   "source": [
    "import pickle, random\n",
    "\n",
    "import numpy as np\n",
    "import pandas as pd\n",
    "import matplotlib.pyplot as plt\n",
    "from scipy.interpolate import splrep,splev,UnivariateSpline\n",
    "%matplotlib inline\n",
    "\n",
    "from scipy import optimize, stats\n",
    "from sklearn.tree import DecisionTreeRegressor\n",
    "from sklearn.metrics import mean_squared_error\n",
    "from sklearn.ensemble import AdaBoostRegressor, RandomForestRegressor\n",
    "from sklearn.linear_model import LinearRegression, Ridge, Lasso, ElasticNet\n",
    "from sklearn.preprocessing import PolynomialFeatures\n",
    "from sklearn.pipeline import make_pipeline\n",
    "\n",
    "# data = pickle.load(open( 'Raw_data6000.p', \"rb\" ))\n",
    "# test_data = pickle.load(open( 'Validation_data.p', \"rb\" ))"
   ]
  },
  {
   "cell_type": "code",
   "execution_count": 3,
   "metadata": {
    "collapsed": false
   },
   "outputs": [
    {
     "data": {
      "text/plain": [
       "VideoName                 DrlC4bEYcmw.001.mp4\n",
       "ValueExtraversion                   0.6915888\n",
       "ValueAgreeableness                  0.6153846\n",
       "ValueConscientiousness              0.5242718\n",
       "ValueNeurotisicm                    0.6354167\n",
       "ValueOpenness                       0.5666667\n",
       "Name: 0, dtype: object"
      ]
     },
     "execution_count": 3,
     "metadata": {},
     "output_type": "execute_result"
    }
   ],
   "source": [
    "v_gt = pd.read_csv('validation_gt_full_name.csv')\n",
    "v_gt.ix[0]"
   ]
  },
  {
   "cell_type": "code",
   "execution_count": 46,
   "metadata": {
    "collapsed": false
   },
   "outputs": [],
   "source": [
    "Xtrain = np.zeros((6000,1000))\n",
    "y1train = np.zeros(6000)\n",
    "y2train = np.zeros(6000)\n",
    "y3train = np.zeros(6000)\n",
    "y4train = np.zeros(6000)\n",
    "y5train = np.zeros(6000)\n",
    "\n",
    "Xtest = np.zeros((2000,1000))\n",
    "y1test = np.zeros(2000)\n",
    "y2test = np.zeros(2000)\n",
    "y3test = np.zeros(2000)\n",
    "y4test = np.zeros(2000)\n",
    "y5test = np.zeros(2000)\n",
    "\n",
    "\n",
    "idx = 0\n",
    "for i in range(6000):\n",
    "    key = data.keys()[i]\n",
    "    \n",
    "    Xtrain[idx,:] = data[key]['Raw']\n",
    "    y1train[idx] = data[key]['O']\n",
    "    y2train[idx] = data[key]['C']\n",
    "    y3train[idx] = data[key]['E']\n",
    "    y4train[idx] = data[key]['A']\n",
    "    y5train[idx] = data[key]['N']\n",
    "    \n",
    "    idx += 1\n",
    "    \n",
    "idx = 0\n",
    "for i in range(2000):\n",
    "    key = v_gt.ix[i,0]\n",
    "    \n",
    "    Xtest[idx,:] = test_data[key]['Raw']\n",
    "    y1test[idx] = test_data[key]['O']\n",
    "    y2test[idx] = test_data[key]['C']\n",
    "    y3test[idx] = test_data[key]['E']\n",
    "    y4test[idx] = test_data[key]['A']\n",
    "    y5test[idx] = test_data[key]['N']\n",
    "    \n",
    "    idx += 1"
   ]
  },
  {
   "cell_type": "code",
   "execution_count": 17,
   "metadata": {
    "collapsed": false
   },
   "outputs": [],
   "source": [
    "regr = RandomForestRegressor(n_estimators=25, criterion='mse', max_depth=25)\n",
    "\n",
    "regr.fit(Xtrain, y1train.ravel())\n",
    "y_1 = regr.predict(Xtest)\n",
    "regr.fit(Xtrain, y2train.ravel())\n",
    "y_2 = regr.predict(Xtest)\n",
    "regr.fit(Xtrain, y3train.ravel())\n",
    "y_3 = regr.predict(Xtest)\n",
    "regr.fit(Xtrain, y4train.ravel())\n",
    "y_4 = regr.predict(Xtest)\n",
    "regr.fit(Xtrain, y5train.ravel())\n",
    "y_5 = regr.predict(Xtest)"
   ]
  },
  {
   "cell_type": "code",
   "execution_count": 47,
   "metadata": {
    "collapsed": false
   },
   "outputs": [
    {
     "name": "stdout",
     "output_type": "stream",
     "text": [
      "Mean Square Error for trait 1 is 0.0192\n",
      "Mean Square Error for trait 2 is 0.0214\n",
      "Mean Square Error for trait 3 is 0.0199\n",
      "Mean Square Error for trait 4 is 0.0180\n",
      "Mean Square Error for trait 5 is 0.0213\n"
     ]
    }
   ],
   "source": [
    "print 'Mean Square Error for trait %d is %.4f' % (1, mean_squared_error(y_1, y1test))\n",
    "print 'Mean Square Error for trait %d is %.4f' % (2, mean_squared_error(y_2, y2test))\n",
    "print 'Mean Square Error for trait %d is %.4f' % (3, mean_squared_error(y_3, y3test))\n",
    "print 'Mean Square Error for trait %d is %.4f' % (4, mean_squared_error(y_4, y4test))\n",
    "print 'Mean Square Error for trait %d is %.4f' % (5, mean_squared_error(y_5, y5test))"
   ]
  },
  {
   "cell_type": "code",
   "execution_count": 18,
   "metadata": {
    "collapsed": false
   },
   "outputs": [
    {
     "name": "stdout",
     "output_type": "stream",
     "text": [
      "R^2 for trait 1 is 0.2124\n",
      "R^2 for trait 2 is 0.2843\n",
      "R^2 for trait 3 is 0.2255\n",
      "R^2 for trait 4 is 0.1321\n",
      "R^2 for trait 5 is 0.2088\n"
     ]
    }
   ],
   "source": [
    "def r2(y, y_hat):\n",
    "    slope, intercept, r_value, p_value, std_err = stats.linregress(y+0.0001, y_hat+0.00001)\n",
    "    return r_value**2\n",
    "\n",
    "print 'R^2 for trait %d is %.4f' % (1, r2(y_1, y1test))\n",
    "print 'R^2 for trait %d is %.4f' % (2, r2(y_2, y2test))\n",
    "print 'R^2 for trait %d is %.4f' % (3, r2(y_3, y3test))\n",
    "print 'R^2 for trait %d is %.4f' % (4, r2(y_4, y4test))\n",
    "print 'R^2 for trait %d is %.4f' % (5, r2(y_5, y5test))"
   ]
  },
  {
   "cell_type": "code",
   "execution_count": 50,
   "metadata": {
    "collapsed": false
   },
   "outputs": [],
   "source": [
    "df = pd.read_csv('validation_gt_full_name.csv')\n",
    "\n",
    "for i in range(df.shape[0]):\n",
    "    df.ix[i,['ValueExtraversion',\n",
    "             'ValueAgreeableness',\n",
    "             'ValueConscientiousness',\n",
    "             'ValueNeurotisicm',\n",
    "             'ValueOpenness']] = [y_3[i],y_4[i],y_2[i],y_5[i],y_1[i]]"
   ]
  },
  {
   "cell_type": "code",
   "execution_count": 51,
   "metadata": {
    "collapsed": false
   },
   "outputs": [],
   "source": [
    "df.to_csv('validation_predict.csv', sep='\\t')"
   ]
  },
  {
   "cell_type": "code",
   "execution_count": 54,
   "metadata": {
    "collapsed": false
   },
   "outputs": [
    {
     "data": {
      "text/plain": [
       "(array([   2.,   16.,   86.,  202.,  412.,  524.,  419.,  263.,   61.,   15.]),\n",
       " array([ 0.03333333,  0.13      ,  0.22666667,  0.32333333,  0.42      ,\n",
       "         0.51666667,  0.61333333,  0.71      ,  0.80666667,  0.90333333,  1.        ]),\n",
       " <a list of 10 Patch objects>)"
      ]
     },
     "execution_count": 54,
     "metadata": {},
     "output_type": "execute_result"
    },
    {
     "data": {
      "image/png": "[encoded data removed]",
      "text/plain": [
       "<matplotlib.figure.Figure at 0x108630a50>"
      ]
     },
     "metadata": {},
     "output_type": "display_data"
    }
   ],
   "source": [
    "plt.hist(y1test)"
   ]
  },
  {
   "cell_type": "code",
   "execution_count": 55,
   "metadata": {
    "collapsed": false
   },
   "outputs": [
    {
     "data": {
      "text/plain": [
       "(array([   1.,    6.,   31.,   94.,  355.,  564.,  584.,  282.,   77.,    6.]),\n",
       " array([ 0.292 ,  0.3384,  0.3848,  0.4312,  0.4776,  0.524 ,  0.5704,\n",
       "         0.6168,  0.6632,  0.7096,  0.756 ]),\n",
       " <a list of 10 Patch objects>)"
      ]
     },
     "execution_count": 55,
     "metadata": {},
     "output_type": "execute_result"
    },
    {
     "data": {
      "image/png": "[encoded data removed]",
      "text/plain": [
       "<matplotlib.figure.Figure at 0x108630250>"
      ]
     },
     "metadata": {},
     "output_type": "display_data"
    }
   ],
   "source": [
    "plt.hist(y_1)"
   ]
  },
  {
   "cell_type": "code",
   "execution_count": 6,
   "metadata": {
    "collapsed": true
   },
   "outputs": [],
   "source": [
    "v_gt = pd.read_csv('validation_gt_full_name.csv')\n",
    "v_pred = pd.read_csv('validation_predict.csv',delimiter='\\t')"
   ]
  },
  {
   "cell_type": "code",
   "execution_count": 8,
   "metadata": {
    "collapsed": false
   },
   "outputs": [
    {
     "data": {
      "text/html": [
       "<div>\n",
       "<table border=\"1\" class=\"dataframe\">\n",
       "  <thead>\n",
       "    <tr style=\"text-align: right;\">\n",
       "      <th></th>\n",
       "      <th>Unnamed: 0</th>\n",
       "      <th>VideoName</th>\n",
       "      <th>ValueExtraversion</th>\n",
       "      <th>ValueAgreeableness</th>\n",
       "      <th>ValueConscientiousness</th>\n",
       "      <th>ValueNeurotisicm</th>\n",
       "      <th>ValueOpenness</th>\n",
       "    </tr>\n",
       "  </thead>\n",
       "  <tbody>\n",
       "    <tr>\n",
       "      <th>0</th>\n",
       "      <td>0</td>\n",
       "      <td>DrlC4bEYcmw.001.mp4</td>\n",
       "      <td>0.520000</td>\n",
       "      <td>0.608</td>\n",
       "      <td>0.564000</td>\n",
       "      <td>0.564000</td>\n",
       "      <td>0.628</td>\n",
       "    </tr>\n",
       "    <tr>\n",
       "      <th>1</th>\n",
       "      <td>1</td>\n",
       "      <td>o7rFDFvW300.000.mp4</td>\n",
       "      <td>0.496000</td>\n",
       "      <td>0.576</td>\n",
       "      <td>0.555644</td>\n",
       "      <td>0.528000</td>\n",
       "      <td>0.608</td>\n",
       "    </tr>\n",
       "    <tr>\n",
       "      <th>2</th>\n",
       "      <td>2</td>\n",
       "      <td>Wx_oe0SxD9w.004.mp4</td>\n",
       "      <td>0.504000</td>\n",
       "      <td>0.532</td>\n",
       "      <td>0.440000</td>\n",
       "      <td>0.576000</td>\n",
       "      <td>0.656</td>\n",
       "    </tr>\n",
       "    <tr>\n",
       "      <th>3</th>\n",
       "      <td>3</td>\n",
       "      <td>d4cPiUXpGbc.004.mp4</td>\n",
       "      <td>0.412000</td>\n",
       "      <td>0.532</td>\n",
       "      <td>0.476000</td>\n",
       "      <td>0.424000</td>\n",
       "      <td>0.460</td>\n",
       "    </tr>\n",
       "    <tr>\n",
       "      <th>4</th>\n",
       "      <td>4</td>\n",
       "      <td>yp-tfq1NxBk.005.mp4</td>\n",
       "      <td>0.476000</td>\n",
       "      <td>0.588</td>\n",
       "      <td>0.556000</td>\n",
       "      <td>0.520000</td>\n",
       "      <td>0.588</td>\n",
       "    </tr>\n",
       "    <tr>\n",
       "      <th>5</th>\n",
       "      <td>5</td>\n",
       "      <td>TQHzCznQ14Y.002.mp4</td>\n",
       "      <td>0.504000</td>\n",
       "      <td>0.564</td>\n",
       "      <td>0.600000</td>\n",
       "      <td>0.514282</td>\n",
       "      <td>0.580</td>\n",
       "    </tr>\n",
       "    <tr>\n",
       "      <th>6</th>\n",
       "      <td>6</td>\n",
       "      <td>r93dLeVRk3U.001.mp4</td>\n",
       "      <td>0.480000</td>\n",
       "      <td>0.600</td>\n",
       "      <td>0.444000</td>\n",
       "      <td>0.456000</td>\n",
       "      <td>0.552</td>\n",
       "    </tr>\n",
       "    <tr>\n",
       "      <th>7</th>\n",
       "      <td>7</td>\n",
       "      <td>7LHmNEH65Pk.001.mp4</td>\n",
       "      <td>0.484000</td>\n",
       "      <td>0.564</td>\n",
       "      <td>0.500000</td>\n",
       "      <td>0.488000</td>\n",
       "      <td>0.564</td>\n",
       "    </tr>\n",
       "    <tr>\n",
       "      <th>8</th>\n",
       "      <td>8</td>\n",
       "      <td>blAjqQ0ja8Q.004.mp4</td>\n",
       "      <td>0.500000</td>\n",
       "      <td>0.568</td>\n",
       "      <td>0.488000</td>\n",
       "      <td>0.549106</td>\n",
       "      <td>0.620</td>\n",
       "    </tr>\n",
       "    <tr>\n",
       "      <th>9</th>\n",
       "      <td>9</td>\n",
       "      <td>OSDlyk5ZgAk.002.mp4</td>\n",
       "      <td>0.480195</td>\n",
       "      <td>0.532</td>\n",
       "      <td>0.500000</td>\n",
       "      <td>0.516000</td>\n",
       "      <td>0.568</td>\n",
       "    </tr>\n",
       "    <tr>\n",
       "      <th>10</th>\n",
       "      <td>10</td>\n",
       "      <td>heE4ZZXwehI.004.mp4</td>\n",
       "      <td>0.512000</td>\n",
       "      <td>0.556</td>\n",
       "      <td>0.496000</td>\n",
       "      <td>0.560000</td>\n",
       "      <td>0.564</td>\n",
       "    </tr>\n",
       "  </tbody>\n",
       "</table>\n",
       "</div>"
      ],
      "text/plain": [
       "    Unnamed: 0            VideoName  ValueExtraversion  ValueAgreeableness  \\\n",
       "0            0  DrlC4bEYcmw.001.mp4           0.520000               0.608   \n",
       "1            1  o7rFDFvW300.000.mp4           0.496000               0.576   \n",
       "2            2  Wx_oe0SxD9w.004.mp4           0.504000               0.532   \n",
       "3            3  d4cPiUXpGbc.004.mp4           0.412000               0.532   \n",
       "4            4  yp-tfq1NxBk.005.mp4           0.476000               0.588   \n",
       "5            5  TQHzCznQ14Y.002.mp4           0.504000               0.564   \n",
       "6            6  r93dLeVRk3U.001.mp4           0.480000               0.600   \n",
       "7            7  7LHmNEH65Pk.001.mp4           0.484000               0.564   \n",
       "8            8  blAjqQ0ja8Q.004.mp4           0.500000               0.568   \n",
       "9            9  OSDlyk5ZgAk.002.mp4           0.480195               0.532   \n",
       "10          10  heE4ZZXwehI.004.mp4           0.512000               0.556   \n",
       "\n",
       "    ValueConscientiousness  ValueNeurotisicm  ValueOpenness  \n",
       "0                 0.564000          0.564000          0.628  \n",
       "1                 0.555644          0.528000          0.608  \n",
       "2                 0.440000          0.576000          0.656  \n",
       "3                 0.476000          0.424000          0.460  \n",
       "4                 0.556000          0.520000          0.588  \n",
       "5                 0.600000          0.514282          0.580  \n",
       "6                 0.444000          0.456000          0.552  \n",
       "7                 0.500000          0.488000          0.564  \n",
       "8                 0.488000          0.549106          0.620  \n",
       "9                 0.500000          0.516000          0.568  \n",
       "10                0.496000          0.560000          0.564  "
      ]
     },
     "execution_count": 8,
     "metadata": {},
     "output_type": "execute_result"
    }
   ],
   "source": [
    "v_pred.ix[0:10]"
   ]
  },
  {
   "cell_type": "code",
   "execution_count": 9,
   "metadata": {
    "collapsed": false
   },
   "outputs": [
    {
     "data": {
      "text/html": [
       "<div>\n",
       "<table border=\"1\" class=\"dataframe\">\n",
       "  <thead>\n",
       "    <tr style=\"text-align: right;\">\n",
       "      <th></th>\n",
       "      <th>VideoName</th>\n",
       "      <th>ValueExtraversion</th>\n",
       "      <th>ValueAgreeableness</th>\n",
       "      <th>ValueConscientiousness</th>\n",
       "      <th>ValueNeurotisicm</th>\n",
       "      <th>ValueOpenness</th>\n",
       "    </tr>\n",
       "  </thead>\n",
       "  <tbody>\n",
       "    <tr>\n",
       "      <th>0</th>\n",
       "      <td>DrlC4bEYcmw.001.mp4</td>\n",
       "      <td>0.691589</td>\n",
       "      <td>0.615385</td>\n",
       "      <td>0.524272</td>\n",
       "      <td>0.635417</td>\n",
       "      <td>0.566667</td>\n",
       "    </tr>\n",
       "    <tr>\n",
       "      <th>1</th>\n",
       "      <td>o7rFDFvW300.000.mp4</td>\n",
       "      <td>0.401869</td>\n",
       "      <td>0.439560</td>\n",
       "      <td>0.320388</td>\n",
       "      <td>0.406250</td>\n",
       "      <td>0.555556</td>\n",
       "    </tr>\n",
       "    <tr>\n",
       "      <th>2</th>\n",
       "      <td>Wx_oe0SxD9w.004.mp4</td>\n",
       "      <td>0.485981</td>\n",
       "      <td>0.670330</td>\n",
       "      <td>0.601942</td>\n",
       "      <td>0.625000</td>\n",
       "      <td>0.577778</td>\n",
       "    </tr>\n",
       "    <tr>\n",
       "      <th>3</th>\n",
       "      <td>d4cPiUXpGbc.004.mp4</td>\n",
       "      <td>0.523364</td>\n",
       "      <td>0.593407</td>\n",
       "      <td>0.543689</td>\n",
       "      <td>0.520833</td>\n",
       "      <td>0.566667</td>\n",
       "    </tr>\n",
       "    <tr>\n",
       "      <th>4</th>\n",
       "      <td>yp-tfq1NxBk.005.mp4</td>\n",
       "      <td>0.532710</td>\n",
       "      <td>0.593407</td>\n",
       "      <td>0.524272</td>\n",
       "      <td>0.604167</td>\n",
       "      <td>0.666667</td>\n",
       "    </tr>\n",
       "    <tr>\n",
       "      <th>5</th>\n",
       "      <td>TQHzCznQ14Y.002.mp4</td>\n",
       "      <td>0.392523</td>\n",
       "      <td>0.384615</td>\n",
       "      <td>0.368932</td>\n",
       "      <td>0.427083</td>\n",
       "      <td>0.422222</td>\n",
       "    </tr>\n",
       "    <tr>\n",
       "      <th>6</th>\n",
       "      <td>r93dLeVRk3U.001.mp4</td>\n",
       "      <td>0.467290</td>\n",
       "      <td>0.615385</td>\n",
       "      <td>0.466019</td>\n",
       "      <td>0.635417</td>\n",
       "      <td>0.677778</td>\n",
       "    </tr>\n",
       "    <tr>\n",
       "      <th>7</th>\n",
       "      <td>7LHmNEH65Pk.001.mp4</td>\n",
       "      <td>0.457944</td>\n",
       "      <td>0.560440</td>\n",
       "      <td>0.621359</td>\n",
       "      <td>0.354167</td>\n",
       "      <td>0.533333</td>\n",
       "    </tr>\n",
       "    <tr>\n",
       "      <th>8</th>\n",
       "      <td>blAjqQ0ja8Q.004.mp4</td>\n",
       "      <td>0.495327</td>\n",
       "      <td>0.681319</td>\n",
       "      <td>0.553398</td>\n",
       "      <td>0.531250</td>\n",
       "      <td>0.644444</td>\n",
       "    </tr>\n",
       "    <tr>\n",
       "      <th>9</th>\n",
       "      <td>OSDlyk5ZgAk.002.mp4</td>\n",
       "      <td>0.476636</td>\n",
       "      <td>0.362637</td>\n",
       "      <td>0.300971</td>\n",
       "      <td>0.500000</td>\n",
       "      <td>0.566667</td>\n",
       "    </tr>\n",
       "    <tr>\n",
       "      <th>10</th>\n",
       "      <td>heE4ZZXwehI.004.mp4</td>\n",
       "      <td>0.364486</td>\n",
       "      <td>0.538462</td>\n",
       "      <td>0.582524</td>\n",
       "      <td>0.395833</td>\n",
       "      <td>0.577778</td>\n",
       "    </tr>\n",
       "  </tbody>\n",
       "</table>\n",
       "</div>"
      ],
      "text/plain": [
       "              VideoName  ValueExtraversion  ValueAgreeableness  \\\n",
       "0   DrlC4bEYcmw.001.mp4           0.691589            0.615385   \n",
       "1   o7rFDFvW300.000.mp4           0.401869            0.439560   \n",
       "2   Wx_oe0SxD9w.004.mp4           0.485981            0.670330   \n",
       "3   d4cPiUXpGbc.004.mp4           0.523364            0.593407   \n",
       "4   yp-tfq1NxBk.005.mp4           0.532710            0.593407   \n",
       "5   TQHzCznQ14Y.002.mp4           0.392523            0.384615   \n",
       "6   r93dLeVRk3U.001.mp4           0.467290            0.615385   \n",
       "7   7LHmNEH65Pk.001.mp4           0.457944            0.560440   \n",
       "8   blAjqQ0ja8Q.004.mp4           0.495327            0.681319   \n",
       "9   OSDlyk5ZgAk.002.mp4           0.476636            0.362637   \n",
       "10  heE4ZZXwehI.004.mp4           0.364486            0.538462   \n",
       "\n",
       "    ValueConscientiousness  ValueNeurotisicm  ValueOpenness  \n",
       "0                 0.524272          0.635417       0.566667  \n",
       "1                 0.320388          0.406250       0.555556  \n",
       "2                 0.601942          0.625000       0.577778  \n",
       "3                 0.543689          0.520833       0.566667  \n",
       "4                 0.524272          0.604167       0.666667  \n",
       "5                 0.368932          0.427083       0.422222  \n",
       "6                 0.466019          0.635417       0.677778  \n",
       "7                 0.621359          0.354167       0.533333  \n",
       "8                 0.553398          0.531250       0.644444  \n",
       "9                 0.300971          0.500000       0.566667  \n",
       "10                0.582524          0.395833       0.577778  "
      ]
     },
     "execution_count": 9,
     "metadata": {},
     "output_type": "execute_result"
    }
   ],
   "source": [
    "v_gt.ix[0:10]"
   ]
  },
  {
   "cell_type": "code",
   "execution_count": null,
   "metadata": {
    "collapsed": true
   },
   "outputs": [],
   "source": []
  },
  {
   "cell_type": "code",
   "execution_count": 16,
   "metadata": {
    "collapsed": false
   },
   "outputs": [
    {
     "ename": "AttributeError",
     "evalue": "'function' object has no attribute 'values'",
     "output_type": "error",
     "traceback": [
      "\u001b[0;31m---------------------------------------------------------------------------\u001b[0m",
      "\u001b[0;31mAttributeError\u001b[0m                            Traceback (most recent call last)",
      "\u001b[0;32m<ipython-input-16-dc0c8ba13b8c>\u001b[0m in \u001b[0;36m<module>\u001b[0;34m()\u001b[0m\n\u001b[0;32m----> 1\u001b[0;31m \u001b[0mlst\u001b[0m \u001b[0;34m=\u001b[0m \u001b[0;34m(\u001b[0m\u001b[0mv_gt\u001b[0m\u001b[0;34m.\u001b[0m\u001b[0mix\u001b[0m\u001b[0;34m[\u001b[0m\u001b[0;34m:\u001b[0m\u001b[0;34m,\u001b[0m\u001b[0;36m1\u001b[0m\u001b[0;34m]\u001b[0m\u001b[0;34m.\u001b[0m\u001b[0mtolist\u001b[0m\u001b[0;34m)\u001b[0m\u001b[0;34m.\u001b[0m\u001b[0mvalues\u001b[0m\u001b[0;34m\u001b[0m\u001b[0m\n\u001b[0m",
      "\u001b[0;31mAttributeError\u001b[0m: 'function' object has no attribute 'values'"
     ]
    }
   ],
   "source": [
    "lst = (v_gt.ix[:,1].tolist).values"
   ]
  },
  {
   "cell_type": "code",
   "execution_count": 15,
   "metadata": {
    "collapsed": false
   },
   "outputs": [
    {
     "data": {
      "text/plain": [
       "array(<bound method Series.tolist of 0       0.691589\n",
       "1       0.401869\n",
       "2       0.485981\n",
       "3       0.523364\n",
       "4       0.532710\n",
       "5       0.392523\n",
       "6       0.467290\n",
       "7       0.457944\n",
       "8       0.495327\n",
       "9       0.476636\n",
       "10      0.364486\n",
       "11      0.523364\n",
       "12      0.364486\n",
       "13      0.383178\n",
       "14      0.672897\n",
       "15      0.579439\n",
       "16      0.579439\n",
       "17      0.401869\n",
       "18      0.570093\n",
       "19      0.401869\n",
       "20      0.607477\n",
       "21      0.205607\n",
       "22      0.514019\n",
       "23      0.560748\n",
       "24      0.177570\n",
       "25      0.504673\n",
       "26      0.514019\n",
       "27      0.429907\n",
       "28      0.411215\n",
       "29      0.102804\n",
       "          ...   \n",
       "1970    0.504673\n",
       "1971    0.177570\n",
       "1972    0.355140\n",
       "1973    0.411215\n",
       "1974    0.383178\n",
       "1975    0.457944\n",
       "1976    0.570093\n",
       "1977    0.579439\n",
       "1978    0.373832\n",
       "1979    0.392523\n",
       "1980    0.327103\n",
       "1981    0.280374\n",
       "1982    0.757009\n",
       "1983    0.551402\n",
       "1984    0.336449\n",
       "1985    0.130841\n",
       "1986    0.542056\n",
       "1987    0.588785\n",
       "1988    0.420561\n",
       "1989    0.420561\n",
       "1990    0.495327\n",
       "1991    0.373832\n",
       "1992    0.663551\n",
       "1993    0.560748\n",
       "1994    0.289720\n",
       "1995    0.579439\n",
       "1996    0.299065\n",
       "1997    0.392523\n",
       "1998    0.336449\n",
       "1999    0.252336\n",
       "Name: ValueExtraversion, dtype: float64>, dtype=object)"
      ]
     },
     "execution_count": 15,
     "metadata": {},
     "output_type": "execute_result"
    }
   ],
   "source": [
    "lst"
   ]
  },
  {
   "cell_type": "code",
   "execution_count": null,
   "metadata": {
    "collapsed": true
   },
   "outputs": [],
   "source": []
  }
 ],
 "metadata": {
  "kernelspec": {
   "display_name": "Python 2",
   "language": "python",
   "name": "python2"
  },
  "language_info": {
   "codemirror_mode": {
    "name": "ipython",
    "version": 2
   },
   "file_extension": ".py",
   "mimetype": "text/x-python",
   "name": "python",
   "nbconvert_exporter": "python",
   "pygments_lexer": "ipython2",
   "version": "2.7.10"
  }
 },
 "nbformat": 4,
 "nbformat_minor": 0
}
