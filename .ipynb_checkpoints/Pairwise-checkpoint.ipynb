{
 "cells": [
  {
   "cell_type": "code",
   "execution_count": 17,
   "metadata": {
    "collapsed": true
   },
   "outputs": [],
   "source": [
    "import random, csv, time, os\n",
    "\n",
    "import numpy as np\n",
    "import pandas as pd\n",
    "import matplotlib.pyplot as plt\n",
    "\n",
    "from scipy import optimize\n",
    "\n",
    "%matplotlib inline\n",
    "# Videos result files are from http://sunai.uoc.edu/traits/layout2/results/"
   ]
  },
  {
   "cell_type": "markdown",
   "metadata": {},
   "source": [
    "## Generating Artifical data (updated)\n",
    "\n",
    "1. Generate video_num random numbers in range [-5, 5] and then round to 1 place after decimal point as artificial truth score for video_num videos;\n",
    "2. Construct relation matrix relation_mat from above data;\n",
    "3. Randomly select a subset of video pairs in relation_mat to construt toy input, pairs, which will be used as the results from user votings; \n",
    "4. Randomly flip several pairs in pairs, to simulate the variablility of user votings.  "
   ]
  },
  {
   "cell_type": "code",
   "execution_count": 2,
   "metadata": {
    "collapsed": true
   },
   "outputs": [],
   "source": [
    "def append_pair(comp, name1, name2, name_to_num):\n",
    "    if comp == '-1':\n",
    "        return((name_to_num[name2], name_to_num[name1]))\n",
    "    if comp == '1':\n",
    "        return((name_to_num[name1], name_to_num[name2]))"
   ]
  },
  {
   "cell_type": "markdown",
   "metadata": {},
   "source": [
    "Here the error is $L_2$ norm of the difference between prediction and truth. We will use artificially generated data with all pairs and no flippings as a baseline and then assess results with different sized subsets and different number of flipped pairs."
   ]
  },
  {
   "cell_type": "code",
   "execution_count": 3,
   "metadata": {
    "collapsed": true
   },
   "outputs": [],
   "source": [
    "def calc_error(prediction, truth):\n",
    "    return np.linalg.norm(prediction - truth)"
   ]
  },
  {
   "cell_type": "markdown",
   "metadata": {},
   "source": [
    "### Option for reading data from files\n",
    "Format of the file is ['email', 'name1.mp4', 'name2.mp4', '-1', '-1', '-1', '1', '1', 'invite-l'], and they are csv files. "
   ]
  },
  {
   "cell_type": "code",
   "execution_count": 37,
   "metadata": {
    "collapsed": false
   },
   "outputs": [],
   "source": [
    "# Used to store video name and their corresponding index\n",
    "name_to_num = dict()\n",
    "# Here pairs will be a list of 5 lists correpesonding to each of the 5 traits\n",
    "global pairs\n",
    "pairs = [[],[],[],[],[]]\n",
    "\n",
    "j = 0\n",
    "path = './data'\n",
    "files = [f for f in os.listdir(path) if f.endswith('.csv')]\n",
    "for file in files:\n",
    "    with open('./data/'+file, 'rb') as csvfile:\n",
    "        reader = csv.reader(csvfile, delimiter=' ')\n",
    "        for row in reader:\n",
    "            if not row[1] in name_to_num:\n",
    "                name_to_num[row[1]] = j\n",
    "                j += 1\n",
    "            if not row[2] in name_to_num:\n",
    "                name_to_num[row[2]] = j\n",
    "                j += 1\n",
    "            for i in range(3,8):\n",
    "                pair = append_pair(row[i],row[1],row[2],name_to_num)\n",
    "                if pair != None:\n",
    "                    pairs[i-3].append(pair)\n",
    "video_num = j"
   ]
  },
  {
   "cell_type": "code",
   "execution_count": null,
   "metadata": {
    "collapsed": false
   },
   "outputs": [],
   "source": []
  },
  {
   "cell_type": "markdown",
   "metadata": {},
   "source": [
    "### Option for generating toy data set to test the script\n",
    "**video_num** is the total number of videos\n",
    "\n",
    "**num_test_pairs** is the number of videos 'available' from the set of all possible pairs, and we have $num\\_test\\_pairs \\le video\\_num$\n",
    "\n",
    "**num_to_be_flipped** is the number of videos we will flip to simulate the discrepancies in different voters, and we have $num\\_to\\_be\\_flipped \\le num\\_test\\_pairs$\n",
    "\n"
   ]
  },
  {
   "cell_type": "code",
   "execution_count": 67,
   "metadata": {
    "collapsed": true
   },
   "outputs": [],
   "source": [
    "video_num = 10\n",
    "num_to_be_flipped = 3\n",
    "num_test_pairs = 6\n",
    "\n",
    "video_score = np.random.uniform(-5,5,video_num)\n",
    "resolution = 0.1\n",
    "video_score = np.round(video_score/resolution)*resolution"
   ]
  },
  {
   "cell_type": "markdown",
   "metadata": {},
   "source": [
    "**pairs_truth** is a list of all the possible pairs, which represent the ground truth\n",
    "\n",
    "**test_pairs_with_error** is a subset of all the pairs with artificially flipped pairs, aiming to mimick the real life scenario. "
   ]
  },
  {
   "cell_type": "code",
   "execution_count": 35,
   "metadata": {
    "collapsed": false
   },
   "outputs": [
    {
     "ename": "ValueError",
     "evalue": "sample larger than population",
     "output_type": "error",
     "traceback": [
      "\u001b[0;31m---------------------------------------------------------------------------\u001b[0m",
      "\u001b[0;31mValueError\u001b[0m                                Traceback (most recent call last)",
      "\u001b[0;32m<ipython-input-35-e8c595a785b4>\u001b[0m in \u001b[0;36m<module>\u001b[0;34m()\u001b[0m\n\u001b[1;32m     10\u001b[0m             \u001b[0mpairs_truth\u001b[0m\u001b[0;34m.\u001b[0m\u001b[0mappend\u001b[0m\u001b[0;34m(\u001b[0m\u001b[0;34m(\u001b[0m\u001b[0mi\u001b[0m\u001b[0;34m,\u001b[0m\u001b[0mj\u001b[0m\u001b[0;34m)\u001b[0m\u001b[0;34m)\u001b[0m\u001b[0;34m\u001b[0m\u001b[0m\n\u001b[1;32m     11\u001b[0m \u001b[0;34m\u001b[0m\u001b[0m\n\u001b[0;32m---> 12\u001b[0;31m \u001b[0mtest_pairs\u001b[0m \u001b[0;34m=\u001b[0m \u001b[0;34m[\u001b[0m\u001b[0mpairs_truth\u001b[0m\u001b[0;34m[\u001b[0m\u001b[0mi\u001b[0m\u001b[0;34m]\u001b[0m \u001b[0;32mfor\u001b[0m \u001b[0mi\u001b[0m \u001b[0;32min\u001b[0m \u001b[0mrandom\u001b[0m\u001b[0;34m.\u001b[0m\u001b[0msample\u001b[0m\u001b[0;34m(\u001b[0m\u001b[0mrange\u001b[0m\u001b[0;34m(\u001b[0m\u001b[0mvideo_num\u001b[0m\u001b[0;34m)\u001b[0m\u001b[0;34m,\u001b[0m \u001b[0mnum_test_pairs\u001b[0m\u001b[0;34m)\u001b[0m\u001b[0;34m]\u001b[0m\u001b[0;34m\u001b[0m\u001b[0m\n\u001b[0m\u001b[1;32m     13\u001b[0m \u001b[0mtest_pairs_with_error\u001b[0m \u001b[0;34m=\u001b[0m \u001b[0mtest_pairs\u001b[0m\u001b[0;34m\u001b[0m\u001b[0m\n\u001b[1;32m     14\u001b[0m \u001b[0;32mfor\u001b[0m \u001b[0mi\u001b[0m \u001b[0;32min\u001b[0m \u001b[0mrandom\u001b[0m\u001b[0;34m.\u001b[0m\u001b[0msample\u001b[0m\u001b[0;34m(\u001b[0m\u001b[0mrange\u001b[0m\u001b[0;34m(\u001b[0m\u001b[0mnum_test_pairs\u001b[0m\u001b[0;34m)\u001b[0m\u001b[0;34m,\u001b[0m \u001b[0mnum_to_be_flipped\u001b[0m\u001b[0;34m)\u001b[0m\u001b[0;34m:\u001b[0m\u001b[0;34m\u001b[0m\u001b[0m\n",
      "\u001b[0;32m/Library/Frameworks/Python.framework/Versions/2.7/lib/python2.7/random.pyc\u001b[0m in \u001b[0;36msample\u001b[0;34m(self, population, k)\u001b[0m\n\u001b[1;32m    321\u001b[0m         \u001b[0mn\u001b[0m \u001b[0;34m=\u001b[0m \u001b[0mlen\u001b[0m\u001b[0;34m(\u001b[0m\u001b[0mpopulation\u001b[0m\u001b[0;34m)\u001b[0m\u001b[0;34m\u001b[0m\u001b[0m\n\u001b[1;32m    322\u001b[0m         \u001b[0;32mif\u001b[0m \u001b[0;32mnot\u001b[0m \u001b[0;36m0\u001b[0m \u001b[0;34m<=\u001b[0m \u001b[0mk\u001b[0m \u001b[0;34m<=\u001b[0m \u001b[0mn\u001b[0m\u001b[0;34m:\u001b[0m\u001b[0;34m\u001b[0m\u001b[0m\n\u001b[0;32m--> 323\u001b[0;31m             \u001b[0;32mraise\u001b[0m \u001b[0mValueError\u001b[0m\u001b[0;34m(\u001b[0m\u001b[0;34m\"sample larger than population\"\u001b[0m\u001b[0;34m)\u001b[0m\u001b[0;34m\u001b[0m\u001b[0m\n\u001b[0m\u001b[1;32m    324\u001b[0m         \u001b[0mrandom\u001b[0m \u001b[0;34m=\u001b[0m \u001b[0mself\u001b[0m\u001b[0;34m.\u001b[0m\u001b[0mrandom\u001b[0m\u001b[0;34m\u001b[0m\u001b[0m\n\u001b[1;32m    325\u001b[0m         \u001b[0m_int\u001b[0m \u001b[0;34m=\u001b[0m \u001b[0mint\u001b[0m\u001b[0;34m\u001b[0m\u001b[0m\n",
      "\u001b[0;31mValueError\u001b[0m: sample larger than population"
     ]
    }
   ],
   "source": [
    "global pairs_truth\n",
    "global test_pairs_with_error\n",
    "\n",
    "pairs_truth = []\n",
    "relation_mat = np.zeros((video_num,video_num))\n",
    "\n",
    "for i in range(len(video_score)-2):\n",
    "    for j in range(i+1, len(video_score)):\n",
    "        if video_score[i] > video_score[j]:\n",
    "            pairs_truth.append((i,j))\n",
    "\n",
    "test_pairs = [pairs_truth[i] for i in random.sample(range(video_num), num_test_pairs)]\n",
    "test_pairs_with_error = test_pairs\n",
    "for i in random.sample(range(num_test_pairs), num_to_be_flipped):\n",
    "    test_pairs[i] = (test_pairs[i][1],test_pairs[i][0])"
   ]
  },
  {
   "cell_type": "code",
   "execution_count": 38,
   "metadata": {
    "collapsed": true
   },
   "outputs": [],
   "source": [
    "def mle(w):\n",
    "    \n",
    "    \"\"\"\n",
    "    Calculate the MLE of w.\n",
    "    Due to the fact that optimize.minimize only takes 1 input, \n",
    "    here the pair information is imported as comp from global variable\n",
    "    \"\"\"\n",
    "    \n",
    "    out = -1\n",
    "#     comp = test_pairs_with_error\n",
    "    comp = pairs[0]\n",
    "#     comp = pairs_truth\n",
    "                \n",
    "    for pair in comp:\n",
    "        out *= 1/(1+np.exp(-w[pair[0]] + w[pair[1]]))   \n",
    "    return out"
   ]
  },
  {
   "cell_type": "code",
   "execution_count": 41,
   "metadata": {
    "collapsed": false
   },
   "outputs": [
    {
     "name": "stdout",
     "output_type": "stream",
     "text": [
      "[-2.30412794  3.44933502  3.2308422  -3.44009756  1.74764674  1.78852077\n",
      " -1.91795552 -4.16411013 -3.87684604  2.90509025  1.41153465  3.36403325\n",
      " -3.95010759 -4.58816459  4.27770876  1.09865662 -3.54284351 -3.88293091\n",
      " -2.07711397  4.51100558  4.44751828 -2.65632118 -4.16542423 -3.27123764\n",
      " -2.62819391  2.51871997  4.05948806 -0.53631771  4.66554012 -4.90634015]\n"
     ]
    }
   ],
   "source": [
    "w = np.random.uniform(-5,5,video_num)\n",
    "\n",
    "bnds = ((0, None), (0, None))\n",
    "bnds = ()\n",
    "cons = ()\n",
    "\n",
    "for i in range(video_num):\n",
    "    bnds += ((-5.0,5.0),)\n",
    "    \n",
    "cons += ({'type': 'ineq',\n",
    "          'fun' : lambda w: np.abs(np.sum(w))},)\n",
    "\n",
    "res = optimize.minimize(mle, w, bounds=bnds, options={'disp': True})\n",
    "\n",
    "print ( res['x'])"
   ]
  },
  {
   "cell_type": "markdown",
   "metadata": {
    "collapsed": false,
    "scrolled": true
   },
   "source": [
    "### Performance Test\n",
    "We will be investigating from the two perspective below:\n",
    "1. How does error evolve with percentage of videos available\n",
    "2. How does error evolve with percentage of available videos flipped"
   ]
  },
  {
   "cell_type": "code",
   "execution_count": 5,
   "metadata": {
    "collapsed": false
   },
   "outputs": [],
   "source": [
    "video_num = 500\n",
    "\n",
    "video_score = np.random.uniform(-5,5,video_num)\n",
    "resolution = 0.1\n",
    "video_score = np.round(video_score/resolution)*resolution\n",
    "\n",
    "global pairs_truth\n",
    "global test_pairs_with_error\n",
    "pairs_truth = []\n",
    "\n",
    "for i in range(len(video_score)-2):\n",
    "    for j in range(i+1, len(video_score)):\n",
    "        if video_score[i] > video_score[j]:\n",
    "            pairs_truth.append((i,j))\n",
    "            \n",
    "total_pairs = len(pairs_truth)  "
   ]
  },
  {
   "cell_type": "code",
   "execution_count": 10,
   "metadata": {
    "collapsed": false
   },
   "outputs": [
    {
     "name": "stdout",
     "output_type": "stream",
     "text": [
      "0.874214887619\n",
      "2.44320201874\n",
      "4.91741681099\n",
      "8.07686090469\n",
      "11.9318928719\n",
      "17.5239658356\n",
      "25.5071969032\n",
      "36.938439846\n",
      "56.2524449825\n",
      "83.961014986\n",
      "123.324975014\n"
     ]
    }
   ],
   "source": [
    "num_to_be_flipped_vec = 3\n",
    "pct_to_be_flipped = 0.2\n",
    "# num_test_pairs_vec = np.linspace(video_num*10,total_pairs,5).astype(int)\n",
    "num_test_pairs_vec = [1*video_num, 2*video_num, 3*video_num, 4*video_num, 5*video_num, 7*video_num,\n",
    "                      10*video_num, 15*video_num, 25*video_num, 35*video_num, 50*video_num]\n",
    "t = time.time()\n",
    "result = dict()\n",
    "\n",
    "for ind in range(len(num_test_pairs_vec)):\n",
    "    num_test_pair = num_test_pairs_vec[ind]\n",
    "    num_to_flip = int(num_test_pair * pct_to_be_flipped)\n",
    "    \n",
    "    test_pairs = [pairs_truth[i] for i in random.sample(range(total_pairs), num_test_pair)]\n",
    "    test_pairs_with_error = test_pairs\n",
    "    \n",
    "    for i in random.sample(range(num_test_pair), num_to_flip):\n",
    "        test_pairs[i] = (test_pairs[i][1],test_pairs[i][0])\n",
    "        \n",
    "    w = np.random.uniform(-5,5,video_num)\n",
    "\n",
    "    bnds = ((0, None), (0, None))\n",
    "    bnds = ()\n",
    "    cons = ()\n",
    "\n",
    "    for i in range(video_num):\n",
    "        bnds += ((-5.0,5.0),)\n",
    "\n",
    "    cons += ({'type': 'ineq',\n",
    "              'fun' : lambda w: np.abs(np.sum(w))},)\n",
    "\n",
    "    res = optimize.minimize(mle, w, bounds=bnds, options={'disp': True})\n",
    "    print time.time()-t\n",
    "    result[str(num_test_pairs_vec[ind])] = res['x']"
   ]
  },
  {
   "cell_type": "code",
   "execution_count": 29,
   "metadata": {
    "collapsed": false
   },
   "outputs": [
    {
     "name": "stdout",
     "output_type": "stream",
     "text": [
      "91.8317496318\n"
     ]
    }
   ],
   "source": [
    "w = np.random.uniform(-5,5,video_num)\n",
    "\n",
    "bnds = ((0, None), (0, None))\n",
    "bnds = ()\n",
    "cons = ()\n",
    "\n",
    "for i in range(video_num):\n",
    "    bnds += ((-5.0,5.0),)\n",
    "\n",
    "cons += ({'type': 'ineq',\n",
    "          'fun' : lambda w: np.abs(np.sum(w))},)\n",
    "\n",
    "res = optimize.minimize(mle, w, bounds=bnds, options={'disp': True})\n",
    "print calc_error(video_score, res['x'])"
   ]
  },
  {
   "cell_type": "code",
   "execution_count": 31,
   "metadata": {
    "collapsed": false
   },
   "outputs": [
    {
     "data": {
      "text/plain": [
       "<matplotlib.lines.Line2D at 0x108454510>"
      ]
     },
     "execution_count": 31,
     "metadata": {},
     "output_type": "execute_result"
    },
    {
     "data": {
      "image/png": "[encoded data removed]",
      "text/plain": [
       "<matplotlib.figure.Figure at 0x108454910>"
      ]
     },
     "metadata": {},
     "output_type": "display_data"
    }
   ],
   "source": [
    "l2_norm = []\n",
    "for num_test_pair in num_test_pairs_vec:\n",
    "    l2_norm.append(calc_error(video_score, result[str(num_test_pair)]))\n",
    "    \n",
    "plt.plot(num_test_pairs_vec, l2_norm,'-.')\n",
    "plt.title('L2 Norm V.S. Number of pairs')\n",
    "plt.axhline(y=91.8317496318,linewidth=2, color='r')"
   ]
  },
  {
   "cell_type": "markdown",
   "metadata": {
    "collapsed": true
   },
   "source": [
    "Now it's time to see how \"noise\" affects the accuracy"
   ]
  },
  {
   "cell_type": "code",
   "execution_count": 13,
   "metadata": {
    "collapsed": false
   },
   "outputs": [
    {
     "name": "stdout",
     "output_type": "stream",
     "text": [
      "8.53038597107\n",
      "16.1647808552\n",
      "23.7360379696\n",
      "31.3683559895\n",
      "38.8134839535\n",
      "46.3465168476\n",
      "53.841105938\n",
      "61.4466528893\n",
      "68.9527509212\n"
     ]
    }
   ],
   "source": [
    "num_test_pairs = 10 * video_num\n",
    "pct_to_be_flipped = [0, 0.05, 0.1, 0.15, 0.2, 0.25, 0.3, 0.35, 0.5]\n",
    "\n",
    "t = time.time()\n",
    "result_pct = dict()\n",
    "\n",
    "for pct in pct_to_be_flipped:\n",
    "    \n",
    "    num_to_flip = int(num_test_pairs * pct)\n",
    "    \n",
    "    test_pairs = [pairs_truth[i] for i in random.sample(range(total_pairs), num_test_pairs)]\n",
    "    \n",
    "    test_pairs_with_error = test_pairs\n",
    "    \n",
    "    for i in random.sample(range(num_test_pairs), num_to_flip):\n",
    "        test_pairs[i] = (test_pairs[i][1],test_pairs[i][0])\n",
    "        \n",
    "    w = np.random.uniform(-5,5,video_num)\n",
    "\n",
    "    bnds = ((0, None), (0, None))\n",
    "    bnds = ()\n",
    "    cons = ()\n",
    "\n",
    "    for i in range(video_num):\n",
    "        bnds += ((-5.0,5.0),)\n",
    "\n",
    "    cons += ({'type': 'ineq',\n",
    "              'fun' : lambda w: np.abs(np.sum(w))},)\n",
    "\n",
    "    res = optimize.minimize(mle, w, bounds=bnds, options={'disp': True})\n",
    "    print time.time()-t\n",
    "    result_pct[str(pct)] = res['x']"
   ]
  },
  {
   "cell_type": "code",
   "execution_count": 33,
   "metadata": {
    "collapsed": false
   },
   "outputs": [
    {
     "data": {
      "text/plain": [
       "<matplotlib.lines.Line2D at 0x1084a3e90>"
      ]
     },
     "execution_count": 33,
     "metadata": {},
     "output_type": "execute_result"
    },
    {
     "data": {
      "image/png": "[encoded data removed]",
      "text/plain": [
       "<matplotlib.figure.Figure at 0x1081862d0>"
      ]
     },
     "metadata": {},
     "output_type": "display_data"
    }
   ],
   "source": [
    "l2_norm_pct = []\n",
    "for pct in pct_to_be_flipped:\n",
    "    l2_norm_pct.append(calc_error(video_score, result_pct[str(pct)]))\n",
    "    \n",
    "plt.plot(pct_to_be_flipped, l2_norm_pct,'-.')\n",
    "plt.title('L2 Norm V.S. Error Rate')\n",
    "plt.axhline(y=l2_norm_pct[0],linewidth=2, color='r')"
   ]
  },
  {
   "cell_type": "code",
   "execution_count": 21,
   "metadata": {
    "collapsed": false
   },
   "outputs": [
    {
     "data": {
      "text/plain": [
       "30"
      ]
     },
     "execution_count": 21,
     "metadata": {},
     "output_type": "execute_result"
    }
   ],
   "source": [
    "j"
   ]
  },
  {
   "cell_type": "code",
   "execution_count": null,
   "metadata": {
    "collapsed": true
   },
   "outputs": [],
   "source": []
  }
 ],
 "metadata": {
  "kernelspec": {
   "display_name": "Python 2",
   "language": "python",
   "name": "python2"
  },
  "language_info": {
   "codemirror_mode": {
    "name": "ipython",
    "version": 2
   },
   "file_extension": ".py",
   "mimetype": "text/x-python",
   "name": "python",
   "nbconvert_exporter": "python",
   "pygments_lexer": "ipython2",
   "version": "2.7.10"
  }
 },
 "nbformat": 4,
 "nbformat_minor": 0
}
