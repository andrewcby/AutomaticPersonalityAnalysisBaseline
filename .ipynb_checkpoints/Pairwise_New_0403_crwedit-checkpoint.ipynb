{
 "cells": [
  {
   "cell_type": "code",
   "execution_count": 4,
   "metadata": {
    "collapsed": true
   },
   "outputs": [],
   "source": [
    "import random, csv, time, os\n",
    "\n",
    "import numpy as np\n",
    "import pandas as pd\n",
    "import matplotlib.pyplot as plt\n",
    "\n",
    "from scipy import optimize\n",
    "from scipy.stats import bernoulli\n",
    "from scipy.io import savemat\n",
    "\n",
    "%matplotlib inline"
   ]
  },
  {
   "cell_type": "code",
   "execution_count": 5,
   "metadata": {
    "collapsed": true
   },
   "outputs": [],
   "source": [
    "global pairs_truth, video_score, video_num, total_pairs, w_hat, test_pairs"
   ]
  },
  {
   "cell_type": "code",
   "execution_count": 6,
   "metadata": {
    "collapsed": true
   },
   "outputs": [],
   "source": [
    "video_num = 300\n",
    "\n",
    "video_score = np.random.uniform(-5,5,video_num)\n",
    "resolution = 0.1\n",
    "video_score = np.round(video_score/resolution)*resolution\n",
    "\n",
    "pairs_truth = []\n",
    "\n",
    "for i in range(len(video_score)-1):\n",
    "    for j in range(i+1, len(video_score)):\n",
    "        if video_score[i] > video_score[j]:\n",
    "            pairs_truth.append((i,j))\n",
    "        else:\n",
    "            pairs_truth.append((j,i))\n",
    "\n",
    "total_pairs = len(pairs_truth)  "
   ]
  },
  {
   "cell_type": "code",
   "execution_count": 7,
   "metadata": {
    "collapsed": true
   },
   "outputs": [],
   "source": [
    "def append_pair(comp, name1, name2, name_to_num):\n",
    "    if comp == '-1':\n",
    "        return((name_to_num[name2], name_to_num[name1]))\n",
    "    if comp == '1':\n",
    "        return((name_to_num[name1], name_to_num[name2]))\n",
    "    \n",
    "def calc_error(prediction, truth):\n",
    "    return np.linalg.norm(prediction - truth)\n",
    "\n",
    "def mle(w, pairs):    \n",
    "    \"\"\"\n",
    "    Calculate the MLE of w.\n",
    "    Due to the fact that optimize.minimize only takes 1 input, \n",
    "    here the pair information is imported from global variable\n",
    "    \"\"\"    \n",
    "    out = 1\n",
    "                \n",
    "    for pair in pairs:\n",
    "        out *= 1/(1+np.exp(-w[pair[0]] + w[pair[1]]))   \n",
    "        \n",
    "    return -np.log(out)\n",
    "\n",
    "def gradient(w,pairs):\n",
    "    grad = []\n",
    "    for i in range(len(w)):\n",
    "        gradient = 0\n",
    "\n",
    "        for pair in pairs:\n",
    "            if i == pair[0]:\n",
    "                out = -1\n",
    "            elif i == pair[1]:\n",
    "                out = 1  \n",
    "            else:\n",
    "                continue\n",
    "            gradient -= out / (1/(np.exp(w[pair[1]]-w[pair[0]])) +1 )\n",
    "\n",
    "        grad.append(-gradient)\n",
    "        \n",
    "    return np.array(grad)\n",
    "\n",
    "def compare_rank(video_score, results, verbose=False, hist=False):\n",
    "    true_order = np.array(video_score).argsort()\n",
    "    true_ranks = true_order.argsort()\n",
    "\n",
    "    temp_o = np.array(results).argsort()\n",
    "    temp_r = temp_o.argsort()\n",
    "\n",
    "    resolution = 0.1\n",
    "    video_score_results = np.round(np.array(results)/resolution)*resolution\n",
    "    \n",
    "    if verbose:\n",
    "        print 'Result Order \\t True Order \\t Result Score \\t Ture Score'\n",
    "        for i in range(len(temp_r)):\n",
    "            print temp_r[i], '\\t\\t', true_ranks[i], '\\t\\t', video_score_results[i], '\\t\\t', video_score[i]\n",
    "            \n",
    "    if hist:\n",
    "        diff = np.abs(temp_r - true_ranks)\n",
    "        plt.hist(diff, alpha=0.5)"
   ]
  },
  {
   "cell_type": "markdown",
   "metadata": {},
   "source": [
    "# Below is just a general test to see how if the model performs nicely."
   ]
  },
  {
   "cell_type": "code",
   "execution_count": null,
   "metadata": {
    "collapsed": false
   },
   "outputs": [],
   "source": []
  },
  {
   "cell_type": "code",
   "execution_count": 28,
   "metadata": {
    "collapsed": false
   },
   "outputs": [
    {
     "name": "stdout",
     "output_type": "stream",
     "text": [
      "Time Spent: 1.58 seconds\n"
     ]
    }
   ],
   "source": [
    "\n",
    "#test_pairs = pairs_truth\n",
    "ceiling = 200\n",
    "test_pairs = [pairs_truth[i] for i in random.sample(range(ceiling), ceiling)]\n",
    "init_matrix = np.ones(len(test_pairs)+1)\n",
    "\n",
    "start_time = time.time()\n",
    "\n",
    "res = optimize.minimize(mle, init_matrix, \n",
    "                        method='Newton-CG',\n",
    "                        jac=gradient, \n",
    "                        args=(test_pairs,),\n",
    "                        options={'disp': False})\n",
    "\n",
    "print  'Time Spent: %.2f seconds' %float(time.time() - start_time)"
   ]
  },
  {
   "cell_type": "code",
   "execution_count": 10,
   "metadata": {
    "collapsed": false
   },
   "outputs": [
    {
     "data": {
      "image/png": "[encoded data removed]",
      "text/plain": [
       "<matplotlib.figure.Figure at 0x7fe40dc3cd90>"
      ]
     },
     "metadata": {},
     "output_type": "display_data"
    }
   ],
   "source": [
    "compare_rank(video_score, res.x, verbose=False, hist=True)"
   ]
  },
  {
   "cell_type": "markdown",
   "metadata": {
    "collapsed": false
   },
   "source": [
    "# Introducing different methods of calculating error."
   ]
  },
  {
   "cell_type": "code",
   "execution_count": 11,
   "metadata": {
    "collapsed": true
   },
   "outputs": [],
   "source": [
    "def matching_func(param, video_score, w_hat):\n",
    "    \"\"\"\n",
    "    Function used to calculate L2 norm of v and w_star. Used to find a and b.\n",
    "    Here param is [a, b]\n",
    "    \"\"\"\n",
    "    return np.linalg.norm(video_score - param[0]*np.array(w_hat) - param[1])\n",
    "\n",
    "\n",
    "def regularized_vector(w_hat):\n",
    "    \"\"\"\n",
    "    Function to generate vector v after using matching_func to find optimal a and b\n",
    "    \"\"\"\n",
    "    coeff = optimize.minimize(matching_func, [0, 0], args=(video_score, w_hat))\n",
    "\n",
    "    a = coeff['x'][0]\n",
    "    b = coeff['x'][1]\n",
    "    v = a*np.array(w_hat)+b\n",
    "    return v\n",
    "\n",
    "def performance_isabelle(video_score, video_num, w_hat):\n",
    "    \"\"\"\n",
    "    Performance evaluation using method proposed by Isabelle. \n",
    "    \"\"\"\n",
    "    epsilon = 0.0001\n",
    "    error = 0\n",
    "    v = regularized_vector(w_hat)\n",
    "\n",
    "    true_order = np.array(video_score).argsort()\n",
    "\n",
    "    what = [ w_hat[i] for i in true_order]\n",
    "    wstar = [ video_score[i] for i in true_order]\n",
    "\n",
    "    for i in range(video_num-2):\n",
    "        error += np.abs((wstar[i+1]-wstar[i])/(wstar[i+2]-wstar[i]+epsilon)-\n",
    "                        (what[i+1]-what[i])/(what[i+2]-what[i]+epsilon))\n",
    "    \n",
    "    return error\n",
    "\n",
    "def performance_nihar(video_score, w_hat):\n",
    "    \"\"\"\n",
    "    Performance evaluation using method proposed by Nihar\n",
    "    \"\"\"\n",
    "    v = regularized_vector(w_hat)\n",
    "    return np.linalg.norm(video_score - v)\n",
    "\n",
    "\n",
    "def performance_rank_compare(video_score, w_hat, pairs):\n",
    "    \"\"\"\n",
    "    Using the basics rank compare method\n",
    "    \"\"\"\n",
    "    true_order = np.array(video_score).argsort()\n",
    "    true_ranks = true_order.argsort()\n",
    "\n",
    "    temp_o = np.array(w_hat).argsort()\n",
    "    temp_r = temp_o.argsort()\n",
    "    \n",
    "    true_scores = np.zeros(len(w_hat))\n",
    "    temp_scores = np.zeros(len(w_hat))\n",
    "    \n",
    "    for i in range(len(scores)):\n",
    "        true_scores[i] = 1 - true_ranks[i]/len(scores)\n",
    "        counter = 0\n",
    "        for pair in pairs:\n",
    "            if pair[0] == i:\n",
    "                temp_scores[i] += 1\n",
    "                counter += 1\n",
    "            elif pair[1] == i:\n",
    "                counter += 1\n",
    "        temp_scores[i] /= counter\n",
    "    return "
   ]
  },
  {
   "cell_type": "markdown",
   "metadata": {},
   "source": [
    "### Sparsity"
   ]
  },
  {
   "cell_type": "code",
   "execution_count": 12,
   "metadata": {
    "collapsed": false
   },
   "outputs": [
    {
     "name": "stdout",
     "output_type": "stream",
     "text": [
      "Current evaluating with 44850 test pairs\n",
      "Current evaluating with 40365 test pairs\n"
     ]
    },
    {
     "ename": "KeyboardInterrupt",
     "evalue": "",
     "output_type": "error",
     "traceback": [
      "\u001b[1;31m---------------------------------------------------------------------------\u001b[0m",
      "\u001b[1;31mKeyboardInterrupt\u001b[0m                         Traceback (most recent call last)",
      "\u001b[1;32m<ipython-input-12-fe22ce43172b>\u001b[0m in \u001b[0;36m<module>\u001b[1;34m()\u001b[0m\n\u001b[0;32m     20\u001b[0m                             \u001b[0mjac\u001b[0m\u001b[1;33m=\u001b[0m\u001b[0mgradient\u001b[0m\u001b[1;33m,\u001b[0m\u001b[1;33m\u001b[0m\u001b[0m\n\u001b[0;32m     21\u001b[0m                             \u001b[0margs\u001b[0m\u001b[1;33m=\u001b[0m\u001b[1;33m(\u001b[0m\u001b[0mtest_pairs\u001b[0m\u001b[1;33m,\u001b[0m\u001b[1;33m)\u001b[0m\u001b[1;33m,\u001b[0m\u001b[1;33m\u001b[0m\u001b[0m\n\u001b[1;32m---> 22\u001b[1;33m                             options={'disp': False})\n\u001b[0m\u001b[0;32m     23\u001b[0m \u001b[1;33m\u001b[0m\u001b[0m\n\u001b[0;32m     24\u001b[0m     \u001b[0mw_hat\u001b[0m \u001b[1;33m=\u001b[0m \u001b[0mres\u001b[0m\u001b[1;33m.\u001b[0m\u001b[0mx\u001b[0m\u001b[1;33m\u001b[0m\u001b[0m\n",
      "\u001b[1;32m/opt/conda/envs/python2/lib/python2.7/site-packages/scipy/optimize/_minimize.pyc\u001b[0m in \u001b[0;36mminimize\u001b[1;34m(fun, x0, args, method, jac, hess, hessp, bounds, constraints, tol, callback, options)\u001b[0m\n\u001b[0;32m    439\u001b[0m     \u001b[1;32melif\u001b[0m \u001b[0mmeth\u001b[0m \u001b[1;33m==\u001b[0m \u001b[1;34m'newton-cg'\u001b[0m\u001b[1;33m:\u001b[0m\u001b[1;33m\u001b[0m\u001b[0m\n\u001b[0;32m    440\u001b[0m         return _minimize_newtoncg(fun, x0, args, jac, hess, hessp, callback,\n\u001b[1;32m--> 441\u001b[1;33m                                   **options)\n\u001b[0m\u001b[0;32m    442\u001b[0m     \u001b[1;32melif\u001b[0m \u001b[0mmeth\u001b[0m \u001b[1;33m==\u001b[0m \u001b[1;34m'l-bfgs-b'\u001b[0m\u001b[1;33m:\u001b[0m\u001b[1;33m\u001b[0m\u001b[0m\n\u001b[0;32m    443\u001b[0m         return _minimize_lbfgsb(fun, x0, args, jac, bounds,\n",
      "\u001b[1;32m/opt/conda/envs/python2/lib/python2.7/site-packages/scipy/optimize/optimize.pyc\u001b[0m in \u001b[0;36m_minimize_newtoncg\u001b[1;34m(fun, x0, args, jac, hess, hessp, callback, xtol, eps, maxiter, disp, return_all, **unknown_options)\u001b[0m\n\u001b[0;32m   1404\u001b[0m             \u001b[1;32mif\u001b[0m \u001b[0mfhess\u001b[0m \u001b[1;32mis\u001b[0m \u001b[0mNone\u001b[0m\u001b[1;33m:\u001b[0m\u001b[1;33m\u001b[0m\u001b[0m\n\u001b[0;32m   1405\u001b[0m                 \u001b[1;32mif\u001b[0m \u001b[0mfhess_p\u001b[0m \u001b[1;32mis\u001b[0m \u001b[0mNone\u001b[0m\u001b[1;33m:\u001b[0m\u001b[1;33m\u001b[0m\u001b[0m\n\u001b[1;32m-> 1406\u001b[1;33m                     \u001b[0mAp\u001b[0m \u001b[1;33m=\u001b[0m \u001b[0mapprox_fhess_p\u001b[0m\u001b[1;33m(\u001b[0m\u001b[0mxk\u001b[0m\u001b[1;33m,\u001b[0m \u001b[0mpsupi\u001b[0m\u001b[1;33m,\u001b[0m \u001b[0mfprime\u001b[0m\u001b[1;33m,\u001b[0m \u001b[0mepsilon\u001b[0m\u001b[1;33m)\u001b[0m\u001b[1;33m\u001b[0m\u001b[0m\n\u001b[0m\u001b[0;32m   1407\u001b[0m                 \u001b[1;32melse\u001b[0m\u001b[1;33m:\u001b[0m\u001b[1;33m\u001b[0m\u001b[0m\n\u001b[0;32m   1408\u001b[0m                     \u001b[0mAp\u001b[0m \u001b[1;33m=\u001b[0m \u001b[0mfhess_p\u001b[0m\u001b[1;33m(\u001b[0m\u001b[0mxk\u001b[0m\u001b[1;33m,\u001b[0m \u001b[0mpsupi\u001b[0m\u001b[1;33m,\u001b[0m \u001b[1;33m*\u001b[0m\u001b[0margs\u001b[0m\u001b[1;33m)\u001b[0m\u001b[1;33m\u001b[0m\u001b[0m\n",
      "\u001b[1;32m/opt/conda/envs/python2/lib/python2.7/site-packages/scipy/optimize/optimize.pyc\u001b[0m in \u001b[0;36mapprox_fhess_p\u001b[1;34m(x0, p, fprime, epsilon, *args)\u001b[0m\n\u001b[0;32m    669\u001b[0m \u001b[1;33m\u001b[0m\u001b[0m\n\u001b[0;32m    670\u001b[0m \u001b[1;32mdef\u001b[0m \u001b[0mapprox_fhess_p\u001b[0m\u001b[1;33m(\u001b[0m\u001b[0mx0\u001b[0m\u001b[1;33m,\u001b[0m \u001b[0mp\u001b[0m\u001b[1;33m,\u001b[0m \u001b[0mfprime\u001b[0m\u001b[1;33m,\u001b[0m \u001b[0mepsilon\u001b[0m\u001b[1;33m,\u001b[0m \u001b[1;33m*\u001b[0m\u001b[0margs\u001b[0m\u001b[1;33m)\u001b[0m\u001b[1;33m:\u001b[0m\u001b[1;33m\u001b[0m\u001b[0m\n\u001b[1;32m--> 671\u001b[1;33m     \u001b[0mf2\u001b[0m \u001b[1;33m=\u001b[0m \u001b[0mfprime\u001b[0m\u001b[1;33m(\u001b[0m\u001b[1;33m*\u001b[0m\u001b[1;33m(\u001b[0m\u001b[1;33m(\u001b[0m\u001b[0mx0\u001b[0m \u001b[1;33m+\u001b[0m \u001b[0mepsilon\u001b[0m\u001b[1;33m*\u001b[0m\u001b[0mp\u001b[0m\u001b[1;33m,\u001b[0m\u001b[1;33m)\u001b[0m \u001b[1;33m+\u001b[0m \u001b[0margs\u001b[0m\u001b[1;33m)\u001b[0m\u001b[1;33m)\u001b[0m\u001b[1;33m\u001b[0m\u001b[0m\n\u001b[0m\u001b[0;32m    672\u001b[0m     \u001b[0mf1\u001b[0m \u001b[1;33m=\u001b[0m \u001b[0mfprime\u001b[0m\u001b[1;33m(\u001b[0m\u001b[1;33m*\u001b[0m\u001b[1;33m(\u001b[0m\u001b[1;33m(\u001b[0m\u001b[0mx0\u001b[0m\u001b[1;33m,\u001b[0m\u001b[1;33m)\u001b[0m \u001b[1;33m+\u001b[0m \u001b[0margs\u001b[0m\u001b[1;33m)\u001b[0m\u001b[1;33m)\u001b[0m\u001b[1;33m\u001b[0m\u001b[0m\n\u001b[0;32m    673\u001b[0m     \u001b[1;32mreturn\u001b[0m \u001b[1;33m(\u001b[0m\u001b[0mf2\u001b[0m \u001b[1;33m-\u001b[0m \u001b[0mf1\u001b[0m\u001b[1;33m)\u001b[0m \u001b[1;33m/\u001b[0m \u001b[0mepsilon\u001b[0m\u001b[1;33m\u001b[0m\u001b[0m\n",
      "\u001b[1;32m/opt/conda/envs/python2/lib/python2.7/site-packages/scipy/optimize/optimize.pyc\u001b[0m in \u001b[0;36mfunction_wrapper\u001b[1;34m(*wrapper_args)\u001b[0m\n\u001b[0;32m    283\u001b[0m     \u001b[1;32mdef\u001b[0m \u001b[0mfunction_wrapper\u001b[0m\u001b[1;33m(\u001b[0m\u001b[1;33m*\u001b[0m\u001b[0mwrapper_args\u001b[0m\u001b[1;33m)\u001b[0m\u001b[1;33m:\u001b[0m\u001b[1;33m\u001b[0m\u001b[0m\n\u001b[0;32m    284\u001b[0m         \u001b[0mncalls\u001b[0m\u001b[1;33m[\u001b[0m\u001b[1;36m0\u001b[0m\u001b[1;33m]\u001b[0m \u001b[1;33m+=\u001b[0m \u001b[1;36m1\u001b[0m\u001b[1;33m\u001b[0m\u001b[0m\n\u001b[1;32m--> 285\u001b[1;33m         \u001b[1;32mreturn\u001b[0m \u001b[0mfunction\u001b[0m\u001b[1;33m(\u001b[0m\u001b[1;33m*\u001b[0m\u001b[1;33m(\u001b[0m\u001b[0mwrapper_args\u001b[0m \u001b[1;33m+\u001b[0m \u001b[0margs\u001b[0m\u001b[1;33m)\u001b[0m\u001b[1;33m)\u001b[0m\u001b[1;33m\u001b[0m\u001b[0m\n\u001b[0m\u001b[0;32m    286\u001b[0m \u001b[1;33m\u001b[0m\u001b[0m\n\u001b[0;32m    287\u001b[0m     \u001b[1;32mreturn\u001b[0m \u001b[0mncalls\u001b[0m\u001b[1;33m,\u001b[0m \u001b[0mfunction_wrapper\u001b[0m\u001b[1;33m\u001b[0m\u001b[0m\n",
      "\u001b[1;32m<ipython-input-7-6e611b4613e9>\u001b[0m in \u001b[0;36mgradient\u001b[1;34m(w, pairs)\u001b[0m\n\u001b[0;32m     29\u001b[0m             \u001b[1;32mif\u001b[0m \u001b[0mi\u001b[0m \u001b[1;33m==\u001b[0m \u001b[0mpair\u001b[0m\u001b[1;33m[\u001b[0m\u001b[1;36m0\u001b[0m\u001b[1;33m]\u001b[0m\u001b[1;33m:\u001b[0m\u001b[1;33m\u001b[0m\u001b[0m\n\u001b[0;32m     30\u001b[0m                 \u001b[0mout\u001b[0m \u001b[1;33m=\u001b[0m \u001b[1;33m-\u001b[0m\u001b[1;36m1\u001b[0m\u001b[1;33m\u001b[0m\u001b[0m\n\u001b[1;32m---> 31\u001b[1;33m             \u001b[1;32melif\u001b[0m \u001b[0mi\u001b[0m \u001b[1;33m==\u001b[0m \u001b[0mpair\u001b[0m\u001b[1;33m[\u001b[0m\u001b[1;36m1\u001b[0m\u001b[1;33m]\u001b[0m\u001b[1;33m:\u001b[0m\u001b[1;33m\u001b[0m\u001b[0m\n\u001b[0m\u001b[0;32m     32\u001b[0m                 \u001b[0mout\u001b[0m \u001b[1;33m=\u001b[0m \u001b[1;36m1\u001b[0m\u001b[1;33m\u001b[0m\u001b[0m\n\u001b[0;32m     33\u001b[0m             \u001b[1;32melse\u001b[0m\u001b[1;33m:\u001b[0m\u001b[1;33m\u001b[0m\u001b[0m\n",
      "\u001b[1;31mKeyboardInterrupt\u001b[0m: "
     ]
    }
   ],
   "source": [
    "results = {}\n",
    "num_test_pairs = (np.array((1,0.9,0.8,0.7,0.6,0.5,0.4,0.3,0.2,0.1))* total_pairs).astype(int)\n",
    "# num_test_pairs = (np.array((1,0.8,0.6,0.4,0.2))* total_pairs).astype(int)\n",
    "# num_test_pairs = (np.array((0.4,0.2))* total_pairs).astype(int)\n",
    "\n",
    "results['vid'] = video_score\n",
    "sparsity_error_nihar = []\n",
    "sparsity_error_isabelle = []\n",
    "\n",
    "for test_pair_num in num_test_pairs:\n",
    "    \n",
    "    print 'Current evaluating with %d test pairs' % test_pair_num\n",
    "    \n",
    "    test_pairs = [pairs_truth[i] for i in random.sample(range(total_pairs), test_pair_num)]\n",
    "\n",
    "    w = np.ones(video_num)\n",
    "\n",
    "    res = optimize.minimize(mle, w, \n",
    "                            method='Newton-CG',\n",
    "                            jac=gradient, \n",
    "                            args=(test_pairs,),\n",
    "                            options={'disp': False})\n",
    "    \n",
    "    w_hat = res.x\n",
    "    results[str(test_pair_num)] = w_hat\n",
    "#     compare_rank(video_score, res.x, verbose=False, hist=False)\n",
    "    \n",
    "    sparsity_error_nihar.append(performance_nihar(video_score,w_hat))\n",
    "    sparsity_error_isabelle.append(performance_isabelle(video_score, video_num, w_hat))"
   ]
  },
  {
   "cell_type": "code",
   "execution_count": null,
   "metadata": {
    "collapsed": false
   },
   "outputs": [],
   "source": [
    "plt.figure()\n",
    "plt.plot(sparsity_error_isabelle)\n",
    "plt.figure()\n",
    "plt.plot(sparsity_error_nihar)"
   ]
  },
  {
   "cell_type": "code",
   "execution_count": null,
   "metadata": {
    "collapsed": false
   },
   "outputs": [],
   "source": []
  },
  {
   "cell_type": "markdown",
   "metadata": {
    "collapsed": false
   },
   "source": [
    "### Different Number of Videos"
   ]
  },
  {
   "cell_type": "code",
   "execution_count": 37,
   "metadata": {
    "collapsed": false
   },
   "outputs": [
    {
     "name": "stdout",
     "output_type": "stream",
     "text": [
      "Current evaluating with 50 videos\n",
      "Current evaluating with 100 videos\n",
      "Current evaluating with 150 videos\n",
      "Current evaluating with 200 videos\n",
      "Current evaluating with 250 videos\n",
      "Current evaluating with 300 videos\n"
     ]
    }
   ],
   "source": [
    "video_nums = [50,100,150,200,250,300]\n",
    "\n",
    "result_number = {}\n",
    "number_error_nihar = []\n",
    "number_error_isabelle = []\n",
    "averaged_number_error_isabelle=[]\n",
    "\n",
    "for num in video_nums:\n",
    "    \n",
    "    video_num = num\n",
    "    \n",
    "    video_score = np.random.uniform(-5,5,video_num)\n",
    "    resolution = 0.1\n",
    "    video_score = np.round(video_score/resolution)*resolution\n",
    "\n",
    "    pairs_truth = []\n",
    "\n",
    "    for i in range(len(video_score)-1):\n",
    "        for j in range(i+1, len(video_score)):\n",
    "            if video_score[i] > video_score[j]:\n",
    "                pairs_truth.append((i,j))\n",
    "            else:\n",
    "                pairs_truth.append((j,i))\n",
    "\n",
    "    total_pairs = len(pairs_truth)  \n",
    "    \n",
    "    print 'Current evaluating with %d videos' % video_num\n",
    "    \n",
    "    test_pairs = pairs_truth\n",
    "#     test_pairs = [pairs_truth[i] for i in random.sample(range(total_pairs), test_pair_num)]\n",
    "\n",
    "    w = np.ones(video_num)\n",
    "\n",
    "    res = optimize.minimize(mle, w, \n",
    "                            method='Newton-CG',\n",
    "                            jac=gradient, \n",
    "                            args=(test_pairs,),\n",
    "                            options={'disp': False})\n",
    "    w_hat = res.x\n",
    "    result_number[str(num)] = w_hat\n",
    "    result_number[str(num)+'vid_score'] = video_score\n",
    "    number_error_nihar.append(performance_nihar(video_score,w_hat))\n",
    "    number_error_isabelle.append(performance_isabelle(video_score, video_num, w_hat))\n",
    "    averaged_number_error_isabelle.append(number_error_isabelle[-1]/num)"
   ]
  },
  {
   "cell_type": "code",
   "execution_count": 42,
   "metadata": {
    "collapsed": false
   },
   "outputs": [
    {
     "data": {
      "text/plain": [
       "<matplotlib.text.Text at 0x7f0b469aa150>"
      ]
     },
     "execution_count": 42,
     "metadata": {},
     "output_type": "execute_result"
    },
    {
     "data": {
      "image/png": "[encoded data removed]",
      "text/plain": [
       "<matplotlib.figure.Figure at 0x7f0b45bee6d0>"
      ]
     },
     "metadata": {},
     "output_type": "display_data"
    },
    {
     "data": {
      "image/png": "[encoded data removed]",
      "text/plain": [
       "<matplotlib.figure.Figure at 0x7f0b45abb050>"
      ]
     },
     "metadata": {},
     "output_type": "display_data"
    },
    {
     "data": {
      "image/png": "[encoded data removed]",
      "text/plain": [
       "<matplotlib.figure.Figure at 0x7f0b48c8f450>"
      ]
     },
     "metadata": {},
     "output_type": "display_data"
    }
   ],
   "source": [
    "plt.figure()\n",
    "plt.plot(video_nums, number_error_isabelle, label='Error of Isabelle\\'s method')\n",
    "plt.xlabel('Number of Videos')\n",
    "plt.ylabel('Error of Isabelle\\'s method')\n",
    "\n",
    "plt.figure()\n",
    "plt.plot(video_nums, averaged_number_error_isabelle,label='Error of Isabelle\\'s method Averaged')\n",
    "plt.xlabel('Number of Videos')\n",
    "plt.ylabel('Error of Isabelle\\'s method Averaged')\n",
    "\n",
    "plt.figure()\n",
    "plt.plot(video_nums, number_error_nihar)\n",
    "plt.xlabel('Number of Videos')\n",
    "plt.ylabel('Error of Nihar\\'s method')"
   ]
  },
  {
   "cell_type": "code",
   "execution_count": 40,
   "metadata": {
    "collapsed": false
   },
   "outputs": [
    {
     "data": {
      "text/plain": [
       "[<matplotlib.lines.Line2D at 0x7f0b45a4f790>]"
      ]
     },
     "execution_count": 40,
     "metadata": {},
     "output_type": "execute_result"
    },
    {
     "data": {
      "image/png": "[encoded data removed]",
      "text/plain": [
       "<matplotlib.figure.Figure at 0x7f0b48a9a650>"
      ]
     },
     "metadata": {},
     "output_type": "display_data"
    }
   ],
   "source": [
    "plt.plot(video_nums, averaged_number_error_isabelle,label='Error of Isabelle\\'s method Averaged')"
   ]
  },
  {
   "cell_type": "code",
   "execution_count": 11,
   "metadata": {
    "collapsed": true
   },
   "outputs": [],
   "source": [
    "savemat('result_number1.mat', result_number)"
   ]
  },
  {
   "cell_type": "markdown",
   "metadata": {
    "collapsed": false
   },
   "source": [
    "### Generate data with BTL with diff sparsity"
   ]
  },
  {
   "cell_type": "code",
   "execution_count": 8,
   "metadata": {
    "collapsed": false
   },
   "outputs": [],
   "source": [
    "def sigmoid(x):\n",
    "    return 1 / (1 + np.exp(-x))\n",
    "\n",
    "def noise_generation(video_score, pair):\n",
    "    \"\"\"\n",
    "    Generate a decision of whether to flip, using proability from normal distribution and then \n",
    "    Bernoulli to decide whether to flip\n",
    "    \"\"\"\n",
    "\n",
    "    difference = video_score[pair[0]] - video_score[pair[1]]\n",
    "    p = sigmoid(difference)*(1-sigmoid(difference))\n",
    "    decision = bernoulli.rvs(p,size=1)\n",
    "\n",
    "    return decision"
   ]
  },
  {
   "cell_type": "code",
   "execution_count": null,
   "metadata": {
    "collapsed": false
   },
   "outputs": [],
   "source": [
    "num_test_pairs = (np.array((1,0.9,0.8,0.7,0.6,0.5,0.4,0.3,0.2,0.1))* total_pairs).astype(int)\n",
    "# num_test_pairs = (np.array((0.4,0.2))* total_pairs).astype(int)\n",
    "\n",
    "sparsity_error_generative_nihar = []\n",
    "sparsity_error_generative_isabelle = []\n",
    "result_sparsity_error_generative = {}\n",
    "result_sparsity_error_generative['vid_score'] = video_score\n",
    "\n",
    "for test_pair_num in num_test_pairs:\n",
    "    \n",
    "    print 'Current evaluating with %d test pairs' % test_pair_num\n",
    "    \n",
    "    test_pairs = [pairs_truth[i] for i in random.sample(range(total_pairs), test_pair_num)]\n",
    "    \n",
    "    flip_count = 0\n",
    "    for i in range(len(test_pairs)):\n",
    "        if noise_generation(video_score, test_pairs[i]):\n",
    "            temp = (test_pairs[i][1], test_pairs[i][0])\n",
    "            test_pairs[i] = temp\n",
    "            flip_count +=1\n",
    "\n",
    "    w = np.ones(video_num)\n",
    "    \n",
    "#     print 'evaluating', flip_count/len(test_pairs)\n",
    "\n",
    "    res = optimize.minimize(mle, w, \n",
    "                            method='Newton-CG',\n",
    "                            jac=gradient, \n",
    "                            args=(test_pairs,),\n",
    "                            options={'disp': False})\n",
    "    \n",
    "    w_hat = res.x\n",
    "    result_sparsity_error_generative[str(test_pair_num)] = w_hat\n",
    "    \n",
    "    \n",
    "    sparsity_error_generative_nihar.append(performance_nihar(video_score,w_hat))\n",
    "    sparsity_error_generative_isabelle.append(performance_isabelle(video_score, video_num, w_hat))"
   ]
  },
  {
   "cell_type": "code",
   "execution_count": null,
   "metadata": {
    "collapsed": false
   },
   "outputs": [],
   "source": [
    "result_sparsity_error_generative"
   ]
  },
  {
   "cell_type": "code",
   "execution_count": null,
   "metadata": {
    "collapsed": false
   },
   "outputs": [],
   "source": []
  },
  {
   "cell_type": "code",
   "execution_count": null,
   "metadata": {
    "collapsed": true
   },
   "outputs": [],
   "source": []
  },
  {
   "cell_type": "code",
   "execution_count": null,
   "metadata": {
    "collapsed": false
   },
   "outputs": [],
   "source": []
  },
  {
   "cell_type": "code",
   "execution_count": null,
   "metadata": {
    "collapsed": false
   },
   "outputs": [],
   "source": []
  },
  {
   "cell_type": "code",
   "execution_count": null,
   "metadata": {
    "collapsed": false
   },
   "outputs": [],
   "source": []
  },
  {
   "cell_type": "code",
   "execution_count": null,
   "metadata": {
    "collapsed": false
   },
   "outputs": [],
   "source": []
  },
  {
   "cell_type": "code",
   "execution_count": null,
   "metadata": {
    "collapsed": false
   },
   "outputs": [],
   "source": []
  },
  {
   "cell_type": "code",
   "execution_count": null,
   "metadata": {
    "collapsed": false
   },
   "outputs": [],
   "source": []
  },
  {
   "cell_type": "code",
   "execution_count": null,
   "metadata": {
    "collapsed": false
   },
   "outputs": [],
   "source": []
  },
  {
   "cell_type": "code",
   "execution_count": null,
   "metadata": {
    "collapsed": false
   },
   "outputs": [],
   "source": []
  },
  {
   "cell_type": "code",
   "execution_count": null,
   "metadata": {
    "collapsed": false
   },
   "outputs": [],
   "source": []
  },
  {
   "cell_type": "code",
   "execution_count": null,
   "metadata": {
    "collapsed": false
   },
   "outputs": [],
   "source": []
  },
  {
   "cell_type": "code",
   "execution_count": null,
   "metadata": {
    "collapsed": true
   },
   "outputs": [],
   "source": []
  },
  {
   "cell_type": "code",
   "execution_count": null,
   "metadata": {
    "collapsed": true
   },
   "outputs": [],
   "source": []
  },
  {
   "cell_type": "code",
   "execution_count": null,
   "metadata": {
    "collapsed": true
   },
   "outputs": [],
   "source": []
  },
  {
   "cell_type": "code",
   "execution_count": null,
   "metadata": {
    "collapsed": true
   },
   "outputs": [],
   "source": []
  },
  {
   "cell_type": "code",
   "execution_count": null,
   "metadata": {
    "collapsed": true
   },
   "outputs": [],
   "source": []
  },
  {
   "cell_type": "code",
   "execution_count": null,
   "metadata": {
    "collapsed": true
   },
   "outputs": [],
   "source": []
  },
  {
   "cell_type": "code",
   "execution_count": null,
   "metadata": {
    "collapsed": true
   },
   "outputs": [],
   "source": []
  }
 ],
 "metadata": {
  "kernelspec": {
   "display_name": "Python 2",
   "language": "python",
   "name": "python2"
  },
  "language_info": {
   "codemirror_mode": {
    "name": "ipython",
    "version": 2
   },
   "file_extension": ".py",
   "mimetype": "text/x-python",
   "name": "python",
   "nbconvert_exporter": "python",
   "pygments_lexer": "ipython2",
   "version": "2.7.10"
  }
 },
 "nbformat": 4,
 "nbformat_minor": 0
}
