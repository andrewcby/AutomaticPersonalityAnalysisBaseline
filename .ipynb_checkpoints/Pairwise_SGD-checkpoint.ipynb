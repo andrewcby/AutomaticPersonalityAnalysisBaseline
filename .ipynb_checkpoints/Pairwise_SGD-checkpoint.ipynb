{
 "cells": [
  {
   "cell_type": "code",
   "execution_count": 3,
   "metadata": {
    "collapsed": true
   },
   "outputs": [],
   "source": [
    "import os, csv, random\n",
    "\n",
    "from __future__ import division\n",
    "from matplotlib import  pyplot as plt\n",
    "from memory_profiler import profile\n",
    "from scipy import stats\n",
    "from statsmodels.base.model import GenericLikelihoodModel\n",
    "\n",
    "import numpy as np\n",
    "import scipy.io as sio\n",
    "import seaborn as sns\n",
    "\n",
    "%matplotlib inline"
   ]
  },
  {
   "cell_type": "markdown",
   "metadata": {},
   "source": [
    "# Generate score for videos, and find all possible pairs"
   ]
  },
  {
   "cell_type": "code",
   "execution_count": 114,
   "metadata": {
    "collapsed": false
   },
   "outputs": [
    {
     "name": "stdout",
     "output_type": "stream",
     "text": [
      "Total number of pairs for 30 videos is:  435\n"
     ]
    }
   ],
   "source": [
    "video_num = 30\n",
    "\n",
    "video_score = np.random.uniform(-5,5,video_num)\n",
    "resolution = 0.1\n",
    "video_score = np.round(video_score/resolution)*resolution\n",
    "\n",
    "pairs_truth = []\n",
    "\n",
    "for i in range(len(video_score)-1):\n",
    "    for j in range(i+1, len(video_score)):\n",
    "        if video_score[i] > video_score[j]:\n",
    "            pairs_truth.append((i,j))\n",
    "        else:\n",
    "            pairs_truth.append((j,i))\n",
    "            \n",
    "total_pairs = len(pairs_truth)\n",
    "print 'Total number of pairs for %d videos is: ' %video_num, total_pairs"
   ]
  },
  {
   "cell_type": "markdown",
   "metadata": {},
   "source": [
    "# SGD\n",
    "Assuming the pair $(w_i,w_j)$ means $w_i > w_j$, this function calculates $\\frac{\\partial L}{\\partial w_i} = \\frac{exp(w_j-w_i)}{1+exp(w_j-w_i)}$, where $w_i$ represent the weight to be taken derivative of. Return value is the gradient of the log likelihood function with respect to $w_i$"
   ]
  },
  {
   "cell_type": "code",
   "execution_count": 118,
   "metadata": {
    "collapsed": true
   },
   "outputs": [],
   "source": [
    "def calc_gradient(pairs, w, w_i):\n",
    "    gradient = 0\n",
    "    \n",
    "    for pair in pairs:\n",
    "        if w_i == pair[0]:\n",
    "            out = -1\n",
    "        elif w_i == pair[1]:\n",
    "            out = 1  \n",
    "        else:\n",
    "            out = 0\n",
    "            \n",
    "        gradient -= out/(1/(np.exp(w[pair[1]]-w[pair[0]])+0.00001)+1)\n",
    "    \n",
    "    return gradient"
   ]
  },
  {
   "cell_type": "markdown",
   "metadata": {},
   "source": [
    "$w_{old}$ saves the original values of the gradient, so that later when updating the values, the values to be updated are still using the original value"
   ]
  },
  {
   "cell_type": "code",
   "execution_count": 119,
   "metadata": {
    "collapsed": true
   },
   "outputs": [],
   "source": [
    "def update_gradient(pairs, w, eta):\n",
    "    w_old = w\n",
    "    for i in range(len(w)):\n",
    "        w[i] -= eta*calc_gradient(pairs, w_old, i)\n",
    "    return w"
   ]
  },
  {
   "cell_type": "code",
   "execution_count": 122,
   "metadata": {
    "collapsed": false
   },
   "outputs": [
    {
     "name": "stdout",
     "output_type": "stream",
     "text": [
      "[ 0.67500337 -0.38313294  0.0716007  -0.57929718 -0.0222492   0.52803165\n",
      "  0.22157901  0.46882183 -0.73693939 -0.62812265 -0.07051676 -0.11963592\n",
      "  0.03185848  0.43146229  0.1261497   0.62457747 -0.48299096  0.27293544\n",
      " -0.53045922  0.32602451  0.57198626 -0.28497906 -0.18144026  0.37082428\n",
      " -0.68376394 -0.22553276 -0.42272653  0.18248322  0.73021139 -0.32853651]\n",
      "[ 1350.32318298  -750.59762819   150.02698199 -1150.12389232   -49.97924939\n",
      "  1050.37146933   450.12142512   949.68970018 -1449.15036803 -1249.12044183\n",
      "  -149.9878685   -249.9129047     50.06367361   849.74757097   249.89953234\n",
      "  1249.05356321  -949.72956071   549.60920912 -1048.92250598   649.5051223\n",
      "  1147.93101829  -550.01739754  -349.87603903   748.96584984 -1347.79551649\n",
      "  -449.5250815   -848.49882899   349.54177489  1446.78109626  -648.9857458 ]\n",
      "[ 2700.32318298 -1500.59762819   300.02698199 -2300.12389232   -99.97924939\n",
      "  2100.37146933   900.12142512  1899.68970018 -2899.15036803 -2499.12044183\n",
      "  -299.9878685   -499.9129047    100.06367361  1699.74757097   499.89953234\n",
      "  2499.05356321 -1899.72956071  1099.60920912 -2098.92250598  1299.5051223\n",
      "  2297.93101829 -1100.01739754  -699.87603903  1498.96584984 -2697.79551649\n",
      "  -899.5250815  -1698.49882899   699.54177489  2896.78109626 -1298.9857458 ]\n",
      "[ 4050.32318298 -2250.59762819   450.02698199 -3450.12389232  -149.97924939\n",
      "  3150.37146933  1350.12142512  2849.68970018 -4349.15036803 -3749.12044183\n",
      "  -449.9878685   -749.9129047    150.06367361  2549.74757097   749.89953234\n",
      "  3749.05356321 -2849.72956071  1649.60920912 -3148.92250598  1949.5051223\n",
      "  3447.93101829 -1650.01739754 -1049.87603903  2248.96584984 -4047.79551649\n",
      " -1349.5250815  -2548.49882899  1049.54177489  4346.78109626 -1948.9857458 ]\n",
      "[ 5400.32318298 -3000.59762819   600.02698199 -4600.12389232  -199.97924939\n",
      "  4200.37146933  1800.12142512  3799.68970018 -5799.15036803 -4999.12044183\n",
      "  -599.9878685   -999.9129047    200.06367361  3399.74757097   999.89953234\n",
      "  4999.05356321 -3799.72956071  2199.60920912 -4198.92250598  2599.5051223\n",
      "  4597.93101829 -2200.01739754 -1399.87603903  2998.96584984 -5397.79551649\n",
      " -1799.5250815  -3398.49882899  1399.54177489  5796.78109626 -2598.9857458 ]\n",
      "[ 6750.32318298 -3750.59762819   750.02698199 -5750.12389232  -249.97924939\n",
      "  5250.37146933  2250.12142512  4749.68970018 -7249.15036803 -6249.12044183\n",
      "  -749.9878685  -1249.9129047    250.06367361  4249.74757097  1249.89953234\n",
      "  6249.05356321 -4749.72956071  2749.60920912 -5248.92250598  3249.5051223\n",
      "  5747.93101829 -2750.01739754 -1749.87603903  3748.96584984 -6747.79551649\n",
      " -2249.5250815  -4248.49882899  1749.54177489  7246.78109626 -3248.9857458 ]\n",
      "[ 8100.32318298 -4500.59762819   900.02698199 -6900.12389232  -299.97924939\n",
      "  6300.37146933  2700.12142512  5699.68970018 -8699.15036803 -7499.12044183\n",
      "  -899.9878685  -1499.9129047    300.06367361  5099.74757097  1499.89953234\n",
      "  7499.05356321 -5699.72956071  3299.60920912 -6298.92250598  3899.5051223\n",
      "  6897.93101829 -3300.01739754 -2099.87603903  4498.96584984 -8097.79551649\n",
      " -2699.5250815  -5098.49882899  2099.54177489  8696.78109626 -3898.9857458 ]\n",
      "[  9450.32318298  -5250.59762819   1050.02698199  -8050.12389232\n",
      "   -349.97924939   7350.37146933   3150.12142512   6649.68970018\n",
      " -10149.15036803  -8749.12044183  -1049.9878685   -1749.9129047\n",
      "    350.06367361   5949.74757097   1749.89953234   8749.05356321\n",
      "  -6649.72956071   3849.60920912  -7348.92250598   4549.5051223\n",
      "   8047.93101829  -3850.01739754  -2449.87603903   5248.96584984\n",
      "  -9447.79551649  -3149.5250815   -5948.49882899   2449.54177489\n",
      "  10146.78109626  -4548.9857458 ]\n",
      "[ 10800.32318298  -6000.59762819   1200.02698199  -9200.12389232\n",
      "   -399.97924939   8400.37146933   3600.12142512   7599.68970018\n",
      " -11599.15036804  -9999.12044183  -1199.9878685   -1999.9129047\n",
      "    400.06367361   6799.74757097   1999.89953234   9999.05356321\n",
      "  -7599.72956071   4399.60920912  -8398.92250598   5199.5051223\n",
      "   9197.93101829  -4400.01739754  -2799.87603903   5998.96584984\n",
      " -10797.79551649  -3599.5250815   -6798.49882899   2799.54177489\n",
      "  11596.78109626  -5198.9857458 ]\n",
      "[ 12150.32318298  -6750.59762819   1350.02698199 -10350.12389232\n",
      "   -449.97924939   9450.37146933   4050.12142512   8549.68970018\n",
      " -13049.15036804 -11249.12044183  -1349.9878685   -2249.9129047\n",
      "    450.06367361   7649.74757097   2249.89953234  11249.05356321\n",
      "  -8549.72956071   4949.60920912  -9448.92250598   5849.5051223\n",
      "  10347.93101829  -4950.01739754  -3149.87603903   6748.96584984\n",
      " -12147.79551649  -4049.5250815   -7648.49882899   3149.54177489\n",
      "  13046.78109626  -5848.9857458 ]\n"
     ]
    }
   ],
   "source": [
    "w = np.zeros(30)\n",
    "pairs = pairs_truth\n",
    "results = []\n",
    "for i in range(10000):\n",
    "    \n",
    "    w = update_gradient(pairs, w, 0.05)\n",
    "    if i % 1000 ==0:\n",
    "        print w\n",
    "    results.append(w[0])\n",
    "    "
   ]
  },
  {
   "cell_type": "code",
   "execution_count": 123,
   "metadata": {
    "collapsed": false
   },
   "outputs": [
    {
     "data": {
      "text/plain": [
       "[<matplotlib.lines.Line2D at 0x109273cd0>]"
      ]
     },
     "execution_count": 123,
     "metadata": {},
     "output_type": "execute_result"
    },
    {
     "data": {
      "image/png": "[encoded data removed]",
      "text/plain": [
       "<matplotlib.figure.Figure at 0x109132290>"
      ]
     },
     "metadata": {},
     "output_type": "display_data"
    }
   ],
   "source": [
    "plt.plot(results)"
   ]
  },
  {
   "cell_type": "markdown",
   "metadata": {},
   "source": [
    "# Generate Data using Generative function "
   ]
  },
  {
   "cell_type": "code",
   "execution_count": null,
   "metadata": {
    "collapsed": true
   },
   "outputs": [],
   "source": []
  },
  {
   "cell_type": "code",
   "execution_count": null,
   "metadata": {
    "collapsed": true
   },
   "outputs": [],
   "source": []
  },
  {
   "cell_type": "code",
   "execution_count": null,
   "metadata": {
    "collapsed": true
   },
   "outputs": [],
   "source": []
  },
  {
   "cell_type": "code",
   "execution_count": null,
   "metadata": {
    "collapsed": true
   },
   "outputs": [],
   "source": []
  },
  {
   "cell_type": "code",
   "execution_count": null,
   "metadata": {
    "collapsed": true
   },
   "outputs": [],
   "source": []
  },
  {
   "cell_type": "code",
   "execution_count": null,
   "metadata": {
    "collapsed": true
   },
   "outputs": [],
   "source": []
  },
  {
   "cell_type": "code",
   "execution_count": null,
   "metadata": {
    "collapsed": true
   },
   "outputs": [],
   "source": []
  },
  {
   "cell_type": "code",
   "execution_count": null,
   "metadata": {
    "collapsed": true
   },
   "outputs": [],
   "source": []
  },
  {
   "cell_type": "code",
   "execution_count": null,
   "metadata": {
    "collapsed": true
   },
   "outputs": [],
   "source": []
  },
  {
   "cell_type": "code",
   "execution_count": null,
   "metadata": {
    "collapsed": true
   },
   "outputs": [],
   "source": []
  }
 ],
 "metadata": {
  "kernelspec": {
   "display_name": "Python 2",
   "language": "python",
   "name": "python2"
  },
  "language_info": {
   "codemirror_mode": {
    "name": "ipython",
    "version": 2
   },
   "file_extension": ".py",
   "mimetype": "text/x-python",
   "name": "python",
   "nbconvert_exporter": "python",
   "pygments_lexer": "ipython2",
   "version": "2.7.10"
  }
 },
 "nbformat": 4,
 "nbformat_minor": 0
}
