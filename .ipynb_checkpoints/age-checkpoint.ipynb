{
 "cells": [
  {
   "cell_type": "code",
   "execution_count": 1,
   "metadata": {
    "collapsed": false
   },
   "outputs": [],
   "source": [
    "from functions import mle , gradient, init_graph, matching_func, regularized_vector, sigmoid, noise_generation\n",
    "\n",
    "import random, csv, time, os, pickle, re, math\n",
    "\n",
    "import numpy as np\n",
    "import pandas as pd\n",
    "import matplotlib.pyplot as plt\n",
    "\n",
    "from scipy import optimize\n",
    "from scipy.stats import bernoulli\n",
    "from scipy.io import savemat\n",
    "from __future__ import division\n",
    "from datetime import datetime\n",
    "\n",
    "%matplotlib inline"
   ]
  },
  {
   "cell_type": "code",
   "execution_count": 2,
   "metadata": {
    "collapsed": false
   },
   "outputs": [],
   "source": [
    "# file format\n",
    "# file_name  real_age  apparent_age  worker_age  worker_gender\n",
    "\n",
    "ReRead = False\n",
    "\n",
    "if ReRead:\n",
    "    path = './age/'\n",
    "    csv_files = [f for f in os.listdir(path) if f.endswith('.csv')]\n",
    "\n",
    "    votes = dict()\n",
    "\n",
    "    for files in csv_files:\n",
    "        time0 = time.time()\n",
    "        files = path+files\n",
    "        df = pd.read_csv(files)\n",
    "        for row in df.iterrows():\n",
    "            if row[1]['file_name'] in votes.keys():\n",
    "                votes[row[1]['file_name']]['votes'].append(row[1]['apparent_age'])\n",
    "            else:\n",
    "                votes[row[1]['file_name']] = dict()\n",
    "                votes[row[1]['file_name']]['votes'] = [row[1]['apparent_age']]\n",
    "                votes[row[1]['file_name']]['age'] = row[1]['real_age']\n",
    "        print time.time()-time0\n",
    "        \n",
    "    for key in votes.keys():\n",
    "        votes[key]['avg'] = np.mean(votes[key]['votes'])\n",
    "    pickle.dump( votes, open( 'real_votes.p', \"wb\" ) )"
   ]
  },
  {
   "cell_type": "code",
   "execution_count": 3,
   "metadata": {
    "collapsed": false
   },
   "outputs": [],
   "source": [
    "# Real votes will be saved in the pickle file. In the future can directly load it\n",
    "votes = pickle.load( open( 'real_votes.p', \"rb\" ) )"
   ]
  },
  {
   "cell_type": "markdown",
   "metadata": {},
   "source": [
    "# Below is the code for pairs generate from individual votes and zero noise in generation. Use $\\sigma = \\sqrt2s$, where s is the standard deviation of the age data in the BLT model. "
   ]
  },
  {
   "cell_type": "code",
   "execution_count": 4,
   "metadata": {
    "collapsed": false
   },
   "outputs": [
    {
     "name": "stdout",
     "output_type": "stream",
     "text": [
      "352.485533953\n"
     ]
    }
   ],
   "source": [
    "items = votes.keys()\n",
    "tot_num = len(items)\n",
    "nlogn = int(tot_num*np.log(tot_num))\n",
    "fractions = [0.5]\n",
    "sigma = (4*np.sqrt(2))\n",
    "\n",
    "for fraction in fractions:\n",
    "    pairs = init_graph(tot_num, int(nlogn*fraction))\n",
    "    \n",
    "    for i in range(len(pairs)):\n",
    "        if random.choice(votes[items[pairs[i][0]]]['votes']) < random.choice(votes[items[pairs[i][1]]]['votes']):\n",
    "            pairs[i] = (pairs[i][1] ,pairs[i][0])\n",
    "        \n",
    "    start_time = time.time()\n",
    "    w = np.ones(tot_num)\n",
    "    res = optimize.minimize(mle, w, \n",
    "                            method='Newton-CG',\n",
    "                            jac=gradient,\n",
    "                            args=(pairs,sigma,),\n",
    "                            tol = 10,\n",
    "                            options={'disp': False})\n",
    "    \n",
    "    print time.time() - start_time"
   ]
  },
  {
   "cell_type": "markdown",
   "metadata": {
    "collapsed": true
   },
   "source": [
    "# Below is the code for pair generation with the average age for each person; use the same sigma for generation and fit in the BLT model"
   ]
  },
  {
   "cell_type": "code",
   "execution_count": null,
   "metadata": {
    "collapsed": false
   },
   "outputs": [],
   "source": [
    "items = votes.keys()\n",
    "tot_num = len(items)\n",
    "nlogn = int(tot_num*np.log(tot_num))\n",
    "fractions = [0.5]\n",
    "sigma = (4*np.sqrt(2))\n",
    "\n",
    "for fraction in fractions:\n",
    "    pairs = init_graph(tot_num, int(nlogn*fraction))\n",
    "    \n",
    "    for i in range(len(pairs)):\n",
    "        if votes[items[pairs[i][0]]]['avg'] < votes[items[pairs[i][1]]]['avg']:\n",
    "            pairs[i] = (pairs[i][1] ,pairs[i][0])\n",
    "        \n",
    "    start_time = time.time()\n",
    "    w = np.ones(tot_num)\n",
    "    res = optimize.minimize(mle, w, \n",
    "                            method='Newton-CG',\n",
    "                            jac=gradient,\n",
    "                            args=(pairs,sigma,),\n",
    "                            tol = 10,\n",
    "                            options={'disp': False})\n",
    "    \n",
    "    print time.time() - start_time"
   ]
  },
  {
   "cell_type": "code",
   "execution_count": 48,
   "metadata": {
    "collapsed": false
   },
   "outputs": [
    {
     "ename": "NameError",
     "evalue": "name 'sigmoid' is not defined",
     "output_type": "error",
     "traceback": [
      "\u001b[0;31m---------------------------------------------------------------------------\u001b[0m",
      "\u001b[0;31mNameError\u001b[0m                                 Traceback (most recent call last)",
      "\u001b[0;32m<ipython-input-48-af923b4634ba>\u001b[0m in \u001b[0;36m<module>\u001b[0;34m()\u001b[0m\n\u001b[0;32m----> 1\u001b[0;31m \u001b[0msigmoid\u001b[0m\u001b[0;34m(\u001b[0m\u001b[0;36m4\u001b[0m\u001b[0;34m)\u001b[0m\u001b[0;34m\u001b[0m\u001b[0m\n\u001b[0m",
      "\u001b[0;31mNameError\u001b[0m: name 'sigmoid' is not defined"
     ]
    }
   ],
   "source": []
  },
  {
   "cell_type": "code",
   "execution_count": null,
   "metadata": {
    "collapsed": true
   },
   "outputs": [],
   "source": []
  }
 ],
 "metadata": {
  "kernelspec": {
   "display_name": "Python 2",
   "language": "python",
   "name": "python2"
  },
  "language_info": {
   "codemirror_mode": {
    "name": "ipython",
    "version": 2
   },
   "file_extension": ".py",
   "mimetype": "text/x-python",
   "name": "python",
   "nbconvert_exporter": "python",
   "pygments_lexer": "ipython2",
   "version": "2.7.10"
  }
 },
 "nbformat": 4,
 "nbformat_minor": 0
}
