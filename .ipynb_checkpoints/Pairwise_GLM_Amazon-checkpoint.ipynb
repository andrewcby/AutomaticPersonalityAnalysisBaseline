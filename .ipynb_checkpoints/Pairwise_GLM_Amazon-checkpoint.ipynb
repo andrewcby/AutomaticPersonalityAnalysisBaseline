{
 "cells": [
  {
   "cell_type": "markdown",
   "metadata": {},
   "source": [
    "# Below is with Generic Likelihood Model Class"
   ]
  },
  {
   "cell_type": "code",
   "execution_count": 156,
   "metadata": {
    "collapsed": true
   },
   "outputs": [],
   "source": [
    "import os, csv, random, time\n",
    "from __future__ import division\n",
    "from matplotlib import  pyplot as plt\n",
    "import numpy as np\n",
    "from scipy.stats import bernoulli,poisson,norm,expon\n",
    "import scipy.io as sio\n",
    "from scipy import stats\n",
    "from collections import deque\n",
    "from scipy import optimize\n",
    "import seaborn as sns\n",
    "from statsmodels.base.model import GenericLikelihoodModel\n",
    "%matplotlib inline"
   ]
  },
  {
   "cell_type": "markdown",
   "metadata": {},
   "source": [
    "1. The function $regularized\\_vector$ is what Nihar proposed. \n",
    "\n",
    "Suppose $w^*$ is the true value and $\\hat{w}$ is the inferred value from our optimization, we want to minimize $||w^* - a \\cdot \\hat{w} - b||_2^2 $ by finding optimial value of a and b, which will be done through $matching\\_func$. And then we introduce a new value $v= a\\cdot \\hat{w} + b$ as the new weight for the videos. \n",
    "\n",
    "All the error metric evaluation would be made between $v$ and $w^*$, and here we are using $L_2$ norm, which is assessed through $performance_nihar$\n",
    "\n",
    "2. The function $performance\\_isabelle$ is what Isabelle proposed.\n",
    "\n",
    "Assume 3 scores $T_1, T_2, T_3$, that are adjacent when we rank all true scores, and the results scores of the corresponding videos $R_1, R_2, R_3$. We can compute $||\\frac{T_2-T_1}{T_3-T_1+\\epsilon}  - \\frac{R_2-R_1}{R_3-R_1+\\epsilon} ||$ and average over all adjacent triplets."
   ]
  },
  {
   "cell_type": "code",
   "execution_count": 192,
   "metadata": {
    "collapsed": false
   },
   "outputs": [],
   "source": [
    "class Pairwise(GenericLikelihoodModel):\n",
    "    \n",
    "    def __init__(self, endog, video_num, video_score, exog=None, **kwds):\n",
    "        super(Pairwise, self).__init__(endog, exog, **kwds)\n",
    "        self.rank =  deque([[1],[1]])\n",
    "        self.w_hat = []\n",
    "        self.video_num = video_num\n",
    "        self.pairs_truth = self.endog\n",
    "        self.total_pairs = len(self.endog)\n",
    "        self.v = []\n",
    "        self.w_star = np.array(video_score)\n",
    "        \n",
    "     \n",
    "    def test_data_generation_sparsity(self, showResult=False, Nihar=False, Isabelle=False):\n",
    "        \n",
    "        \"\"\"\n",
    "        Shows how the error evolves with sparser data\n",
    "        \"\"\"\n",
    "        \n",
    "        all_data = self.endog\n",
    "        \n",
    "        num_test_pairs = (np.array((1,0.9,0.8,0.7,0.6,0.5,0.4,0.3,0.2,0.1))* self.total_pairs).astype(int)\n",
    "        \n",
    "        output_error_nihar = []\n",
    "        output_error_isabelle = []\n",
    "\n",
    "        for test_pair_num in num_test_pairs:\n",
    "            print 'Current evaluating with %d test pairs' % test_pair_num\n",
    "            test_pairs = [self.pairs_truth[i] for i in random.sample(range(self.total_pairs), test_pair_num)]\n",
    "            self.endog = np.array(test_pairs)\n",
    "            \n",
    "            w_init = np.random.uniform(-5,5,video_num)\n",
    "            self.fit(w_init)\n",
    "            \n",
    "            if showResult:\n",
    "                res = self.rank[0]\n",
    "                compare_rank(self.w_star, res, False, True)\n",
    "                plt.legend([str(i) for i in num_test_pairs])  \n",
    "            if Nihar:\n",
    "                output_error_nihar.append(self.performance_nihar())\n",
    "            if Isabelle:\n",
    "                output_error_isabelle.append(self.performance_isabelle())\n",
    "                \n",
    "        self.endog = all_data\n",
    "        return output_error_nihar, output_error_isabelle\n",
    "        \n",
    "        \n",
    "    def test_data_generation_noise(self, showResult=False, Nihar=False, Isabelle=False):\n",
    "        \"\"\"\n",
    "        Generate a decision of whether to flip, using a percentage and then select randomly to flip\n",
    "        \"\"\"\n",
    "        all_data = self.endog\n",
    "\n",
    "        num_test_pairs = self.total_pairs\n",
    "        flip_threshold = np.array((0,0.05,0.1,0.15,0.2,0.25,0.3,0.4,0.5))\n",
    "        \n",
    "        output_error_nihar = []\n",
    "        output_error_isabelle = []\n",
    "\n",
    "        for to_flip in flip_threshold:\n",
    "            print 'Current evaluating with %f to flip' % to_flip\n",
    "\n",
    "            test_pairs_with_error = self.pairs_truth\n",
    "\n",
    "            num_to_flip = int(num_test_pairs*to_flip)\n",
    "\n",
    "            for i in random.sample(range(num_test_pairs), num_to_flip):\n",
    "                test_pairs_with_error[i] = (self.pairs_truth[i][1],self.pairs_truth[i][0])\n",
    "\n",
    "            self.endog = test_pairs_with_error\n",
    "            \n",
    "            w_init = np.random.uniform(-5,5,video_num)\n",
    "            self.fit(w_init)\n",
    "\n",
    "            if showResult:\n",
    "                res = self.rank[0]\n",
    "                compare_rank(self.w_star, res, False, True)\n",
    "                plt.legend([str(i) for i in num_test_pairs])  \n",
    "            if Nihar:\n",
    "                output_error_nihar.append(self.performance_nihar())\n",
    "            if Isabelle:\n",
    "                output_error_isabelle.append(self.performance_isabelle())\n",
    "                \n",
    "        self.endog = all_data\n",
    "        return output_error_nihar, output_error_isabelle\n",
    "    \n",
    "    \n",
    "    def noise_generation(self, pair):\n",
    "        \"\"\"\n",
    "        Generate a decision of whether to flip, using proability from normal distribution and then \n",
    "        Bernoulli to decide whether to flip\n",
    "        \"\"\"\n",
    "\n",
    "        difference = self.rank[0][pair[0]] - self.rank[0][pair[1]]\n",
    "        p = norm(0, 3.33).pdf(difference)\n",
    "        decision = bernoulli.rvs(p,size=1)\n",
    "        \n",
    "        return decision\n",
    "        \n",
    "    \n",
    "    \n",
    "    def test_data_generation_noise_generative_model(self, showResult=False, Nihar=False, Isabelle=False):\n",
    "        \"\"\"\n",
    "        Function that calculate error using normal distribution to determine the probility of whether to\n",
    "        flip the pair. Highest chance, at scores equal is around 0.12\n",
    "        \"\"\"\n",
    "        all_data = self.endog\n",
    "\n",
    "        test_pairs = self.pairs_truth\n",
    "        \n",
    "        for i in range(self.total_pairs):\n",
    "            if self.noise_generation(test_pairs[i]):\n",
    "                test_pairs[i][0] = test_pairs[i][1]\n",
    "                test_pairs[i][1] = self.pairs_truth[i][0]\n",
    "                \n",
    "        self.endog = test_pairs\n",
    "        w_init = np.random.uniform(-5,5,video_num)\n",
    "        self.fit(w_init)\n",
    "\n",
    "        if showResult:\n",
    "            res = self.rank[0]\n",
    "            compare_rank(self.w_star, res, False, True)\n",
    "            plt.legend([str(i) for i in num_test_pairs])  \n",
    "        if Nihar:\n",
    "            print self.performance_nihar()\n",
    "        if Isabelle:\n",
    "            print self.performance_isabelle()\n",
    "\n",
    "        self.endog = all_data\n",
    "        \n",
    "    def nloglikeobs(self, params):\n",
    "        \"\"\"\n",
    "        Calculate negative log likelihood used for main optimization\n",
    "        \"\"\"\n",
    "        \n",
    "        out = 1\n",
    "        pairs = self.endog\n",
    "        w = params\n",
    "        \n",
    "        for pair in pairs:\n",
    "            out *= 1/(1+np.exp(w[pair[1]] - w[pair[0]]))   \n",
    "            \n",
    "        return -np.log(out)\n",
    "    \n",
    "    \n",
    "    def score(self, params):\n",
    "        \"\"\"\n",
    "        Calculate gradient\n",
    "        \"\"\"\n",
    "        self.rank.popleft()\n",
    "        w = params\n",
    "        pairs = self.endog\n",
    "        grad = []\n",
    "        for i in range(len(w)):\n",
    "            grad.append(self.calc_gradient(pairs, w, i))\n",
    "        \n",
    "        self.rank.append(grad)\n",
    "        \n",
    "        return np.array(grad)\n",
    "    \n",
    "        \n",
    "    def calc_gradient(self,pairs, w, w_i):\n",
    "        \"\"\"\n",
    "        Function used in score() to calculate gradient\n",
    "        \"\"\"\n",
    "        gradient = 0\n",
    "\n",
    "        for pair in pairs:\n",
    "            if w_i == pair[0]:\n",
    "                out = -1\n",
    "            elif w_i == pair[1]:\n",
    "                out = 1  \n",
    "            else:\n",
    "                out = 0\n",
    "\n",
    "            gradient -= out / (1/(np.exp(w[pair[1]]-w[pair[0]]) + 0.00001) +1 )\n",
    "            \n",
    "        return gradient\n",
    "    \n",
    "    \n",
    "    def matching_func(self, param):\n",
    "        \"\"\"\n",
    "        Function used to calculate L2 norm of v and w_star. Used to find a and b.\n",
    "        Here params is [a, b]\n",
    "        \"\"\"\n",
    "        return np.linalg.norm(self.w_star - param[0]*np.array(self.rank[0]) - param[1])\n",
    "\n",
    "    \n",
    "    def regularized_vector(self):\n",
    "        \"\"\"\n",
    "        Function used to generate vector v after using matching_func to find optimal a and b\n",
    "        \"\"\"\n",
    "        coeff = optimize.minimize(self.matching_func, [0, 0])\n",
    "        \n",
    "        self.a = coeff['x'][0]\n",
    "        self.b = coeff['x'][1]\n",
    "        self.v = self.a*np.array(self.rank[0])+self.b\n",
    "        \n",
    "        \n",
    "    def performance_isabelle(self):\n",
    "        \"\"\"\n",
    "        Performance evaluation using method proposed by Isabelle\n",
    "        \"\"\"\n",
    "        epsilon = 0.0001\n",
    "        error = 0\n",
    "        self.w_hat = np.array(self.rank[0])\n",
    "        \n",
    "        true_order = np.array(self.w_star).argsort()\n",
    "        true_ranks = true_order.argsort()\n",
    "        \n",
    "        what = [ self.w_hat[i] for i in true_ranks]\n",
    "        wstar = [ self.w_star[i] for i in true_ranks]\n",
    "        \n",
    "        for i in range(len(self.w_star)-2):\n",
    "            error += np.abs((wstar[i+1]-wstar[i])/(wstar[i+2]-wstar[i]+epsilon)-\n",
    "                            (what[i+1]-what[i])/(what[i+2]-what[i]+epsilon))\n",
    "        error /= self.total_pairs-2\n",
    "        return error\n",
    "    \n",
    "\n",
    "    def performance_nihar(self):\n",
    "        \"\"\"\n",
    "        Performance evaluation using method proposed by Nihar\n",
    "        \"\"\"\n",
    "        self.regularized_vector()\n",
    "        return np.linalg.norm(self.w_star - self.v)\n",
    "    \n",
    "    \n",
    "    \n",
    "    def fit(self, start_params=None, maxiter=1000, maxfun=5000):  \n",
    "        return super(Pairwise, self).fit(start_params=start_params, \n",
    "                                         method='cg',\n",
    "#                                          bounds = (-5,5),\n",
    "                                         maxiter=maxiter,\n",
    "                                         disp=0,\n",
    "                                         maxfun=maxfun)"
   ]
  },
  {
   "cell_type": "markdown",
   "metadata": {},
   "source": [
    "# Generate Data randomly"
   ]
  },
  {
   "cell_type": "code",
   "execution_count": 81,
   "metadata": {
    "collapsed": true
   },
   "outputs": [],
   "source": [
    "def compare_rank(video_score, results, verbose=False, hist=False, pct=100):\n",
    "    true_order = np.array(video_score).argsort()\n",
    "    true_ranks = true_order.argsort()\n",
    "\n",
    "    temp_o = np.array(results).argsort()\n",
    "    temp_r = temp_o.argsort()\n",
    "\n",
    "    resolution = 0.1\n",
    "    video_score_results = np.round(np.array(results)/resolution)*resolution\n",
    "    \n",
    "    if verbose:\n",
    "        print 'Result Order \\t True Order \\t Result Score \\t Ture Score'\n",
    "        for i in range(len(temp_r)):\n",
    "            print temp_r[i], '\\t\\t', true_ranks[i], '\\t\\t', video_score_results[i], '\\t\\t', video_score[i]\n",
    "            \n",
    "    if hist:\n",
    "        diff = np.abs(temp_r - true_ranks)\n",
    "        plt.hist(diff, alpha=0.5)"
   ]
  },
  {
   "cell_type": "code",
   "execution_count": 82,
   "metadata": {
    "collapsed": true
   },
   "outputs": [],
   "source": [
    "video_num = 30\n",
    "\n",
    "video_score = np.random.uniform(-5,5,video_num)\n",
    "resolution = 0.1\n",
    "video_score = np.round(video_score/resolution)*resolution\n",
    "\n",
    "pairs_truth = []\n",
    "\n",
    "for i in range(len(video_score)-1):\n",
    "    for j in range(i+1, len(video_score)):\n",
    "        if video_score[i] > video_score[j]:\n",
    "            pairs_truth.append((i,j))\n",
    "        else:\n",
    "            pairs_truth.append((j,i))\n",
    "            \n",
    "total_pairs = len(pairs_truth)"
   ]
  },
  {
   "cell_type": "code",
   "execution_count": 114,
   "metadata": {
    "collapsed": false
   },
   "outputs": [],
   "source": [
    "model = Pairwise(np.array(pairs_truth), video_num, video_score)\n",
    "\n",
    "w_init = np.ones(video_num)\n",
    "\n",
    "# start_time = time.time()\n",
    "# results = model.fit(w_init)\n",
    "# print  'Time Spent: %.2f seconds' %float(time.time() - start_time)"
   ]
  },
  {
   "cell_type": "code",
   "execution_count": 97,
   "metadata": {
    "collapsed": false
   },
   "outputs": [
    {
     "name": "stdout",
     "output_type": "stream",
     "text": [
      "Result Order \t True Order \t Result Score \t Ture Score\n",
      "23 \t\t23 \t\t17.0 \t\t2.8\n",
      "4 \t\t4 \t\t-22.0 \t\t-4.5\n",
      "20 \t\t21 \t\t11.0 \t\t1.1\n",
      "21 \t\t20 \t\t13.0 \t\t1.1\n",
      "2 \t\t1 \t\t-24.0 \t\t-4.9\n",
      "18 \t\t18 \t\t7.0 \t\t0.4\n",
      "17 \t\t17 \t\t5.0 \t\t0.3\n",
      "11 \t\t11 \t\t-7.0 \t\t-1.5\n",
      "28 \t\t27 \t\t26.0 \t\t4.5\n",
      "24 \t\t24 \t\t20.0 \t\t4.0\n",
      "7 \t\t7 \t\t-15.0 \t\t-3.4\n",
      "29 \t\t28 \t\t28.0 \t\t4.8\n",
      "22 \t\t22 \t\t15.0 \t\t1.7\n",
      "26 \t\t26 \t\t24.0 \t\t4.2\n",
      "27 \t\t29 \t\t24.0 \t\t4.8\n",
      "14 \t\t15 \t\t-1.0 \t\t-0.9\n",
      "9 \t\t9 \t\t-11.0 \t\t-2.0\n",
      "5 \t\t5 \t\t-20.0 \t\t-4.2\n",
      "0 \t\t0 \t\t-28.0 \t\t-4.9\n",
      "13 \t\t13 \t\t-3.0 \t\t-1.1\n",
      "16 \t\t16 \t\t3.0 \t\t-0.4\n",
      "8 \t\t8 \t\t-13.0 \t\t-3.1\n",
      "19 \t\t19 \t\t9.0 \t\t0.8\n",
      "25 \t\t25 \t\t22.0 \t\t4.0\n",
      "15 \t\t14 \t\t1.0 \t\t-0.9\n",
      "6 \t\t6 \t\t-17.0 \t\t-3.5\n",
      "1 \t\t2 \t\t-26.0 \t\t-4.7\n",
      "10 \t\t10 \t\t-9.0 \t\t-1.8\n",
      "12 \t\t12 \t\t-5.0 \t\t-1.4\n",
      "3 \t\t3 \t\t-24.0 \t\t-4.6\n"
     ]
    }
   ],
   "source": [
    "res = model.rank[0]\n",
    "compare_rank(video_score, res, True)"
   ]
  },
  {
   "cell_type": "code",
   "execution_count": 98,
   "metadata": {
    "collapsed": false
   },
   "outputs": [
    {
     "data": {
      "image/png": "[encoded data removed]",
      "text/plain": [
       "<matplotlib.figure.Figure at 0x10927d150>"
      ]
     },
     "metadata": {},
     "output_type": "display_data"
    }
   ],
   "source": [
    "compare_rank(video_score, res, False, True)"
   ]
  },
  {
   "cell_type": "code",
   "execution_count": 193,
   "metadata": {
    "collapsed": false
   },
   "outputs": [
    {
     "name": "stdout",
     "output_type": "stream",
     "text": [
      "Current evaluating with 435 test pairs\n"
     ]
    },
    {
     "ename": "KeyboardInterrupt",
     "evalue": "",
     "output_type": "error",
     "traceback": [
      "\u001b[0;31m---------------------------------------------------------------------------\u001b[0m",
      "\u001b[0;31mKeyboardInterrupt\u001b[0m                         Traceback (most recent call last)",
      "\u001b[0;32m<ipython-input-193-253b41f55c3d>\u001b[0m in \u001b[0;36m<module>\u001b[0;34m()\u001b[0m\n\u001b[1;32m      1\u001b[0m \u001b[0mmodel\u001b[0m \u001b[0;34m=\u001b[0m \u001b[0mPairwise\u001b[0m\u001b[0;34m(\u001b[0m\u001b[0mnp\u001b[0m\u001b[0;34m.\u001b[0m\u001b[0marray\u001b[0m\u001b[0;34m(\u001b[0m\u001b[0mpairs_truth\u001b[0m\u001b[0;34m)\u001b[0m\u001b[0;34m,\u001b[0m \u001b[0mvideo_num\u001b[0m\u001b[0;34m,\u001b[0m \u001b[0mvideo_score\u001b[0m\u001b[0;34m)\u001b[0m\u001b[0;34m\u001b[0m\u001b[0m\n\u001b[1;32m      2\u001b[0m \u001b[0;34m\u001b[0m\u001b[0m\n\u001b[0;32m----> 3\u001b[0;31m \u001b[0msparsity_Nihar\u001b[0m\u001b[0;34m,\u001b[0m \u001b[0msparsity_Isabelle\u001b[0m \u001b[0;34m=\u001b[0m \u001b[0mmodel\u001b[0m\u001b[0;34m.\u001b[0m\u001b[0mtest_data_generation_sparsity\u001b[0m\u001b[0;34m(\u001b[0m\u001b[0mNihar\u001b[0m\u001b[0;34m=\u001b[0m\u001b[0mTrue\u001b[0m\u001b[0;34m,\u001b[0m \u001b[0mIsabelle\u001b[0m\u001b[0;34m=\u001b[0m\u001b[0mTrue\u001b[0m\u001b[0;34m)\u001b[0m\u001b[0;34m\u001b[0m\u001b[0m\n\u001b[0m",
      "\u001b[0;32m<ipython-input-192-bb99eb176588>\u001b[0m in \u001b[0;36mtest_data_generation_sparsity\u001b[0;34m(self, showResult, Nihar, Isabelle)\u001b[0m\n\u001b[1;32m     31\u001b[0m \u001b[0;34m\u001b[0m\u001b[0m\n\u001b[1;32m     32\u001b[0m             \u001b[0mw_init\u001b[0m \u001b[0;34m=\u001b[0m \u001b[0mnp\u001b[0m\u001b[0;34m.\u001b[0m\u001b[0mrandom\u001b[0m\u001b[0;34m.\u001b[0m\u001b[0muniform\u001b[0m\u001b[0;34m(\u001b[0m\u001b[0;34m-\u001b[0m\u001b[0;36m5\u001b[0m\u001b[0;34m,\u001b[0m\u001b[0;36m5\u001b[0m\u001b[0;34m,\u001b[0m\u001b[0mvideo_num\u001b[0m\u001b[0;34m)\u001b[0m\u001b[0;34m\u001b[0m\u001b[0m\n\u001b[0;32m---> 33\u001b[0;31m             \u001b[0mself\u001b[0m\u001b[0;34m.\u001b[0m\u001b[0mfit\u001b[0m\u001b[0;34m(\u001b[0m\u001b[0mw_init\u001b[0m\u001b[0;34m)\u001b[0m\u001b[0;34m\u001b[0m\u001b[0m\n\u001b[0m\u001b[1;32m     34\u001b[0m \u001b[0;34m\u001b[0m\u001b[0m\n\u001b[1;32m     35\u001b[0m             \u001b[0;32mif\u001b[0m \u001b[0mshowResult\u001b[0m\u001b[0;34m:\u001b[0m\u001b[0;34m\u001b[0m\u001b[0m\n",
      "\u001b[0;32m<ipython-input-192-bb99eb176588>\u001b[0m in \u001b[0;36mfit\u001b[0;34m(self, start_params, maxiter, maxfun)\u001b[0m\n\u001b[1;32m    234\u001b[0m                                          \u001b[0mmaxiter\u001b[0m\u001b[0;34m=\u001b[0m\u001b[0mmaxiter\u001b[0m\u001b[0;34m,\u001b[0m\u001b[0;34m\u001b[0m\u001b[0m\n\u001b[1;32m    235\u001b[0m                                          \u001b[0mdisp\u001b[0m\u001b[0;34m=\u001b[0m\u001b[0;36m0\u001b[0m\u001b[0;34m,\u001b[0m\u001b[0;34m\u001b[0m\u001b[0m\n\u001b[0;32m--> 236\u001b[0;31m                                          maxfun=maxfun)\n\u001b[0m",
      "\u001b[0;32m/Library/Frameworks/Python.framework/Versions/2.7/lib/python2.7/site-packages/statsmodels/base/model.pyc\u001b[0m in \u001b[0;36mfit\u001b[0;34m(self, start_params, method, maxiter, full_output, disp, callback, retall, **kwargs)\u001b[0m\n\u001b[1;32m    669\u001b[0m                             \u001b[0mmethod\u001b[0m\u001b[0;34m=\u001b[0m\u001b[0mmethod\u001b[0m\u001b[0;34m,\u001b[0m \u001b[0mmaxiter\u001b[0m\u001b[0;34m=\u001b[0m\u001b[0mmaxiter\u001b[0m\u001b[0;34m,\u001b[0m\u001b[0;34m\u001b[0m\u001b[0m\n\u001b[1;32m    670\u001b[0m                             \u001b[0mfull_output\u001b[0m\u001b[0;34m=\u001b[0m\u001b[0mfull_output\u001b[0m\u001b[0;34m,\u001b[0m\u001b[0;34m\u001b[0m\u001b[0m\n\u001b[0;32m--> 671\u001b[0;31m                             disp=disp, callback=callback, **kwargs)\n\u001b[0m\u001b[1;32m    672\u001b[0m         \u001b[0mgenericmlefit\u001b[0m \u001b[0;34m=\u001b[0m \u001b[0mGenericLikelihoodModelResults\u001b[0m\u001b[0;34m(\u001b[0m\u001b[0mself\u001b[0m\u001b[0;34m,\u001b[0m \u001b[0mmlefit\u001b[0m\u001b[0;34m)\u001b[0m\u001b[0;34m\u001b[0m\u001b[0m\n\u001b[1;32m    673\u001b[0m \u001b[0;34m\u001b[0m\u001b[0m\n",
      "\u001b[0;32m/Library/Frameworks/Python.framework/Versions/2.7/lib/python2.7/site-packages/statsmodels/base/model.pyc\u001b[0m in \u001b[0;36mfit\u001b[0;34m(self, start_params, method, maxiter, full_output, disp, fargs, callback, retall, skip_hessian, **kwargs)\u001b[0m\n\u001b[1;32m    423\u001b[0m                                                        \u001b[0mcallback\u001b[0m\u001b[0;34m=\u001b[0m\u001b[0mcallback\u001b[0m\u001b[0;34m,\u001b[0m\u001b[0;34m\u001b[0m\u001b[0m\n\u001b[1;32m    424\u001b[0m                                                        \u001b[0mretall\u001b[0m\u001b[0;34m=\u001b[0m\u001b[0mretall\u001b[0m\u001b[0;34m,\u001b[0m\u001b[0;34m\u001b[0m\u001b[0m\n\u001b[0;32m--> 425\u001b[0;31m                                                        full_output=full_output)\n\u001b[0m\u001b[1;32m    426\u001b[0m \u001b[0;34m\u001b[0m\u001b[0m\n\u001b[1;32m    427\u001b[0m         \u001b[0;31m#NOTE: this is for fit_regularized and should be generalized\u001b[0m\u001b[0;34m\u001b[0m\u001b[0;34m\u001b[0m\u001b[0m\n",
      "\u001b[0;32m/Library/Frameworks/Python.framework/Versions/2.7/lib/python2.7/site-packages/statsmodels/base/optimizer.pyc\u001b[0m in \u001b[0;36m_fit\u001b[0;34m(self, objective, gradient, start_params, fargs, kwargs, hessian, method, maxiter, full_output, disp, callback, retall)\u001b[0m\n\u001b[1;32m    182\u001b[0m                             \u001b[0mdisp\u001b[0m\u001b[0;34m=\u001b[0m\u001b[0mdisp\u001b[0m\u001b[0;34m,\u001b[0m \u001b[0mmaxiter\u001b[0m\u001b[0;34m=\u001b[0m\u001b[0mmaxiter\u001b[0m\u001b[0;34m,\u001b[0m \u001b[0mcallback\u001b[0m\u001b[0;34m=\u001b[0m\u001b[0mcallback\u001b[0m\u001b[0;34m,\u001b[0m\u001b[0;34m\u001b[0m\u001b[0m\n\u001b[1;32m    183\u001b[0m                             \u001b[0mretall\u001b[0m\u001b[0;34m=\u001b[0m\u001b[0mretall\u001b[0m\u001b[0;34m,\u001b[0m \u001b[0mfull_output\u001b[0m\u001b[0;34m=\u001b[0m\u001b[0mfull_output\u001b[0m\u001b[0;34m,\u001b[0m\u001b[0;34m\u001b[0m\u001b[0m\n\u001b[0;32m--> 184\u001b[0;31m                             hess=hessian)\n\u001b[0m\u001b[1;32m    185\u001b[0m \u001b[0;34m\u001b[0m\u001b[0m\n\u001b[1;32m    186\u001b[0m         \u001b[0;31m# this is stupid TODO: just change this to something sane\u001b[0m\u001b[0;34m\u001b[0m\u001b[0;34m\u001b[0m\u001b[0m\n",
      "\u001b[0;32m/Library/Frameworks/Python.framework/Versions/2.7/lib/python2.7/site-packages/statsmodels/base/optimizer.pyc\u001b[0m in \u001b[0;36m_fit_cg\u001b[0;34m(f, score, start_params, fargs, kwargs, disp, maxiter, callback, retall, full_output, hess)\u001b[0m\n\u001b[1;32m    436\u001b[0m                                \u001b[0mepsilon\u001b[0m\u001b[0;34m=\u001b[0m\u001b[0mepsilon\u001b[0m\u001b[0;34m,\u001b[0m \u001b[0mmaxiter\u001b[0m\u001b[0;34m=\u001b[0m\u001b[0mmaxiter\u001b[0m\u001b[0;34m,\u001b[0m\u001b[0;34m\u001b[0m\u001b[0m\n\u001b[1;32m    437\u001b[0m                                \u001b[0mfull_output\u001b[0m\u001b[0;34m=\u001b[0m\u001b[0mfull_output\u001b[0m\u001b[0;34m,\u001b[0m \u001b[0mdisp\u001b[0m\u001b[0;34m=\u001b[0m\u001b[0mdisp\u001b[0m\u001b[0;34m,\u001b[0m\u001b[0;34m\u001b[0m\u001b[0m\n\u001b[0;32m--> 438\u001b[0;31m                                retall=retall, callback=callback)\n\u001b[0m\u001b[1;32m    439\u001b[0m     \u001b[0;32mif\u001b[0m \u001b[0mfull_output\u001b[0m\u001b[0;34m:\u001b[0m\u001b[0;34m\u001b[0m\u001b[0m\n\u001b[1;32m    440\u001b[0m         \u001b[0;32mif\u001b[0m \u001b[0;32mnot\u001b[0m \u001b[0mretall\u001b[0m\u001b[0;34m:\u001b[0m\u001b[0;34m\u001b[0m\u001b[0m\n",
      "\u001b[0;32m/Library/Frameworks/Python.framework/Versions/2.7/lib/python2.7/site-packages/scipy/optimize/optimize.pyc\u001b[0m in \u001b[0;36mfmin_cg\u001b[0;34m(f, x0, fprime, args, gtol, norm, epsilon, maxiter, full_output, disp, retall, callback)\u001b[0m\n\u001b[1;32m   1097\u001b[0m             'return_all': retall}\n\u001b[1;32m   1098\u001b[0m \u001b[0;34m\u001b[0m\u001b[0m\n\u001b[0;32m-> 1099\u001b[0;31m     \u001b[0mres\u001b[0m \u001b[0;34m=\u001b[0m \u001b[0m_minimize_cg\u001b[0m\u001b[0;34m(\u001b[0m\u001b[0mf\u001b[0m\u001b[0;34m,\u001b[0m \u001b[0mx0\u001b[0m\u001b[0;34m,\u001b[0m \u001b[0margs\u001b[0m\u001b[0;34m,\u001b[0m \u001b[0mfprime\u001b[0m\u001b[0;34m,\u001b[0m \u001b[0mcallback\u001b[0m\u001b[0;34m=\u001b[0m\u001b[0mcallback\u001b[0m\u001b[0;34m,\u001b[0m \u001b[0;34m**\u001b[0m\u001b[0mopts\u001b[0m\u001b[0;34m)\u001b[0m\u001b[0;34m\u001b[0m\u001b[0m\n\u001b[0m\u001b[1;32m   1100\u001b[0m \u001b[0;34m\u001b[0m\u001b[0m\n\u001b[1;32m   1101\u001b[0m     \u001b[0;32mif\u001b[0m \u001b[0mfull_output\u001b[0m\u001b[0;34m:\u001b[0m\u001b[0;34m\u001b[0m\u001b[0m\n",
      "\u001b[0;32m/Library/Frameworks/Python.framework/Versions/2.7/lib/python2.7/site-packages/scipy/optimize/optimize.pyc\u001b[0m in \u001b[0;36m_minimize_cg\u001b[0;34m(fun, x0, args, jac, callback, gtol, norm, eps, maxiter, disp, return_all, **unknown_options)\u001b[0m\n\u001b[1;32m   1165\u001b[0m             \u001b[0malpha_k\u001b[0m\u001b[0;34m,\u001b[0m \u001b[0mfc\u001b[0m\u001b[0;34m,\u001b[0m \u001b[0mgc\u001b[0m\u001b[0;34m,\u001b[0m \u001b[0mold_fval\u001b[0m\u001b[0;34m,\u001b[0m \u001b[0mold_old_fval\u001b[0m\u001b[0;34m,\u001b[0m \u001b[0mgfkp1\u001b[0m \u001b[0;34m=\u001b[0m\u001b[0;31m \u001b[0m\u001b[0;31m\\\u001b[0m\u001b[0;34m\u001b[0m\u001b[0m\n\u001b[1;32m   1166\u001b[0m                      _line_search_wolfe12(f, myfprime, xk, pk, gfk, old_fval,\n\u001b[0;32m-> 1167\u001b[0;31m                                           old_old_fval, c2=0.4)\n\u001b[0m\u001b[1;32m   1168\u001b[0m         \u001b[0;32mexcept\u001b[0m \u001b[0m_LineSearchError\u001b[0m\u001b[0;34m:\u001b[0m\u001b[0;34m\u001b[0m\u001b[0m\n\u001b[1;32m   1169\u001b[0m             \u001b[0;31m# Line search failed to find a better solution.\u001b[0m\u001b[0;34m\u001b[0m\u001b[0;34m\u001b[0m\u001b[0m\n",
      "\u001b[0;32m/Library/Frameworks/Python.framework/Versions/2.7/lib/python2.7/site-packages/scipy/optimize/optimize.pyc\u001b[0m in \u001b[0;36m_line_search_wolfe12\u001b[0;34m(f, fprime, xk, pk, gfk, old_fval, old_old_fval, **kwargs)\u001b[0m\n\u001b[1;32m    700\u001b[0m             \u001b[0mwarnings\u001b[0m\u001b[0;34m.\u001b[0m\u001b[0msimplefilter\u001b[0m\u001b[0;34m(\u001b[0m\u001b[0;34m'ignore'\u001b[0m\u001b[0;34m,\u001b[0m \u001b[0mLineSearchWarning\u001b[0m\u001b[0;34m)\u001b[0m\u001b[0;34m\u001b[0m\u001b[0m\n\u001b[1;32m    701\u001b[0m             ret = line_search_wolfe2(f, fprime, xk, pk, gfk,\n\u001b[0;32m--> 702\u001b[0;31m                                      old_fval, old_old_fval)\n\u001b[0m\u001b[1;32m    703\u001b[0m \u001b[0;34m\u001b[0m\u001b[0m\n\u001b[1;32m    704\u001b[0m     \u001b[0;32mif\u001b[0m \u001b[0mret\u001b[0m\u001b[0;34m[\u001b[0m\u001b[0;36m0\u001b[0m\u001b[0;34m]\u001b[0m \u001b[0;32mis\u001b[0m \u001b[0mNone\u001b[0m\u001b[0;34m:\u001b[0m\u001b[0;34m\u001b[0m\u001b[0m\n",
      "\u001b[0;32m/Library/Frameworks/Python.framework/Versions/2.7/lib/python2.7/site-packages/scipy/optimize/linesearch.pyc\u001b[0m in \u001b[0;36mline_search_wolfe2\u001b[0;34m(f, myfprime, xk, pk, gfk, old_fval, old_old_fval, args, c1, c2, amax)\u001b[0m\n\u001b[1;32m    280\u001b[0m \u001b[0;34m\u001b[0m\u001b[0m\n\u001b[1;32m    281\u001b[0m     alpha_star, phi_star, old_fval, derphi_star = scalar_search_wolfe2(\n\u001b[0;32m--> 282\u001b[0;31m             phi, derphi, old_fval, old_old_fval, derphi0, c1, c2, amax)\n\u001b[0m\u001b[1;32m    283\u001b[0m \u001b[0;34m\u001b[0m\u001b[0m\n\u001b[1;32m    284\u001b[0m     \u001b[0;32mif\u001b[0m \u001b[0mderphi_star\u001b[0m \u001b[0;32mis\u001b[0m \u001b[0mNone\u001b[0m\u001b[0;34m:\u001b[0m\u001b[0;34m\u001b[0m\u001b[0m\n",
      "\u001b[0;32m/Library/Frameworks/Python.framework/Versions/2.7/lib/python2.7/site-packages/scipy/optimize/linesearch.pyc\u001b[0m in \u001b[0;36mscalar_search_wolfe2\u001b[0;34m(phi, derphi, phi0, old_phi0, derphi0, c1, c2, amax)\u001b[0m\n\u001b[1;32m    385\u001b[0m             \u001b[0;32mbreak\u001b[0m\u001b[0;34m\u001b[0m\u001b[0m\n\u001b[1;32m    386\u001b[0m \u001b[0;34m\u001b[0m\u001b[0m\n\u001b[0;32m--> 387\u001b[0;31m         \u001b[0mderphi_a1\u001b[0m \u001b[0;34m=\u001b[0m \u001b[0mderphi\u001b[0m\u001b[0;34m(\u001b[0m\u001b[0malpha1\u001b[0m\u001b[0;34m)\u001b[0m\u001b[0;34m\u001b[0m\u001b[0m\n\u001b[0m\u001b[1;32m    388\u001b[0m         \u001b[0;32mif\u001b[0m \u001b[0;34m(\u001b[0m\u001b[0mabs\u001b[0m\u001b[0;34m(\u001b[0m\u001b[0mderphi_a1\u001b[0m\u001b[0;34m)\u001b[0m \u001b[0;34m<=\u001b[0m \u001b[0;34m-\u001b[0m\u001b[0mc2\u001b[0m\u001b[0;34m*\u001b[0m\u001b[0mderphi0\u001b[0m\u001b[0;34m)\u001b[0m\u001b[0;34m:\u001b[0m\u001b[0;34m\u001b[0m\u001b[0m\n\u001b[1;32m    389\u001b[0m             \u001b[0malpha_star\u001b[0m \u001b[0;34m=\u001b[0m \u001b[0malpha1\u001b[0m\u001b[0;34m\u001b[0m\u001b[0m\n",
      "\u001b[0;32m/Library/Frameworks/Python.framework/Versions/2.7/lib/python2.7/site-packages/scipy/optimize/linesearch.pyc\u001b[0m in \u001b[0;36mderphi\u001b[0;34m(alpha)\u001b[0m\n\u001b[1;32m    272\u001b[0m         \u001b[0;32mdef\u001b[0m \u001b[0mderphi\u001b[0m\u001b[0;34m(\u001b[0m\u001b[0malpha\u001b[0m\u001b[0;34m)\u001b[0m\u001b[0;34m:\u001b[0m\u001b[0;34m\u001b[0m\u001b[0m\n\u001b[1;32m    273\u001b[0m             \u001b[0mgc\u001b[0m\u001b[0;34m[\u001b[0m\u001b[0;36m0\u001b[0m\u001b[0;34m]\u001b[0m \u001b[0;34m+=\u001b[0m \u001b[0;36m1\u001b[0m\u001b[0;34m\u001b[0m\u001b[0m\n\u001b[0;32m--> 274\u001b[0;31m             \u001b[0mgval\u001b[0m\u001b[0;34m[\u001b[0m\u001b[0;36m0\u001b[0m\u001b[0;34m]\u001b[0m \u001b[0;34m=\u001b[0m \u001b[0mfprime\u001b[0m\u001b[0;34m(\u001b[0m\u001b[0mxk\u001b[0m \u001b[0;34m+\u001b[0m \u001b[0malpha\u001b[0m \u001b[0;34m*\u001b[0m \u001b[0mpk\u001b[0m\u001b[0;34m,\u001b[0m \u001b[0;34m*\u001b[0m\u001b[0margs\u001b[0m\u001b[0;34m)\u001b[0m  \u001b[0;31m# store for later use\u001b[0m\u001b[0;34m\u001b[0m\u001b[0m\n\u001b[0m\u001b[1;32m    275\u001b[0m             \u001b[0;32mreturn\u001b[0m \u001b[0mnp\u001b[0m\u001b[0;34m.\u001b[0m\u001b[0mdot\u001b[0m\u001b[0;34m(\u001b[0m\u001b[0mgval\u001b[0m\u001b[0;34m[\u001b[0m\u001b[0;36m0\u001b[0m\u001b[0;34m]\u001b[0m\u001b[0;34m,\u001b[0m \u001b[0mpk\u001b[0m\u001b[0;34m)\u001b[0m\u001b[0;34m\u001b[0m\u001b[0m\n\u001b[1;32m    276\u001b[0m \u001b[0;34m\u001b[0m\u001b[0m\n",
      "\u001b[0;32m/Library/Frameworks/Python.framework/Versions/2.7/lib/python2.7/site-packages/scipy/optimize/optimize.pyc\u001b[0m in \u001b[0;36mfunction_wrapper\u001b[0;34m(*wrapper_args)\u001b[0m\n\u001b[1;32m    283\u001b[0m     \u001b[0;32mdef\u001b[0m \u001b[0mfunction_wrapper\u001b[0m\u001b[0;34m(\u001b[0m\u001b[0;34m*\u001b[0m\u001b[0mwrapper_args\u001b[0m\u001b[0;34m)\u001b[0m\u001b[0;34m:\u001b[0m\u001b[0;34m\u001b[0m\u001b[0m\n\u001b[1;32m    284\u001b[0m         \u001b[0mncalls\u001b[0m\u001b[0;34m[\u001b[0m\u001b[0;36m0\u001b[0m\u001b[0;34m]\u001b[0m \u001b[0;34m+=\u001b[0m \u001b[0;36m1\u001b[0m\u001b[0;34m\u001b[0m\u001b[0m\n\u001b[0;32m--> 285\u001b[0;31m         \u001b[0;32mreturn\u001b[0m \u001b[0mfunction\u001b[0m\u001b[0;34m(\u001b[0m\u001b[0;34m*\u001b[0m\u001b[0;34m(\u001b[0m\u001b[0mwrapper_args\u001b[0m \u001b[0;34m+\u001b[0m \u001b[0margs\u001b[0m\u001b[0;34m)\u001b[0m\u001b[0;34m)\u001b[0m\u001b[0;34m\u001b[0m\u001b[0m\n\u001b[0m\u001b[1;32m    286\u001b[0m \u001b[0;34m\u001b[0m\u001b[0m\n\u001b[1;32m    287\u001b[0m     \u001b[0;32mreturn\u001b[0m \u001b[0mncalls\u001b[0m\u001b[0;34m,\u001b[0m \u001b[0mfunction_wrapper\u001b[0m\u001b[0;34m\u001b[0m\u001b[0m\n",
      "\u001b[0;32m/Library/Frameworks/Python.framework/Versions/2.7/lib/python2.7/site-packages/statsmodels/base/model.pyc\u001b[0m in \u001b[0;36m<lambda>\u001b[0;34m(params)\u001b[0m\n\u001b[1;32m    402\u001b[0m         \u001b[0mnobs\u001b[0m \u001b[0;34m=\u001b[0m \u001b[0mself\u001b[0m\u001b[0;34m.\u001b[0m\u001b[0mendog\u001b[0m\u001b[0;34m.\u001b[0m\u001b[0mshape\u001b[0m\u001b[0;34m[\u001b[0m\u001b[0;36m0\u001b[0m\u001b[0;34m]\u001b[0m\u001b[0;34m\u001b[0m\u001b[0m\n\u001b[1;32m    403\u001b[0m         \u001b[0mf\u001b[0m \u001b[0;34m=\u001b[0m \u001b[0;32mlambda\u001b[0m \u001b[0mparams\u001b[0m\u001b[0;34m,\u001b[0m \u001b[0;34m*\u001b[0m\u001b[0margs\u001b[0m\u001b[0;34m:\u001b[0m \u001b[0;34m-\u001b[0m\u001b[0mself\u001b[0m\u001b[0;34m.\u001b[0m\u001b[0mloglike\u001b[0m\u001b[0;34m(\u001b[0m\u001b[0mparams\u001b[0m\u001b[0;34m,\u001b[0m \u001b[0;34m*\u001b[0m\u001b[0margs\u001b[0m\u001b[0;34m)\u001b[0m \u001b[0;34m/\u001b[0m \u001b[0mnobs\u001b[0m\u001b[0;34m\u001b[0m\u001b[0m\n\u001b[0;32m--> 404\u001b[0;31m         \u001b[0mscore\u001b[0m \u001b[0;34m=\u001b[0m \u001b[0;32mlambda\u001b[0m \u001b[0mparams\u001b[0m\u001b[0;34m:\u001b[0m \u001b[0;34m-\u001b[0m\u001b[0mself\u001b[0m\u001b[0;34m.\u001b[0m\u001b[0mscore\u001b[0m\u001b[0;34m(\u001b[0m\u001b[0mparams\u001b[0m\u001b[0;34m)\u001b[0m \u001b[0;34m/\u001b[0m \u001b[0mnobs\u001b[0m\u001b[0;34m\u001b[0m\u001b[0m\n\u001b[0m\u001b[1;32m    405\u001b[0m         \u001b[0;32mtry\u001b[0m\u001b[0;34m:\u001b[0m\u001b[0;34m\u001b[0m\u001b[0m\n\u001b[1;32m    406\u001b[0m             \u001b[0mhess\u001b[0m \u001b[0;34m=\u001b[0m \u001b[0;32mlambda\u001b[0m \u001b[0mparams\u001b[0m\u001b[0;34m:\u001b[0m \u001b[0;34m-\u001b[0m\u001b[0mself\u001b[0m\u001b[0;34m.\u001b[0m\u001b[0mhessian\u001b[0m\u001b[0;34m(\u001b[0m\u001b[0mparams\u001b[0m\u001b[0;34m)\u001b[0m \u001b[0;34m/\u001b[0m \u001b[0mnobs\u001b[0m\u001b[0;34m\u001b[0m\u001b[0m\n",
      "\u001b[0;32m<ipython-input-192-bb99eb176588>\u001b[0m in \u001b[0;36mscore\u001b[0;34m(self, params)\u001b[0m\n\u001b[1;32m    153\u001b[0m         \u001b[0mgrad\u001b[0m \u001b[0;34m=\u001b[0m \u001b[0;34m[\u001b[0m\u001b[0;34m]\u001b[0m\u001b[0;34m\u001b[0m\u001b[0m\n\u001b[1;32m    154\u001b[0m         \u001b[0;32mfor\u001b[0m \u001b[0mi\u001b[0m \u001b[0;32min\u001b[0m \u001b[0mrange\u001b[0m\u001b[0;34m(\u001b[0m\u001b[0mlen\u001b[0m\u001b[0;34m(\u001b[0m\u001b[0mw\u001b[0m\u001b[0;34m)\u001b[0m\u001b[0;34m)\u001b[0m\u001b[0;34m:\u001b[0m\u001b[0;34m\u001b[0m\u001b[0m\n\u001b[0;32m--> 155\u001b[0;31m             \u001b[0mgrad\u001b[0m\u001b[0;34m.\u001b[0m\u001b[0mappend\u001b[0m\u001b[0;34m(\u001b[0m\u001b[0mself\u001b[0m\u001b[0;34m.\u001b[0m\u001b[0mcalc_gradient\u001b[0m\u001b[0;34m(\u001b[0m\u001b[0mpairs\u001b[0m\u001b[0;34m,\u001b[0m \u001b[0mw\u001b[0m\u001b[0;34m,\u001b[0m \u001b[0mi\u001b[0m\u001b[0;34m)\u001b[0m\u001b[0;34m)\u001b[0m\u001b[0;34m\u001b[0m\u001b[0m\n\u001b[0m\u001b[1;32m    156\u001b[0m \u001b[0;34m\u001b[0m\u001b[0m\n\u001b[1;32m    157\u001b[0m         \u001b[0mself\u001b[0m\u001b[0;34m.\u001b[0m\u001b[0mrank\u001b[0m\u001b[0;34m.\u001b[0m\u001b[0mappend\u001b[0m\u001b[0;34m(\u001b[0m\u001b[0mgrad\u001b[0m\u001b[0;34m)\u001b[0m\u001b[0;34m\u001b[0m\u001b[0m\n",
      "\u001b[0;32m<ipython-input-192-bb99eb176588>\u001b[0m in \u001b[0;36mcalc_gradient\u001b[0;34m(self, pairs, w, w_i)\u001b[0m\n\u001b[1;32m    174\u001b[0m                 \u001b[0mout\u001b[0m \u001b[0;34m=\u001b[0m \u001b[0;36m0\u001b[0m\u001b[0;34m\u001b[0m\u001b[0m\n\u001b[1;32m    175\u001b[0m \u001b[0;34m\u001b[0m\u001b[0m\n\u001b[0;32m--> 176\u001b[0;31m             \u001b[0mgradient\u001b[0m \u001b[0;34m-=\u001b[0m \u001b[0mout\u001b[0m \u001b[0;34m/\u001b[0m \u001b[0;34m(\u001b[0m\u001b[0;36m1\u001b[0m\u001b[0;34m/\u001b[0m\u001b[0;34m(\u001b[0m\u001b[0mnp\u001b[0m\u001b[0;34m.\u001b[0m\u001b[0mexp\u001b[0m\u001b[0;34m(\u001b[0m\u001b[0mw\u001b[0m\u001b[0;34m[\u001b[0m\u001b[0mpair\u001b[0m\u001b[0;34m[\u001b[0m\u001b[0;36m1\u001b[0m\u001b[0;34m]\u001b[0m\u001b[0;34m]\u001b[0m\u001b[0;34m-\u001b[0m\u001b[0mw\u001b[0m\u001b[0;34m[\u001b[0m\u001b[0mpair\u001b[0m\u001b[0;34m[\u001b[0m\u001b[0;36m0\u001b[0m\u001b[0;34m]\u001b[0m\u001b[0;34m]\u001b[0m\u001b[0;34m)\u001b[0m \u001b[0;34m+\u001b[0m \u001b[0;36m0.00001\u001b[0m\u001b[0;34m)\u001b[0m \u001b[0;34m+\u001b[0m\u001b[0;36m1\u001b[0m \u001b[0;34m)\u001b[0m\u001b[0;34m\u001b[0m\u001b[0m\n\u001b[0m\u001b[1;32m    177\u001b[0m \u001b[0;34m\u001b[0m\u001b[0m\n\u001b[1;32m    178\u001b[0m         \u001b[0;32mreturn\u001b[0m \u001b[0mgradient\u001b[0m\u001b[0;34m\u001b[0m\u001b[0m\n",
      "\u001b[0;31mKeyboardInterrupt\u001b[0m: "
     ]
    }
   ],
   "source": [
    "model = Pairwise(np.array(pairs_truth), video_num, video_score)\n",
    "\n",
    "sparsity_Nihar, sparsity_Isabelle = model.test_data_generation_sparsity(Nihar=True, Isabelle=True)"
   ]
  },
  {
   "cell_type": "code",
   "execution_count": 191,
   "metadata": {
    "collapsed": false
   },
   "outputs": [
    {
     "name": "stdout",
     "output_type": "stream",
     "text": [
      "Current evaluating with 0.000000 to flip\n",
      "Current evaluating with 0.050000 to flip\n",
      "Current evaluating with 0.100000 to flip\n",
      "Current evaluating with 0.150000 to flip\n",
      "Current evaluating with 0.200000 to flip\n",
      "Current evaluating with 0.250000 to flip\n",
      "Current evaluating with 0.300000 to flip\n",
      "Current evaluating with 0.400000 to flip\n",
      "Current evaluating with 0.500000 to flip\n"
     ]
    }
   ],
   "source": [
    "model = Pairwise(np.array(pairs_truth), video_num, video_score)\n",
    "\n",
    "\n",
    "noise_Nihar, noise_Isabelle = model.test_data_generation_noise(Nihar=True, Isabelle=True)"
   ]
  },
  {
   "cell_type": "code",
   "execution_count": 190,
   "metadata": {
    "collapsed": false
   },
   "outputs": [
    {
     "data": {
      "text/plain": [
       "[<matplotlib.lines.Line2D at 0x109627810>]"
      ]
     },
     "execution_count": 190,
     "metadata": {},
     "output_type": "execute_result"
    },
    {
     "data": {
      "image/png": "[encoded data removed]",
      "text/plain": [
       "<matplotlib.figure.Figure at 0x10bababd0>"
      ]
     },
     "metadata": {},
     "output_type": "display_data"
    },
    {
     "data": {
      "image/png": "[encoded data removed]",
      "text/plain": [
       "<matplotlib.figure.Figure at 0x10b39d910>"
      ]
     },
     "metadata": {},
     "output_type": "display_data"
    },
    {
     "data": {
      "image/png": "[encoded data removed]",
      "text/plain": [
       "<matplotlib.figure.Figure at 0x10b39d790>"
      ]
     },
     "metadata": {},
     "output_type": "display_data"
    },
    {
     "data": {
      "image/png": "[encoded data removed]",
      "text/plain": [
       "<matplotlib.figure.Figure at 0x10b71b6d0>"
      ]
     },
     "metadata": {},
     "output_type": "display_data"
    }
   ],
   "source": [
    "plt.figure()\n",
    "plt.plot(noise_Nihar)\n",
    "plt.figure()\n",
    "plt.plot(noise_Isabelle)\n",
    "plt.figure()\n",
    "plt.plot(sparsity_Nihar)\n",
    "plt.figure()\n",
    "plt.plot(sparsity_Isabelle[:-2])"
   ]
  },
  {
   "cell_type": "code",
   "execution_count": 158,
   "metadata": {
    "collapsed": false
   },
   "outputs": [
    {
     "data": {
      "text/plain": [
       "<statsmodels.base.model.GenericLikelihoodModelResults at 0x109273450>"
      ]
     },
     "execution_count": 158,
     "metadata": {},
     "output_type": "execute_result"
    }
   ],
   "source": [
    "model = Pairwise(np.array(pairs_truth), video_num, video_score)\n",
    "w_init = np.ones(video_num)\n",
    "model.fit(w_init)"
   ]
  },
  {
   "cell_type": "code",
   "execution_count": 159,
   "metadata": {
    "collapsed": false
   },
   "outputs": [
    {
     "name": "stdout",
     "output_type": "stream",
     "text": [
      "11.061375572\n",
      "None\n"
     ]
    }
   ],
   "source": [
    "print model.test_data_generation_noise_generative_model(Nihar=True)\n"
   ]
  },
  {
   "cell_type": "code",
   "execution_count": 173,
   "metadata": {
    "collapsed": false
   },
   "outputs": [
    {
     "name": "stdout",
     "output_type": "stream",
     "text": [
      "[1 2 3]\n"
     ]
    }
   ],
   "source": [
    "a = [2,3,1]\n",
    "print np.sort(a)"
   ]
  },
  {
   "cell_type": "code",
   "execution_count": null,
   "metadata": {
    "collapsed": true
   },
   "outputs": [],
   "source": []
  },
  {
   "cell_type": "code",
   "execution_count": null,
   "metadata": {
    "collapsed": true
   },
   "outputs": [],
   "source": []
  },
  {
   "cell_type": "code",
   "execution_count": null,
   "metadata": {
    "collapsed": true
   },
   "outputs": [],
   "source": []
  },
  {
   "cell_type": "code",
   "execution_count": null,
   "metadata": {
    "collapsed": true
   },
   "outputs": [],
   "source": []
  },
  {
   "cell_type": "code",
   "execution_count": null,
   "metadata": {
    "collapsed": true
   },
   "outputs": [],
   "source": []
  },
  {
   "cell_type": "code",
   "execution_count": null,
   "metadata": {
    "collapsed": true
   },
   "outputs": [],
   "source": []
  },
  {
   "cell_type": "code",
   "execution_count": null,
   "metadata": {
    "collapsed": true
   },
   "outputs": [],
   "source": []
  }
 ],
 "metadata": {
  "kernelspec": {
   "display_name": "Python 2",
   "language": "python",
   "name": "python2"
  },
  "language_info": {
   "codemirror_mode": {
    "name": "ipython",
    "version": 2
   },
   "file_extension": ".py",
   "mimetype": "text/x-python",
   "name": "python",
   "nbconvert_exporter": "python",
   "pygments_lexer": "ipython2",
   "version": "2.7.10"
  }
 },
 "nbformat": 4,
 "nbformat_minor": 0
}
