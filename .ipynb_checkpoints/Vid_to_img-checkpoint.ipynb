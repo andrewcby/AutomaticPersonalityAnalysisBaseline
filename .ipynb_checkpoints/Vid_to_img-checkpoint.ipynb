{
 "cells": [
  {
   "cell_type": "code",
   "execution_count": 37,
   "metadata": {
    "collapsed": true
   },
   "outputs": [],
   "source": [
    "import os, cv2, time\n",
    "import pandas as pd\n",
    "import numpy as np\n",
    "import matplotlib.pyplot as plt\n",
    "from PIL import Image\n",
    "from resizeimage import resizeimage\n",
    "%matplotlib inline"
   ]
  },
  {
   "cell_type": "code",
   "execution_count": 38,
   "metadata": {
    "collapsed": false
   },
   "outputs": [],
   "source": [
    "video_path = './Train/'\n",
    "image_path = './Train_Image/'\n",
    "files = [f for f in os.listdir(video_path) if f.endswith('.mp4')]"
   ]
  },
  {
   "cell_type": "code",
   "execution_count": 34,
   "metadata": {
    "collapsed": false
   },
   "outputs": [
    {
     "data": {
      "text/plain": [
       "6000"
      ]
     },
     "execution_count": 34,
     "metadata": {},
     "output_type": "execute_result"
    }
   ],
   "source": [
    "len(files)"
   ]
  },
  {
   "cell_type": "code",
   "execution_count": 39,
   "metadata": {
    "collapsed": false
   },
   "outputs": [
    {
     "name": "stdout",
     "output_type": "stream",
     "text": [
      "Currently on: 0 and it has been: 0.000771045684814 seconds\n",
      "Currently on: 500 and it has been: 761.064722061 seconds\n",
      "Currently on: 1000 and it has been: 1462.46173906 seconds\n",
      "Currently on: 1500 and it has been: 2166.55750012 seconds\n",
      "Currently on: 2000 and it has been: 2868.24098015 seconds\n",
      "Currently on: 2500 and it has been: 3566.45696211 seconds\n",
      "Currently on: 3000 and it has been: 4254.39155722 seconds\n",
      "Currently on: 3500 and it has been: 4976.51885104 seconds\n",
      "Currently on: 4000 and it has been: 5746.99811101 seconds\n",
      "Currently on: 4500 and it has been: 6520.63701606 seconds\n",
      "Currently on: 5000 and it has been: 7246.71007919 seconds\n",
      "Currently on: 5500 and it has been: 8008.83892107 seconds\n"
     ]
    }
   ],
   "source": [
    "counter = 0\n",
    "starttime = time.time()\n",
    "\n",
    "for video_file in files:\n",
    "    if counter % 500 == 0:\n",
    "        print 'Currently on:', counter, 'and it has been:',time.time()-starttime,'seconds'\n",
    "    vidcap = cv2.VideoCapture(video_path+video_file)\n",
    "    success,image = vidcap.read()\n",
    "    cv2.imwrite(image_path+video_file[:-3]+'jpg', image)\n",
    "    counter += 1"
   ]
  },
  {
   "cell_type": "code",
   "execution_count": 44,
   "metadata": {
    "collapsed": false
   },
   "outputs": [],
   "source": [
    "vid_files = [f[:-3] for f in os.listdir(video_path) if f.endswith('.mp4')]\n",
    "img_files = [f[:-3] for f in os.listdir(image_path) if f.endswith('.jpg')]\n",
    "diff = [i for i in vid_files if i not in img_files]"
   ]
  },
  {
   "cell_type": "code",
   "execution_count": 54,
   "metadata": {
    "collapsed": false
   },
   "outputs": [],
   "source": [
    "# counter = 0\n",
    "starttime = time.time()\n",
    "\n",
    "for video_file in diff:\n",
    "#     if counter % 500 == 0:\n",
    "#         print 'Currently on:', counter, 'and it has been:',time.time()-starttime,'seconds'\n",
    "    vidcap = cv2.VideoCapture(video_path+video_file+'mp4')\n",
    "    success,image = vidcap.read()\n",
    "    cv2.imwrite(image_path+video_file+'jpg', image)\n",
    "    counter += 1"
   ]
  },
  {
   "cell_type": "code",
   "execution_count": 52,
   "metadata": {
    "collapsed": false
   },
   "outputs": [
    {
     "data": {
      "text/plain": [
       "['_ztmNiy8D3c.000.',\n",
       " '-C5M9g4Quzc.002.',\n",
       " '1eOvtoZCie8.004.',\n",
       " '1fsFL_qNYlQ.001.',\n",
       " '1mODTfLRGdI.000.',\n",
       " '2AYq7CdNXNo.004.',\n",
       " '2Lgd2Ye-1L8.000.',\n",
       " '2yUnXroXyeI.003.',\n",
       " '3HA2W1s4oP8.001.',\n",
       " '3J7Cl3FXs1o.004.',\n",
       " '3P_D_bd-_NM.005.',\n",
       " '3S8QUGYVf_w.003.',\n",
       " '3Vr5-zedeWk.000.',\n",
       " '3VyriB3isO8.004.',\n",
       " '3zAyM2edy1g.001.',\n",
       " '4kIHxR6s1L4.004.',\n",
       " '4LZJvOecyM8.001.',\n",
       " '4NzqG0XwOWg.004.',\n",
       " '4RoZPrjRQZE.000.',\n",
       " '4zkY1SG-7xc.003.',\n",
       " '5f6s8cwA7WQ.004.',\n",
       " '5xA8-Y5qgT0.000.',\n",
       " '6EMgu2djYrU.002.',\n",
       " '6IOtQTOyQRU.000.',\n",
       " '6LKbPUX03sY.005.',\n",
       " '6nbxAP_ZKQQ.005.',\n",
       " '6SiutTvCDUw.000.',\n",
       " '7GRC7XjGzX8.003.',\n",
       " '7QeVs-mXmcI.003.',\n",
       " '7s3itKIXww0.002.',\n",
       " '8Bt-vEroq6M.003.',\n",
       " '8gvBbE6iZNo.001.',\n",
       " '8hW6WfYBP18.005.',\n",
       " '8mZZlnbmOYE.003.',\n",
       " '8py6SksNsZQ.002.',\n",
       " '9Crw2RtrBcY.002.',\n",
       " '9o10YrQykMk.003.',\n",
       " '99OBSlFjLXI.002.',\n",
       " '117jrwvl2Nc.004.',\n",
       " 'A1lbD_OCuj4.005.',\n",
       " 'aaDlp62qn60.002.',\n",
       " 'ana5C73n9bY.002.',\n",
       " 'aQVGVhcMBtE.004.',\n",
       " 'AvuGsnkWjt8.002.',\n",
       " 'b2Y41GrCrPs.001.',\n",
       " 'B3VQeeev0r0.002.',\n",
       " 'b8GPFr11adA.004.',\n",
       " 'Bk9Hxn7Drxw.004.',\n",
       " 'Bz3Jx4QL_6Q.004.',\n",
       " 'C-48U5oDuvw.004.',\n",
       " 'CqQavmWSLrI.001.',\n",
       " 'cvg03XGFjCk.004.',\n",
       " 'cY3nHc5fDYE.003.',\n",
       " 'd4cPiUXpGbc.002.',\n",
       " 'dRr2JtdzUpU.004.',\n",
       " 'dvMeqVbpKW8.005.',\n",
       " 'dVwDf5N2NRA.001.',\n",
       " 'DXw4lVoiiWY.000.',\n",
       " 'EA8BEYAZqAA.000.',\n",
       " 'eI_7SimPnnQ.002.',\n",
       " 'EknEAPhAjdA.000.',\n",
       " 'fEZrAGQoh_g.002.',\n",
       " 'FkuwzJcoRVI.001.',\n",
       " 'fwYZP8qOtC0.005.',\n",
       " 'FxVUG2R1y0Q.004.',\n",
       " 'gngqDNTAXnI.002.',\n",
       " 'Gs-AdRcYSPo.001.',\n",
       " 'h7qbP1GS50U.004.',\n",
       " 'h9jIdLBaMEo.004.',\n",
       " 'HekcZ0Em60E.004.',\n",
       " 'hfUH9Am-Izs.000.',\n",
       " 'hhdoeK8SsiI.000.',\n",
       " 'I5x9T9ftW18.005.',\n",
       " 'JciLbidX1Q8.003.',\n",
       " 'Jh7Wk5fYeMk.002.',\n",
       " 'Jog1-pYOSD0.000.',\n",
       " 'jvHDFrgu9PA.005.',\n",
       " 'jxt1W2WRNHQ.003.',\n",
       " 'jz9kgvYbBYA.005.',\n",
       " 'K9ZTOb6PbfQ.000.',\n",
       " 'kDP6_hiBR0o.003.',\n",
       " 'kDXYolv-8p8.003.',\n",
       " 'Kga18VO9VwY.000.',\n",
       " 'KIhpjwf5uAA.003.',\n",
       " 'KTdbKiGFzJY.000.',\n",
       " 'l8weBJSCHbA.002.',\n",
       " 'LCafv-LfC3Y.000.',\n",
       " 'lLWOcztaIBI.004.',\n",
       " 'Lt89YrQHF_w.002.',\n",
       " 'LXmwDq89LdA.002.',\n",
       " 'mflgXFsGU9w.002.',\n",
       " 'mlXZQ8dO0nQ.004.',\n",
       " 'mmTbHy5iftA.002.',\n",
       " 'mq9NNKmKYdk.000.',\n",
       " 'nClvfVFYzbM.003.',\n",
       " 'nKLhatlbqEw.001.',\n",
       " 'NvwD448H-40.001.',\n",
       " 'O14mSiNfYDo.002.',\n",
       " 'OLFhKCgexRU.000.',\n",
       " 'Or2_bP4lWYI.005.',\n",
       " 'OtGJDbI9qkM.005.',\n",
       " 'oVSMxtPpQ0M.002.',\n",
       " 'owRKOW0ymCM.002.',\n",
       " 'OZlpENU9h28.002.',\n",
       " 'P0a209IS614.004.',\n",
       " 'PHZQmf82HvA.002.',\n",
       " 'PYYC0Jiwfdg.004.',\n",
       " 'Q2AI4XpApFs.005.',\n",
       " 'QipgesEKSNA.000.',\n",
       " 'QovE6L-C9VY.000.',\n",
       " 'qPzzmcuf-VI.005.',\n",
       " 'qW0TYVtzq5A.001.',\n",
       " 'rIRBEkDhn6Q.005.',\n",
       " 'rTG9gtci67c.001.',\n",
       " 's0pgZM5G6ds.003.',\n",
       " 'Sdqg-jn_tBk.001.',\n",
       " 'SFxiMxHvJuo.005.',\n",
       " 'SR1Q5M2urxY.003.',\n",
       " 'T1--98_78ns.003.',\n",
       " 'U-XrzfFzMkg.004.',\n",
       " 'UEYKBC_SuzU.004.',\n",
       " 'UGsr6Vnqf7I.003.',\n",
       " 'V8PSAROGbZM.004.',\n",
       " 'V9roK_mLM-w.000.',\n",
       " 'W7BbL3NZvrU.001.',\n",
       " 'WosLI6krxUg.002.',\n",
       " 'wr4dP9MuHME.005.',\n",
       " 'WRz1F6DqmRQ.002.',\n",
       " 'WuIKjBb7s4Q.005.',\n",
       " 'wYixHjntI-4.004.',\n",
       " 'XJj34u5IzU0.002.',\n",
       " 'XPV4pavXh94.005.',\n",
       " 'xRhUBifOWiI.000.',\n",
       " 'xRhUBifOWiI.001.',\n",
       " 'xun35caJTQI.002.',\n",
       " 'xun35caJTQI.005.',\n",
       " 'Y6iogSmj6FQ.002.',\n",
       " 'YjXUMygVw7U.005.',\n",
       " 'ZeGT9pSG734.002.',\n",
       " 'ZO5JoyVTat8.005.',\n",
       " '1izSTcQI7H4.004.',\n",
       " '1tPH6PNeOSk.002.',\n",
       " '1YsZ4GPpyBA.005.',\n",
       " '3J7Cl3FXs1o.001.',\n",
       " '3OoQBXWTGfE.004.',\n",
       " '4XdZDodpzac.003.',\n",
       " '5f6s8cwA7WQ.005.',\n",
       " '5hFRSHAis2E.003.',\n",
       " '6EMgu2djYrU.005.',\n",
       " '8PXQ_5tUv74.005.',\n",
       " '8qG1sMihtPA.000.',\n",
       " '9DF_-PXbpkg.001.',\n",
       " '45SH4ohAH3M.005.',\n",
       " '853IG69l2SE.003.',\n",
       " 'AFQz-qy0FkY.001.',\n",
       " 'aMPe0uSKqF4.001.',\n",
       " 'B4ducm9sydg.002.',\n",
       " 'B8kzwm6ZaUo.001.',\n",
       " 'BBSB9OJdb0Q.001.',\n",
       " 'BeyIfaH64xY.000.',\n",
       " 'BLeDNfK2quI.005.',\n",
       " 'BS0wgLXqFgc.001.',\n",
       " 'CuGuiOZ48Ig.005.',\n",
       " 'D_FGBb-1B1o.001.',\n",
       " 'DegRGUG4Wi0.002.',\n",
       " 'DyZlhseSuec.004.',\n",
       " 'ej0RpdM9kJA.000.',\n",
       " 'eXtskPoi58A.000.',\n",
       " 'eZwGkhUa0TQ.000.',\n",
       " 'F0VbEO_0Ybc.002.',\n",
       " 'f7E26XfU8rw.003.',\n",
       " 'fBMKlYUjA9E.003.',\n",
       " 'FJPqNQPXp5c.005.',\n",
       " 'fTpemcfElxI.005.',\n",
       " 'G2D3qU6R_YA.004.',\n",
       " 'geXpIfaFzF4.004.',\n",
       " 'Gk94xrcmFts.000.',\n",
       " 'GkPz3-y6Les.001.',\n",
       " 'GS7cBLgZKgk.001.',\n",
       " 'H6yu96w7tUc.000.',\n",
       " 'HoJXPFp9hYo.004.',\n",
       " 'hrat_RJczFM.004.',\n",
       " 'IQdz0Pd-L2Y.003.',\n",
       " 'izq1ogkfedI.004.',\n",
       " 'jpPZVmzleAo.002.',\n",
       " 'jxt1W2WRNHQ.005.',\n",
       " 'JzXnxQDnwWE.002.',\n",
       " 'k3iu-fhIkeI.000.',\n",
       " 'kDP6_hiBR0o.005.',\n",
       " 'kDXYolv-8p8.005.',\n",
       " 'KLY518hfGhU.000.',\n",
       " 'lNY0BdE4NqY.004.',\n",
       " 'Lt89YrQHF_w.005.',\n",
       " 'mIcktEhNxRo.003.',\n",
       " 'mMNjlGNWsZA.001.',\n",
       " 'mZ3vypXAfHg.003.',\n",
       " 'N1ZOAktFbI0.002.',\n",
       " 'NDC375coN1o.005.',\n",
       " 'NFAlff6GUpA.005.',\n",
       " 'O3_j0d7mq7k.002.',\n",
       " 'okdZnQbLnf8.002.',\n",
       " 'OXkDmd3nA94.000.',\n",
       " 'OZlpENU9h28.003.',\n",
       " 'p7-JUvStF4w.002.',\n",
       " 'p7aNK5GKwEc.000.',\n",
       " 'Pb7aNc6Kd40.001.',\n",
       " 'pOtWKOF07iU.000.',\n",
       " 'qRtKUGgULL8.000.',\n",
       " 'Qu81v9Aybv4.004.',\n",
       " 'RGuHfwIRKpA.000.',\n",
       " 'RgZTZIf8K8g.002.',\n",
       " 'RtNylXap2qk.001.',\n",
       " 'RuRn2t7iPSc.000.',\n",
       " 'T-mK85acIOc.004.',\n",
       " 'T1_6sVNHG70.000.',\n",
       " 'uwUkp63db18.004.',\n",
       " 'V8JaJ2IVG9E.005.',\n",
       " 'vHc0pnY9BoI.002.',\n",
       " 'VZ6jhnbk-5g.003.',\n",
       " 'W2AB3UUyvwI.005.',\n",
       " 'w2FKw8IhbFw.001.',\n",
       " 'w989xx44UQI.001.',\n",
       " 'Wby2oMliGz0.002.',\n",
       " 'X1EjfXX3NTk.000.',\n",
       " 'XLV7teADu3c.002.',\n",
       " 'y4Ej1YSEQf0.002.',\n",
       " 'y7MEVu2nyes.003.',\n",
       " 'y7MEVu2nyes.004.',\n",
       " 'Z3FdUfZLHyw.000.',\n",
       " 'ZiKxJbVI5_g.002.',\n",
       " 'ZqbJIM7rmO8.003.']"
      ]
     },
     "execution_count": 52,
     "metadata": {},
     "output_type": "execute_result"
    }
   ],
   "source": [
    "diff"
   ]
  },
  {
   "cell_type": "code",
   "execution_count": 50,
   "metadata": {
    "collapsed": false
   },
   "outputs": [
    {
     "data": {
      "text/plain": [
       "True"
      ]
     },
     "execution_count": 50,
     "metadata": {},
     "output_type": "execute_result"
    }
   ],
   "source": [
    "vidcap = cv2.VideoCapture(video_path+'_01AyUz9J9I.002.mp4')\n",
    "success,image = vidcap.read()\n",
    "cv2.imwrite(image_path+'_01AyUz9J9I.002.jpg', image)"
   ]
  },
  {
   "cell_type": "code",
   "execution_count": null,
   "metadata": {
    "collapsed": true
   },
   "outputs": [],
   "source": []
  }
 ],
 "metadata": {
  "kernelspec": {
   "display_name": "Python 2",
   "language": "python",
   "name": "python2"
  },
  "language_info": {
   "codemirror_mode": {
    "name": "ipython",
    "version": 2
   },
   "file_extension": ".py",
   "mimetype": "text/x-python",
   "name": "python",
   "nbconvert_exporter": "python",
   "pygments_lexer": "ipython2",
   "version": "2.7.10"
  }
 },
 "nbformat": 4,
 "nbformat_minor": 0
}
