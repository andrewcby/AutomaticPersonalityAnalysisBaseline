{
 "cells": [
  {
   "cell_type": "code",
   "execution_count": 105,
   "metadata": {
    "collapsed": true
   },
   "outputs": [],
   "source": [
    "import random, csv, time, os\n",
    "\n",
    "import numpy as np\n",
    "import pandas as pd\n",
    "import matplotlib.pyplot as plt\n",
    "\n",
    "from scipy import optimize\n",
    "\n",
    "%matplotlib inline\n",
    "# Videos result files are from http://sunai.uoc.edu/traits/layout2/results/"
   ]
  },
  {
   "cell_type": "code",
   "execution_count": 106,
   "metadata": {
    "collapsed": true
   },
   "outputs": [],
   "source": [
    "global pairs_truth, video_score, video_num, total_pairs, w_hat, test_pairs"
   ]
  },
  {
   "cell_type": "code",
   "execution_count": 107,
   "metadata": {
    "collapsed": true
   },
   "outputs": [],
   "source": [
    "def data_generation(n):\n",
    "    video_num = n\n",
    "    \n",
    "    video_score = np.random.uniform(-5,5,video_num)\n",
    "    resolution = 0.1\n",
    "    video_score = np.round(video_score/resolution)*resolution\n",
    "\n",
    "    pairs_truth = []\n",
    "\n",
    "    for i in range(len(video_score)-1):\n",
    "        for j in range(i+1, len(video_score)):\n",
    "            if video_score[i] > video_score[j]:\n",
    "                pairs_truth.append((i,j))\n",
    "            else:\n",
    "                pairs_truth.append((j,i))\n",
    "\n",
    "    total_pairs = len(pairs_truth)  "
   ]
  },
  {
   "cell_type": "code",
   "execution_count": 108,
   "metadata": {
    "collapsed": true
   },
   "outputs": [],
   "source": [
    "def append_pair(comp, name1, name2, name_to_num):\n",
    "    if comp == '-1':\n",
    "        return((name_to_num[name2], name_to_num[name1]))\n",
    "    if comp == '1':\n",
    "        return((name_to_num[name1], name_to_num[name2]))\n",
    "    \n",
    "def calc_error(prediction, truth):\n",
    "    return np.linalg.norm(prediction - truth)\n",
    "\n",
    "def mle(w):    \n",
    "    \"\"\"\n",
    "    Calculate the MLE of w.\n",
    "    Due to the fact that optimize.minimize only takes 1 input, \n",
    "    here the pair information is imported from global variable\n",
    "    \"\"\"    \n",
    "    out = 1\n",
    "                \n",
    "    for pair in test_pairs:\n",
    "        out *= 1/(1+np.exp(-w[pair[0]] + w[pair[1]]))   \n",
    "        \n",
    "    return -np.log(out)\n",
    "\n",
    "def gradient(w):\n",
    "    pairs = pairs_truth\n",
    "    grad = []\n",
    "    for i in range(len(w)):\n",
    "        gradient = 0\n",
    "\n",
    "        for pair in pairs:\n",
    "            if i == pair[0]:\n",
    "                out = -1\n",
    "            elif i == pair[1]:\n",
    "                out = 1  \n",
    "            else:\n",
    "                continue\n",
    "            gradient -= out / (1/(np.exp(w[pair[1]]-w[pair[0]])) +1 )\n",
    "\n",
    "        grad.append(-gradient)\n",
    "        \n",
    "    return np.array(grad)\n",
    "\n",
    "def compare_rank(video_score, results, verbose=False, hist=False):\n",
    "    true_order = np.array(video_score).argsort()\n",
    "    true_ranks = true_order.argsort()\n",
    "\n",
    "    temp_o = np.array(results).argsort()\n",
    "    temp_r = temp_o.argsort()\n",
    "\n",
    "    resolution = 0.1\n",
    "    video_score_results = np.round(np.array(results)/resolution)*resolution\n",
    "    \n",
    "    if verbose:\n",
    "        print 'Result Order \\t True Order \\t Result Score \\t Ture Score'\n",
    "        for i in range(len(temp_r)):\n",
    "            print temp_r[i], '\\t\\t', true_ranks[i], '\\t\\t', video_score_results[i], '\\t\\t', video_score[i]\n",
    "            \n",
    "    if hist:\n",
    "        diff = np.abs(temp_r - true_ranks)\n",
    "        plt.hist(diff, alpha=0.5)"
   ]
  },
  {
   "cell_type": "markdown",
   "metadata": {},
   "source": [
    "# Below is just a general test to see how if the model performs nicely."
   ]
  },
  {
   "cell_type": "code",
   "execution_count": 109,
   "metadata": {
    "collapsed": false
   },
   "outputs": [
    {
     "name": "stdout",
     "output_type": "stream",
     "text": [
      "Optimization terminated successfully.\n",
      "         Current function value: 0.000227\n",
      "         Iterations: 18\n",
      "         Function evaluations: 19\n",
      "         Gradient evaluations: 360\n",
      "         Hessian evaluations: 0\n",
      "Time Spent: 2.22 seconds\n"
     ]
    }
   ],
   "source": [
    "data_generation(50)\n",
    "\n",
    "w = np.ones(video_num)\n",
    "test_pairs = pairs_truth\n",
    "\n",
    "start_time = time.time()\n",
    "\n",
    "res = optimize.minimize(mle, w, \n",
    "                        method='Newton-CG',\n",
    "                        jac=gradient, \n",
    "                        options={'disp': True})\n",
    "\n",
    "print  'Time Spent: %.2f seconds' %float(time.time() - start_time)"
   ]
  },
  {
   "cell_type": "code",
   "execution_count": 110,
   "metadata": {
    "collapsed": false
   },
   "outputs": [
    {
     "data": {
      "image/png": "[encoded data removed]",
      "text/plain": [
       "<matplotlib.figure.Figure at 0x108b8c750>"
      ]
     },
     "metadata": {},
     "output_type": "display_data"
    }
   ],
   "source": [
    "compare_rank(video_score, res.x, verbose=False, hist=True)"
   ]
  },
  {
   "cell_type": "markdown",
   "metadata": {
    "collapsed": false
   },
   "source": [
    "# Introducing different methods of calculating error."
   ]
  },
  {
   "cell_type": "code",
   "execution_count": 119,
   "metadata": {
    "collapsed": true
   },
   "outputs": [],
   "source": [
    "def matching_func(param):\n",
    "    \"\"\"\n",
    "    Function used to calculate L2 norm of v and w_star. Used to find a and b.\n",
    "    Here param is [a, b]\n",
    "    \"\"\"\n",
    "    return np.linalg.norm(video_score - param[0]*np.array(w_hat) - param[1])\n",
    "\n",
    "\n",
    "def regularized_vector():\n",
    "    \"\"\"\n",
    "    Function to generate vector v after using matching_func to find optimal a and b\n",
    "    \"\"\"\n",
    "    coeff = optimize.minimize(matching_func, [0, 0])\n",
    "\n",
    "    a = coeff['x'][0]\n",
    "    b = coeff['x'][1]\n",
    "    v = a*np.array(w_hat)+b\n",
    "    return v\n",
    "\n",
    "def performance_isabelle():\n",
    "    \"\"\"\n",
    "    Performance evaluation using method proposed by Isabelle. \n",
    "    \"\"\"\n",
    "    epsilon = 0.0001\n",
    "    error = 0\n",
    "    v = regularized_vector()\n",
    "\n",
    "    true_order = np.array(video_score).argsort()\n",
    "\n",
    "    what = [ w_hat[i] for i in true_order]\n",
    "    wstar = [ video_score[i] for i in true_order]\n",
    "\n",
    "    for i in range(video_num-2):\n",
    "        error += np.abs((wstar[i+1]-wstar[i])/(wstar[i+2]-wstar[i]+epsilon)-\n",
    "                        (what[i+1]-what[i])/(what[i+2]-what[i]+epsilon))\n",
    "    \n",
    "    return error\n",
    "\n",
    "def performance_nihar():\n",
    "    \"\"\"\n",
    "    Performance evaluation using method proposed by Nihar\n",
    "    \"\"\"\n",
    "    v = regularized_vector()\n",
    "    return np.linalg.norm(video_score - v)"
   ]
  },
  {
   "cell_type": "markdown",
   "metadata": {},
   "source": [
    "### Sparsity"
   ]
  },
  {
   "cell_type": "code",
   "execution_count": 120,
   "metadata": {
    "collapsed": false
   },
   "outputs": [
    {
     "name": "stdout",
     "output_type": "stream",
     "text": [
      "Current evaluating with 435 test pairs\n",
      "Optimization terminated successfully.\n",
      "         Current function value: 0.000228\n",
      "         Iterations: 18\n",
      "         Function evaluations: 19\n",
      "         Gradient evaluations: 366\n",
      "         Hessian evaluations: 0\n",
      "Current evaluating with 391 test pairs\n",
      "Optimization terminated successfully.\n",
      "         Current function value: 0.000191\n",
      "         Iterations: 18\n",
      "         Function evaluations: 19\n",
      "         Gradient evaluations: 372\n",
      "         Hessian evaluations: 0\n",
      "Current evaluating with 348 test pairs\n",
      "Warning: Desired error not necessarily achieved due to precision loss.\n",
      "         Current function value: 0.000167\n",
      "         Iterations: 18\n",
      "         Function evaluations: 43\n",
      "         Gradient evaluations: 391\n",
      "         Hessian evaluations: 0\n",
      "Current evaluating with 304 test pairs\n",
      "Optimization terminated successfully.\n",
      "         Current function value: 0.000184\n",
      "         Iterations: 18\n",
      "         Function evaluations: 19\n",
      "         Gradient evaluations: 372\n",
      "         Hessian evaluations: 0\n",
      "Current evaluating with 261 test pairs\n",
      "Optimization terminated successfully.\n",
      "         Current function value: 0.000124\n",
      "         Iterations: 18\n",
      "         Function evaluations: 19\n",
      "         Gradient evaluations: 366\n",
      "         Hessian evaluations: 0\n",
      "Current evaluating with 217 test pairs\n",
      "Warning: Desired error not necessarily achieved due to precision loss.\n",
      "         Current function value: 0.000108\n",
      "         Iterations: 18\n",
      "         Function evaluations: 44\n",
      "         Gradient evaluations: 390\n",
      "         Hessian evaluations: 0\n",
      "Current evaluating with 174 test pairs\n",
      "Optimization terminated successfully.\n",
      "         Current function value: 0.000105\n",
      "         Iterations: 26\n",
      "         Function evaluations: 27\n",
      "         Gradient evaluations: 432\n",
      "         Hessian evaluations: 0\n",
      "Current evaluating with 130 test pairs\n",
      "Optimization terminated successfully.\n",
      "         Current function value: 0.000125\n",
      "         Iterations: 50\n",
      "         Function evaluations: 59\n",
      "         Gradient evaluations: 800\n",
      "         Hessian evaluations: 0\n",
      "Current evaluating with 87 test pairs\n",
      "Optimization terminated successfully.\n",
      "         Current function value: 0.000070\n",
      "         Iterations: 56\n",
      "         Function evaluations: 69\n",
      "         Gradient evaluations: 824\n",
      "         Hessian evaluations: 0\n",
      "Current evaluating with 43 test pairs\n",
      "Optimization terminated successfully.\n",
      "         Current function value: 0.000006\n",
      "         Iterations: 66\n",
      "         Function evaluations: 185\n",
      "         Gradient evaluations: 970\n",
      "         Hessian evaluations: 0\n"
     ]
    }
   ],
   "source": [
    "num_test_pairs = (np.array((1,0.9,0.8,0.7,0.6,0.5,0.4,0.3,0.2,0.1))* total_pairs).astype(int)\n",
    "\n",
    "data_generation(50)\n",
    "\n",
    "Nihar = True\n",
    "Isabelle = True\n",
    "showResult = False\n",
    "\n",
    "sparsity_error_nihar = []\n",
    "sparsity_error_isabelle = []\n",
    "\n",
    "for test_pair_num in num_test_pairs:\n",
    "    \n",
    "    print 'Current evaluating with %d test pairs' % test_pair_num\n",
    "    \n",
    "    test_pairs = [pairs_truth[i] for i in random.sample(range(total_pairs), test_pair_num)]\n",
    "\n",
    "    w = np.ones(video_num)\n",
    "\n",
    "    res = optimize.minimize(mle, w, \n",
    "                            method='Newton-CG',\n",
    "                            jac=gradient, \n",
    "                            options={'disp': True})\n",
    "    \n",
    "    w_hat = res.x\n",
    "    \n",
    "    if showResult:\n",
    "        compare_rank(video_score, res.x, False, True)\n",
    "    if Nihar:\n",
    "        sparsity_error_nihar.append(performance_nihar())\n",
    "    if Isabelle:\n",
    "        sparsity_error_isabelle.append(performance_isabelle())"
   ]
  },
  {
   "cell_type": "code",
   "execution_count": 122,
   "metadata": {
    "collapsed": false
   },
   "outputs": [
    {
     "data": {
      "text/plain": [
       "[<matplotlib.lines.Line2D at 0x107bfa910>]"
      ]
     },
     "execution_count": 122,
     "metadata": {},
     "output_type": "execute_result"
    },
    {
     "data": {
      "image/png": "[encoded data removed]",
      "text/plain": [
       "<matplotlib.figure.Figure at 0x10921d390>"
      ]
     },
     "metadata": {},
     "output_type": "display_data"
    }
   ],
   "source": [
    "plt.plot(sparsity_error_isabelle)"
   ]
  },
  {
   "cell_type": "markdown",
   "metadata": {
    "collapsed": false
   },
   "source": [
    "### Different Number of Videos"
   ]
  },
  {
   "cell_type": "code",
   "execution_count": 124,
   "metadata": {
    "collapsed": false
   },
   "outputs": [
    {
     "name": "stdout",
     "output_type": "stream",
     "text": [
      "Current evaluating with 50 videos\n",
      "Optimization terminated successfully.\n",
      "         Current function value: 0.000228\n",
      "         Iterations: 18\n",
      "         Function evaluations: 19\n",
      "         Gradient evaluations: 358\n",
      "         Hessian evaluations: 0\n"
     ]
    },
    {
     "ename": "ValueError",
     "evalue": "operands could not be broadcast together with shapes (30,) (50,) ",
     "output_type": "error",
     "traceback": [
      "\u001b[0;31m---------------------------------------------------------------------------\u001b[0m",
      "\u001b[0;31mValueError\u001b[0m                                Traceback (most recent call last)",
      "\u001b[0;32m<ipython-input-124-4e4ad005e082>\u001b[0m in \u001b[0;36m<module>\u001b[0;34m()\u001b[0m\n\u001b[1;32m     27\u001b[0m         \u001b[0mcompare_rank\u001b[0m\u001b[0;34m(\u001b[0m\u001b[0mvideo_score\u001b[0m\u001b[0;34m,\u001b[0m \u001b[0mres\u001b[0m\u001b[0;34m.\u001b[0m\u001b[0mx\u001b[0m\u001b[0;34m,\u001b[0m \u001b[0mFalse\u001b[0m\u001b[0;34m,\u001b[0m \u001b[0mTrue\u001b[0m\u001b[0;34m)\u001b[0m\u001b[0;34m\u001b[0m\u001b[0m\n\u001b[1;32m     28\u001b[0m     \u001b[0;32mif\u001b[0m \u001b[0mNihar\u001b[0m\u001b[0;34m:\u001b[0m\u001b[0;34m\u001b[0m\u001b[0m\n\u001b[0;32m---> 29\u001b[0;31m         \u001b[0mnumber_error_nihar\u001b[0m\u001b[0;34m.\u001b[0m\u001b[0mappend\u001b[0m\u001b[0;34m(\u001b[0m\u001b[0mperformance_nihar\u001b[0m\u001b[0;34m(\u001b[0m\u001b[0;34m)\u001b[0m\u001b[0;34m)\u001b[0m\u001b[0;34m\u001b[0m\u001b[0m\n\u001b[0m\u001b[1;32m     30\u001b[0m     \u001b[0;32mif\u001b[0m \u001b[0mIsabelle\u001b[0m\u001b[0;34m:\u001b[0m\u001b[0;34m\u001b[0m\u001b[0m\n\u001b[1;32m     31\u001b[0m         \u001b[0mnumber_error_isabelle\u001b[0m\u001b[0;34m.\u001b[0m\u001b[0mappend\u001b[0m\u001b[0;34m(\u001b[0m\u001b[0mperformance_isabelle\u001b[0m\u001b[0;34m(\u001b[0m\u001b[0;34m)\u001b[0m\u001b[0;34m)\u001b[0m\u001b[0;34m\u001b[0m\u001b[0m\n",
      "\u001b[0;32m<ipython-input-119-2b22ed1c6cad>\u001b[0m in \u001b[0;36mperformance_nihar\u001b[0;34m()\u001b[0m\n\u001b[1;32m     41\u001b[0m     \u001b[0mPerformance\u001b[0m \u001b[0mevaluation\u001b[0m \u001b[0musing\u001b[0m \u001b[0mmethod\u001b[0m \u001b[0mproposed\u001b[0m \u001b[0mby\u001b[0m \u001b[0mNihar\u001b[0m\u001b[0;34m\u001b[0m\u001b[0m\n\u001b[1;32m     42\u001b[0m     \"\"\"\n\u001b[0;32m---> 43\u001b[0;31m     \u001b[0mv\u001b[0m \u001b[0;34m=\u001b[0m \u001b[0mregularized_vector\u001b[0m\u001b[0;34m(\u001b[0m\u001b[0;34m)\u001b[0m\u001b[0;34m\u001b[0m\u001b[0m\n\u001b[0m\u001b[1;32m     44\u001b[0m     \u001b[0;32mreturn\u001b[0m \u001b[0mnp\u001b[0m\u001b[0;34m.\u001b[0m\u001b[0mlinalg\u001b[0m\u001b[0;34m.\u001b[0m\u001b[0mnorm\u001b[0m\u001b[0;34m(\u001b[0m\u001b[0mvideo_score\u001b[0m \u001b[0;34m-\u001b[0m \u001b[0mv\u001b[0m\u001b[0;34m)\u001b[0m\u001b[0;34m\u001b[0m\u001b[0m\n",
      "\u001b[0;32m<ipython-input-119-2b22ed1c6cad>\u001b[0m in \u001b[0;36mregularized_vector\u001b[0;34m()\u001b[0m\n\u001b[1;32m     11\u001b[0m     \u001b[0mFunction\u001b[0m \u001b[0mto\u001b[0m \u001b[0mgenerate\u001b[0m \u001b[0mvector\u001b[0m \u001b[0mv\u001b[0m \u001b[0mafter\u001b[0m \u001b[0musing\u001b[0m \u001b[0mmatching_func\u001b[0m \u001b[0mto\u001b[0m \u001b[0mfind\u001b[0m \u001b[0moptimal\u001b[0m \u001b[0ma\u001b[0m \u001b[0;32mand\u001b[0m \u001b[0mb\u001b[0m\u001b[0;34m\u001b[0m\u001b[0m\n\u001b[1;32m     12\u001b[0m     \"\"\"\n\u001b[0;32m---> 13\u001b[0;31m     \u001b[0mcoeff\u001b[0m \u001b[0;34m=\u001b[0m \u001b[0moptimize\u001b[0m\u001b[0;34m.\u001b[0m\u001b[0mminimize\u001b[0m\u001b[0;34m(\u001b[0m\u001b[0mmatching_func\u001b[0m\u001b[0;34m,\u001b[0m \u001b[0;34m[\u001b[0m\u001b[0;36m0\u001b[0m\u001b[0;34m,\u001b[0m \u001b[0;36m0\u001b[0m\u001b[0;34m]\u001b[0m\u001b[0;34m)\u001b[0m\u001b[0;34m\u001b[0m\u001b[0m\n\u001b[0m\u001b[1;32m     14\u001b[0m \u001b[0;34m\u001b[0m\u001b[0m\n\u001b[1;32m     15\u001b[0m     \u001b[0ma\u001b[0m \u001b[0;34m=\u001b[0m \u001b[0mcoeff\u001b[0m\u001b[0;34m[\u001b[0m\u001b[0;34m'x'\u001b[0m\u001b[0;34m]\u001b[0m\u001b[0;34m[\u001b[0m\u001b[0;36m0\u001b[0m\u001b[0;34m]\u001b[0m\u001b[0;34m\u001b[0m\u001b[0m\n",
      "\u001b[0;32m/Library/Frameworks/Python.framework/Versions/2.7/lib/python2.7/site-packages/scipy/optimize/_minimize.pyc\u001b[0m in \u001b[0;36mminimize\u001b[0;34m(fun, x0, args, method, jac, hess, hessp, bounds, constraints, tol, callback, options)\u001b[0m\n\u001b[1;32m    436\u001b[0m         \u001b[0;32mreturn\u001b[0m \u001b[0m_minimize_cg\u001b[0m\u001b[0;34m(\u001b[0m\u001b[0mfun\u001b[0m\u001b[0;34m,\u001b[0m \u001b[0mx0\u001b[0m\u001b[0;34m,\u001b[0m \u001b[0margs\u001b[0m\u001b[0;34m,\u001b[0m \u001b[0mjac\u001b[0m\u001b[0;34m,\u001b[0m \u001b[0mcallback\u001b[0m\u001b[0;34m,\u001b[0m \u001b[0;34m**\u001b[0m\u001b[0moptions\u001b[0m\u001b[0;34m)\u001b[0m\u001b[0;34m\u001b[0m\u001b[0m\n\u001b[1;32m    437\u001b[0m     \u001b[0;32melif\u001b[0m \u001b[0mmeth\u001b[0m \u001b[0;34m==\u001b[0m \u001b[0;34m'bfgs'\u001b[0m\u001b[0;34m:\u001b[0m\u001b[0;34m\u001b[0m\u001b[0m\n\u001b[0;32m--> 438\u001b[0;31m         \u001b[0;32mreturn\u001b[0m \u001b[0m_minimize_bfgs\u001b[0m\u001b[0;34m(\u001b[0m\u001b[0mfun\u001b[0m\u001b[0;34m,\u001b[0m \u001b[0mx0\u001b[0m\u001b[0;34m,\u001b[0m \u001b[0margs\u001b[0m\u001b[0;34m,\u001b[0m \u001b[0mjac\u001b[0m\u001b[0;34m,\u001b[0m \u001b[0mcallback\u001b[0m\u001b[0;34m,\u001b[0m \u001b[0;34m**\u001b[0m\u001b[0moptions\u001b[0m\u001b[0;34m)\u001b[0m\u001b[0;34m\u001b[0m\u001b[0m\n\u001b[0m\u001b[1;32m    439\u001b[0m     \u001b[0;32melif\u001b[0m \u001b[0mmeth\u001b[0m \u001b[0;34m==\u001b[0m \u001b[0;34m'newton-cg'\u001b[0m\u001b[0;34m:\u001b[0m\u001b[0;34m\u001b[0m\u001b[0m\n\u001b[1;32m    440\u001b[0m         return _minimize_newtoncg(fun, x0, args, jac, hess, hessp, callback,\n",
      "\u001b[0;32m/Library/Frameworks/Python.framework/Versions/2.7/lib/python2.7/site-packages/scipy/optimize/optimize.pyc\u001b[0m in \u001b[0;36m_minimize_bfgs\u001b[0;34m(fun, x0, args, jac, callback, gtol, norm, eps, maxiter, disp, return_all, **unknown_options)\u001b[0m\n\u001b[1;32m    841\u001b[0m     \u001b[0;32melse\u001b[0m\u001b[0;34m:\u001b[0m\u001b[0;34m\u001b[0m\u001b[0m\n\u001b[1;32m    842\u001b[0m         \u001b[0mgrad_calls\u001b[0m\u001b[0;34m,\u001b[0m \u001b[0mmyfprime\u001b[0m \u001b[0;34m=\u001b[0m \u001b[0mwrap_function\u001b[0m\u001b[0;34m(\u001b[0m\u001b[0mfprime\u001b[0m\u001b[0;34m,\u001b[0m \u001b[0margs\u001b[0m\u001b[0;34m)\u001b[0m\u001b[0;34m\u001b[0m\u001b[0m\n\u001b[0;32m--> 843\u001b[0;31m     \u001b[0mgfk\u001b[0m \u001b[0;34m=\u001b[0m \u001b[0mmyfprime\u001b[0m\u001b[0;34m(\u001b[0m\u001b[0mx0\u001b[0m\u001b[0;34m)\u001b[0m\u001b[0;34m\u001b[0m\u001b[0m\n\u001b[0m\u001b[1;32m    844\u001b[0m     \u001b[0mk\u001b[0m \u001b[0;34m=\u001b[0m \u001b[0;36m0\u001b[0m\u001b[0;34m\u001b[0m\u001b[0m\n\u001b[1;32m    845\u001b[0m     \u001b[0mN\u001b[0m \u001b[0;34m=\u001b[0m \u001b[0mlen\u001b[0m\u001b[0;34m(\u001b[0m\u001b[0mx0\u001b[0m\u001b[0;34m)\u001b[0m\u001b[0;34m\u001b[0m\u001b[0m\n",
      "\u001b[0;32m/Library/Frameworks/Python.framework/Versions/2.7/lib/python2.7/site-packages/scipy/optimize/optimize.pyc\u001b[0m in \u001b[0;36mfunction_wrapper\u001b[0;34m(*wrapper_args)\u001b[0m\n\u001b[1;32m    283\u001b[0m     \u001b[0;32mdef\u001b[0m \u001b[0mfunction_wrapper\u001b[0m\u001b[0;34m(\u001b[0m\u001b[0;34m*\u001b[0m\u001b[0mwrapper_args\u001b[0m\u001b[0;34m)\u001b[0m\u001b[0;34m:\u001b[0m\u001b[0;34m\u001b[0m\u001b[0m\n\u001b[1;32m    284\u001b[0m         \u001b[0mncalls\u001b[0m\u001b[0;34m[\u001b[0m\u001b[0;36m0\u001b[0m\u001b[0;34m]\u001b[0m \u001b[0;34m+=\u001b[0m \u001b[0;36m1\u001b[0m\u001b[0;34m\u001b[0m\u001b[0m\n\u001b[0;32m--> 285\u001b[0;31m         \u001b[0;32mreturn\u001b[0m \u001b[0mfunction\u001b[0m\u001b[0;34m(\u001b[0m\u001b[0;34m*\u001b[0m\u001b[0;34m(\u001b[0m\u001b[0mwrapper_args\u001b[0m \u001b[0;34m+\u001b[0m \u001b[0margs\u001b[0m\u001b[0;34m)\u001b[0m\u001b[0;34m)\u001b[0m\u001b[0;34m\u001b[0m\u001b[0m\n\u001b[0m\u001b[1;32m    286\u001b[0m \u001b[0;34m\u001b[0m\u001b[0m\n\u001b[1;32m    287\u001b[0m     \u001b[0;32mreturn\u001b[0m \u001b[0mncalls\u001b[0m\u001b[0;34m,\u001b[0m \u001b[0mfunction_wrapper\u001b[0m\u001b[0;34m\u001b[0m\u001b[0m\n",
      "\u001b[0;32m/Library/Frameworks/Python.framework/Versions/2.7/lib/python2.7/site-packages/scipy/optimize/optimize.pyc\u001b[0m in \u001b[0;36mapprox_fprime\u001b[0;34m(xk, f, epsilon, *args)\u001b[0m\n\u001b[1;32m    616\u001b[0m \u001b[0;34m\u001b[0m\u001b[0m\n\u001b[1;32m    617\u001b[0m     \"\"\"\n\u001b[0;32m--> 618\u001b[0;31m     \u001b[0;32mreturn\u001b[0m \u001b[0m_approx_fprime_helper\u001b[0m\u001b[0;34m(\u001b[0m\u001b[0mxk\u001b[0m\u001b[0;34m,\u001b[0m \u001b[0mf\u001b[0m\u001b[0;34m,\u001b[0m \u001b[0mepsilon\u001b[0m\u001b[0;34m,\u001b[0m \u001b[0margs\u001b[0m\u001b[0;34m=\u001b[0m\u001b[0margs\u001b[0m\u001b[0;34m)\u001b[0m\u001b[0;34m\u001b[0m\u001b[0m\n\u001b[0m\u001b[1;32m    619\u001b[0m \u001b[0;34m\u001b[0m\u001b[0m\n\u001b[1;32m    620\u001b[0m \u001b[0;34m\u001b[0m\u001b[0m\n",
      "\u001b[0;32m/Library/Frameworks/Python.framework/Versions/2.7/lib/python2.7/site-packages/scipy/optimize/optimize.pyc\u001b[0m in \u001b[0;36m_approx_fprime_helper\u001b[0;34m(xk, f, epsilon, args, f0)\u001b[0m\n\u001b[1;32m    550\u001b[0m     \"\"\"\n\u001b[1;32m    551\u001b[0m     \u001b[0;32mif\u001b[0m \u001b[0mf0\u001b[0m \u001b[0;32mis\u001b[0m \u001b[0mNone\u001b[0m\u001b[0;34m:\u001b[0m\u001b[0;34m\u001b[0m\u001b[0m\n\u001b[0;32m--> 552\u001b[0;31m         \u001b[0mf0\u001b[0m \u001b[0;34m=\u001b[0m \u001b[0mf\u001b[0m\u001b[0;34m(\u001b[0m\u001b[0;34m*\u001b[0m\u001b[0;34m(\u001b[0m\u001b[0;34m(\u001b[0m\u001b[0mxk\u001b[0m\u001b[0;34m,\u001b[0m\u001b[0;34m)\u001b[0m \u001b[0;34m+\u001b[0m \u001b[0margs\u001b[0m\u001b[0;34m)\u001b[0m\u001b[0;34m)\u001b[0m\u001b[0;34m\u001b[0m\u001b[0m\n\u001b[0m\u001b[1;32m    553\u001b[0m     \u001b[0mgrad\u001b[0m \u001b[0;34m=\u001b[0m \u001b[0mnumpy\u001b[0m\u001b[0;34m.\u001b[0m\u001b[0mzeros\u001b[0m\u001b[0;34m(\u001b[0m\u001b[0;34m(\u001b[0m\u001b[0mlen\u001b[0m\u001b[0;34m(\u001b[0m\u001b[0mxk\u001b[0m\u001b[0;34m)\u001b[0m\u001b[0;34m,\u001b[0m\u001b[0;34m)\u001b[0m\u001b[0;34m,\u001b[0m \u001b[0mfloat\u001b[0m\u001b[0;34m)\u001b[0m\u001b[0;34m\u001b[0m\u001b[0m\n\u001b[1;32m    554\u001b[0m     \u001b[0mei\u001b[0m \u001b[0;34m=\u001b[0m \u001b[0mnumpy\u001b[0m\u001b[0;34m.\u001b[0m\u001b[0mzeros\u001b[0m\u001b[0;34m(\u001b[0m\u001b[0;34m(\u001b[0m\u001b[0mlen\u001b[0m\u001b[0;34m(\u001b[0m\u001b[0mxk\u001b[0m\u001b[0;34m)\u001b[0m\u001b[0;34m,\u001b[0m\u001b[0;34m)\u001b[0m\u001b[0;34m,\u001b[0m \u001b[0mfloat\u001b[0m\u001b[0;34m)\u001b[0m\u001b[0;34m\u001b[0m\u001b[0m\n",
      "\u001b[0;32m/Library/Frameworks/Python.framework/Versions/2.7/lib/python2.7/site-packages/scipy/optimize/optimize.pyc\u001b[0m in \u001b[0;36mfunction_wrapper\u001b[0;34m(*wrapper_args)\u001b[0m\n\u001b[1;32m    283\u001b[0m     \u001b[0;32mdef\u001b[0m \u001b[0mfunction_wrapper\u001b[0m\u001b[0;34m(\u001b[0m\u001b[0;34m*\u001b[0m\u001b[0mwrapper_args\u001b[0m\u001b[0;34m)\u001b[0m\u001b[0;34m:\u001b[0m\u001b[0;34m\u001b[0m\u001b[0m\n\u001b[1;32m    284\u001b[0m         \u001b[0mncalls\u001b[0m\u001b[0;34m[\u001b[0m\u001b[0;36m0\u001b[0m\u001b[0;34m]\u001b[0m \u001b[0;34m+=\u001b[0m \u001b[0;36m1\u001b[0m\u001b[0;34m\u001b[0m\u001b[0m\n\u001b[0;32m--> 285\u001b[0;31m         \u001b[0;32mreturn\u001b[0m \u001b[0mfunction\u001b[0m\u001b[0;34m(\u001b[0m\u001b[0;34m*\u001b[0m\u001b[0;34m(\u001b[0m\u001b[0mwrapper_args\u001b[0m \u001b[0;34m+\u001b[0m \u001b[0margs\u001b[0m\u001b[0;34m)\u001b[0m\u001b[0;34m)\u001b[0m\u001b[0;34m\u001b[0m\u001b[0m\n\u001b[0m\u001b[1;32m    286\u001b[0m \u001b[0;34m\u001b[0m\u001b[0m\n\u001b[1;32m    287\u001b[0m     \u001b[0;32mreturn\u001b[0m \u001b[0mncalls\u001b[0m\u001b[0;34m,\u001b[0m \u001b[0mfunction_wrapper\u001b[0m\u001b[0;34m\u001b[0m\u001b[0m\n",
      "\u001b[0;32m<ipython-input-119-2b22ed1c6cad>\u001b[0m in \u001b[0;36mmatching_func\u001b[0;34m(param)\u001b[0m\n\u001b[1;32m      4\u001b[0m     \u001b[0mHere\u001b[0m \u001b[0mparam\u001b[0m \u001b[0;32mis\u001b[0m \u001b[0;34m[\u001b[0m\u001b[0ma\u001b[0m\u001b[0;34m,\u001b[0m \u001b[0mb\u001b[0m\u001b[0;34m]\u001b[0m\u001b[0;34m\u001b[0m\u001b[0m\n\u001b[1;32m      5\u001b[0m     \"\"\"\n\u001b[0;32m----> 6\u001b[0;31m     \u001b[0;32mreturn\u001b[0m \u001b[0mnp\u001b[0m\u001b[0;34m.\u001b[0m\u001b[0mlinalg\u001b[0m\u001b[0;34m.\u001b[0m\u001b[0mnorm\u001b[0m\u001b[0;34m(\u001b[0m\u001b[0mvideo_score\u001b[0m \u001b[0;34m-\u001b[0m \u001b[0mparam\u001b[0m\u001b[0;34m[\u001b[0m\u001b[0;36m0\u001b[0m\u001b[0;34m]\u001b[0m\u001b[0;34m*\u001b[0m\u001b[0mnp\u001b[0m\u001b[0;34m.\u001b[0m\u001b[0marray\u001b[0m\u001b[0;34m(\u001b[0m\u001b[0mw_hat\u001b[0m\u001b[0;34m)\u001b[0m \u001b[0;34m-\u001b[0m \u001b[0mparam\u001b[0m\u001b[0;34m[\u001b[0m\u001b[0;36m1\u001b[0m\u001b[0;34m]\u001b[0m\u001b[0;34m)\u001b[0m\u001b[0;34m\u001b[0m\u001b[0m\n\u001b[0m\u001b[1;32m      7\u001b[0m \u001b[0;34m\u001b[0m\u001b[0m\n\u001b[1;32m      8\u001b[0m \u001b[0;34m\u001b[0m\u001b[0m\n",
      "\u001b[0;31mValueError\u001b[0m: operands could not be broadcast together with shapes (30,) (50,) "
     ]
    }
   ],
   "source": [
    "video_nums = [50,100,150,200,250,300]\n",
    "\n",
    "Nihar = True\n",
    "Isabelle = True\n",
    "showResult = False\n",
    "\n",
    "number_error_nihar = []\n",
    "number_error_isabelle = []\n",
    "\n",
    "for video_num in video_nums:\n",
    "    \n",
    "    data_generation(video_num)\n",
    "    \n",
    "    print 'Current evaluating with %d videos' % video_num\n",
    "    \n",
    "    test_pairs = pairs_truth\n",
    "#     test_pairs = [pairs_truth[i] for i in random.sample(range(total_pairs), test_pair_num)]\n",
    "\n",
    "    w = np.ones(video_num)\n",
    "\n",
    "    res = optimize.minimize(mle, w, \n",
    "                            method='Newton-CG',\n",
    "                            jac=gradient, \n",
    "                            options={'disp': True})\n",
    "    w_hat = res.x\n",
    "    if showResult:\n",
    "        compare_rank(video_score, res.x, False, True)\n",
    "    if Nihar:\n",
    "        number_error_nihar.append(performance_nihar())\n",
    "    if Isabelle:\n",
    "        number_error_isabelle.append(performance_isabelle())\n"
   ]
  },
  {
   "cell_type": "markdown",
   "metadata": {},
   "source": [
    "# Performance Test\n",
    "We have video_num videos, and the score for each video, stored in video_score, is randomly assigned between [-5,5] from a uniform distribution, and then created total_pairs to store all the pairs. Note here total_pairs doesn't include duplicated videos, meaning if i>j is in it, then j<i will not be in it. "
   ]
  },
  {
   "cell_type": "code",
   "execution_count": 87,
   "metadata": {
    "collapsed": true
   },
   "outputs": [],
   "source": [
    "video_num = 10\n",
    "\n",
    "video_score = np.random.uniform(-5,5,video_num)\n",
    "resolution = 0.1\n",
    "video_score = np.round(video_score/resolution)*resolution\n",
    "\n",
    "global pairs_truth\n",
    "global test_pairs_with_error\n",
    "pairs_truth = []\n",
    "\n",
    "for i in range(len(video_score)-2):\n",
    "    for j in range(i+1, len(video_score)):\n",
    "        if video_score[i] > video_score[j]:\n",
    "            pairs_truth.append((i,j))\n",
    "        else:\n",
    "            pairs_truth.append((j,i))\n",
    "            \n",
    "total_pairs = len(pairs_truth)  "
   ]
  },
  {
   "cell_type": "code",
   "execution_count": null,
   "metadata": {
    "collapsed": false
   },
   "outputs": [],
   "source": []
  },
  {
   "cell_type": "code",
   "execution_count": null,
   "metadata": {
    "collapsed": false
   },
   "outputs": [],
   "source": []
  },
  {
   "cell_type": "code",
   "execution_count": null,
   "metadata": {
    "collapsed": false
   },
   "outputs": [],
   "source": []
  },
  {
   "cell_type": "code",
   "execution_count": null,
   "metadata": {
    "collapsed": false
   },
   "outputs": [],
   "source": []
  },
  {
   "cell_type": "code",
   "execution_count": null,
   "metadata": {
    "collapsed": false
   },
   "outputs": [],
   "source": []
  },
  {
   "cell_type": "code",
   "execution_count": null,
   "metadata": {
    "collapsed": true
   },
   "outputs": [],
   "source": []
  },
  {
   "cell_type": "code",
   "execution_count": null,
   "metadata": {
    "collapsed": false
   },
   "outputs": [],
   "source": []
  },
  {
   "cell_type": "code",
   "execution_count": null,
   "metadata": {
    "collapsed": false
   },
   "outputs": [],
   "source": []
  },
  {
   "cell_type": "code",
   "execution_count": null,
   "metadata": {
    "collapsed": false
   },
   "outputs": [],
   "source": []
  },
  {
   "cell_type": "code",
   "execution_count": null,
   "metadata": {
    "collapsed": false
   },
   "outputs": [],
   "source": []
  },
  {
   "cell_type": "code",
   "execution_count": null,
   "metadata": {
    "collapsed": false
   },
   "outputs": [],
   "source": []
  },
  {
   "cell_type": "code",
   "execution_count": null,
   "metadata": {
    "collapsed": false
   },
   "outputs": [],
   "source": []
  },
  {
   "cell_type": "code",
   "execution_count": null,
   "metadata": {
    "collapsed": false
   },
   "outputs": [],
   "source": []
  },
  {
   "cell_type": "code",
   "execution_count": null,
   "metadata": {
    "collapsed": false
   },
   "outputs": [],
   "source": []
  },
  {
   "cell_type": "code",
   "execution_count": null,
   "metadata": {
    "collapsed": false
   },
   "outputs": [],
   "source": []
  },
  {
   "cell_type": "code",
   "execution_count": null,
   "metadata": {
    "collapsed": false
   },
   "outputs": [],
   "source": []
  },
  {
   "cell_type": "code",
   "execution_count": null,
   "metadata": {
    "collapsed": true
   },
   "outputs": [],
   "source": []
  },
  {
   "cell_type": "code",
   "execution_count": null,
   "metadata": {
    "collapsed": true
   },
   "outputs": [],
   "source": []
  },
  {
   "cell_type": "code",
   "execution_count": null,
   "metadata": {
    "collapsed": true
   },
   "outputs": [],
   "source": []
  },
  {
   "cell_type": "code",
   "execution_count": null,
   "metadata": {
    "collapsed": true
   },
   "outputs": [],
   "source": []
  },
  {
   "cell_type": "code",
   "execution_count": null,
   "metadata": {
    "collapsed": true
   },
   "outputs": [],
   "source": []
  },
  {
   "cell_type": "code",
   "execution_count": null,
   "metadata": {
    "collapsed": true
   },
   "outputs": [],
   "source": []
  },
  {
   "cell_type": "code",
   "execution_count": null,
   "metadata": {
    "collapsed": true
   },
   "outputs": [],
   "source": []
  }
 ],
 "metadata": {
  "kernelspec": {
   "display_name": "Python 2",
   "language": "python",
   "name": "python2"
  },
  "language_info": {
   "codemirror_mode": {
    "name": "ipython",
    "version": 2
   },
   "file_extension": ".py",
   "mimetype": "text/x-python",
   "name": "python",
   "nbconvert_exporter": "python",
   "pygments_lexer": "ipython2",
   "version": "2.7.10"
  }
 },
 "nbformat": 4,
 "nbformat_minor": 0
}
