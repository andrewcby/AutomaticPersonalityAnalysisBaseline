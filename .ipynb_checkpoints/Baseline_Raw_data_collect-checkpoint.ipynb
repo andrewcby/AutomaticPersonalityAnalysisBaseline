{
 "cells": [
  {
   "cell_type": "code",
   "execution_count": 1,
   "metadata": {
    "collapsed": true
   },
   "outputs": [],
   "source": [
    "import time, pickle\n",
    "\n",
    "import numpy as np\n",
    "import pandas as pd\n",
    "import matplotlib.pyplot as plt\n",
    "%matplotlib inline"
   ]
  },
  {
   "cell_type": "code",
   "execution_count": 2,
   "metadata": {
    "collapsed": true
   },
   "outputs": [],
   "source": [
    "# Make sure that caffe is on the python path:\n",
    "caffe_root = '../../caffe/caffe/'\n",
    "\n",
    "import sys\n",
    "sys.path.insert(0, caffe_root + 'python')\n",
    "\n",
    "import caffe\n",
    "\n",
    "plt.rcParams['figure.figsize'] = (10, 10)\n",
    "plt.rcParams['image.interpolation'] = 'nearest'\n",
    "plt.rcParams['image.cmap'] = 'gray'\n",
    "\n",
    "import os\n",
    "if not os.path.isfile(caffe_root + 'models/bvlc_reference_caffenet/bvlc_reference_caffenet.caffemodel'):\n",
    "    print(\"Downloading pre-trained CaffeNet model...\")\n",
    "    !../scripts/download_model_binary.py ../models/bvlc_reference_caffenet\n",
    "    \n",
    "df = pd.read_csv('validation_gt.csv')"
   ]
  },
  {
   "cell_type": "code",
   "execution_count": 3,
   "metadata": {
    "collapsed": true
   },
   "outputs": [],
   "source": [
    "caffe.set_mode_cpu()\n",
    "net = caffe.Net(caffe_root + 'models/bvlc_reference_caffenet/deploy.prototxt',\n",
    "                caffe_root + 'models/bvlc_reference_caffenet/bvlc_reference_caffenet.caffemodel',\n",
    "                caffe.TEST)\n",
    "\n",
    "# input preprocessing: 'data' is the name of the input blob == net.inputs[0]\n",
    "transformer = caffe.io.Transformer({'data': net.blobs['data'].data.shape})\n",
    "transformer.set_transpose('data', (2,0,1))\n",
    "transformer.set_mean('data', np.load(caffe_root + 'python/caffe/imagenet/ilsvrc_2012_mean.npy').mean(1).mean(1)) # mean pixel\n",
    "transformer.set_raw_scale('data', 255)  # the reference model operates on images in [0,255] range instead of [0,1]\n",
    "transformer.set_channel_swap('data', (2,1,0))  # the reference model has channels in BGR order instead of RGB"
   ]
  },
  {
   "cell_type": "code",
   "execution_count": 4,
   "metadata": {
    "collapsed": true
   },
   "outputs": [],
   "source": [
    "# set net to batch size of 50\n",
    "net.blobs['data'].reshape(50,3,227,227)"
   ]
  },
  {
   "cell_type": "code",
   "execution_count": null,
   "metadata": {
    "collapsed": false
   },
   "outputs": [
    {
     "name": "stdout",
     "output_type": "stream",
     "text": [
      "Currently on: 0 and it has been: 0.00155591964722 seconds\n"
     ]
    }
   ],
   "source": [
    "image_path = './Validation_Image/'\n",
    "files = [f for f in os.listdir(image_path) if f.endswith('.jpg')]\n",
    "\n",
    "data = dict()\n",
    "counter = 0\n",
    "starttime = time.time()\n",
    "\n",
    "for img in files:\n",
    "    \n",
    "    if counter % 100 == 0:\n",
    "        print 'Currently on:', counter, 'and it has been:',time.time()-starttime,'seconds'\n",
    "    \n",
    "    vid_file = img[:-3]+'mp4'\n",
    "    \n",
    "    net.blobs['data'].data[...] = transformer.preprocess('data', caffe.io.load_image(image_path+img))\n",
    "    \n",
    "    out = net.forward()\n",
    "    \n",
    "    feat = net.blobs['fc8'].data[0]\n",
    "    \n",
    "    data[vid_file] = dict()\n",
    "    \n",
    "    data[vid_file]['O'] = df.ix[df.VideoName[df.VideoName == vid_file].index.tolist()]['O'].values[0]\n",
    "    data[vid_file]['C'] = df.ix[df.VideoName[df.VideoName == vid_file].index.tolist()]['C'].values[0]\n",
    "    data[vid_file]['E'] = df.ix[df.VideoName[df.VideoName == vid_file].index.tolist()]['E'].values[0]\n",
    "    data[vid_file]['A'] = df.ix[df.VideoName[df.VideoName == vid_file].index.tolist()]['A'].values[0]\n",
    "    data[vid_file]['N'] = df.ix[df.VideoName[df.VideoName == vid_file].index.tolist()]['N'].values[0]\n",
    "    data[vid_file]['Raw'] = np.array(feat)\n",
    "    \n",
    "    counter += 1\n",
    "    \n",
    "filename = 'Validation_data.p'\n",
    "pickle.dump(data,open(filename,\"wb\"))"
   ]
  },
  {
   "cell_type": "code",
   "execution_count": null,
   "metadata": {
    "collapsed": false,
    "scrolled": false
   },
   "outputs": [],
   "source": []
  },
  {
   "cell_type": "code",
   "execution_count": 31,
   "metadata": {
    "collapsed": false
   },
   "outputs": [
    {
     "data": {
      "text/plain": [
       "[851]"
      ]
     },
     "execution_count": 31,
     "metadata": {},
     "output_type": "execute_result"
    }
   ],
   "source": [
    "df.VideoName[df.VideoName == vid_file].index.tolist()"
   ]
  },
  {
   "cell_type": "code",
   "execution_count": 34,
   "metadata": {
    "collapsed": false
   },
   "outputs": [
    {
     "data": {
      "text/html": [
       "<div>\n",
       "<table border=\"1\" class=\"dataframe\">\n",
       "  <thead>\n",
       "    <tr style=\"text-align: right;\">\n",
       "      <th></th>\n",
       "      <th>VideoName</th>\n",
       "      <th>E</th>\n",
       "      <th>A</th>\n",
       "      <th>C</th>\n",
       "      <th>N</th>\n",
       "      <th>O</th>\n",
       "    </tr>\n",
       "  </thead>\n",
       "  <tbody>\n",
       "    <tr>\n",
       "      <th>851</th>\n",
       "      <td>-9BZ8A9U7TE.002.mp4</td>\n",
       "      <td>0.579439</td>\n",
       "      <td>0.494505</td>\n",
       "      <td>0.417476</td>\n",
       "      <td>0.46875</td>\n",
       "      <td>0.544444</td>\n",
       "    </tr>\n",
       "  </tbody>\n",
       "</table>\n",
       "</div>"
      ],
      "text/plain": [
       "               VideoName         E         A         C        N         O\n",
       "851  -9BZ8A9U7TE.002.mp4  0.579439  0.494505  0.417476  0.46875  0.544444"
      ]
     },
     "execution_count": 34,
     "metadata": {},
     "output_type": "execute_result"
    }
   ],
   "source": [
    "df.ix[df.VideoName[df.VideoName == vid_file].index.tolist()]"
   ]
  },
  {
   "cell_type": "code",
   "execution_count": 33,
   "metadata": {
    "collapsed": false
   },
   "outputs": [
    {
     "data": {
      "text/plain": [
       "'-9BZ8A9U7TE.002.mp4'"
      ]
     },
     "execution_count": 33,
     "metadata": {},
     "output_type": "execute_result"
    }
   ],
   "source": [
    "vid_file"
   ]
  },
  {
   "cell_type": "code",
   "execution_count": 17,
   "metadata": {
    "collapsed": false
   },
   "outputs": [
    {
     "name": "stdout",
     "output_type": "stream",
     "text": [
      "Currently on: 0 and it has been: 0.00198101997375 seconds\n",
      "Currently on: 500 and it has been: 1429.29019809 seconds\n",
      "Currently on: 1000 and it has been: 2687.96743512 seconds\n",
      "Currently on: 1500 and it has been: 3873.35889411 seconds\n",
      "Currently on: 2000 and it has been: 5305.92968702 seconds\n",
      "Currently on: 2500 and it has been: 6488.38568211 seconds\n",
      "Currently on: 3000 and it has been: 7674.99481606 seconds\n",
      "Currently on: 3500 and it has been: 8864.85591912 seconds\n",
      "Currently on: 4000 and it has been: 10051.2549171 seconds\n",
      "Currently on: 4500 and it has been: 11239.470319 seconds\n",
      "Currently on: 5000 and it has been: 12420.4609489 seconds\n",
      "Currently on: 5500 and it has been: 13604.2655342 seconds\n"
     ]
    }
   ],
   "source": [
    "image_path = './Train_Image/'\n",
    "files = [f for f in os.listdir(image_path) if f.endswith('.jpg')]\n",
    "resolution=0.1\n",
    "\n",
    "data = dict()\n",
    "counter = 0\n",
    "starttime = time.time()\n",
    "\n",
    "for img in files:\n",
    "    \n",
    "    if counter % 500 == 0:\n",
    "        print 'Currently on:', counter, 'and it has been:',time.time()-starttime,'seconds'\n",
    "        \n",
    "    net.blobs['data'].data[...] = transformer.preprocess('data', caffe.io.load_image(image_path+img))\n",
    "    \n",
    "    out = net.forward()\n",
    "    \n",
    "    feat = net.blobs['fc8'].data[0]\n",
    "    vid_file = img[:-3]+'mp4'\n",
    "      \n",
    "    data[vid_file] = dict()\n",
    "    \n",
    "    data[vid_file]['O'] = np.round(df[df['VideoName']==vid_file]['O'].values[0]/resolution)*resolution\n",
    "    data[vid_file]['C'] = np.round(df[df['VideoName']==vid_file]['C'].values[0]/resolution)*resolution\n",
    "    data[vid_file]['E'] = np.round(df[df['VideoName']==vid_file]['E'].values[0]/resolution)*resolution\n",
    "    data[vid_file]['A'] = np.round(df[df['VideoName']==vid_file]['A'].values[0]/resolution)*resolution\n",
    "    data[vid_file]['N'] = np.round(df[df['VideoName']==vid_file]['N'].values[0]/resolution)*resolution\n",
    "    data[vid_file]['Raw'] = np.array(feat)\n",
    "    \n",
    "    counter += 1\n",
    "    \n",
    "    if (counter-1) % 1000 == 0:\n",
    "        filename = 'Raw_data'+ str(counter)+'.p'\n",
    "        pickle.dump(data, open( filename, \"wb\" ) )"
   ]
  },
  {
   "cell_type": "code",
   "execution_count": 18,
   "metadata": {
    "collapsed": false
   },
   "outputs": [
    {
     "data": {
      "text/plain": [
       "6000"
      ]
     },
     "execution_count": 18,
     "metadata": {},
     "output_type": "execute_result"
    }
   ],
   "source": [
    "counter"
   ]
  },
  {
   "cell_type": "code",
   "execution_count": 19,
   "metadata": {
    "collapsed": false
   },
   "outputs": [],
   "source": [
    "pickle.dump(data, open( 'Raw_data6000.p', \"wb\" ) )"
   ]
  },
  {
   "cell_type": "code",
   "execution_count": null,
   "metadata": {
    "collapsed": false
   },
   "outputs": [],
   "source": []
  },
  {
   "cell_type": "code",
   "execution_count": null,
   "metadata": {
    "collapsed": true
   },
   "outputs": [],
   "source": []
  }
 ],
 "metadata": {
  "kernelspec": {
   "display_name": "Python 2",
   "language": "python",
   "name": "python2"
  },
  "language_info": {
   "codemirror_mode": {
    "name": "ipython",
    "version": 2
   },
   "file_extension": ".py",
   "mimetype": "text/x-python",
   "name": "python",
   "nbconvert_exporter": "python",
   "pygments_lexer": "ipython2",
   "version": "2.7.10"
  }
 },
 "nbformat": 4,
 "nbformat_minor": 0
}
