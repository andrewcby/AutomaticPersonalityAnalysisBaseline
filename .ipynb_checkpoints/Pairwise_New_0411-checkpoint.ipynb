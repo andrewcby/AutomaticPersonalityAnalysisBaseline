{
 "cells": [
  {
   "cell_type": "code",
   "execution_count": 3,
   "metadata": {
    "collapsed": false
   },
   "outputs": [],
   "source": [
    "from functions import mle , gradient, init_graph, matching_func, regularized_vector, sigmoid, noise_generation\n",
    "\n",
    "import random, csv, time, os, pickle\n",
    "\n",
    "import numpy as np\n",
    "import pandas as pd\n",
    "import matplotlib.pyplot as plt\n",
    "\n",
    "from scipy import optimize\n",
    "from scipy.stats import bernoulli\n",
    "from scipy.io import savemat\n",
    "\n",
    "%matplotlib inline"
   ]
  },
  {
   "cell_type": "markdown",
   "metadata": {},
   "source": [
    "# Functions\n",
    " * **mle(w, pairs)**\n",
    " \n",
    " Calculate the MLE of w.\n",
    " \n",
    " Due to the fact that optimize.minimize only takes 1 input, here the pair information is imported from global variable.\n",
    " \n",
    " \n",
    " * **gradient(w,pairs)**\n",
    " \n",
    " Calculate the gradient of MLE. \n",
    " \n",
    " Returns a numpy array with value of gradient.\n",
    " \n",
    " \n",
    " * **hessian(w, pairs)**\n",
    " \n",
    " Calculate the hessian of MLE. \n",
    " \n",
    " Returns a numpy matrix with value of hessian.\n",
    " \n",
    " \n",
    " * **compare_rank(video_score, results, verbose=False, hist=False)**\n",
    " \n",
    " Compute the true rankings and rankings from results. \n",
    " \n",
    " `verbose` will output with columns: Result Order, True Order, Result Score, Ture Score\n",
    "    \n",
    " `hist` will output a histogram\n",
    "\n",
    "\n",
    " * **init_graph(num_nodes, num_edges, reference_matrix=None)**\n",
    " \n",
    " Marc's method of generating pairs\n",
    " \n",
    " \n",
    " * **matching_func(param, video_score, w_hat)**\n",
    "\n",
    " Function used to calculate L2 norm of v and w_star. Used to find a and b.\n",
    " Here param is [a, b]\n",
    "\n",
    "    \n",
    " * **regularized_vector(video_score,w_hat)**\n",
    "\n",
    " Function to generate vector v after using matching_func to find optimal a and b\n",
    " \n",
    " \n",
    " \n",
    " * **performance_isabelle(video_score, video_num, w_hat)**\n",
    "\n",
    " Performance evaluation using method proposed by Isabelle.\n",
    " \n",
    " \n",
    " * **performance_nihar(video_score, video_num, w_hat)**\n",
    "\n",
    " Performance evaluation using method proposed by Nihar.\n",
    " \n",
    " \n",
    " * **noise_generation(video_score, pair)**\n",
    "\n",
    " Generate a decision of whether to flip, using proability from normal distribution and then Bernoulli to decide whether to flip\n",
    " \n",
    " \n",
    " * **sigmoid(x)**\n",
    " \n",
    " "
   ]
  },
  {
   "cell_type": "markdown",
   "metadata": {},
   "source": [
    "# Data Generation\n",
    "The cell below generates data for $video\\_num$ videos, calculates all possible pairs and stores in $pairs\\_truth$ and $total_pairs$ is the number of pairs. "
   ]
  },
  {
   "cell_type": "code",
   "execution_count": 5,
   "metadata": {
    "collapsed": false
   },
   "outputs": [],
   "source": [
    "test_pairs = init_graph(10000, 200000)\n",
    "pickle.dump( dict({'Pairs':test_pairs}), open( 'AMT.p', \"wb\" ) )"
   ]
  },
  {
   "cell_type": "code",
   "execution_count": 26,
   "metadata": {
    "collapsed": false
   },
   "outputs": [
    {
     "name": "stdout",
     "output_type": "stream",
     "text": [
      "Time on Iteration 0 with Video Number 625 and edges 625.00 : 0.3 seconds\n",
      "Time on Iteration 0 with Video Number 625 and edges 2011.00 : 1.5 seconds\n",
      "Time on Iteration 0 with Video Number 625 and edges 4023.00 : 3.1 seconds\n",
      "Time on Iteration 0 with Video Number 625 and edges 8731.00 : 7.6 seconds\n",
      "Time on Iteration 0 with Video Number 625 and edges 12070.00 : 9.6 seconds\n",
      "Time on Iteration 0 with Video Number 1250 and edges 1250.00 : 1.3 seconds\n",
      "Time on Iteration 0 with Video Number 1250 and edges 4456.00 : 6.3 seconds\n",
      "Time on Iteration 0 with Video Number 1250 and edges 8913.00 : 13.4 seconds\n",
      "Time on Iteration 0 with Video Number 1250 and edges 19342.00 : 31.7 seconds\n",
      "Time on Iteration 0 with Video Number 1250 and edges 26740.00 : 47.2 seconds\n",
      "Time on Iteration 0 with Video Number 2500 and edges 2500.00 : 5.0 seconds\n",
      "Time on Iteration 0 with Video Number 2500 and edges 9780.00 : 31.8 seconds\n",
      "Time on Iteration 0 with Video Number 2500 and edges 19560.00 : 66.6 seconds\n",
      "Time on Iteration 0 with Video Number 2500 and edges 42445.00 : 159.5 seconds\n",
      "Time on Iteration 0 with Video Number 2500 and edges 58680.00 : 265.6 seconds\n",
      "Time on Iteration 0 with Video Number 5000 and edges 5000.00 : 20.3 seconds\n",
      "Time on Iteration 0 with Video Number 5000 and edges 21292.00 : 140.0 seconds\n",
      "Time on Iteration 0 with Video Number 5000 and edges 42585.00 : 310.5 seconds\n",
      "Time on Iteration 0 with Video Number 5000 and edges 92411.00 : 714.9 seconds\n",
      "Time on Iteration 0 with Video Number 5000 and edges 127757.00 : 1069.3 seconds\n",
      "Time on Iteration 0 with Video Number 10000 and edges 10000.00 : 87.4 seconds\n",
      "Time on Iteration 0 with Video Number 10000 and edges 46051.00 : 685.5 seconds\n",
      "Time on Iteration 0 with Video Number 10000 and edges 92103.00 : 2401.5 seconds\n",
      "Time on Iteration 0 with Video Number 10000 and edges 199864.00 : 3168.4 seconds\n",
      "Time on Iteration 0 with Video Number 10000 and edges 276310.00 : 4685.2 seconds\n"
     ]
    }
   ],
   "source": [
    "video_nums = [5000,10000]\n",
    "# num_edges_pct = [0.01,0.1,1,10,100]\n",
    "\n",
    "# video_nums = [10000]\n",
    "num_edges_pct = [0.1, 0.5, 1, 2.17, 3]\n",
    "\n",
    "for iteration in range(1):\n",
    "    for video_num in video_nums:\n",
    "        for num_edge_pct in num_edges_pct:\n",
    "\n",
    "            num_edge = int(num_edge_pct*video_num*np.log(video_num))\n",
    "\n",
    "            if num_edge < video_num:\n",
    "                num_edge = video_num\n",
    "            if num_edge > video_num*(video_num-1)/2:\n",
    "                num_edge = video_num*(video_num-1)/2\n",
    "\n",
    "            video_score = np.random.uniform(-5,5,video_num)\n",
    "            resolution = 0.1\n",
    "            video_score = np.round(video_score/resolution)*resolution\n",
    "\n",
    "            w = np.ones(video_num)\n",
    "            test_pairs = [pairs_truth[i] for i in random.sample(range(total_pairs),num_edge)]\n",
    "            test_pairs = init_graph(video_num, num_edge, video_score)\n",
    "            for i in range(len(test_pairs)):\n",
    "                flip = noise_generation(video_score, test_pairs[i])\n",
    "                if flip:\n",
    "                    test_pairs[i] = (test_pairs[i][1], test_pairs[i][0])\n",
    "            start_time = time.time()\n",
    "\n",
    "            res = optimize.minimize(mle, w, \n",
    "                                    method='Newton-CG',\n",
    "                                    jac=gradient,\n",
    "                                    args=(test_pairs,),\n",
    "                                    tol = 10,\n",
    "                                    options={'disp': False})\n",
    "\n",
    "            filename = 'result/random_error_'+ str(video_num)+'_at_'+str(num_edge)+'_iter_00'+str(iteration)+'.p'\n",
    "            pickle.dump( dict({'x':res.x, 'video_score':video_score}), open( filename, \"wb\" ) )\n",
    "            print  'Time on Iteration %d with Video Number %d and edges %.2f : %.1f seconds' %(iteration, video_num, num_edge, float(time.time() - start_time))"
   ]
  },
  {
   "cell_type": "code",
   "execution_count": 6,
   "metadata": {
    "collapsed": false,
    "scrolled": false
   },
   "outputs": [
    {
     "name": "stdout",
     "output_type": "stream",
     "text": [
      "Time on Iteration 0 with Video Number 5000 and edges 5000.00 : 29.1 seconds\n",
      "Time on Iteration 0 with Video Number 5000 and edges 21292.00 : 201.8 seconds\n",
      "Time on Iteration 0 with Video Number 5000 and edges 42585.00 : 407.4 seconds\n",
      "Time on Iteration 0 with Video Number 5000 and edges 92411.00 : 839.9 seconds\n",
      "Time on Iteration 0 with Video Number 5000 and edges 127757.00 : 1226.2 seconds\n",
      "Time on Iteration 0 with Video Number 10000 and edges 10000.00 : 207.4 seconds\n",
      "Time on Iteration 0 with Video Number 10000 and edges 46051.00 : 999.9 seconds\n",
      "Time on Iteration 0 with Video Number 10000 and edges 92103.00 : 2041.0 seconds\n",
      "Time on Iteration 0 with Video Number 10000 and edges 199864.00 : 4695.4 seconds\n"
     ]
    },
    {
     "ename": "KeyboardInterrupt",
     "evalue": "",
     "output_type": "error",
     "traceback": [
      "\u001b[0;31m---------------------------------------------------------------------------\u001b[0m",
      "\u001b[0;31mKeyboardInterrupt\u001b[0m                         Traceback (most recent call last)",
      "\u001b[0;32m<ipython-input-6-e182c407e736>\u001b[0m in \u001b[0;36m<module>\u001b[0;34m()\u001b[0m\n\u001b[1;32m     45\u001b[0m                                     \u001b[0margs\u001b[0m\u001b[0;34m=\u001b[0m\u001b[0;34m(\u001b[0m\u001b[0mtest_pairs\u001b[0m\u001b[0;34m,\u001b[0m\u001b[0;34m)\u001b[0m\u001b[0;34m,\u001b[0m\u001b[0;34m\u001b[0m\u001b[0m\n\u001b[1;32m     46\u001b[0m                                     \u001b[0mtol\u001b[0m \u001b[0;34m=\u001b[0m \u001b[0;36m10\u001b[0m\u001b[0;34m,\u001b[0m\u001b[0;34m\u001b[0m\u001b[0m\n\u001b[0;32m---> 47\u001b[0;31m                                     options={'disp': False})\n\u001b[0m\u001b[1;32m     48\u001b[0m \u001b[0;34m\u001b[0m\u001b[0m\n\u001b[1;32m     49\u001b[0m             \u001b[0mfilename\u001b[0m \u001b[0;34m=\u001b[0m \u001b[0;34m'result/random_error_'\u001b[0m\u001b[0;34m+\u001b[0m \u001b[0mstr\u001b[0m\u001b[0;34m(\u001b[0m\u001b[0mvideo_num\u001b[0m\u001b[0;34m)\u001b[0m\u001b[0;34m+\u001b[0m\u001b[0;34m'_at_'\u001b[0m\u001b[0;34m+\u001b[0m\u001b[0mstr\u001b[0m\u001b[0;34m(\u001b[0m\u001b[0mnum_edge\u001b[0m\u001b[0;34m)\u001b[0m\u001b[0;34m+\u001b[0m\u001b[0;34m'.p'\u001b[0m\u001b[0;34m\u001b[0m\u001b[0m\n",
      "\u001b[0;32m/Library/Frameworks/Python.framework/Versions/2.7/lib/python2.7/site-packages/scipy/optimize/_minimize.pyc\u001b[0m in \u001b[0;36mminimize\u001b[0;34m(fun, x0, args, method, jac, hess, hessp, bounds, constraints, tol, callback, options)\u001b[0m\n\u001b[1;32m    439\u001b[0m     \u001b[0;32melif\u001b[0m \u001b[0mmeth\u001b[0m \u001b[0;34m==\u001b[0m \u001b[0;34m'newton-cg'\u001b[0m\u001b[0;34m:\u001b[0m\u001b[0;34m\u001b[0m\u001b[0m\n\u001b[1;32m    440\u001b[0m         return _minimize_newtoncg(fun, x0, args, jac, hess, hessp, callback,\n\u001b[0;32m--> 441\u001b[0;31m                                   **options)\n\u001b[0m\u001b[1;32m    442\u001b[0m     \u001b[0;32melif\u001b[0m \u001b[0mmeth\u001b[0m \u001b[0;34m==\u001b[0m \u001b[0;34m'l-bfgs-b'\u001b[0m\u001b[0;34m:\u001b[0m\u001b[0;34m\u001b[0m\u001b[0m\n\u001b[1;32m    443\u001b[0m         return _minimize_lbfgsb(fun, x0, args, jac, bounds,\n",
      "\u001b[0;32m/Library/Frameworks/Python.framework/Versions/2.7/lib/python2.7/site-packages/scipy/optimize/optimize.pyc\u001b[0m in \u001b[0;36m_minimize_newtoncg\u001b[0;34m(fun, x0, args, jac, hess, hessp, callback, xtol, eps, maxiter, disp, return_all, **unknown_options)\u001b[0m\n\u001b[1;32m   1387\u001b[0m         \u001b[0;31m# Compute a search direction pk by applying the CG method to\u001b[0m\u001b[0;34m\u001b[0m\u001b[0;34m\u001b[0m\u001b[0m\n\u001b[1;32m   1388\u001b[0m         \u001b[0;31m#  del2 f(xk) p = - grad f(xk) starting from 0.\u001b[0m\u001b[0;34m\u001b[0m\u001b[0;34m\u001b[0m\u001b[0m\n\u001b[0;32m-> 1389\u001b[0;31m         \u001b[0mb\u001b[0m \u001b[0;34m=\u001b[0m \u001b[0;34m-\u001b[0m\u001b[0mfprime\u001b[0m\u001b[0;34m(\u001b[0m\u001b[0mxk\u001b[0m\u001b[0;34m)\u001b[0m\u001b[0;34m\u001b[0m\u001b[0m\n\u001b[0m\u001b[1;32m   1390\u001b[0m         \u001b[0mmaggrad\u001b[0m \u001b[0;34m=\u001b[0m \u001b[0mnumpy\u001b[0m\u001b[0;34m.\u001b[0m\u001b[0madd\u001b[0m\u001b[0;34m.\u001b[0m\u001b[0mreduce\u001b[0m\u001b[0;34m(\u001b[0m\u001b[0mnumpy\u001b[0m\u001b[0;34m.\u001b[0m\u001b[0mabs\u001b[0m\u001b[0;34m(\u001b[0m\u001b[0mb\u001b[0m\u001b[0;34m)\u001b[0m\u001b[0;34m)\u001b[0m\u001b[0;34m\u001b[0m\u001b[0m\n\u001b[1;32m   1391\u001b[0m         \u001b[0meta\u001b[0m \u001b[0;34m=\u001b[0m \u001b[0mnumpy\u001b[0m\u001b[0;34m.\u001b[0m\u001b[0mmin\u001b[0m\u001b[0;34m(\u001b[0m\u001b[0;34m[\u001b[0m\u001b[0;36m0.5\u001b[0m\u001b[0;34m,\u001b[0m \u001b[0mnumpy\u001b[0m\u001b[0;34m.\u001b[0m\u001b[0msqrt\u001b[0m\u001b[0;34m(\u001b[0m\u001b[0mmaggrad\u001b[0m\u001b[0;34m)\u001b[0m\u001b[0;34m]\u001b[0m\u001b[0;34m)\u001b[0m\u001b[0;34m\u001b[0m\u001b[0m\n",
      "\u001b[0;32m/Library/Frameworks/Python.framework/Versions/2.7/lib/python2.7/site-packages/scipy/optimize/optimize.pyc\u001b[0m in \u001b[0;36mfunction_wrapper\u001b[0;34m(*wrapper_args)\u001b[0m\n\u001b[1;32m    283\u001b[0m     \u001b[0;32mdef\u001b[0m \u001b[0mfunction_wrapper\u001b[0m\u001b[0;34m(\u001b[0m\u001b[0;34m*\u001b[0m\u001b[0mwrapper_args\u001b[0m\u001b[0;34m)\u001b[0m\u001b[0;34m:\u001b[0m\u001b[0;34m\u001b[0m\u001b[0m\n\u001b[1;32m    284\u001b[0m         \u001b[0mncalls\u001b[0m\u001b[0;34m[\u001b[0m\u001b[0;36m0\u001b[0m\u001b[0;34m]\u001b[0m \u001b[0;34m+=\u001b[0m \u001b[0;36m1\u001b[0m\u001b[0;34m\u001b[0m\u001b[0m\n\u001b[0;32m--> 285\u001b[0;31m         \u001b[0;32mreturn\u001b[0m \u001b[0mfunction\u001b[0m\u001b[0;34m(\u001b[0m\u001b[0;34m*\u001b[0m\u001b[0;34m(\u001b[0m\u001b[0mwrapper_args\u001b[0m \u001b[0;34m+\u001b[0m \u001b[0margs\u001b[0m\u001b[0;34m)\u001b[0m\u001b[0;34m)\u001b[0m\u001b[0;34m\u001b[0m\u001b[0m\n\u001b[0m\u001b[1;32m    286\u001b[0m \u001b[0;34m\u001b[0m\u001b[0m\n\u001b[1;32m    287\u001b[0m     \u001b[0;32mreturn\u001b[0m \u001b[0mncalls\u001b[0m\u001b[0;34m,\u001b[0m \u001b[0mfunction_wrapper\u001b[0m\u001b[0;34m\u001b[0m\u001b[0m\n",
      "\u001b[0;32m<ipython-input-5-1500bdaa3a3c>\u001b[0m in \u001b[0;36mgradient\u001b[0;34m(w, pairs)\u001b[0m\n\u001b[1;32m     13\u001b[0m \u001b[0;34m\u001b[0m\u001b[0m\n\u001b[1;32m     14\u001b[0m         \u001b[0;32mfor\u001b[0m \u001b[0mpair\u001b[0m \u001b[0;32min\u001b[0m \u001b[0mpairs\u001b[0m\u001b[0;34m:\u001b[0m\u001b[0;34m\u001b[0m\u001b[0m\n\u001b[0;32m---> 15\u001b[0;31m             \u001b[0;32mif\u001b[0m \u001b[0mi\u001b[0m \u001b[0;34m==\u001b[0m \u001b[0mpair\u001b[0m\u001b[0;34m[\u001b[0m\u001b[0;36m0\u001b[0m\u001b[0;34m]\u001b[0m\u001b[0;34m:\u001b[0m\u001b[0;34m\u001b[0m\u001b[0m\n\u001b[0m\u001b[1;32m     16\u001b[0m                 \u001b[0mout\u001b[0m \u001b[0;34m=\u001b[0m \u001b[0;34m-\u001b[0m\u001b[0;36m1\u001b[0m\u001b[0;34m\u001b[0m\u001b[0m\n\u001b[1;32m     17\u001b[0m             \u001b[0;32melif\u001b[0m \u001b[0mi\u001b[0m \u001b[0;34m==\u001b[0m \u001b[0mpair\u001b[0m\u001b[0;34m[\u001b[0m\u001b[0;36m1\u001b[0m\u001b[0;34m]\u001b[0m\u001b[0;34m:\u001b[0m\u001b[0;34m\u001b[0m\u001b[0m\n",
      "\u001b[0;31mKeyboardInterrupt\u001b[0m: "
     ]
    }
   ],
   "source": [
    "video_nums = [5000,10000]\n",
    "\n",
    "num_edges_pct = [0.1, 0.5, 1, 2.17, 3]\n",
    "\n",
    "for iteration in range(1):\n",
    "    for video_num in video_nums:\n",
    "        for num_edge_pct in num_edges_pct:\n",
    "\n",
    "            num_edge = int(num_edge_pct*video_num*np.log(video_num))\n",
    "\n",
    "            if num_edge < video_num:\n",
    "                num_edge = video_num\n",
    "            if num_edge > video_num*(video_num-1)/2:\n",
    "                num_edge = video_num*(video_num-1)/2\n",
    "\n",
    "            video_score = np.random.uniform(-5,5,video_num)\n",
    "            resolution = 0.1\n",
    "            video_score = np.round(video_score/resolution)*resolution\n",
    "            \n",
    "            pairs_truth = []\n",
    "            \n",
    "            for i in range(len(video_score)-1):\n",
    "                for j in range(i+1, len(video_score)):\n",
    "                    if video_score[i] > video_score[j]:\n",
    "                        pairs_truth.append((i,j))\n",
    "                    else:\n",
    "                        pairs_truth.append((j,i))\n",
    "\n",
    "            total_pairs = len(pairs_truth)\n",
    "            \n",
    "            w = np.ones(video_num)\n",
    "            \n",
    "            test_pairs = [pairs_truth[i] for i in random.sample(range(total_pairs),num_edge)]\n",
    "            \n",
    "            for i in range(len(test_pairs)):\n",
    "                flip = noise_generation(video_score, test_pairs[i])\n",
    "                if flip:\n",
    "                    test_pairs[i] = (test_pairs[i][1], test_pairs[i][0])\n",
    "                    \n",
    "            start_time = time.time()\n",
    "\n",
    "            res = optimize.minimize(mle, w, \n",
    "                                    method='Newton-CG',\n",
    "                                    jac=gradient,\n",
    "                                    args=(test_pairs,),\n",
    "                                    tol = 10,\n",
    "                                    options={'disp': False})\n",
    "\n",
    "            filename = 'result/random_error_'+ str(video_num)+'_at_'+str(num_edge)+'.p'\n",
    "            pickle.dump( dict({'x':res.x, 'video_score':video_score}), open( filename, \"wb\" ) )\n",
    "            print  'Time on Iteration %d with Video Number %d and edges %.2f : %.1f seconds' %(iteration, video_num, num_edge, float(time.time() - start_time))"
   ]
  },
  {
   "cell_type": "code",
   "execution_count": 7,
   "metadata": {
    "collapsed": false
   },
   "outputs": [
    {
     "name": "stdout",
     "output_type": "stream",
     "text": [
      "Time on Iteration 0 with Video Number 10000 and edges 276310.00 : 7812.3 seconds\n"
     ]
    }
   ],
   "source": [
    "video_nums = [10000]\n",
    "\n",
    "num_edges_pct = [3]\n",
    "\n",
    "for iteration in range(1):\n",
    "    for video_num in video_nums:\n",
    "        for num_edge_pct in num_edges_pct:\n",
    "\n",
    "            num_edge = int(num_edge_pct*video_num*np.log(video_num))\n",
    "\n",
    "            if num_edge < video_num:\n",
    "                num_edge = video_num\n",
    "            if num_edge > video_num*(video_num-1)/2:\n",
    "                num_edge = video_num*(video_num-1)/2\n",
    "\n",
    "            video_score = np.random.uniform(-5,5,video_num)\n",
    "            resolution = 0.1\n",
    "            video_score = np.round(video_score/resolution)*resolution\n",
    "            \n",
    "            pairs_truth = []\n",
    "            \n",
    "            for i in range(len(video_score)-1):\n",
    "                for j in range(i+1, len(video_score)):\n",
    "                    if video_score[i] > video_score[j]:\n",
    "                        pairs_truth.append((i,j))\n",
    "                    else:\n",
    "                        pairs_truth.append((j,i))\n",
    "\n",
    "            total_pairs = len(pairs_truth)\n",
    "            \n",
    "            w = np.ones(video_num)\n",
    "            \n",
    "            test_pairs = [pairs_truth[i] for i in random.sample(range(total_pairs),num_edge)]\n",
    "            \n",
    "            for i in range(len(test_pairs)):\n",
    "                flip = noise_generation(video_score, test_pairs[i])\n",
    "                if flip:\n",
    "                    test_pairs[i] = (test_pairs[i][1], test_pairs[i][0])\n",
    "                    \n",
    "            start_time = time.time()\n",
    "\n",
    "            res = optimize.minimize(mle, w, \n",
    "                                    method='Newton-CG',\n",
    "                                    jac=gradient,\n",
    "                                    args=(test_pairs,),\n",
    "                                    tol = 10,\n",
    "                                    options={'disp': False})\n",
    "\n",
    "            filename = 'result/random_error_'+ str(video_num)+'_at_'+str(num_edge)+'.p'\n",
    "            pickle.dump( dict({'x':res.x, 'video_score':video_score}), open( filename, \"wb\" ) )\n",
    "            print  'Time on Iteration %d with Video Number %d and edges %.2f : %.1f seconds' %(iteration, video_num, num_edge, float(time.time() - start_time))"
   ]
  },
  {
   "cell_type": "markdown",
   "metadata": {
    "collapsed": false
   },
   "source": [
    "# Sigma's effect on $R^2$"
   ]
  },
  {
   "cell_type": "code",
   "execution_count": 50,
   "metadata": {
    "collapsed": false
   },
   "outputs": [],
   "source": [
    "def mle(w, pairs):    \n",
    "    out = 15  \n",
    "    for pair in pairs:\n",
    "        if pair[0] == -1 or pair[1] == -1:\n",
    "            continue\n",
    "        out *= 1/(1+np.exp((-w[pair[0]] + w[pair[1]])/1)  ) \n",
    "    return -np.log(out)\n",
    "\n",
    "def gradient_sigma(w,pairs):\n",
    "    sigma = 15\n",
    "    grad = []\n",
    "    for i in range(len(w)):\n",
    "        gradient = 0\n",
    "\n",
    "        for pair in pairs:\n",
    "            if i == pair[0]:\n",
    "                out = -1\n",
    "            elif i == pair[1]:\n",
    "                out = 1  \n",
    "            else:\n",
    "                continue\n",
    "            gradient -= out / (1/(np.exp((w[pair[1]]-w[pair[0]])/sigma) +1 )) / sigma\n",
    "            \n",
    "        grad.append(-gradient)\n",
    "        \n",
    "    return np.array(grad)\n",
    "\n",
    "def R2(yhat, y):\n",
    "    ybar = np.sum(y)/len(y) \n",
    "    ssreg = np.sum((yhat-ybar)**2)\n",
    "    sstot = np.sum((y - ybar)**2)\n",
    "    return ssreg/sstot"
   ]
  },
  {
   "cell_type": "code",
   "execution_count": null,
   "metadata": {
    "collapsed": false
   },
   "outputs": [],
   "source": [
    "video_num = 1250\n",
    "\n",
    "num_edge = int(video_num*np.log(video_num)*1.5)\n",
    "\n",
    "video_score = np.random.uniform(-5,5,video_num)\n",
    "resolution = 0.1\n",
    "video_score = np.round(video_score/resolution)*resolution\n",
    "\n",
    "w = np.ones(video_num)\n",
    "\n",
    "test_pairs = init_graph(video_num, num_edge, video_score)\n",
    "\n",
    "start_time = time.time()\n",
    "\n",
    "res = optimize.minimize(mle, w, \n",
    "                        method='Newton-CG',\n",
    "                        jac=gradient_sigma,\n",
    "                        args=(test_pairs,),\n",
    "                        tol = 10,\n",
    "                        options={'disp': False})\n",
    "w_hat = regularized_vector(video_score,res.x)\n",
    "R2(w_hat, video_score)"
   ]
  },
  {
   "cell_type": "markdown",
   "metadata": {
    "collapsed": false
   },
   "source": [
    "# Age data"
   ]
  },
  {
   "cell_type": "code",
   "execution_count": 3,
   "metadata": {
    "collapsed": true
   },
   "outputs": [],
   "source": [
    "csv = np.genfromtxt ('age.csv', delimiter=\",\")\n",
    "scores = csv[:,0]"
   ]
  },
  {
   "cell_type": "code",
   "execution_count": 23,
   "metadata": {
    "collapsed": false
   },
   "outputs": [
    {
     "name": "stdout",
     "output_type": "stream",
     "text": [
      "Time on age data 116.8 seconds\n"
     ]
    }
   ],
   "source": [
    "# video_num = len(scores)\n",
    "video_num = 2500\n",
    "\n",
    "video_score = np.random.uniform(-5,5,video_num)\n",
    "resolution = 0.1\n",
    "video_score = np.round(video_score/resolution)*resolution\n",
    "\n",
    "num_edge_pct = 1.56\n",
    "\n",
    "num_edge = int(num_edge_pct*video_num*np.log(video_num))\n",
    "\n",
    "# video_score = scores\n",
    "# resolution = 0.1\n",
    "# video_score = np.round(video_score/resolution)*resolution\n",
    "\n",
    "w = np.ones(video_num)\n",
    "\n",
    "test_pairs = init_graph(video_num, num_edge, video_score)\n",
    "\n",
    "for i in range(len(test_pairs)):\n",
    "    flip = noise_generation(video_score, test_pairs[i])\n",
    "    if flip:\n",
    "        test_pairs[i] = (test_pairs[i][1], test_pairs[i][0])\n",
    "\n",
    "start_time = time.time()\n",
    "\n",
    "res = optimize.minimize(mle, w, \n",
    "                        method='Newton-CG',\n",
    "                        jac=gradient,\n",
    "                        args=(test_pairs,),\n",
    "                        tol = 10,\n",
    "                        options={'disp': False})\n",
    "\n",
    "filename = 'age1.p'\n",
    "pickle.dump( dict({'x':res.x, 'video_score':video_score}), open( filename, \"wb\" ) )\n",
    "print  'Time on age data %.1f seconds' %(float(time.time() - start_time))"
   ]
  },
  {
   "cell_type": "code",
   "execution_count": 18,
   "metadata": {
    "collapsed": false
   },
   "outputs": [
    {
     "data": {
      "text/plain": [
       "0.25"
      ]
     },
     "execution_count": 18,
     "metadata": {},
     "output_type": "execute_result"
    }
   ],
   "source": [
    "difference = (45 - video_score[pair[1]])/4\n",
    "p = sigmoid(difference)*(1-sigmoid(difference))\n",
    "decision = bernoulli.rvs(p,size=1)"
   ]
  },
  {
   "cell_type": "code",
   "execution_count": 21,
   "metadata": {
    "collapsed": true
   },
   "outputs": [],
   "source": [
    "filename = 'age1.p'\n",
    "pickle.dump( dict({'x':res.x, 'video_score':video_score}), open( filename, \"wb\" ) )\n"
   ]
  },
  {
   "cell_type": "code",
   "execution_count": null,
   "metadata": {
    "collapsed": true
   },
   "outputs": [],
   "source": []
  }
 ],
 "metadata": {
  "kernelspec": {
   "display_name": "Python 2",
   "language": "python",
   "name": "python2"
  },
  "language_info": {
   "codemirror_mode": {
    "name": "ipython",
    "version": 2
   },
   "file_extension": ".py",
   "mimetype": "text/x-python",
   "name": "python",
   "nbconvert_exporter": "python",
   "pygments_lexer": "ipython2",
   "version": "2.7.10"
  }
 },
 "nbformat": 4,
 "nbformat_minor": 0
}
