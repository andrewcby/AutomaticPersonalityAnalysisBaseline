{
 "cells": [
  {
   "cell_type": "code",
   "execution_count": 1,
   "metadata": {
    "collapsed": true
   },
   "outputs": [],
   "source": [
    "import random, csv, time, os\n",
    "\n",
    "import numpy as np\n",
    "import pandas as pd\n",
    "import matplotlib.pyplot as plt\n",
    "\n",
    "from scipy import optimize\n",
    "\n",
    "%matplotlib inline\n",
    "# Videos result files are from http://sunai.uoc.edu/traits/layout2/results/"
   ]
  },
  {
   "cell_type": "code",
   "execution_count": 60,
   "metadata": {
    "collapsed": true
   },
   "outputs": [],
   "source": [
    "def append_pair(comp, name1, name2, name_to_num):\n",
    "    if comp == '-1':\n",
    "        return((name_to_num[name2], name_to_num[name1]))\n",
    "    if comp == '1':\n",
    "        return((name_to_num[name1], name_to_num[name2]))\n",
    "    \n",
    "def calc_error(prediction, truth):\n",
    "    return np.linalg.norm(prediction - truth)\n",
    "\n",
    "def mle(w):    \n",
    "    \"\"\"\n",
    "    Calculate the MLE of w.\n",
    "    Due to the fact that optimize.minimize only takes 1 input, \n",
    "    here the pair information is imported as comp from global variable\n",
    "    \"\"\"    \n",
    "    \n",
    "    out = -1\n",
    "#     comp = test_pairs_with_error\n",
    "#     comp = pairs[0]\n",
    "    comp = pairs_truth\n",
    "                \n",
    "    for pair in comp:\n",
    "\n",
    "        out *= 1/(1+np.exp(-w[pair[0]] + w[pair[1]]))   \n",
    "    return out"
   ]
  },
  {
   "cell_type": "code",
   "execution_count": null,
   "metadata": {
    "collapsed": true
   },
   "outputs": [],
   "source": []
  },
  {
   "cell_type": "code",
   "execution_count": 84,
   "metadata": {
    "collapsed": false
   },
   "outputs": [],
   "source": [
    "video_num = 8\n",
    "\n",
    "video_score = np.random.uniform(-5,5,video_num)\n",
    "resolution = 0.1\n",
    "video_score = np.round(video_score/resolution)*resolution\n",
    "# video_score = [3,5,4,2,0,-1]\n",
    "\n",
    "global pairs_truth\n",
    "global test_pairs_with_error\n",
    "pairs_truth = []\n",
    "\n",
    "for i in range(len(video_score)-1):\n",
    "    for j in range(i+1, len(video_score)):\n",
    "        if video_score[i] > video_score[j]:\n",
    "            pairs_truth.append((i,j))\n",
    "        else:\n",
    "            pairs_truth.append((j,i))\n",
    "            \n",
    "total_pairs = len(pairs_truth)  "
   ]
  },
  {
   "cell_type": "code",
   "execution_count": 85,
   "metadata": {
    "collapsed": false
   },
   "outputs": [
    {
     "name": "stdout",
     "output_type": "stream",
     "text": [
      "[(0, 1), (0, 2), (0, 3), (0, 4), (0, 5), (0, 6), (0, 7), (2, 1), (3, 1), (4, 1), (5, 1), (6, 1), (7, 1), (3, 2), (4, 2), (2, 5), (2, 6), (2, 7), (3, 4), (3, 5), (3, 6), (3, 7), (4, 5), (4, 6), (4, 7), (5, 6), (5, 7), (7, 6)]\n",
      "[ 4.9 -3.5  1.6  4.4  3.8  0.2 -3.4 -1.5]\n"
     ]
    }
   ],
   "source": [
    "print pairs_truth\n",
    "print video_score"
   ]
  },
  {
   "cell_type": "code",
   "execution_count": 94,
   "metadata": {
    "collapsed": false
   },
   "outputs": [
    {
     "name": "stdout",
     "output_type": "stream",
     "text": [
      "[ 3.76959717 -3.89055705  3.07371768 -3.08302323  1.08568195  1.18868715\n",
      "  0.62162366  2.86709846  2.73786647 -3.25639282]\n",
      "[ 3.25816722 -4.40198699  2.56228773 -3.59445317  0.574252    0.6772572\n",
      "  0.11019372  2.35566852  2.22643653 -3.76782276]\n",
      "[-1.1  1.7 -0.9  4.4  3.6 -3.2 -4.3 -3.9  2.2 -3.8]\n"
     ]
    }
   ],
   "source": [
    "w = np.random.uniform(-5,5,video_num)\n",
    "# w = np.zeros(video_num)\n",
    "print w\n",
    "\n",
    "bnds = ()\n",
    "cons = ()\n",
    "\n",
    "for i in range(video_num):\n",
    "    bnds += ((-5.0,5.0),)\n",
    "\n",
    "cons += ({'type': 'eq',\n",
    "          'fun' : lambda w: np.abs(np.sum(w))},)\n",
    "\n",
    "res = optimize.minimize(mle, w,bounds=bnds,constraints=cons)\n",
    "# res = optimize.minimize_scalar(mle, bounds=bnds,constraints=cons)\n",
    "\n",
    "print res.x\n",
    "print video_score"
   ]
  },
  {
   "cell_type": "code",
   "execution_count": null,
   "metadata": {
    "collapsed": true
   },
   "outputs": [],
   "source": [
    "def brute(num_videos, pairs):\n",
    "    \n",
    "    "
   ]
  },
  {
   "cell_type": "markdown",
   "metadata": {},
   "source": [
    "# Performance Test\n",
    "We have video_num videos, and the score for each video, stored in video_score, is randomly assigned between [-5,5] from a uniform distribution, and then created total_pairs to store all the pairs. Note here total_pairs doesn't include duplicated videos, meaning if i>j is in it, then j<i will not be in it. "
   ]
  },
  {
   "cell_type": "code",
   "execution_count": 87,
   "metadata": {
    "collapsed": true
   },
   "outputs": [],
   "source": [
    "video_num = 10\n",
    "\n",
    "video_score = np.random.uniform(-5,5,video_num)\n",
    "resolution = 0.1\n",
    "video_score = np.round(video_score/resolution)*resolution\n",
    "\n",
    "global pairs_truth\n",
    "global test_pairs_with_error\n",
    "pairs_truth = []\n",
    "\n",
    "for i in range(len(video_score)-2):\n",
    "    for j in range(i+1, len(video_score)):\n",
    "        if video_score[i] > video_score[j]:\n",
    "            pairs_truth.append((i,j))\n",
    "        else:\n",
    "            pairs_truth.append((j,i))\n",
    "            \n",
    "total_pairs = len(pairs_truth)  "
   ]
  },
  {
   "cell_type": "code",
   "execution_count": 6,
   "metadata": {
    "collapsed": false
   },
   "outputs": [
    {
     "data": {
      "text/plain": [
       "44"
      ]
     },
     "execution_count": 6,
     "metadata": {},
     "output_type": "execute_result"
    }
   ],
   "source": [
    "total_pairs"
   ]
  },
  {
   "cell_type": "code",
   "execution_count": 7,
   "metadata": {
    "collapsed": false
   },
   "outputs": [
    {
     "name": "stdout",
     "output_type": "stream",
     "text": [
      "0.015976190567\n",
      "0.0234072208405\n",
      "0.0298280715942\n",
      "0.03449010849\n"
     ]
    }
   ],
   "source": [
    "num_to_be_flipped_vec = 3\n",
    "pct_to_be_flipped = 0.2\n",
    "# num_test_pairs_vec = [1*video_num, 2*video_num, 3*video_num, 4*video_num, 5*video_num, 7*video_num,\n",
    "#                       10*video_num, 15*video_num, 25*video_num, 35*video_num, 50*video_num]\n",
    "num_test_pairs_vec = [1*video_num, 2*video_num, 3*video_num, 4*video_num]\n",
    "t = time.time()\n",
    "result = dict()\n",
    "\n",
    "for ind in range(len(num_test_pairs_vec)):\n",
    "    num_test_pair = num_test_pairs_vec[ind]\n",
    "    num_to_flip = int(num_test_pair * pct_to_be_flipped)\n",
    "    \n",
    "    test_pairs = [pairs_truth[i] for i in random.sample(range(total_pairs), num_test_pair)]\n",
    "    test_pairs_with_error = test_pairs\n",
    "    \n",
    "    for i in random.sample(range(num_test_pair), num_to_flip):\n",
    "        test_pairs[i] = (test_pairs[i][1],test_pairs[i][0])\n",
    "        \n",
    "#     w = np.random.uniform(-5,5,video_num)\n",
    "    w = np.zeros(video_num)\n",
    "\n",
    "    bnds = ()\n",
    "    cons = ()\n",
    "\n",
    "    for i in range(video_num):\n",
    "        bnds += ((-5.0,5.0),)\n",
    "\n",
    "    cons += ({'type': 'ineq',\n",
    "              'fun' : lambda w: np.abs(np.sum(w))},)\n",
    "\n",
    "    res = optimize.minimize(mle, w, bounds=bnds, options={'disp': True})\n",
    "    print time.time()-t\n",
    "    result[str(num_test_pairs_vec[ind])] = res['x']"
   ]
  },
  {
   "cell_type": "markdown",
   "metadata": {},
   "source": [
    "Now calculating results with all pairs"
   ]
  },
  {
   "cell_type": "code",
   "execution_count": 8,
   "metadata": {
    "collapsed": false
   },
   "outputs": [
    {
     "data": {
      "text/plain": [
       "{'10': array([ 0.,  0.,  0.,  0.,  0.,  0.,  0.,  0.,  0.,  0.]),\n",
       " '20': array([ 0.,  0.,  0.,  0.,  0.,  0.,  0.,  0.,  0.,  0.]),\n",
       " '30': array([ 0.,  0.,  0.,  0.,  0.,  0.,  0.,  0.,  0.,  0.]),\n",
       " '40': array([ 0.,  0.,  0.,  0.,  0.,  0.,  0.,  0.,  0.,  0.])}"
      ]
     },
     "execution_count": 8,
     "metadata": {},
     "output_type": "execute_result"
    }
   ],
   "source": [
    "result"
   ]
  },
  {
   "cell_type": "code",
   "execution_count": 9,
   "metadata": {
    "collapsed": false
   },
   "outputs": [
    {
     "data": {
      "text/plain": [
       "array([ 4.2,  1. , -1.3,  2.4, -0.8, -4.6, -0.5,  0.6,  3.5, -4.1])"
      ]
     },
     "execution_count": 9,
     "metadata": {},
     "output_type": "execute_result"
    }
   ],
   "source": [
    "video_score"
   ]
  },
  {
   "cell_type": "code",
   "execution_count": 10,
   "metadata": {
    "collapsed": false
   },
   "outputs": [
    {
     "data": {
      "text/plain": [
       "array([ 0.,  0.,  0.,  0.,  0.])"
      ]
     },
     "execution_count": 10,
     "metadata": {},
     "output_type": "execute_result"
    }
   ],
   "source": [
    "np.zeros(5)"
   ]
  },
  {
   "cell_type": "code",
   "execution_count": null,
   "metadata": {
    "collapsed": true
   },
   "outputs": [],
   "source": []
  },
  {
   "cell_type": "code",
   "execution_count": null,
   "metadata": {
    "collapsed": true
   },
   "outputs": [],
   "source": []
  },
  {
   "cell_type": "code",
   "execution_count": null,
   "metadata": {
    "collapsed": true
   },
   "outputs": [],
   "source": []
  },
  {
   "cell_type": "code",
   "execution_count": null,
   "metadata": {
    "collapsed": true
   },
   "outputs": [],
   "source": []
  },
  {
   "cell_type": "code",
   "execution_count": null,
   "metadata": {
    "collapsed": true
   },
   "outputs": [],
   "source": []
  },
  {
   "cell_type": "code",
   "execution_count": null,
   "metadata": {
    "collapsed": true
   },
   "outputs": [],
   "source": []
  },
  {
   "cell_type": "code",
   "execution_count": null,
   "metadata": {
    "collapsed": true
   },
   "outputs": [],
   "source": []
  },
  {
   "cell_type": "code",
   "execution_count": null,
   "metadata": {
    "collapsed": true
   },
   "outputs": [],
   "source": []
  },
  {
   "cell_type": "code",
   "execution_count": null,
   "metadata": {
    "collapsed": true
   },
   "outputs": [],
   "source": []
  },
  {
   "cell_type": "code",
   "execution_count": null,
   "metadata": {
    "collapsed": true
   },
   "outputs": [],
   "source": []
  },
  {
   "cell_type": "code",
   "execution_count": null,
   "metadata": {
    "collapsed": true
   },
   "outputs": [],
   "source": []
  },
  {
   "cell_type": "code",
   "execution_count": null,
   "metadata": {
    "collapsed": true
   },
   "outputs": [],
   "source": []
  },
  {
   "cell_type": "code",
   "execution_count": null,
   "metadata": {
    "collapsed": true
   },
   "outputs": [],
   "source": []
  },
  {
   "cell_type": "code",
   "execution_count": null,
   "metadata": {
    "collapsed": true
   },
   "outputs": [],
   "source": []
  },
  {
   "cell_type": "code",
   "execution_count": null,
   "metadata": {
    "collapsed": true
   },
   "outputs": [],
   "source": []
  },
  {
   "cell_type": "code",
   "execution_count": null,
   "metadata": {
    "collapsed": true
   },
   "outputs": [],
   "source": []
  },
  {
   "cell_type": "code",
   "execution_count": null,
   "metadata": {
    "collapsed": true
   },
   "outputs": [],
   "source": []
  },
  {
   "cell_type": "code",
   "execution_count": null,
   "metadata": {
    "collapsed": true
   },
   "outputs": [],
   "source": []
  },
  {
   "cell_type": "code",
   "execution_count": null,
   "metadata": {
    "collapsed": true
   },
   "outputs": [],
   "source": []
  }
 ],
 "metadata": {
  "kernelspec": {
   "display_name": "Python 2",
   "language": "python",
   "name": "python2"
  },
  "language_info": {
   "codemirror_mode": {
    "name": "ipython",
    "version": 2
   },
   "file_extension": ".py",
   "mimetype": "text/x-python",
   "name": "python",
   "nbconvert_exporter": "python",
   "pygments_lexer": "ipython2",
   "version": "2.7.10"
  }
 },
 "nbformat": 4,
 "nbformat_minor": 0
}
