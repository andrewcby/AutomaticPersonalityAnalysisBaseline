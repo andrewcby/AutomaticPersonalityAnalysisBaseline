{
 "cells": [
  {
   "cell_type": "markdown",
   "metadata": {},
   "source": [
    "# Below is with Generic Likelihood Model Class"
   ]
  },
  {
   "cell_type": "code",
   "execution_count": 1,
   "metadata": {
    "collapsed": true
   },
   "outputs": [],
   "source": [
    "import os, csv, random, time\n",
    "from __future__ import division\n",
    "from matplotlib import  pyplot as plt\n",
    "import numpy as np\n",
    "from scipy.stats import bernoulli,poisson,norm,expon\n",
    "import scipy.io as sio\n",
    "from scipy import stats\n",
    "from collections import deque\n",
    "from scipy import optimize\n",
    "import seaborn as sns\n",
    "from statsmodels.base.model import GenericLikelihoodModel\n",
    "%matplotlib inline"
   ]
  },
  {
   "cell_type": "markdown",
   "metadata": {},
   "source": [
    "* The function $regularized\\_vector$ is what Nihar proposed. \n",
    "\n",
    "Suppose $w^*$ is the true value and $\\hat{w}$ is the inferred value from our optimization, we want to minimize $||w^* - a \\cdot \\hat{w} - b||_2^2 $ by finding optimial value of a and b, which will be done through $matching\\_func$. And then we introduce a new value $v= a\\cdot \\hat{w} + b$ as the new weight for the videos. \n",
    "\n",
    "All the error metric evaluation would be made between $v$ and $w^*$, and here we are using $L_2$ norm, which is assessed through $performance_nihar$\n",
    "\n",
    "* The function $performance\\_isabelle$ is what Isabelle proposed.\n",
    "\n",
    "Assume 3 scores $T_1, T_2, T_3$, that are adjacent when we rank all true scores, and the results scores of the corresponding videos $R_1, R_2, R_3$. We can compute $||\\frac{T_2-T_1}{T_3-T_1+\\epsilon}  - \\frac{R_2-R_1}{R_3-R_1+\\epsilon} ||$ and average over all adjacent triplets.\n",
    "\n",
    "* Error using generative function is done through using a normal distribution that has a standard deviation of 3.33 and mean 0. The input is the difference of between the true score of the weights, and the corresponding function value from normal distribution is the probability of pairs being flipped. For instance, if the two values are very close to each other, then the chance of being flipped is the highest, at around 12%; if the values are very different, say 5 and -5, then the difference would be close to 10, which is at mean +/- 3 stds, which would correspond to a ~0% chance of being flipped."
   ]
  },
  {
   "cell_type": "code",
   "execution_count": 183,
   "metadata": {
    "collapsed": false
   },
   "outputs": [
    {
     "name": "stdout",
     "output_type": "stream",
     "text": [
      "\n"
     ]
    }
   ],
   "source": [
    "class Pairwise(GenericLikelihoodModel):\n",
    "    \n",
    "    def __init__(self, endog, video_num, video_score, exog=None, **kwds):\n",
    "        super(Pairwise, self).__init__(endog, exog, **kwds)\n",
    "        self.rank =  deque([[1],[1]])\n",
    "        self.w_hat = []\n",
    "        self.video_num = video_num\n",
    "        self.pairs_truth = self.endog\n",
    "        self.total_pairs = len(self.endog)\n",
    "        self.v = []\n",
    "        self.w_star = np.array(video_score)\n",
    "        \n",
    "     \n",
    "    def test_data_generation_sparsity(self, showResult=False, Nihar=False, Isabelle=False):\n",
    "        \n",
    "        \"\"\"\n",
    "        Shows how the error evolves with sparser data\n",
    "        \"\"\"\n",
    "        \n",
    "        all_data = self.endog\n",
    "        \n",
    "        num_test_pairs = (np.array((1,0.9,0.8,0.7,0.6,0.5,0.4,0.3,0.2,0.1))* self.total_pairs).astype(int)\n",
    "        \n",
    "        output_error_nihar = []\n",
    "        output_error_isabelle = []\n",
    "\n",
    "        for test_pair_num in num_test_pairs:\n",
    "            print 'Current evaluating with %d test pairs' % test_pair_num\n",
    "            test_pairs = [self.pairs_truth[i] for i in random.sample(range(self.total_pairs), test_pair_num)]\n",
    "            self.endog = np.array(test_pairs)\n",
    "            \n",
    "            w_init = np.random.uniform(-5,5,video_num)\n",
    "            self.fit(w_init)\n",
    "            \n",
    "            if showResult:\n",
    "                res = self.rank[0]\n",
    "                compare_rank(self.w_star, res, False, True)\n",
    "                plt.legend([str(i) for i in num_test_pairs])  \n",
    "            if Nihar:\n",
    "                output_error_nihar.append(self.performance_nihar())\n",
    "            if Isabelle:\n",
    "                output_error_isabelle.append(self.performance_isabelle())\n",
    "                \n",
    "        self.endog = all_data\n",
    "        return output_error_nihar, output_error_isabelle\n",
    "        \n",
    "        \n",
    "    def test_data_generation_noise(self, showResult=False, Nihar=False, Isabelle=False):\n",
    "        \"\"\"\n",
    "        Generate a decision of whether to flip, using a percentage and then select randomly to flip\n",
    "        \"\"\"\n",
    "        all_data = self.endog\n",
    "\n",
    "        num_test_pairs = self.total_pairs\n",
    "        flip_threshold = np.array((0,0.05,0.1,0.15,0.2,0.25,0.3,0.4,0.5))\n",
    "        \n",
    "        output_error_nihar = []\n",
    "        output_error_isabelle = []\n",
    "\n",
    "        for to_flip in flip_threshold:\n",
    "            print 'Current evaluating with %f to flip' % to_flip\n",
    "\n",
    "            test_pairs_with_error = self.pairs_truth\n",
    "\n",
    "            num_to_flip = int(num_test_pairs*to_flip)\n",
    "\n",
    "            for i in random.sample(range(num_test_pairs), num_to_flip):\n",
    "                test_pairs_with_error[i] = (self.pairs_truth[i][1],self.pairs_truth[i][0])\n",
    "\n",
    "            self.endog = test_pairs_with_error\n",
    "            \n",
    "            w_init = np.random.uniform(-5,5,video_num)\n",
    "            self.fit(w_init)\n",
    "\n",
    "            if showResult:\n",
    "                res = self.rank[0]\n",
    "                compare_rank(self.w_star, res, False, True)\n",
    "                plt.legend([str(i) for i in num_test_pairs])  \n",
    "            if Nihar:\n",
    "                output_error_nihar.append(self.performance_nihar())\n",
    "            if Isabelle:\n",
    "                output_error_isabelle.append(self.performance_isabelle())\n",
    "                \n",
    "        self.endog = all_data\n",
    "        return output_error_nihar, output_error_isabelle\n",
    "    \n",
    "    def sigmoid(self, x):\n",
    "        return 1 / (1 + np.exp(-x))\n",
    "    \n",
    "    def noise_generation(self, pair):\n",
    "        \"\"\"\n",
    "        Generate a decision of whether to flip, using proability from normal distribution and then \n",
    "        Bernoulli to decide whether to flip\n",
    "        \"\"\"\n",
    "\n",
    "        difference = self.rank[0][pair[0]] - self.rank[0][pair[1]]\n",
    "        p = self.sigmoid(difference)*(1-self.sigmoid(difference))\n",
    "#         p = norm(0, 3.33).pdf(difference)\n",
    "        decision = bernoulli.rvs(p,size=1)\n",
    "        \n",
    "        return decision\n",
    "        \n",
    "    \n",
    "    \n",
    "    def test_data_generation_noise_generative_model(self, showResult=False, Nihar=False, Isabelle=False):\n",
    "        \"\"\"\n",
    "        Function that calculate error using normal distribution to determine the probility of whether to\n",
    "        flip the pair. Highest chance, at scores equal is around 0.12\n",
    "        \"\"\"\n",
    "        all_data = self.endog\n",
    "\n",
    "        test_pairs = self.pairs_truth\n",
    "        \n",
    "        for i in range(self.total_pairs):\n",
    "            if self.noise_generation(test_pairs[i]):\n",
    "                test_pairs[i][0] = test_pairs[i][1]\n",
    "                test_pairs[i][1] = self.pairs_truth[i][0]\n",
    "                \n",
    "        self.endog = test_pairs\n",
    "        w_init = np.random.uniform(-5,5,video_num)\n",
    "        self.fit(w_init)\n",
    "\n",
    "        if showResult:\n",
    "            res = self.rank[0]\n",
    "            compare_rank(self.w_star, res, False, True)\n",
    "            plt.legend([str(i) for i in num_test_pairs])  \n",
    "        if Nihar:\n",
    "            print self.performance_nihar()\n",
    "        if Isabelle:\n",
    "            print self.performance_isabelle()\n",
    "\n",
    "        self.endog = all_data\n",
    "        \n",
    "    def nloglikeobs(self, params):\n",
    "        \"\"\"\n",
    "        Calculate negative log likelihood used for main optimization\n",
    "        \"\"\"\n",
    "        \n",
    "        out = 1\n",
    "        pairs = self.endog\n",
    "        w = params\n",
    "        \n",
    "        for pair in pairs:\n",
    "            out *= 1/(1+np.exp(w[pair[1]] - w[pair[0]]))   \n",
    "            \n",
    "        return -np.log(out)\n",
    "    \n",
    "    \n",
    "    def score(self, params):\n",
    "        \"\"\"\n",
    "        Calculate gradient\n",
    "        \"\"\"\n",
    "        self.rank.popleft()\n",
    "        w = params\n",
    "        pairs = self.endog\n",
    "        grad = []\n",
    "        for i in range(len(w)):\n",
    "            grad.append(self.calc_gradient(pairs, w, i))\n",
    "        \n",
    "        self.rank.append(grad)\n",
    "        \n",
    "        return np.array(grad)\n",
    "    \n",
    "        \n",
    "    def calc_gradient(self,pairs, w, w_i):\n",
    "        \"\"\"\n",
    "        Function used in score() to calculate gradient\n",
    "        \"\"\"\n",
    "        gradient = 0\n",
    "\n",
    "        for pair in pairs:\n",
    "            if w_i == pair[0]:\n",
    "                out = -1\n",
    "            elif w_i == pair[1]:\n",
    "                out = 1  \n",
    "            else:\n",
    "                out = 0\n",
    "\n",
    "            gradient -= out / (1/(np.exp(w[pair[1]]-w[pair[0]]) + 0.00001) +1 )\n",
    "            \n",
    "        return gradient\n",
    "    \n",
    "    \n",
    "    def matching_func(self, param):\n",
    "        \"\"\"\n",
    "        Function used to calculate L2 norm of v and w_star. Used to find a and b.\n",
    "        Here params is [a, b]\n",
    "        \"\"\"\n",
    "        return np.linalg.norm(self.w_star - param[0]*np.array(self.rank[0]) - param[1])\n",
    "\n",
    "#         return np.linalg.norm(self.w_star - param[0]*np.array(self.params) - param[1])\n",
    "\n",
    "    \n",
    "    def regularized_vector(self):\n",
    "        \"\"\"\n",
    "        Function used to generate vector v after using matching_func to find optimal a and b\n",
    "        \"\"\"\n",
    "        coeff = optimize.minimize(self.matching_func, [0, 0])\n",
    "        \n",
    "        self.a = coeff['x'][0]\n",
    "        self.b = coeff['x'][1]\n",
    "        self.v = self.a*np.array(self.rank[0])+self.b\n",
    "#         self.v = self.a*np.array(self.params)+self.b\n",
    "        \n",
    "        \n",
    "    def performance_isabelle(self):\n",
    "        \"\"\"\n",
    "        Performance evaluation using method proposed by Isabelle\n",
    "        \"\"\"\n",
    "        epsilon = 0.0001\n",
    "        error = 0\n",
    "        self.regularized_vector()\n",
    "        self.w_hat = self.v\n",
    "#         self.w_hat = self.params\n",
    "        \n",
    "        \n",
    "        true_order = np.array(self.w_star).argsort()\n",
    "        \n",
    "        what = [ self.w_hat[i] for i in true_order]\n",
    "        wstar = [ self.w_star[i] for i in true_order]\n",
    "        \n",
    "#         what = self.w_hat\n",
    "#         wstar = self.w_star\n",
    "                 \n",
    "        for i in range(len(self.w_star)-2):\n",
    "            error += np.abs((wstar[i+1]-wstar[i])/(wstar[i+2]-wstar[i]+epsilon)-\n",
    "                            (what[i+1]-what[i])/(what[i+2]-what[i]+epsilon))\n",
    "        error /= self.total_pairs-2\n",
    "        return error\n",
    "    \n",
    "\n",
    "    def performance_nihar(self):\n",
    "        \"\"\"\n",
    "        Performance evaluation using method proposed by Nihar\n",
    "        \"\"\"\n",
    "        self.regularized_vector()\n",
    "        return np.linalg.norm(self.w_star - self.v)\n",
    "    \n",
    "    \n",
    "    \n",
    "    def fit(self, start_params=None, maxiter=10000, maxfun=50000):  \n",
    "        return super(Pairwise, self).fit(start_params=start_params, \n",
    "                                         method='newton',\n",
    "                                         bounds = (-5,5),\n",
    "                                         maxiter=maxiter,\n",
    "                                         disp=0,\n",
    "                                         maxfun=maxfun)"
   ]
  },
  {
   "cell_type": "markdown",
   "metadata": {},
   "source": [
    "# Generate Data randomly"
   ]
  },
  {
   "cell_type": "code",
   "execution_count": 7,
   "metadata": {
    "collapsed": true
   },
   "outputs": [],
   "source": [
    "def compare_rank(video_score, results, verbose=False, hist=False, pct=100):\n",
    "    true_order = np.array(video_score).argsort()\n",
    "    true_ranks = true_order.argsort()\n",
    "\n",
    "    temp_o = np.array(results).argsort()\n",
    "    temp_r = temp_o.argsort()\n",
    "\n",
    "    resolution = 0.1\n",
    "    video_score_results = np.round(np.array(results)/resolution)*resolution\n",
    "    \n",
    "    if verbose:\n",
    "        print 'Result Order \\t True Order \\t Result Score \\t Ture Score'\n",
    "        for i in range(len(temp_r)):\n",
    "            print temp_r[i], '\\t\\t', true_ranks[i], '\\t\\t', video_score_results[i], '\\t\\t', video_score[i]\n",
    "            \n",
    "    if hist:\n",
    "        diff = np.abs(temp_r - true_ranks)\n",
    "        plt.hist(diff, alpha=0.5)"
   ]
  },
  {
   "cell_type": "code",
   "execution_count": 127,
   "metadata": {
    "collapsed": true
   },
   "outputs": [],
   "source": [
    "video_num = 30\n",
    "\n",
    "video_score = np.random.uniform(-5,5,video_num)\n",
    "resolution = 0.1\n",
    "video_score = np.round(video_score/resolution)*resolution\n",
    "\n",
    "pairs_truth = []\n",
    "\n",
    "for i in range(len(video_score)-1):\n",
    "    for j in range(i+1, len(video_score)):\n",
    "        if video_score[i] > video_score[j]:\n",
    "            pairs_truth.append((i,j))\n",
    "        else:\n",
    "            pairs_truth.append((j,i))\n",
    "            \n",
    "total_pairs = len(pairs_truth)"
   ]
  },
  {
   "cell_type": "code",
   "execution_count": 128,
   "metadata": {
    "collapsed": false
   },
   "outputs": [
    {
     "name": "stdout",
     "output_type": "stream",
     "text": [
      "Time Spent: 49.38 seconds\n"
     ]
    }
   ],
   "source": [
    "model = Pairwise(np.array(pairs_truth), video_num, video_score)\n",
    "\n",
    "w_init = np.ones(video_num)\n",
    "\n",
    "start_time = time.time()\n",
    "results = model.fit(w_init)\n",
    "print  'Time Spent: %.2f seconds' %float(time.time() - start_time)"
   ]
  },
  {
   "cell_type": "code",
   "execution_count": 118,
   "metadata": {
    "collapsed": false
   },
   "outputs": [
    {
     "name": "stdout",
     "output_type": "stream",
     "text": [
      "Result Order \t True Order \t Result Score \t Ture Score\n",
      "10 \t\t10 \t\t-2389.5 \t\t-1.6\n",
      "25 \t\t25 \t\t13246.3 \t\t3.5\n",
      "8 \t\t8 \t\t-3320.6 \t\t-2.2\n",
      "24 \t\t24 \t\t13203.5 \t\t3.4\n",
      "23 \t\t23 \t\t13119.2 \t\t3.3\n",
      "18 \t\t18 \t\t4900.1 \t\t1.2\n",
      "7 \t\t7 \t\t-5962.5 \t\t-3.0\n",
      "15 \t\t15 \t\t2821.2 \t\t-0.5\n",
      "11 \t\t11 \t\t-2349.5 \t\t-1.2\n",
      "14 \t\t14 \t\t2066.6 \t\t-0.6\n",
      "21 \t\t21 \t\t5652.9 \t\t2.6\n",
      "17 \t\t17 \t\t4793.4 \t\t0.5\n",
      "4 \t\t4 \t\t-6264.1 \t\t-4.4\n",
      "2 \t\t3 \t\t-12804.8 \t\t-4.6\n",
      "19 \t\t20 \t\t5284.5 \t\t2.4\n",
      "12 \t\t12 \t\t-2224.3 \t\t-1.2\n",
      "6 \t\t6 \t\t-6032.9 \t\t-3.1\n",
      "27 \t\t28 \t\t13350.4 \t\t4.1\n",
      "13 \t\t13 \t\t1966.3 \t\t-1.1\n",
      "28 \t\t29 \t\t18323.6 \t\t4.1\n",
      "20 \t\t19 \t\t5390.6 \t\t2.4\n",
      "29 \t\t27 \t\t21308.9 \t\t4.1\n",
      "26 \t\t26 \t\t13304.7 \t\t3.7\n",
      "9 \t\t9 \t\t-2784.3 \t\t-1.8\n",
      "22 \t\t22 \t\t6012.5 \t\t2.7\n",
      "5 \t\t5 \t\t-6203.8 \t\t-3.6\n",
      "0 \t\t0 \t\t-58399.3 \t\t-4.9\n",
      "16 \t\t16 \t\t4751.7 \t\t0.4\n",
      "1 \t\t1 \t\t-15519.8 \t\t-4.9\n",
      "3 \t\t2 \t\t-6321.9 \t\t-4.6\n"
     ]
    }
   ],
   "source": [
    "res = model.rank[0]\n",
    "compare_rank(video_score, res, True)\n",
    "# compare_rank(video_score, results.params, True)"
   ]
  },
  {
   "cell_type": "code",
   "execution_count": 119,
   "metadata": {
    "collapsed": false
   },
   "outputs": [
    {
     "data": {
      "image/png": "[encoded data removed]",
      "text/plain": [
       "<matplotlib.figure.Figure at 0x10a6b1810>"
      ]
     },
     "metadata": {},
     "output_type": "display_data"
    }
   ],
   "source": [
    "# compare_rank(video_score, results.params, False, True)\n",
    "compare_rank(video_score, res, False, True)"
   ]
  },
  {
   "cell_type": "code",
   "execution_count": null,
   "metadata": {
    "collapsed": false
   },
   "outputs": [],
   "source": []
  },
  {
   "cell_type": "code",
   "execution_count": 130,
   "metadata": {
    "collapsed": false
   },
   "outputs": [
    {
     "name": "stdout",
     "output_type": "stream",
     "text": [
      "Current evaluating with 435 test pairs\n",
      "Current evaluating with 391 test pairs\n",
      "Current evaluating with 348 test pairs\n",
      "Current evaluating with 304 test pairs\n",
      "Current evaluating with 261 test pairs\n",
      "Current evaluating with 217 test pairs\n",
      "Current evaluating with 174 test pairs\n",
      "Current evaluating with 130 test pairs\n",
      "Current evaluating with 87 test pairs\n",
      "Current evaluating with 43 test pairs\n"
     ]
    }
   ],
   "source": [
    "model = Pairwise(np.array(pairs_truth), video_num, video_score)\n",
    "\n",
    "sparsity_Nihar, sparsity_Isabelle = model.test_data_generation_sparsity(Nihar=True, Isabelle=True)"
   ]
  },
  {
   "cell_type": "code",
   "execution_count": 131,
   "metadata": {
    "collapsed": false
   },
   "outputs": [
    {
     "name": "stdout",
     "output_type": "stream",
     "text": [
      "Current evaluating with 0.000000 to flip\n",
      "Current evaluating with 0.050000 to flip\n",
      "Current evaluating with 0.100000 to flip\n",
      "Current evaluating with 0.150000 to flip\n",
      "Current evaluating with 0.200000 to flip\n",
      "Current evaluating with 0.250000 to flip\n",
      "Current evaluating with 0.300000 to flip\n",
      "Current evaluating with 0.400000 to flip\n",
      "Current evaluating with 0.500000 to flip\n"
     ]
    }
   ],
   "source": [
    "model = Pairwise(np.array(pairs_truth), video_num, video_score)\n",
    "\n",
    "noise_Nihar, noise_Isabelle = model.test_data_generation_noise(Nihar=True, Isabelle=True)"
   ]
  },
  {
   "cell_type": "code",
   "execution_count": null,
   "metadata": {
    "collapsed": false
   },
   "outputs": [],
   "source": []
  },
  {
   "cell_type": "code",
   "execution_count": 193,
   "metadata": {
    "collapsed": false
   },
   "outputs": [
    {
     "data": {
      "text/plain": [
       "<matplotlib.text.Text at 0x10cd39110>"
      ]
     },
     "execution_count": 193,
     "metadata": {},
     "output_type": "execute_result"
    },
    {
     "data": {
      "image/png": "[encoded data removed]",
      "text/plain": [
       "<matplotlib.figure.Figure at 0x10afeb190>"
      ]
     },
     "metadata": {},
     "output_type": "display_data"
    },
    {
     "data": {
      "image/png": "[encoded data removed]",
      "text/plain": [
       "<matplotlib.figure.Figure at 0x10ddca690>"
      ]
     },
     "metadata": {},
     "output_type": "display_data"
    },
    {
     "data": {
      "image/png": "[encoded data removed]",
      "text/plain": [
       "<matplotlib.figure.Figure at 0x10de63b90>"
      ]
     },
     "metadata": {},
     "output_type": "display_data"
    },
    {
     "data": {
      "image/png": "[encoded data removed]",
      "text/plain": [
       "<matplotlib.figure.Figure at 0x10b7c6c90>"
      ]
     },
     "metadata": {},
     "output_type": "display_data"
    }
   ],
   "source": [
    "plt.figure()\n",
    "plt.plot(np.array((0,0.05,0.1,0.15,0.2,0.25,0.3,0.4,0.5))*100,noise_Nihar,label='Random Noise')\n",
    "plt.title('Affect of Noise (random) using Nihar\\'s metrics')\n",
    "plt.xlabel('Pecentage of pairs flipped')\n",
    "plt.axhline(y=10.2244847722,linewidth=2, color='r',label='Noise from Generative function')\n",
    "plt.legend(bbox_to_anchor=(1.05, 1), loc=2, borderaxespad=0.)\n",
    "plt.figure()\n",
    "plt.plot(np.array((0,0.05,0.1,0.15,0.2,0.25,0.3,0.4,0.5))*100,noise_Isabelle[1])\n",
    "plt.title('Affect of Noise (random) using Isabelle\\'s metrics')\n",
    "plt.xlabel('Pecentage of pairs flipped')\n",
    "plt.figure()\n",
    "plt.plot(np.array((1,0.9,0.8,0.7,0.6,0.5,0.4,0.3,0.2,0.1))*100,sparsity_Nihar)\n",
    "plt.title('Affect of sparsity using Nihar\\'s metrics')\n",
    "plt.xlabel('Pecentage of pairs used')\n",
    "plt.figure()\n",
    "plt.plot(np.array((1,0.9,0.8,0.7,0.6,0.5,0.4,0.3,0.2,0.1))*100,sparsity_Isabelle[1])\n",
    "plt.title('Affect of sparsity using Isabelle\\'s metrics')\n",
    "plt.xlabel('Pecentage of pairs used')"
   ]
  },
  {
   "cell_type": "code",
   "execution_count": 184,
   "metadata": {
    "collapsed": false
   },
   "outputs": [
    {
     "data": {
      "text/plain": [
       "<statsmodels.base.model.GenericLikelihoodModelResults at 0x10bc70cd0>"
      ]
     },
     "execution_count": 184,
     "metadata": {},
     "output_type": "execute_result"
    }
   ],
   "source": [
    "model = Pairwise(np.array(pairs_truth), video_num, video_score)\n",
    "w_init = np.ones(video_num)\n",
    "model.fit(w_init)"
   ]
  },
  {
   "cell_type": "code",
   "execution_count": 138,
   "metadata": {
    "collapsed": false
   },
   "outputs": [
    {
     "name": "stdout",
     "output_type": "stream",
     "text": [
      "Nihars method error using generative model 12.7267670774\n",
      "None\n"
     ]
    }
   ],
   "source": [
    "print 'Nihars method error using generative model', model.test_data_generation_noise_generative_model(Nihar=True)"
   ]
  },
  {
   "cell_type": "code",
   "execution_count": 185,
   "metadata": {
    "collapsed": false
   },
   "outputs": [
    {
     "name": "stdout",
     "output_type": "stream",
     "text": [
      "Nihars method error using generative model 10.2244847722\n",
      "None\n"
     ]
    }
   ],
   "source": [
    "print 'Nihars method error using generative model', model.test_data_generation_noise_generative_model(Nihar=True)"
   ]
  },
  {
   "cell_type": "code",
   "execution_count": null,
   "metadata": {
    "collapsed": true
   },
   "outputs": [],
   "source": []
  }
 ],
 "metadata": {
  "kernelspec": {
   "display_name": "Python 2",
   "language": "python",
   "name": "python2"
  },
  "language_info": {
   "codemirror_mode": {
    "name": "ipython",
    "version": 2
   },
   "file_extension": ".py",
   "mimetype": "text/x-python",
   "name": "python",
   "nbconvert_exporter": "python",
   "pygments_lexer": "ipython2",
   "version": "2.7.10"
  }
 },
 "nbformat": 4,
 "nbformat_minor": 0
}
