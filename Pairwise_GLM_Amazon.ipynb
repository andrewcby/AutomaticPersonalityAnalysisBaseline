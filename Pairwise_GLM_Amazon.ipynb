{
 "cells": [
  {
   "cell_type": "markdown",
   "metadata": {},
   "source": [
    "# Below is with Generic Likelihood Model Class"
   ]
  },
  {
   "cell_type": "code",
   "execution_count": 1,
   "metadata": {
    "collapsed": true
   },
   "outputs": [],
   "source": [
    "import os, csv, random, time\n",
    "from __future__ import division\n",
    "from matplotlib import  pyplot as plt\n",
    "import numpy as np\n",
    "import scipy.io as sio\n",
    "from scipy import stats\n",
    "from collections import deque\n",
    "import seaborn as sns\n",
    "from statsmodels.base.model import GenericLikelihoodModel\n",
    "%matplotlib inline"
   ]
  },
  {
   "cell_type": "markdown",
   "metadata": {},
   "source": [
    "1. The function $regularized\\_vector$ is what Nihar proposed. \n",
    "\n",
    "Suppose $w^*$ is the true value and $\\hat{w}$ is the inferred value from our optimization, we want to minimize $||w^* - a \\cdot \\hat{w} - b||_2^2 $ by finding optimial value of a and b, which will be done through $matching\\_func$. And then we introduce a new value $v= a\\cdot \\hat{w} + b$ as the new weight for the videos. \n",
    "\n",
    "All the error metric evaluation would be made between $v$ and $w^*$, and here we are using $L_2$ norm, which is assessed through $performance_nihar$\n",
    "\n",
    "2. The function $performance\\_isabelle$ is what Isabelle proposed.\n",
    "\n",
    "Assume 3 scores $T_1, T_2, T_3$, that are adjacent when we rank all true scores, and the results scores of the corresponding videos $R_1, R_2, R_3$. We can compute $||\\frac{T_2-T_1}{T_3-T_1+\\epsilon}  - \\frac{R_2-R_1}{R_3-R_1+\\epsilon} ||$ and average over all adjacent triplets."
   ]
  },
  {
   "cell_type": "code",
   "execution_count": 11,
   "metadata": {
    "collapsed": false
   },
   "outputs": [],
   "source": [
    "class Pairwise(GenericLikelihoodModel):\n",
    "    \n",
    "    def __init__(self, endog, truth, exog=None, **kwds):\n",
    "        super(Pairwise, self).__init__(endog, exog, **kwds)\n",
    "        self.rank =  deque([[1],[1]])\n",
    "        self.w_hat = []\n",
    "        self.w_star = truth\n",
    "        self.v = []\n",
    "        \n",
    "\n",
    "    def nloglikeobs(self, params):\n",
    "        \n",
    "        out = 1\n",
    "        pairs = self.endog\n",
    "        w = params\n",
    "        \n",
    "        for pair in pairs:\n",
    "            out *= 1/(1+np.exp(w[pair[1]] - w[pair[0]]))   \n",
    "            \n",
    "        return -np.log(out)\n",
    "    \n",
    "    \n",
    "    def score(self, params):\n",
    "        self.rank.popleft()\n",
    "        w = params\n",
    "        pairs = self.endog\n",
    "        grad = []\n",
    "        for i in range(len(w)):\n",
    "            grad.append(self.calc_gradient(pairs, w, i))\n",
    "        \n",
    "        self.rank.append(grad)\n",
    "        \n",
    "        return np.array(grad)\n",
    "    \n",
    "        \n",
    "    def calc_gradient(self,pairs, w, w_i):\n",
    "        gradient = 0\n",
    "\n",
    "        for pair in pairs:\n",
    "            if w_i == pair[0]:\n",
    "                out = -1\n",
    "            elif w_i == pair[1]:\n",
    "                out = 1  \n",
    "            else:\n",
    "                out = 0\n",
    "\n",
    "            gradient -= out / (1/(np.exp(w[pair[1]]-w[pair[0]]) + 0.00001) +1 )\n",
    "            \n",
    "        return gradient\n",
    "    \n",
    "    \n",
    "    def matching_func(self, param):\n",
    "        \"\"\"\n",
    "        Here params is [a, b]\n",
    "        \"\"\"\n",
    "        return (self.w_star - param[0]*self.w_hat - param[1])**2\n",
    "\n",
    "    \n",
    "    def regularized_vector(self):\n",
    "        coeff = optimize.minimize(self.matching_func, [0, 0])\n",
    "        self.a = coeff[0]\n",
    "        self.b = coeff[1]\n",
    "        self.v = a*self.w_hat+b\n",
    "        \n",
    "        \n",
    "    def performance_isabelle(self):\n",
    "        epsilon = 0.0001\n",
    "        error = 0\n",
    "        for i in range(len(self.w_star)-2):\n",
    "            error+= np.abs((self.w_star[i+1]-self.w_star[i])/(self.w_star[i+2]-self.w_star[i]+epsilon)-\n",
    "                           (self.w_hat[i+1]-self.w_hat[i])/(self.w_hat[i+2]-self.w_hat[i]+epsilon))\n",
    "        error /= len(self.w_star)-2\n",
    "        return error\n",
    "\n",
    "    def performance_nihar(self):\n",
    "        return (self.w_star - self.v) ** 2\n",
    "    \n",
    "    \n",
    "    def fit(self, start_params=None, maxiter=1000, maxfun=5000):  \n",
    "        return super(Pairwise, self).fit(start_params=start_params, \n",
    "                                         method='cg', \n",
    "                                         xtol = 0.01,\n",
    "                                         ftol = 0.01,\n",
    "                                         maxiter=maxiter, \n",
    "                                         maxfun=maxfun)"
   ]
  },
  {
   "cell_type": "markdown",
   "metadata": {},
   "source": [
    "# Generate Data randomly"
   ]
  },
  {
   "cell_type": "code",
   "execution_count": 5,
   "metadata": {
    "collapsed": true
   },
   "outputs": [],
   "source": [
    "def compare_rank(video_score, results, verbose=False, hist=False, pct=100):\n",
    "    true_order = np.array(video_score).argsort()\n",
    "    true_ranks = true_order.argsort()\n",
    "\n",
    "    temp_o = np.array(results).argsort()\n",
    "    temp_r = temp_o.argsort()\n",
    "\n",
    "    resolution = 0.1\n",
    "    video_score_results = np.round(np.array(results)/resolution)*resolution\n",
    "    \n",
    "    if verbose:\n",
    "        print 'Result Order \\t True Order \\t Result Score \\t Ture Score'\n",
    "        for i in range(len(temp_r)):\n",
    "            print temp_r[i], '\\t\\t', true_ranks[i], '\\t\\t', video_score_results[i], '\\t\\t', video_score[i]\n",
    "            \n",
    "    if hist:\n",
    "        \n",
    "        diff = np.abs(temp_r - true_ranks)\n",
    "        plt.hist(diff, alpha=0.5)"
   ]
  },
  {
   "cell_type": "code",
   "execution_count": 6,
   "metadata": {
    "collapsed": true
   },
   "outputs": [],
   "source": [
    "video_num = 50\n",
    "\n",
    "video_score = np.random.uniform(-5,5,video_num)\n",
    "resolution = 0.1\n",
    "video_score = np.round(video_score/resolution)*resolution\n",
    "\n",
    "pairs_truth = []\n",
    "\n",
    "for i in range(len(video_score)-1):\n",
    "    for j in range(i+1, len(video_score)):\n",
    "        if video_score[i] > video_score[j]:\n",
    "            pairs_truth.append((i,j))\n",
    "        else:\n",
    "            pairs_truth.append((j,i))\n",
    "            \n",
    "total_pairs = len(pairs_truth)"
   ]
  },
  {
   "cell_type": "code",
   "execution_count": 7,
   "metadata": {
    "collapsed": false
   },
   "outputs": [
    {
     "name": "stdout",
     "output_type": "stream",
     "text": [
      "Warning: Desired error not necessarily achieved due to precision loss.\n",
      "         Current function value: inf\n",
      "         Iterations: 0\n",
      "         Function evaluations: 19\n",
      "         Gradient evaluations: 7\n",
      "Time Spent: 25.87\n"
     ]
    },
    {
     "name": "stderr",
     "output_type": "stream",
     "text": [
      "/Library/Frameworks/Python.framework/Versions/2.7/lib/python2.7/site-packages/statsmodels/base/model.py:466: ConvergenceWarning: Maximum Likelihood optimization failed to converge. Check mle_retvals\n",
      "  \"Check mle_retvals\", ConvergenceWarning)\n"
     ]
    }
   ],
   "source": [
    "model = Pairwise(pairs_truth)\n",
    "w_init = np.ones(video_num)\n",
    "# w_init = np.random.uniform(-5,5,video_num)\n",
    "start_time = time.time()\n",
    "results = model.fit(w_init, maxiter=100000, maxfun=50000)\n",
    "print  'Time Spent: %.2f' %float(time.time() - start_time)"
   ]
  },
  {
   "cell_type": "code",
   "execution_count": 8,
   "metadata": {
    "collapsed": false
   },
   "outputs": [
    {
     "name": "stdout",
     "output_type": "stream",
     "text": [
      "Result Order \t True Order \t Result Score \t Ture Score\n",
      "41 \t\t41 \t\t16.3 \t\t2.9\n",
      "3 \t\t3 \t\t-21.3 \t\t-3.5\n",
      "40 \t\t40 \t\t15.3 \t\t2.8\n",
      "12 \t\t12 \t\t-12.4 \t\t-1.3\n",
      "23 \t\t23 \t\t-1.5 \t\t0.7\n",
      "4 \t\t4 \t\t-20.3 \t\t-3.3\n",
      "36 \t\t38 \t\t11.4 \t\t2.5\n",
      "1 \t\t1 \t\t-23.3 \t\t-4.2\n",
      "16 \t\t16 \t\t-8.4 \t\t-0.8\n",
      "26 \t\t27 \t\t1.5 \t\t0.9\n",
      "34 \t\t34 \t\t9.4 \t\t1.9\n",
      "6 \t\t6 \t\t-18.3 \t\t-2.8\n",
      "18 \t\t18 \t\t-6.4 \t\t-0.4\n",
      "39 \t\t39 \t\t14.4 \t\t2.6\n",
      "32 \t\t32 \t\t7.4 \t\t1.4\n",
      "14 \t\t15 \t\t-10.4 \t\t-1.0\n",
      "10 \t\t10 \t\t-14.4 \t\t-1.8\n",
      "21 \t\t21 \t\t-3.5 \t\t0.1\n",
      "22 \t\t22 \t\t-2.5 \t\t0.4\n",
      "33 \t\t33 \t\t8.4 \t\t1.6\n",
      "19 \t\t20 \t\t-5.4 \t\t0.0\n",
      "5 \t\t5 \t\t-19.3 \t\t-3.0\n",
      "7 \t\t7 \t\t-17.3 \t\t-2.3\n",
      "45 \t\t45 \t\t20.3 \t\t3.9\n",
      "24 \t\t25 \t\t-0.5 \t\t0.8\n",
      "28 \t\t28 \t\t3.5 \t\t1.0\n",
      "25 \t\t24 \t\t0.5 \t\t0.8\n",
      "30 \t\t30 \t\t5.4 \t\t1.3\n",
      "17 \t\t17 \t\t-7.4 \t\t-0.5\n",
      "27 \t\t26 \t\t2.5 \t\t0.9\n",
      "9 \t\t9 \t\t-15.3 \t\t-1.9\n",
      "37 \t\t36 \t\t12.4 \t\t2.5\n",
      "8 \t\t8 \t\t-16.3 \t\t-2.0\n",
      "38 \t\t37 \t\t13.4 \t\t2.5\n",
      "46 \t\t46 \t\t21.3 \t\t4.4\n",
      "44 \t\t44 \t\t19.3 \t\t3.4\n",
      "15 \t\t14 \t\t-9.4 \t\t-1.0\n",
      "47 \t\t47 \t\t22.3 \t\t4.4\n",
      "49 \t\t49 \t\t24.3 \t\t4.7\n",
      "42 \t\t43 \t\t17.3 \t\t3.2\n",
      "20 \t\t19 \t\t-4.5 \t\t0.0\n",
      "13 \t\t13 \t\t-11.4 \t\t-1.3\n",
      "31 \t\t31 \t\t6.4 \t\t1.3\n",
      "11 \t\t11 \t\t-13.4 \t\t-1.5\n",
      "35 \t\t35 \t\t10.4 \t\t2.3\n",
      "29 \t\t29 \t\t4.5 \t\t1.0\n",
      "43 \t\t42 \t\t18.3 \t\t3.2\n",
      "48 \t\t48 \t\t23.3 \t\t4.6\n",
      "2 \t\t2 \t\t-22.3 \t\t-3.6\n",
      "0 \t\t0 \t\t-24.3 \t\t-4.8\n"
     ]
    }
   ],
   "source": [
    "res = model.rank[0]\n",
    "compare_rank(video_score, res, True)"
   ]
  },
  {
   "cell_type": "code",
   "execution_count": 9,
   "metadata": {
    "collapsed": false
   },
   "outputs": [
    {
     "data": {
      "image/png": "[encoded data removed]",
      "text/plain": [
       "<matplotlib.figure.Figure at 0x108af9a10>"
      ]
     },
     "metadata": {},
     "output_type": "display_data"
    }
   ],
   "source": [
    "compare_rank(video_score, res, False, True)"
   ]
  },
  {
   "cell_type": "markdown",
   "metadata": {},
   "source": [
    "Th function $regularized\\_vector$ is what Nihar proposed. Suppose $w^*$ is the true value and $\\hat{w}$ is the inferred value from our optimization, we want to minimize $||w^* - a \\cdot \\hat{w} - b||_2^2 $ by finding optimial value of a and b, which will be done through $matching\\_func$. And then we introduce a new value $v= a\\cdot \\hat{w} + b$ as the new weight for the videos. All the error metric evaluation would be made between $v$ and $w^*$"
   ]
  },
  {
   "cell_type": "code",
   "execution_count": null,
   "metadata": {
    "collapsed": true
   },
   "outputs": [],
   "source": [
    "class Performance_Reconstruction():\n",
    "    \n",
    "    \n"
   ]
  },
  {
   "cell_type": "code",
   "execution_count": null,
   "metadata": {
    "collapsed": false
   },
   "outputs": [],
   "source": []
  },
  {
   "cell_type": "code",
   "execution_count": null,
   "metadata": {
    "collapsed": true
   },
   "outputs": [],
   "source": []
  },
  {
   "cell_type": "code",
   "execution_count": null,
   "metadata": {
    "collapsed": true
   },
   "outputs": [],
   "source": []
  },
  {
   "cell_type": "code",
   "execution_count": null,
   "metadata": {
    "collapsed": false
   },
   "outputs": [],
   "source": []
  },
  {
   "cell_type": "code",
   "execution_count": null,
   "metadata": {
    "collapsed": true
   },
   "outputs": [],
   "source": []
  },
  {
   "cell_type": "code",
   "execution_count": null,
   "metadata": {
    "collapsed": true
   },
   "outputs": [],
   "source": []
  },
  {
   "cell_type": "code",
   "execution_count": null,
   "metadata": {
    "collapsed": true
   },
   "outputs": [],
   "source": []
  },
  {
   "cell_type": "code",
   "execution_count": null,
   "metadata": {
    "collapsed": true
   },
   "outputs": [],
   "source": []
  },
  {
   "cell_type": "code",
   "execution_count": null,
   "metadata": {
    "collapsed": true
   },
   "outputs": [],
   "source": []
  },
  {
   "cell_type": "code",
   "execution_count": null,
   "metadata": {
    "collapsed": true
   },
   "outputs": [],
   "source": []
  },
  {
   "cell_type": "code",
   "execution_count": null,
   "metadata": {
    "collapsed": true
   },
   "outputs": [],
   "source": []
  },
  {
   "cell_type": "code",
   "execution_count": null,
   "metadata": {
    "collapsed": true
   },
   "outputs": [],
   "source": []
  },
  {
   "cell_type": "code",
   "execution_count": null,
   "metadata": {
    "collapsed": true
   },
   "outputs": [],
   "source": []
  }
 ],
 "metadata": {
  "kernelspec": {
   "display_name": "Python 2",
   "language": "python",
   "name": "python2"
  },
  "language_info": {
   "codemirror_mode": {
    "name": "ipython",
    "version": 2
   },
   "file_extension": ".py",
   "mimetype": "text/x-python",
   "name": "python",
   "nbconvert_exporter": "python",
   "pygments_lexer": "ipython2",
   "version": "2.7.10"
  }
 },
 "nbformat": 4,
 "nbformat_minor": 0
}
