{
 "cells": [
  {
   "cell_type": "code",
   "execution_count": 1,
   "metadata": {
    "collapsed": true
   },
   "outputs": [],
   "source": [
    "import random, csv, time, os\n",
    "\n",
    "import numpy as np\n",
    "import pandas as pd\n",
    "import matplotlib.pyplot as plt\n",
    "\n",
    "from scipy import optimize\n",
    "from __future__ import division\n",
    "\n",
    "%matplotlib inline\n",
    "# Videos result files are from http://sunai.uoc.edu/traits/layout2/results/"
   ]
  },
  {
   "cell_type": "code",
   "execution_count": 2,
   "metadata": {
    "collapsed": false
   },
   "outputs": [],
   "source": [
    "def append_pair(comp, name1, name2, name_to_num):\n",
    "    if comp == '-1':\n",
    "        return((name_to_num[name2], name_to_num[name1]))\n",
    "    if comp == '1':\n",
    "        return((name_to_num[name1], name_to_num[name2]))\n",
    "    \n",
    "def mle(w, pairs):    \n",
    "    out = 1      \n",
    "    for pair in pairs:\n",
    "        if pair[0] == -1 or pair[1] == -1:\n",
    "            continue\n",
    "        out *= 1/(1+np.exp((-w[pair[0]] + w[pair[1]])/3))   \n",
    "    return -np.log(out)\n",
    "\n",
    "def gradient(w,pairs):\n",
    "    grad = []\n",
    "    for i in range(len(w)):\n",
    "        gradient = 0\n",
    "\n",
    "        for pair in pairs:\n",
    "            if i == pair[0]:\n",
    "                out = -1\n",
    "            elif i == pair[1]:\n",
    "                out = 1  \n",
    "            else:\n",
    "                continue\n",
    "#             gradient -= out / (1/(np.exp((w[pair[1]]-w[pair[0]])/15) +1 )) /15\n",
    "            gradient -= out / (1/((np.exp(w[pair[1]]-w[pair[0]]))) +1 )\n",
    "# \n",
    "        grad.append(-gradient)\n",
    "        \n",
    "    return np.array(grad)\n",
    "\n",
    "def accuracy(yhat,y):\n",
    "    out = 0.0\n",
    "    for i in range(1000):\n",
    "        a, b = random.sample(range(len(y)),2)\n",
    "        if (yhat[a]>yhat[b])==(y[a]>y[b]):\n",
    "            out += 1\n",
    "    resolution = 0.001\n",
    "    return np.round((out/1000)/resolution)*resolution\n",
    "\n",
    "def accuracy_pairs(test, w):\n",
    "    tot = 0\n",
    "    for pair in test:\n",
    "        if w[pair[0]] >= w[pair[1]]:\n",
    "            tot += 1\n",
    "        \n",
    "    return tot/len(test)"
   ]
  },
  {
   "cell_type": "code",
   "execution_count": 3,
   "metadata": {
    "collapsed": false
   },
   "outputs": [],
   "source": [
    "# Used to store video name and their corresponding index\n",
    "name_to_num = dict()\n",
    "# Here pairs will be a list of 5 lists correpesonding to each of the 5 traits\n",
    "global pairs\n",
    "pairs = [[],[],[],[],[]]\n",
    "\n",
    "j = 0\n",
    "path = './data'\n",
    "files = [f for f in os.listdir(path) if f.endswith('.csv')]\n",
    "for file in files:\n",
    "    with open('./data/'+file, 'rb') as csvfile:\n",
    "        reader = csv.reader(csvfile, delimiter=' ')\n",
    "        for row in reader:\n",
    "            if not row[1] in name_to_num:\n",
    "                name_to_num[row[1]] = j\n",
    "                j += 1\n",
    "            if not row[2] in name_to_num:\n",
    "                name_to_num[row[2]] = j\n",
    "                j += 1\n",
    "            for i in range(3,8):\n",
    "                pair = append_pair(row[i],row[1],row[2],name_to_num)\n",
    "                if pair != None:\n",
    "                    pairs[i-3].append(pair)\n",
    "video_num = j"
   ]
  },
  {
   "cell_type": "code",
   "execution_count": 4,
   "metadata": {
    "collapsed": false
   },
   "outputs": [],
   "source": [
    "accuracy = [[],[],[],[],[]]\n",
    "\n",
    "for iteration in range(50):\n",
    "    for trait in range(len(pairs)):\n",
    "        w = np.zeros(30)\n",
    "        train_index = random.sample(range(len(pairs[trait])), int(1.56*30*np.log(30)))\n",
    "        test_index=[]\n",
    "        for i in range(len(pairs[trait])):\n",
    "            if i not in train_index:\n",
    "                test_index.append(i)\n",
    "    #     test_index = [i in range(len(pairs[trait])) if i not in train_index]\n",
    "        train_pairs = [pairs[trait][i] for i in train_index]\n",
    "        test_pairs = [pairs[trait][i] for i in test_index]\n",
    "        res = optimize.minimize(mle, w, \n",
    "                                method='Newton-CG',\n",
    "                                jac=gradient,\n",
    "                                args=(train_pairs,),\n",
    "                                tol = 1,\n",
    "                                options={'disp': False})\n",
    "        accuracy[trait].append(accuracy_pairs(test_pairs, res.x))"
   ]
  },
  {
   "cell_type": "code",
   "execution_count": 5,
   "metadata": {
    "collapsed": false
   },
   "outputs": [
    {
     "name": "stdout",
     "output_type": "stream",
     "text": [
      "0.680231660232 0.0198072132265\n",
      "0.607010309278 0.0190986163743\n",
      "0.684804928131 0.0211578701505\n",
      "0.65984375 0.0206860188764\n",
      "0.654757281553 0.0224855291176\n"
     ]
    }
   ],
   "source": [
    "for i in range(5):\n",
    "    print np.mean(accuracy[i]), np.std(accuracy[i])"
   ]
  },
  {
   "cell_type": "markdown",
   "metadata": {
    "collapsed": false
   },
   "source": [
    "###### Naive Method"
   ]
  },
  {
   "cell_type": "code",
   "execution_count": null,
   "metadata": {
    "collapsed": true
   },
   "outputs": [],
   "source": []
  },
  {
   "cell_type": "code",
   "execution_count": 16,
   "metadata": {
    "collapsed": false
   },
   "outputs": [],
   "source": [
    "accuracy = [[],[],[],[],[]]\n",
    "\n",
    "for iteration in range(10):\n",
    "    for trait in range(5):\n",
    "\n",
    "        train_index = random.sample(range(len(pairs[trait])), int(len(pairs[trait])*0.9))\n",
    "        test_index=[]\n",
    "        for i in range(len(pairs[trait])):\n",
    "            if i not in train_index:\n",
    "                test_index.append(i)\n",
    "        train_pairs = [pairs[trait][i] for i in train_index]\n",
    "        test_pairs = [pairs[trait][i] for i in test_index]\n",
    "\n",
    "        scores = np.zeros(30)\n",
    "        for pair in train_pairs:\n",
    "            scores[pair[0]] += 1\n",
    "            scores[pair[1]] -= 1\n",
    "\n",
    "        tot = 0\n",
    "        right = 0\n",
    "        for pair in test_pairs:\n",
    "            tot += 1\n",
    "            if scores[pair[0]] > scores[pair[1]]:\n",
    "                right += 1\n",
    "\n",
    "        accuracy[trait].append(right/tot)"
   ]
  },
  {
   "cell_type": "code",
   "execution_count": 17,
   "metadata": {
    "collapsed": false
   },
   "outputs": [
    {
     "name": "stdout",
     "output_type": "stream",
     "text": [
      " & 0.678 & $\\pm$ 0.0590\n",
      " & 0.598 & $\\pm$ 0.0438\n",
      " & 0.682 & $\\pm$ 0.0419\n",
      " & 0.685 & $\\pm$ 0.0406\n",
      " & 0.638 & $\\pm$ 0.0551\n"
     ]
    }
   ],
   "source": [
    "for i in range(5):\n",
    "    print ' & %.3f & $\\pm$ %.4f' %(np.mean(accuracy[i]), np.std(accuracy[i]))"
   ]
  },
  {
   "cell_type": "code",
   "execution_count": 40,
   "metadata": {
    "collapsed": false
   },
   "outputs": [
    {
     "name": "stdout",
     "output_type": "stream",
     "text": [
      " & 0.626 & $\\pm$ 0.0221\n",
      " & 0.545 & $\\pm$ 0.0306\n",
      " & 0.588 & $\\pm$ 0.0224\n",
      " & 0.602 & $\\pm$ 0.0262\n",
      " & 0.562 & $\\pm$ 0.0215\n"
     ]
    }
   ],
   "source": [
    "accuracy = [[],[],[],[],[]]\n",
    "\n",
    "for iteration in range(10):\n",
    "    for trait in range(5):\n",
    "\n",
    "        train_index = random.sample(range(len(pairs[trait])), 250)\n",
    "        test_index=[]\n",
    "        for i in range(len(pairs[trait])):\n",
    "            if i not in train_index:\n",
    "                test_index.append(i)\n",
    "        train_pairs = [pairs[trait][i] for i in train_index]\n",
    "        test_pairs = [pairs[trait][i] for i in test_index]\n",
    "\n",
    "        scores = np.zeros(30)\n",
    "        for pair in train_pairs:\n",
    "            scores[pair[0]] += 1\n",
    "\n",
    "        tot = 0\n",
    "        right = 0\n",
    "        for pair in test_pairs:\n",
    "            tot += 1\n",
    "            if scores[pair[0]] > scores[pair[1]]:\n",
    "                right += 1\n",
    "\n",
    "        accuracy[trait].append(right/tot)\n",
    "        \n",
    "for i in range(5):\n",
    "    print ' & %.3f & $\\pm$ %.4f' %(np.mean(accuracy[i]), np.std(accuracy[i]))"
   ]
  },
  {
   "cell_type": "code",
   "execution_count": null,
   "metadata": {
    "collapsed": true
   },
   "outputs": [],
   "source": []
  }
 ],
 "metadata": {
  "kernelspec": {
   "display_name": "Python 2",
   "language": "python",
   "name": "python2"
  },
  "language_info": {
   "codemirror_mode": {
    "name": "ipython",
    "version": 2
   },
   "file_extension": ".py",
   "mimetype": "text/x-python",
   "name": "python",
   "nbconvert_exporter": "python",
   "pygments_lexer": "ipython2",
   "version": "2.7.10"
  }
 },
 "nbformat": 4,
 "nbformat_minor": 0
}
