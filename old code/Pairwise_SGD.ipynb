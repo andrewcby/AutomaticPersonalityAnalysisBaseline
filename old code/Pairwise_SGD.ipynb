{
 "cells": [
  {
   "cell_type": "code",
   "execution_count": 1,
   "metadata": {
    "collapsed": false
   },
   "outputs": [],
   "source": [
    "import os, csv, random, time\n",
    "\n",
    "from __future__ import division\n",
    "from matplotlib import  pyplot as plt\n",
    "from scipy import stats, optimize\n",
    "from collections import deque\n",
    "from statsmodels.base.model import GenericLikelihoodModel\n",
    "from scipy.stats import bernoulli,poisson,norm,expon\n",
    "from multiprocessing import Process, Lock\n",
    "# from pathos.multiprocessing import ProcessingPool as Pool\n",
    "\n",
    "import numpy as np\n",
    "import scipy.io as sio\n",
    "import seaborn as sns\n",
    "\n",
    "%matplotlib inline"
   ]
  },
  {
   "cell_type": "markdown",
   "metadata": {},
   "source": [
    "# Generate score for videos, and find all possible pairs"
   ]
  },
  {
   "cell_type": "code",
   "execution_count": 17,
   "metadata": {
    "collapsed": false
   },
   "outputs": [
    {
     "name": "stdout",
     "output_type": "stream",
     "text": [
      "Total number of pairs for 30 videos is:  435\n"
     ]
    }
   ],
   "source": [
    "video_num = 30\n",
    "global video_score\n",
    "video_score = np.random.uniform(-5,5,video_num)\n",
    "resolution = 0.1\n",
    "video_score = np.round(video_score/resolution)*resolution\n",
    "\n",
    "pairs_truth = []\n",
    "\n",
    "for i in range(len(video_score)-1):\n",
    "    for j in range(i+1, len(video_score)):\n",
    "        if video_score[i] > video_score[j]:\n",
    "            pairs_truth.append((i,j))\n",
    "        else:\n",
    "            pairs_truth.append((j,i))\n",
    "            \n",
    "total_pairs = len(pairs_truth)\n",
    "\n",
    "print 'Total number of pairs for %d videos is: ' %video_num, total_pairs"
   ]
  },
  {
   "cell_type": "markdown",
   "metadata": {},
   "source": [
    "# SGD\n",
    "Assuming the pair $(w_i,w_j)$ means $w_i > w_j$, this function calculates $\\frac{\\partial L}{\\partial w_i} = \\frac{exp(w_j-w_i)}{1+exp(w_j-w_i)}$, where $w_i$ represent the weight to be taken derivative of. Return value is the gradient of the log likelihood function with respect to $w_i$"
   ]
  },
  {
   "cell_type": "code",
   "execution_count": 18,
   "metadata": {
    "collapsed": true
   },
   "outputs": [],
   "source": [
    "def calc_gradient(pairs, w, w_i):\n",
    "    gradient = 0\n",
    "    \n",
    "    for pair in pairs:\n",
    "        if w_i == pair[0]:\n",
    "            out = -1\n",
    "        elif w_i == pair[1]:\n",
    "            out = 1  \n",
    "        else:\n",
    "            out = 0\n",
    "            \n",
    "        gradient -= out/(1/(np.exp(w[pair[1]]-w[pair[0]]))+1)\n",
    "    \n",
    "    return gradient"
   ]
  },
  {
   "cell_type": "markdown",
   "metadata": {},
   "source": [
    "$w_{old}$ saves the original values of the gradient, so that later when updating the values, the values to be updated are still using the original value"
   ]
  },
  {
   "cell_type": "code",
<<<<<<< HEAD
   "execution_count": 19,
=======
   "execution_count": 17,
>>>>>>> 2bd20958f8eb0494e65906efd13852e52e409936
   "metadata": {
    "collapsed": true
   },
   "outputs": [],
   "source": [
    "def update_gradient(pairs, w, eta):\n",
    "    w_old = w\n",
    "    for i in range(len(w)):\n",
    "        w[i] += eta*calc_gradient(pairs, w_old, i)\n",
    "    return w"
   ]
  },
  {
   "cell_type": "code",
<<<<<<< HEAD
   "execution_count": 20,
=======
   "execution_count": 18,
>>>>>>> 2bd20958f8eb0494e65906efd13852e52e409936
   "metadata": {
    "collapsed": true
   },
   "outputs": [],
   "source": [
    "def likelihood(pairs, w):\n",
    "    l = 1\n",
    "    for pair in pairs:\n",
    "        l += np.log(1+np.exp(w[pair[1]]-w[pair[0]]))\n",
    "    return l"
   ]
  },
  {
   "cell_type": "code",
   "execution_count": null,
   "metadata": {
    "collapsed": false
   },
   "outputs": [],
   "source": []
  },
  {
   "cell_type": "code",
<<<<<<< HEAD
   "execution_count": 22,
=======
   "execution_count": 19,
>>>>>>> 2bd20958f8eb0494e65906efd13852e52e409936
   "metadata": {
    "collapsed": false
   },
   "outputs": [
    {
     "name": "stdout",
     "output_type": "stream",
     "text": [
<<<<<<< HEAD
      "302.22679781\n",
      "193.313818028\n",
      "169.544050022\n",
      "159.103386913\n",
      "153.246591798\n",
      "149.502506454\n",
      "146.903451507\n",
      "144.996942306\n",
      "143.545392233\n",
      "142.412900334\n",
      "141.516201151\n",
      "140.801232371\n",
      "140.231086987\n",
      "139.77944479\n",
      "139.426810849\n"
=======
      "288.034596951\n",
      "124.851074106\n",
      "123.264323568\n",
      "123.122999269\n",
      "123.109024909\n",
      "123.10762904\n",
      "123.107489468\n",
      "123.107475511\n",
      "123.107474116\n",
      "123.107473976\n",
      "123.107473962\n"
     ]
    },
    {
     "ename": "KeyboardInterrupt",
     "evalue": "",
     "output_type": "error",
     "traceback": [
      "\u001b[0;31m---------------------------------------------------------------------------\u001b[0m",
      "\u001b[0;31mKeyboardInterrupt\u001b[0m                         Traceback (most recent call last)",
      "\u001b[0;32m<ipython-input-19-b25a06452c06>\u001b[0m in \u001b[0;36m<module>\u001b[0;34m()\u001b[0m\n\u001b[1;32m     11\u001b[0m \u001b[0;32mfor\u001b[0m \u001b[0mi\u001b[0m \u001b[0;32min\u001b[0m \u001b[0mrange\u001b[0m\u001b[0;34m(\u001b[0m\u001b[0;36m15000\u001b[0m\u001b[0;34m)\u001b[0m\u001b[0;34m:\u001b[0m\u001b[0;34m\u001b[0m\u001b[0m\n\u001b[1;32m     12\u001b[0m \u001b[0;34m\u001b[0m\u001b[0m\n\u001b[0;32m---> 13\u001b[0;31m     \u001b[0mw\u001b[0m \u001b[0;34m=\u001b[0m \u001b[0mupdate_gradient\u001b[0m\u001b[0;34m(\u001b[0m\u001b[0mpairs\u001b[0m\u001b[0;34m,\u001b[0m \u001b[0mw\u001b[0m\u001b[0;34m,\u001b[0m \u001b[0meta\u001b[0m\u001b[0;34m)\u001b[0m\u001b[0;34m\u001b[0m\u001b[0m\n\u001b[0m\u001b[1;32m     14\u001b[0m     \u001b[0;32mif\u001b[0m \u001b[0mi\u001b[0m \u001b[0;34m%\u001b[0m \u001b[0;36m1000\u001b[0m \u001b[0;34m==\u001b[0m\u001b[0;36m0\u001b[0m\u001b[0;34m:\u001b[0m\u001b[0;34m\u001b[0m\u001b[0m\n\u001b[1;32m     15\u001b[0m         \u001b[0meta\u001b[0m \u001b[0;34m/=\u001b[0m \u001b[0;36m10\u001b[0m\u001b[0;34m\u001b[0m\u001b[0m\n",
      "\u001b[0;32m<ipython-input-17-2c92fbf17866>\u001b[0m in \u001b[0;36mupdate_gradient\u001b[0;34m(pairs, w, eta)\u001b[0m\n\u001b[1;32m      2\u001b[0m     \u001b[0mw_old\u001b[0m \u001b[0;34m=\u001b[0m \u001b[0mw\u001b[0m\u001b[0;34m\u001b[0m\u001b[0m\n\u001b[1;32m      3\u001b[0m     \u001b[0;32mfor\u001b[0m \u001b[0mi\u001b[0m \u001b[0;32min\u001b[0m \u001b[0mrange\u001b[0m\u001b[0;34m(\u001b[0m\u001b[0mlen\u001b[0m\u001b[0;34m(\u001b[0m\u001b[0mw\u001b[0m\u001b[0;34m)\u001b[0m\u001b[0;34m)\u001b[0m\u001b[0;34m:\u001b[0m\u001b[0;34m\u001b[0m\u001b[0m\n\u001b[0;32m----> 4\u001b[0;31m         \u001b[0mw\u001b[0m\u001b[0;34m[\u001b[0m\u001b[0mi\u001b[0m\u001b[0;34m]\u001b[0m \u001b[0;34m+=\u001b[0m \u001b[0meta\u001b[0m\u001b[0;34m*\u001b[0m\u001b[0mcalc_gradient\u001b[0m\u001b[0;34m(\u001b[0m\u001b[0mpairs\u001b[0m\u001b[0;34m,\u001b[0m \u001b[0mw_old\u001b[0m\u001b[0;34m,\u001b[0m \u001b[0mi\u001b[0m\u001b[0;34m)\u001b[0m\u001b[0;34m\u001b[0m\u001b[0m\n\u001b[0m\u001b[1;32m      5\u001b[0m     \u001b[0;32mreturn\u001b[0m \u001b[0mw\u001b[0m\u001b[0;34m\u001b[0m\u001b[0m\n",
      "\u001b[0;32m<ipython-input-3-fd0395fc7714>\u001b[0m in \u001b[0;36mcalc_gradient\u001b[0;34m(pairs, w, w_i)\u001b[0m\n\u001b[1;32m     10\u001b[0m             \u001b[0mout\u001b[0m \u001b[0;34m=\u001b[0m \u001b[0;36m0\u001b[0m\u001b[0;34m\u001b[0m\u001b[0m\n\u001b[1;32m     11\u001b[0m \u001b[0;34m\u001b[0m\u001b[0m\n\u001b[0;32m---> 12\u001b[0;31m         \u001b[0mgradient\u001b[0m \u001b[0;34m-=\u001b[0m \u001b[0mout\u001b[0m\u001b[0;34m/\u001b[0m\u001b[0;34m(\u001b[0m\u001b[0;36m1\u001b[0m\u001b[0;34m/\u001b[0m\u001b[0;34m(\u001b[0m\u001b[0mnp\u001b[0m\u001b[0;34m.\u001b[0m\u001b[0mexp\u001b[0m\u001b[0;34m(\u001b[0m\u001b[0mw\u001b[0m\u001b[0;34m[\u001b[0m\u001b[0mpair\u001b[0m\u001b[0;34m[\u001b[0m\u001b[0;36m1\u001b[0m\u001b[0;34m]\u001b[0m\u001b[0;34m]\u001b[0m\u001b[0;34m-\u001b[0m\u001b[0mw\u001b[0m\u001b[0;34m[\u001b[0m\u001b[0mpair\u001b[0m\u001b[0;34m[\u001b[0m\u001b[0;36m0\u001b[0m\u001b[0;34m]\u001b[0m\u001b[0;34m]\u001b[0m\u001b[0;34m)\u001b[0m\u001b[0;34m)\u001b[0m\u001b[0;34m+\u001b[0m\u001b[0;36m1\u001b[0m\u001b[0;34m)\u001b[0m\u001b[0;34m\u001b[0m\u001b[0m\n\u001b[0m\u001b[1;32m     13\u001b[0m \u001b[0;34m\u001b[0m\u001b[0m\n\u001b[1;32m     14\u001b[0m     \u001b[0;32mreturn\u001b[0m \u001b[0mgradient\u001b[0m\u001b[0;34m\u001b[0m\u001b[0m\n",
      "\u001b[0;31mKeyboardInterrupt\u001b[0m: "
>>>>>>> 2bd20958f8eb0494e65906efd13852e52e409936
     ]
    }
   ],
   "source": [
    "global w\n",
    "w = np.zeros(video_num)\n",
    "num_test_pairs = int(0.15* total_pairs)\n",
    "\n",
    "pairs = [pairs_truth[i] for i in random.sample(range(total_pairs), num_test_pairs)]\n",
    "results = []\n",
    "\n",
    "like_prev = 100000\n",
    "eta = 0.05\n",
    "\n",
    "for i in range(15000):\n",
    "    \n",
    "    w = update_gradient(pairs, w, eta)\n",
    "    if i % 1000 ==0:\n",
    "        eta /= 10\n",
    "        like =  likelihood(pairs_truth, w)\n",
    "#         if like_prev < like:\n",
    "#             break\n",
    "        like_prev = like\n",
    "        print i % 1000, like\n",
    "    results.append(w[0])\n",
    "    "
   ]
  },
  {
   "cell_type": "code",
<<<<<<< HEAD
   "execution_count": null,
   "metadata": {
    "collapsed": true
   },
   "outputs": [],
   "source": []
  },
  {
   "cell_type": "code",
   "execution_count": 23,
=======
   "execution_count": 20,
>>>>>>> 2bd20958f8eb0494e65906efd13852e52e409936
   "metadata": {
    "collapsed": false
   },
   "outputs": [
    {
     "name": "stdout",
     "output_type": "stream",
     "text": [
      "Result Order \t True Order \t Result Score \t Ture Score\n",
<<<<<<< HEAD
      "19 \t\t27 \t\t1.35067309079 \t\t3.8\n",
      "29 \t\t20 \t\t4.71807017373 \t\t2.2\n",
      "6 \t\t5 \t\t-3.40127225504 \t\t-3.8\n",
      "18 \t\t19 \t\t1.16249588371 \t\t1.8\n",
      "14 \t\t18 \t\t-0.137879016376 \t\t1.5\n",
      "0 \t\t0 \t\t-5.95255514363 \t\t-5.0\n",
      "21 \t\t16 \t\t1.71590457969 \t\t0.6\n",
      "24 \t\t29 \t\t3.21391692981 \t\t4.8\n",
      "22 \t\t13 \t\t1.84519316602 \t\t-0.0\n",
      "1 \t\t8 \t\t-4.17663736582 \t\t-2.3\n",
      "23 \t\t28 \t\t1.91328550227 \t\t4.0\n",
      "12 \t\t12 \t\t-0.513834532617 \t\t-0.4\n",
      "4 \t\t7 \t\t-3.54222426963 \t\t-3.3\n",
      "20 \t\t21 \t\t1.46128798256 \t\t2.6\n",
      "13 \t\t15 \t\t-0.333986201563 \t\t0.2\n",
      "9 \t\t10 \t\t-1.77038475359 \t\t-1.9\n",
      "26 \t\t25 \t\t3.61214243855 \t\t3.5\n",
      "16 \t\t17 \t\t0.568386339357 \t\t1.2\n",
      "10 \t\t6 \t\t-1.50127099607 \t\t-3.3\n",
      "5 \t\t3 \t\t-3.41388023048 \t\t-4.5\n",
      "27 \t\t26 \t\t3.6456892746 \t\t3.8\n",
      "25 \t\t22 \t\t3.46305111663 \t\t2.7\n",
      "2 \t\t4 \t\t-3.73856682815 \t\t-4.5\n",
      "7 \t\t2 \t\t-1.95128543202 \t\t-4.8\n",
      "15 \t\t14 \t\t-0.0981777438419 \t\t0.2\n",
      "8 \t\t11 \t\t-1.94917421354 \t\t-1.8\n",
      "11 \t\t9 \t\t-1.09863526265 \t\t-2.2\n",
      "17 \t\t23 \t\t0.64973661096 \t\t3.1\n",
      "3 \t\t1 \t\t-3.56601514896 \t\t-5.0\n",
      "28 \t\t24 \t\t4.52594635783 \t\t3.5\n"
=======
      "6 \t\t2 \t\t-2.0113619558 \t\t-3.9\n",
      "18 \t\t20 \t\t1.37508236968 \t\t2.1\n",
      "7 \t\t9 \t\t-1.16070448958 \t\t-1.9\n",
      "0 \t\t0 \t\t-5.17807562173 \t\t-4.1\n",
      "14 \t\t17 \t\t0.444921642547 \t\t1.1\n",
      "13 \t\t14 \t\t-0.15902073922 \t\t0.5\n",
      "12 \t\t11 \t\t-0.526254267921 \t\t-0.6\n",
      "5 \t\t3 \t\t-2.16570727842 \t\t-3.1\n",
      "21 \t\t22 \t\t1.91135379127 \t\t2.5\n",
      "24 \t\t28 \t\t2.29526325857 \t\t4.4\n",
      "9 \t\t8 \t\t-0.970058536723 \t\t-2.0\n",
      "4 \t\t4 \t\t-2.2575763905 \t\t-2.9\n",
      "17 \t\t16 \t\t1.29857665357 \t\t0.9\n",
      "23 \t\t19 \t\t2.03299848977 \t\t2.1\n",
      "25 \t\t25 \t\t2.91267381398 \t\t3.5\n",
      "15 \t\t24 \t\t0.679506806146 \t\t3.0\n",
      "19 \t\t15 \t\t1.60587191863 \t\t0.9\n",
      "11 \t\t10 \t\t-0.87397664885 \t\t-0.7\n",
      "2 \t\t5 \t\t-2.90480594372 \t\t-2.5\n",
      "22 \t\t21 \t\t1.93073100962 \t\t2.5\n",
      "10 \t\t7 \t\t-0.969703184298 \t\t-2.2\n",
      "20 \t\t13 \t\t1.72632782482 \t\t0.4\n",
      "3 \t\t1 \t\t-2.7661964183 \t\t-4.0\n",
      "1 \t\t6 \t\t-3.12125598506 \t\t-2.3\n",
      "27 \t\t23 \t\t4.19030902985 \t\t2.8\n",
      "8 \t\t18 \t\t-1.00085133124 \t\t1.7\n",
      "16 \t\t12 \t\t1.2931478346 \t\t-0.5\n",
      "29 \t\t26 \t\t4.83859485233 \t\t3.7\n",
      "28 \t\t29 \t\t4.34204301695 \t\t5.0\n",
      "26 \t\t27 \t\t3.58814595979 \t\t4.0\n"
>>>>>>> 2bd20958f8eb0494e65906efd13852e52e409936
     ]
    },
    {
     "data": {
      "text/plain": [
<<<<<<< HEAD
       "(array([ 2.,  8.,  5.,  3.,  3.,  4.,  1.,  1.,  1.,  2.]),\n",
       " array([ 0. ,  0.9,  1.8,  2.7,  3.6,  4.5,  5.4,  6.3,  7.2,  8.1,  9. ]),\n",
       " <a list of 10 Patch objects>)"
      ]
     },
     "execution_count": 23,
=======
       "(array([ 3.,  9.,  4.,  4.,  6.,  1.,  0.,  1.,  0.,  2.]),\n",
       " array([  0.,   1.,   2.,   3.,   4.,   5.,   6.,   7.,   8.,   9.,  10.]),\n",
       " <a list of 10 Patch objects>)"
      ]
     },
     "execution_count": 20,
>>>>>>> 2bd20958f8eb0494e65906efd13852e52e409936
     "metadata": {},
     "output_type": "execute_result"
    },
    {
     "data": {
<<<<<<< HEAD
      "image/png": "iVBORw0KGgoAAAANSUhEUgAAAXAAAAEDCAYAAAAsr19QAAAABHNCSVQICAgIfAhkiAAAAAlwSFlz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\n",
      "text/plain": [
       "<matplotlib.figure.Figure at 0x7f58f743a850>"
=======
      "image/png": "iVBORw0KGgoAAAANSUhEUgAAAW0AAAECCAYAAAA1o4atAAAABHNCSVQICAgIfAhkiAAAAAlwSFlz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\ntCWpIJa2JBXE0pakgvwv2vA0ustHFoYAAAAASUVORK5CYII=\n",
      "text/plain": [
       "<matplotlib.figure.Figure at 0x1083dc7d0>"
>>>>>>> 2bd20958f8eb0494e65906efd13852e52e409936
      ]
     },
     "metadata": {},
     "output_type": "display_data"
    }
   ],
   "source": [
    "def matching_func(param):\n",
    "    \"\"\"\n",
    "    Function used to calculate L2 norm of v and w_star. Used to find a and b.\n",
    "    Here params is [a, b]\n",
    "    \"\"\"\n",
    "    return np.linalg.norm(video_score - param[0]*np.array(w) - param[1])\n",
    "\n",
    "\n",
    "def regularized_vector():\n",
    "    \n",
    "    coeff = optimize.minimize(matching_func, [0, 0])\n",
    "\n",
    "    a = coeff['x'][0]\n",
    "    b = coeff['x'][1]\n",
    "    v = a*np.array(w)+b\n",
    "    return v\n",
    "\n",
    "v = regularized_vector()\n",
    "\n",
    "true_order = np.array(video_score).argsort()\n",
    "true_ranks = true_order.argsort()\n",
    "\n",
    "temp_o = np.array(w).argsort()\n",
    "temp_r = temp_o.argsort()\n",
    "\n",
    "resolution = 0.1\n",
    "video_score_results = np.round(np.array(results)/resolution)*resolution\n",
    "\n",
    "print 'Result Order \\t True Order \\t Result Score \\t Ture Score'\n",
    "for i in range(len(temp_r)):\n",
    "    print temp_r[i], '\\t\\t', true_ranks[i], '\\t\\t', v[i], '\\t\\t', video_score[i]\n",
    "    \n",
    "diff = np.abs(temp_r - true_ranks)\n",
    "plt.hist(diff, alpha=0.5)"
   ]
  },
  {
   "cell_type": "markdown",
   "metadata": {},
   "source": [
    "# Generate Data using Generative function "
   ]
  },
  {
   "cell_type": "code",
   "execution_count": null,
   "metadata": {
    "collapsed": false
   },
   "outputs": [],
   "source": [
    "video_score"
   ]
  },
  {
   "cell_type": "code",
   "execution_count": 7,
   "metadata": {
    "collapsed": false
   },
   "outputs": [
    {
     "ename": "NameError",
     "evalue": "global name 'multiprocessing' is not defined",
     "output_type": "error",
     "traceback": [
      "\u001b[1;31m---------------------------------------------------------------------------\u001b[0m",
      "\u001b[1;31mNameError\u001b[0m                                 Traceback (most recent call last)",
      "\u001b[1;32m<ipython-input-7-b37e9c442ffc>\u001b[0m in \u001b[0;36m<module>\u001b[1;34m()\u001b[0m\n\u001b[0;32m     14\u001b[0m     \u001b[0mp\u001b[0m\u001b[1;33m.\u001b[0m\u001b[0mmap\u001b[0m\u001b[1;33m(\u001b[0m\u001b[0mf\u001b[0m\u001b[1;33m,\u001b[0m \u001b[1;33m[\u001b[0m\u001b[1;36m0\u001b[0m\u001b[1;33m,\u001b[0m\u001b[1;36m1\u001b[0m\u001b[1;33m,\u001b[0m\u001b[1;36m2\u001b[0m\u001b[1;33m,\u001b[0m\u001b[1;36m3\u001b[0m\u001b[1;33m,\u001b[0m\u001b[1;36m4\u001b[0m\u001b[1;33m]\u001b[0m\u001b[1;33m)\u001b[0m\u001b[1;33m\u001b[0m\u001b[0m\n\u001b[0;32m     15\u001b[0m \u001b[1;33m\u001b[0m\u001b[0m\n\u001b[1;32m---> 16\u001b[1;33m \u001b[0mmp_handler\u001b[0m\u001b[1;33m(\u001b[0m\u001b[1;33m)\u001b[0m\u001b[1;33m\u001b[0m\u001b[0m\n\u001b[0m",
      "\u001b[1;32m<ipython-input-7-b37e9c442ffc>\u001b[0m in \u001b[0;36mmp_handler\u001b[1;34m()\u001b[0m\n\u001b[0;32m     11\u001b[0m \u001b[1;33m\u001b[0m\u001b[0m\n\u001b[0;32m     12\u001b[0m \u001b[1;32mdef\u001b[0m \u001b[0mmp_handler\u001b[0m\u001b[1;33m(\u001b[0m\u001b[1;33m)\u001b[0m\u001b[1;33m:\u001b[0m\u001b[1;33m\u001b[0m\u001b[0m\n\u001b[1;32m---> 13\u001b[1;33m     \u001b[0mp\u001b[0m \u001b[1;33m=\u001b[0m \u001b[0mmultiprocessing\u001b[0m\u001b[1;33m.\u001b[0m\u001b[0mPool\u001b[0m\u001b[1;33m(\u001b[0m\u001b[1;36m2\u001b[0m\u001b[1;33m)\u001b[0m\u001b[1;33m\u001b[0m\u001b[0m\n\u001b[0m\u001b[0;32m     14\u001b[0m     \u001b[0mp\u001b[0m\u001b[1;33m.\u001b[0m\u001b[0mmap\u001b[0m\u001b[1;33m(\u001b[0m\u001b[0mf\u001b[0m\u001b[1;33m,\u001b[0m \u001b[1;33m[\u001b[0m\u001b[1;36m0\u001b[0m\u001b[1;33m,\u001b[0m\u001b[1;36m1\u001b[0m\u001b[1;33m,\u001b[0m\u001b[1;36m2\u001b[0m\u001b[1;33m,\u001b[0m\u001b[1;36m3\u001b[0m\u001b[1;33m,\u001b[0m\u001b[1;36m4\u001b[0m\u001b[1;33m]\u001b[0m\u001b[1;33m)\u001b[0m\u001b[1;33m\u001b[0m\u001b[0m\n\u001b[0;32m     15\u001b[0m \u001b[1;33m\u001b[0m\u001b[0m\n",
      "\u001b[1;31mNameError\u001b[0m: global name 'multiprocessing' is not defined"
     ]
    }
   ],
   "source": [
    "from multiprocessing import Pool\n",
    "\n",
    "\n",
    "def f(i):\n",
    "    print 'Evaluating trait %d', i+1\n",
    "    model = Pairwise(pairs[i])\n",
    "    w_init = np.random.uniform(-5,5,video_num)\n",
    "    results = model.fit(w_init, maxiter=1000000, maxfun=1000000)\n",
    "    estimated_for_each_trait[str(i)] = results.params\n",
    "    return estimated_for_each_trait\n",
    "\n",
    "def mp_handler():\n",
    "    p = multiprocessing.Pool(2)\n",
    "    p.map(f, [0,1,2,3,4])\n",
    "    \n",
    "mp_handler()"
   ]
  },
  {
   "cell_type": "code",
   "execution_count": 8,
   "metadata": {
    "collapsed": false
   },
   "outputs": [],
   "source": [
    "def update_gradient_concur(pairs, w):\n",
    "    w_old = w\n",
    "    eta = 0.01\n",
    "    for i in range(len(w)):\n",
    "        w[i] += eta*calc_gradient(pairs, w_old, i)\n",
    "    return w"
   ]
  },
  {
   "cell_type": "code",
   "execution_count": null,
   "metadata": {
    "collapsed": false
   },
   "outputs": [],
   "source": []
  },
  {
   "cell_type": "code",
   "execution_count": null,
   "metadata": {
    "collapsed": false
   },
   "outputs": [],
   "source": []
  },
  {
   "cell_type": "code",
   "execution_count": null,
   "metadata": {
    "collapsed": false
   },
   "outputs": [],
   "source": [
    "import multiprocessing\n",
    "\n",
    "w = np.zeros(30)\n",
    "pairs = pairs_truth\n",
    "\n",
    "p = multiprocessing.Pool(2)\n",
    "\n",
    "for i in range(10000):\n",
    "    w = p.map(update_gradient_concur, pairs, w)\n",
    "    if i % 500 ==0:\n",
    "        print likelihood(pairs_truth, w)\n",
    "        \n",
    "    \n",
    "\n",
    "\n",
    "    p = multiprocessing.Process(target=update_gradient_concur, args=(pairs, w,))\n",
    "    p.start()\n",
    "    p.join()"
   ]
  },
  {
   "cell_type": "code",
   "execution_count": 41,
   "metadata": {
    "collapsed": false
   },
   "outputs": [
    {
     "ename": "TypeError",
     "evalue": "object of type 'numpy.float64' has no len()",
     "output_type": "error",
     "traceback": [
      "\u001b[1;31m---------------------------------------------------------------------------\u001b[0m",
      "\u001b[1;31mTypeError\u001b[0m                                 Traceback (most recent call last)",
      "\u001b[1;32m<ipython-input-41-a94048cd3ef0>\u001b[0m in \u001b[0;36m<module>\u001b[1;34m()\u001b[0m\n\u001b[0;32m     31\u001b[0m \u001b[1;33m\u001b[0m\u001b[0m\n\u001b[0;32m     32\u001b[0m \u001b[1;32mfor\u001b[0m \u001b[0mi\u001b[0m \u001b[1;32min\u001b[0m \u001b[0mrange\u001b[0m\u001b[1;33m(\u001b[0m\u001b[1;36m10000\u001b[0m\u001b[1;33m)\u001b[0m\u001b[1;33m:\u001b[0m\u001b[1;33m\u001b[0m\u001b[0m\n\u001b[1;32m---> 33\u001b[1;33m     \u001b[0mw\u001b[0m \u001b[1;33m=\u001b[0m \u001b[0mPool\u001b[0m\u001b[1;33m(\u001b[0m\u001b[1;33m)\u001b[0m\u001b[1;33m.\u001b[0m\u001b[0mmap\u001b[0m\u001b[1;33m(\u001b[0m\u001b[0mupdate_gradient_concur\u001b[0m\u001b[1;33m,\u001b[0m \u001b[1;33m[\u001b[0m\u001b[0mpairs_truth\u001b[0m\u001b[1;33m]\u001b[0m\u001b[1;33m,\u001b[0m \u001b[1;33m[\u001b[0m\u001b[0mw\u001b[0m\u001b[1;33m]\u001b[0m\u001b[1;33m)\u001b[0m\u001b[1;33m\u001b[0m\u001b[0m\n\u001b[0m\u001b[0;32m     34\u001b[0m     \u001b[1;32mif\u001b[0m \u001b[0mi\u001b[0m \u001b[1;33m%\u001b[0m \u001b[1;36m500\u001b[0m \u001b[1;33m==\u001b[0m\u001b[1;36m0\u001b[0m\u001b[1;33m:\u001b[0m\u001b[1;33m\u001b[0m\u001b[0m\n\u001b[0;32m     35\u001b[0m         \u001b[1;32mprint\u001b[0m \u001b[0mlikelihood\u001b[0m\u001b[1;33m(\u001b[0m\u001b[0mpairs_truth\u001b[0m\u001b[1;33m,\u001b[0m \u001b[0mw\u001b[0m\u001b[1;33m)\u001b[0m\u001b[1;33m\u001b[0m\u001b[0m\n",
      "\u001b[1;32m/home/ubuntu/anaconda2/lib/python2.7/site-packages/pathos-0.2a1.dev0-py2.7.egg/pathos/multiprocessing.pyc\u001b[0m in \u001b[0;36mmap\u001b[1;34m(self, f, *args, **kwds)\u001b[0m\n\u001b[0;32m    131\u001b[0m         \u001b[0mAbstractWorkerPool\u001b[0m\u001b[1;33m.\u001b[0m\u001b[0m_AbstractWorkerPool__map\u001b[0m\u001b[1;33m(\u001b[0m\u001b[0mself\u001b[0m\u001b[1;33m,\u001b[0m \u001b[0mf\u001b[0m\u001b[1;33m,\u001b[0m \u001b[1;33m*\u001b[0m\u001b[0margs\u001b[0m\u001b[1;33m,\u001b[0m \u001b[1;33m**\u001b[0m\u001b[0mkwds\u001b[0m\u001b[1;33m)\u001b[0m\u001b[1;33m\u001b[0m\u001b[0m\n\u001b[0;32m    132\u001b[0m         \u001b[0m_pool\u001b[0m \u001b[1;33m=\u001b[0m \u001b[0mself\u001b[0m\u001b[1;33m.\u001b[0m\u001b[0m_serve\u001b[0m\u001b[1;33m(\u001b[0m\u001b[1;33m)\u001b[0m\u001b[1;33m\u001b[0m\u001b[0m\n\u001b[1;32m--> 133\u001b[1;33m         \u001b[1;32mreturn\u001b[0m \u001b[0m_pool\u001b[0m\u001b[1;33m.\u001b[0m\u001b[0mmap\u001b[0m\u001b[1;33m(\u001b[0m\u001b[0mstar\u001b[0m\u001b[1;33m(\u001b[0m\u001b[0mf\u001b[0m\u001b[1;33m)\u001b[0m\u001b[1;33m,\u001b[0m \u001b[0mzip\u001b[0m\u001b[1;33m(\u001b[0m\u001b[1;33m*\u001b[0m\u001b[0margs\u001b[0m\u001b[1;33m)\u001b[0m\u001b[1;33m)\u001b[0m \u001b[1;31m# chunksize\u001b[0m\u001b[1;33m\u001b[0m\u001b[0m\n\u001b[0m\u001b[0;32m    134\u001b[0m     \u001b[0mmap\u001b[0m\u001b[1;33m.\u001b[0m\u001b[0m__doc__\u001b[0m \u001b[1;33m=\u001b[0m \u001b[0mAbstractWorkerPool\u001b[0m\u001b[1;33m.\u001b[0m\u001b[0mmap\u001b[0m\u001b[1;33m.\u001b[0m\u001b[0m__doc__\u001b[0m\u001b[1;33m\u001b[0m\u001b[0m\n\u001b[0;32m    135\u001b[0m     \u001b[1;32mdef\u001b[0m \u001b[0mimap\u001b[0m\u001b[1;33m(\u001b[0m\u001b[0mself\u001b[0m\u001b[1;33m,\u001b[0m \u001b[0mf\u001b[0m\u001b[1;33m,\u001b[0m \u001b[1;33m*\u001b[0m\u001b[0margs\u001b[0m\u001b[1;33m,\u001b[0m \u001b[1;33m**\u001b[0m\u001b[0mkwds\u001b[0m\u001b[1;33m)\u001b[0m\u001b[1;33m:\u001b[0m\u001b[1;33m\u001b[0m\u001b[0m\n",
      "\u001b[1;32m/home/ubuntu/anaconda2/lib/python2.7/site-packages/multiprocess-0.70.4-py2.7-linux-x86_64.egg/multiprocess/pool.pyc\u001b[0m in \u001b[0;36mmap\u001b[1;34m(self, func, iterable, chunksize)\u001b[0m\n\u001b[0;32m    249\u001b[0m         '''\n\u001b[0;32m    250\u001b[0m         \u001b[1;32massert\u001b[0m \u001b[0mself\u001b[0m\u001b[1;33m.\u001b[0m\u001b[0m_state\u001b[0m \u001b[1;33m==\u001b[0m \u001b[0mRUN\u001b[0m\u001b[1;33m\u001b[0m\u001b[0m\n\u001b[1;32m--> 251\u001b[1;33m         \u001b[1;32mreturn\u001b[0m \u001b[0mself\u001b[0m\u001b[1;33m.\u001b[0m\u001b[0mmap_async\u001b[0m\u001b[1;33m(\u001b[0m\u001b[0mfunc\u001b[0m\u001b[1;33m,\u001b[0m \u001b[0miterable\u001b[0m\u001b[1;33m,\u001b[0m \u001b[0mchunksize\u001b[0m\u001b[1;33m)\u001b[0m\u001b[1;33m.\u001b[0m\u001b[0mget\u001b[0m\u001b[1;33m(\u001b[0m\u001b[1;33m)\u001b[0m\u001b[1;33m\u001b[0m\u001b[0m\n\u001b[0m\u001b[0;32m    252\u001b[0m \u001b[1;33m\u001b[0m\u001b[0m\n\u001b[0;32m    253\u001b[0m     \u001b[1;32mdef\u001b[0m \u001b[0mimap\u001b[0m\u001b[1;33m(\u001b[0m\u001b[0mself\u001b[0m\u001b[1;33m,\u001b[0m \u001b[0mfunc\u001b[0m\u001b[1;33m,\u001b[0m \u001b[0miterable\u001b[0m\u001b[1;33m,\u001b[0m \u001b[0mchunksize\u001b[0m\u001b[1;33m=\u001b[0m\u001b[1;36m1\u001b[0m\u001b[1;33m)\u001b[0m\u001b[1;33m:\u001b[0m\u001b[1;33m\u001b[0m\u001b[0m\n",
      "\u001b[1;32m/home/ubuntu/anaconda2/lib/python2.7/site-packages/multiprocess-0.70.4-py2.7-linux-x86_64.egg/multiprocess/pool.pyc\u001b[0m in \u001b[0;36mget\u001b[1;34m(self, timeout)\u001b[0m\n\u001b[0;32m    565\u001b[0m             \u001b[1;32mreturn\u001b[0m \u001b[0mself\u001b[0m\u001b[1;33m.\u001b[0m\u001b[0m_value\u001b[0m\u001b[1;33m\u001b[0m\u001b[0m\n\u001b[0;32m    566\u001b[0m         \u001b[1;32melse\u001b[0m\u001b[1;33m:\u001b[0m\u001b[1;33m\u001b[0m\u001b[0m\n\u001b[1;32m--> 567\u001b[1;33m             \u001b[1;32mraise\u001b[0m \u001b[0mself\u001b[0m\u001b[1;33m.\u001b[0m\u001b[0m_value\u001b[0m\u001b[1;33m\u001b[0m\u001b[0m\n\u001b[0m\u001b[0;32m    568\u001b[0m \u001b[1;33m\u001b[0m\u001b[0m\n\u001b[0;32m    569\u001b[0m     \u001b[1;32mdef\u001b[0m \u001b[0m_set\u001b[0m\u001b[1;33m(\u001b[0m\u001b[0mself\u001b[0m\u001b[1;33m,\u001b[0m \u001b[0mi\u001b[0m\u001b[1;33m,\u001b[0m \u001b[0mobj\u001b[0m\u001b[1;33m)\u001b[0m\u001b[1;33m:\u001b[0m\u001b[1;33m\u001b[0m\u001b[0m\n",
      "\u001b[1;31mTypeError\u001b[0m: object of type 'numpy.float64' has no len()"
     ]
    }
   ],
   "source": [
    "def update_gradient_concur(pairs, w):\n",
    "    import numpy as np\n",
    "#     print pairs # result is a list of pairs\n",
    "    w_old = w[0]\n",
    "    w = w[0]\n",
    "    eta = 0.01\n",
    "    for i in range(len(w)):\n",
    "        gradient = 0\n",
    "    \n",
    "        for pair in pairs:\n",
    "            if i == pair[0]:\n",
    "                out = -1\n",
    "            elif i == pair[1]:\n",
    "                out = 1  \n",
    "            else:\n",
    "                out = 0\n",
    "            \n",
    "        gradient -= out/(1/(np.exp(w_old[pair[1]]-w_old[pair[0]]))+1)\n",
    "        \n",
    "        w[i] += eta*gradient\n",
    "    return w\n",
    "\n",
    "def likelihood(pairs, w):\n",
    "    l = 1\n",
    "    w = w[0]\n",
    "    for pair in pairs:        \n",
    "        l += np.log(1+np.exp(w[pair[1]]-w[pair[0]]))\n",
    "    return l\n",
    "\n",
    "w = np.zeros(30)\n",
    "\n",
    "for i in range(10000):\n",
    "    w = Pool().map(update_gradient_concur, [pairs_truth], [w])\n",
    "    if i % 500 ==0:\n",
    "        print likelihood(pairs_truth, w)\n",
    "\n",
    "print res"
   ]
  },
  {
   "cell_type": "code",
   "execution_count": null,
   "metadata": {
    "collapsed": true
   },
   "outputs": [],
   "source": [
    "num_test_pairs = (0.2* self.total_pairs).astype(int)\n",
    "\n",
    "test_pairs = [self.pairs_truth[i] for i in random.sample(range(self.total_pairs), num_test_pairs)]\n",
    "self.endog = np.array(test_pairs)\n",
    "\n",
    "w_init = np.random.uniform(-5,5,video_num)\n",
    "self.fit(w_init)\n",
    "\n",
    "if showResult:\n",
    "    res = self.rank[0]\n",
    "    compare_rank(self.w_star, res, False, True)\n",
    "    plt.legend([str(i) for i in num_test_pairs])  \n",
    "if Nihar:\n",
    "    output_error_nihar.append(self.performance_nihar())\n",
    "if Isabelle:\n",
    "    output_error_isabelle.append(self.performance_isabelle())\n"
   ]
  },
  {
   "cell_type": "code",
   "execution_count": null,
   "metadata": {
    "collapsed": true
   },
   "outputs": [],
   "source": []
  },
  {
   "cell_type": "code",
   "execution_count": null,
   "metadata": {
    "collapsed": true
   },
   "outputs": [],
   "source": []
  }
 ],
 "metadata": {
  "kernelspec": {
   "display_name": "Python 2",
   "language": "python",
   "name": "python2"
  },
  "language_info": {
   "codemirror_mode": {
    "name": "ipython",
    "version": 2
   },
   "file_extension": ".py",
   "mimetype": "text/x-python",
   "name": "python",
   "nbconvert_exporter": "python",
   "pygments_lexer": "ipython2",
   "version": "2.7.11"
  }
 },
 "nbformat": 4,
 "nbformat_minor": 0
}
