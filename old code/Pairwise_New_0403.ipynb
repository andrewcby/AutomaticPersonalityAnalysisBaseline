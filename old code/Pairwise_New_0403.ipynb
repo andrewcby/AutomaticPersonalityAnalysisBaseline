{
 "cells": [
  {
   "cell_type": "code",
   "execution_count": 23,
   "metadata": {
    "collapsed": true
   },
   "outputs": [],
   "source": [
    "import random, csv, time, os\n",
    "\n",
    "import numpy as np\n",
    "import pandas as pd\n",
    "import matplotlib.pyplot as plt\n",
    "\n",
    "from scipy import optimize\n",
    "from scipy.stats import bernoulli\n",
    "\n",
    "%matplotlib inline\n",
    "# Videos result files are from http://sunai.uoc.edu/traits/layout2/results/"
   ]
  },
  {
   "cell_type": "code",
   "execution_count": 2,
   "metadata": {
    "collapsed": true
   },
   "outputs": [],
   "source": [
    "global pairs_truth, video_score, video_num, total_pairs, w_hat, test_pairs"
   ]
  },
  {
   "cell_type": "code",
   "execution_count": 123,
   "metadata": {
    "collapsed": true
   },
   "outputs": [],
   "source": [
    "video_num = 50\n",
    "\n",
    "video_score = np.random.uniform(-5,5,video_num)\n",
    "resolution = 0.1\n",
    "video_score = np.round(video_score/resolution)*resolution\n",
    "\n",
    "pairs_truth = []\n",
    "\n",
    "for i in range(len(video_score)-1):\n",
    "    for j in range(i+1, len(video_score)):\n",
    "        if video_score[i] > video_score[j]:\n",
    "            pairs_truth.append((i,j))\n",
    "        else:\n",
    "            pairs_truth.append((j,i))\n",
    "\n",
    "total_pairs = len(pairs_truth)  "
   ]
  },
  {
   "cell_type": "code",
   "execution_count": 124,
   "metadata": {
    "collapsed": true
   },
   "outputs": [],
   "source": [
    "def append_pair(comp, name1, name2, name_to_num):\n",
    "    if comp == '-1':\n",
    "        return((name_to_num[name2], name_to_num[name1]))\n",
    "    if comp == '1':\n",
    "        return((name_to_num[name1], name_to_num[name2]))\n",
    "    \n",
    "def calc_error(prediction, truth):\n",
    "    return np.linalg.norm(prediction - truth)\n",
    "\n",
    "def mle(w, pairs):    \n",
    "    \"\"\"\n",
    "    Calculate the MLE of w.\n",
    "    Due to the fact that optimize.minimize only takes 1 input, \n",
    "    here the pair information is imported from global variable\n",
    "    \"\"\"    \n",
    "    out = 1\n",
    "                \n",
    "    for pair in pairs:\n",
    "        out *= 1/(1+np.exp(-w[pair[0]] + w[pair[1]]))   \n",
    "        \n",
    "    return -np.log(out)\n",
    "\n",
    "def gradient(w,pairs):\n",
    "    grad = []\n",
    "    for i in range(len(w)):\n",
    "        gradient = 0\n",
    "\n",
    "        for pair in pairs:\n",
    "            if i == pair[0]:\n",
    "                out = -1\n",
    "            elif i == pair[1]:\n",
    "                out = 1  \n",
    "            else:\n",
    "                continue\n",
    "            gradient -= out / (1/(np.exp(w[pair[1]]-w[pair[0]])) +1 )\n",
    "\n",
    "        grad.append(-gradient)\n",
    "        \n",
    "    return np.array(grad)\n",
    "\n",
    "def compare_rank(video_score, results, verbose=False, hist=False):\n",
    "    true_order = np.array(video_score).argsort()\n",
    "    true_ranks = true_order.argsort()\n",
    "\n",
    "    temp_o = np.array(results).argsort()\n",
    "    temp_r = temp_o.argsort()\n",
    "\n",
    "    resolution = 0.1\n",
    "    video_score_results = np.round(np.array(results)/resolution)*resolution\n",
    "    \n",
    "    if verbose:\n",
    "        print 'Result Order \\t True Order \\t Result Score \\t Ture Score'\n",
    "        for i in range(len(temp_r)):\n",
    "            print temp_r[i], '\\t\\t', true_ranks[i], '\\t\\t', video_score_results[i], '\\t\\t', video_score[i]\n",
    "            \n",
    "    if hist:\n",
    "        diff = np.abs(temp_r - true_ranks)\n",
    "        plt.hist(diff, alpha=0.5)"
   ]
  },
  {
   "cell_type": "markdown",
   "metadata": {},
   "source": [
    "# Below is just a general test to see how if the model performs nicely."
   ]
  },
  {
   "cell_type": "code",
   "execution_count": null,
   "metadata": {
    "collapsed": false
   },
   "outputs": [
    {
     "name": "stdout",
     "output_type": "stream",
     "text": [
      "1225\n"
     ]
    }
   ],
   "source": [
    "w = np.ones(video_num)\n",
    "# test_pairs = pairs_truth\n",
    "test_pairs = [pairs_truth[i] for i in random.sample(range(total_pairs), int(total_pairs*1))]\n",
    "print len(test_pairs)\n",
    "start_time = time.time()\n",
    "\n",
    "res = optimize.minimize(mle, w, \n",
    "                        method='Newton-CG',\n",
    "                        jac=gradient, \n",
    "                        args=(test_pairs,),\n",
    "                        options={'disp': True})\n",
    "\n",
    "print  'Time Spent: %.2f seconds' %float(time.time() - start_time)"
   ]
  },
  {
   "cell_type": "code",
   "execution_count": null,
   "metadata": {
    "collapsed": false
   },
   "outputs": [],
   "source": [
    "compare_rank(video_score, res.x, verbose=False, hist=True)"
   ]
  },
  {
   "cell_type": "markdown",
   "metadata": {
    "collapsed": false
   },
   "source": [
    "# Introducing different methods of calculating error."
   ]
  },
  {
   "cell_type": "code",
   "execution_count": 89,
   "metadata": {
    "collapsed": true
   },
   "outputs": [],
   "source": [
    "def matching_func(param, video_score, w_hat):\n",
    "    \"\"\"\n",
    "    Function used to calculate L2 norm of v and w_star. Used to find a and b.\n",
    "    Here param is [a, b]\n",
    "    \"\"\"\n",
    "    return np.linalg.norm(video_score - param[0]*np.array(w_hat) - param[1])\n",
    "\n",
    "\n",
    "def regularized_vector(w_hat):\n",
    "    \"\"\"\n",
    "    Function to generate vector v after using matching_func to find optimal a and b\n",
    "    \"\"\"\n",
    "    coeff = optimize.minimize(matching_func, [0, 0], args=(video_score, w_hat))\n",
    "\n",
    "    a = coeff['x'][0]\n",
    "    b = coeff['x'][1]\n",
    "    v = a*np.array(w_hat)+b\n",
    "    return v\n",
    "\n",
    "def performance_isabelle(video_score, video_num, w_hat):\n",
    "    \"\"\"\n",
    "    Performance evaluation using method proposed by Isabelle. \n",
    "    \"\"\"\n",
    "    epsilon = 0.0001\n",
    "    error = 0\n",
    "    v = regularized_vector(w_hat)\n",
    "\n",
    "    true_order = np.array(video_score).argsort()\n",
    "\n",
    "    what = [ w_hat[i] for i in true_order]\n",
    "    wstar = [ video_score[i] for i in true_order]\n",
    "\n",
    "    for i in range(video_num-2):\n",
    "        error += np.abs((wstar[i+1]-wstar[i])/(wstar[i+2]-wstar[i]+epsilon)-\n",
    "                        (what[i+1]-what[i])/(what[i+2]-what[i]+epsilon))\n",
    "    \n",
    "    return error\n",
    "\n",
    "def performance_nihar(video_score, w_hat):\n",
    "    \"\"\"\n",
    "    Performance evaluation using method proposed by Nihar\n",
    "    \"\"\"\n",
    "    v = regularized_vector(w_hat)\n",
    "    return np.linalg.norm(video_score - v)\n",
    "\n",
    "\n",
    "def performance_rank_compare(video_score, w_hat, pairs):\n",
    "    \"\"\"\n",
    "    Using the basics rank compare method\n",
    "    \"\"\"\n",
    "    true_order = np.array(video_score).argsort()\n",
    "    true_ranks = true_order.argsort()\n",
    "\n",
    "    temp_o = np.array(w_hat).argsort()\n",
    "    temp_r = temp_o.argsort()\n",
    "    \n",
    "    true_scores = np.zeros(len(w_hat))\n",
    "    temp_scores = np.zeros(len(w_hat))\n",
    "    \n",
    "    for i in range(len(scores)):\n",
    "        true_scores[i] = 1 - true_ranks[i]/len(scores)\n",
    "        counter = 0\n",
    "        for pair in pairs:\n",
    "            if pair[0] == i:\n",
    "                temp_scores[i] += 1\n",
    "                counter += 1\n",
    "            elif pair[1] == i:\n",
    "                counter += 1\n",
    "        temp_scores[i] /= counter\n",
    "    return "
   ]
  },
  {
   "cell_type": "markdown",
   "metadata": {},
   "source": [
    "### Sparsity"
   ]
  },
  {
   "cell_type": "code",
   "execution_count": 101,
   "metadata": {
    "collapsed": false
   },
   "outputs": [
    {
     "name": "stdout",
     "output_type": "stream",
     "text": [
      "Current evaluating with 44850 test pairs\n",
      "Current evaluating with 40365 test pairs\n"
     ]
    },
    {
     "ename": "KeyboardInterrupt",
     "evalue": "",
     "output_type": "error",
     "traceback": [
      "\u001b[0;31m---------------------------------------------------------------------------\u001b[0m",
      "\u001b[0;31mKeyboardInterrupt\u001b[0m                         Traceback (most recent call last)",
      "\u001b[0;32m<ipython-input-101-0fb1e8a0ae7d>\u001b[0m in \u001b[0;36m<module>\u001b[0;34m()\u001b[0m\n\u001b[1;32m     20\u001b[0m                             \u001b[0mjac\u001b[0m\u001b[0;34m=\u001b[0m\u001b[0mgradient\u001b[0m\u001b[0;34m,\u001b[0m\u001b[0;34m\u001b[0m\u001b[0m\n\u001b[1;32m     21\u001b[0m                             \u001b[0margs\u001b[0m\u001b[0;34m=\u001b[0m\u001b[0;34m(\u001b[0m\u001b[0mtest_pairs\u001b[0m\u001b[0;34m,\u001b[0m\u001b[0;34m)\u001b[0m\u001b[0;34m,\u001b[0m\u001b[0;34m\u001b[0m\u001b[0m\n\u001b[0;32m---> 22\u001b[0;31m                             options={'disp': False})\n\u001b[0m\u001b[1;32m     23\u001b[0m \u001b[0;34m\u001b[0m\u001b[0m\n\u001b[1;32m     24\u001b[0m     \u001b[0mw_hat\u001b[0m \u001b[0;34m=\u001b[0m \u001b[0mres\u001b[0m\u001b[0;34m.\u001b[0m\u001b[0mx\u001b[0m\u001b[0;34m\u001b[0m\u001b[0m\n",
      "\u001b[0;32m/Library/Frameworks/Python.framework/Versions/2.7/lib/python2.7/site-packages/scipy/optimize/_minimize.pyc\u001b[0m in \u001b[0;36mminimize\u001b[0;34m(fun, x0, args, method, jac, hess, hessp, bounds, constraints, tol, callback, options)\u001b[0m\n\u001b[1;32m    439\u001b[0m     \u001b[0;32melif\u001b[0m \u001b[0mmeth\u001b[0m \u001b[0;34m==\u001b[0m \u001b[0;34m'newton-cg'\u001b[0m\u001b[0;34m:\u001b[0m\u001b[0;34m\u001b[0m\u001b[0m\n\u001b[1;32m    440\u001b[0m         return _minimize_newtoncg(fun, x0, args, jac, hess, hessp, callback,\n\u001b[0;32m--> 441\u001b[0;31m                                   **options)\n\u001b[0m\u001b[1;32m    442\u001b[0m     \u001b[0;32melif\u001b[0m \u001b[0mmeth\u001b[0m \u001b[0;34m==\u001b[0m \u001b[0;34m'l-bfgs-b'\u001b[0m\u001b[0;34m:\u001b[0m\u001b[0;34m\u001b[0m\u001b[0m\n\u001b[1;32m    443\u001b[0m         return _minimize_lbfgsb(fun, x0, args, jac, bounds,\n",
      "\u001b[0;32m/Library/Frameworks/Python.framework/Versions/2.7/lib/python2.7/site-packages/scipy/optimize/optimize.pyc\u001b[0m in \u001b[0;36m_minimize_newtoncg\u001b[0;34m(fun, x0, args, jac, hess, hessp, callback, xtol, eps, maxiter, disp, return_all, **unknown_options)\u001b[0m\n\u001b[1;32m   1404\u001b[0m             \u001b[0;32mif\u001b[0m \u001b[0mfhess\u001b[0m \u001b[0;32mis\u001b[0m \u001b[0mNone\u001b[0m\u001b[0;34m:\u001b[0m\u001b[0;34m\u001b[0m\u001b[0m\n\u001b[1;32m   1405\u001b[0m                 \u001b[0;32mif\u001b[0m \u001b[0mfhess_p\u001b[0m \u001b[0;32mis\u001b[0m \u001b[0mNone\u001b[0m\u001b[0;34m:\u001b[0m\u001b[0;34m\u001b[0m\u001b[0m\n\u001b[0;32m-> 1406\u001b[0;31m                     \u001b[0mAp\u001b[0m \u001b[0;34m=\u001b[0m \u001b[0mapprox_fhess_p\u001b[0m\u001b[0;34m(\u001b[0m\u001b[0mxk\u001b[0m\u001b[0;34m,\u001b[0m \u001b[0mpsupi\u001b[0m\u001b[0;34m,\u001b[0m \u001b[0mfprime\u001b[0m\u001b[0;34m,\u001b[0m \u001b[0mepsilon\u001b[0m\u001b[0;34m)\u001b[0m\u001b[0;34m\u001b[0m\u001b[0m\n\u001b[0m\u001b[1;32m   1407\u001b[0m                 \u001b[0;32melse\u001b[0m\u001b[0;34m:\u001b[0m\u001b[0;34m\u001b[0m\u001b[0m\n\u001b[1;32m   1408\u001b[0m                     \u001b[0mAp\u001b[0m \u001b[0;34m=\u001b[0m \u001b[0mfhess_p\u001b[0m\u001b[0;34m(\u001b[0m\u001b[0mxk\u001b[0m\u001b[0;34m,\u001b[0m \u001b[0mpsupi\u001b[0m\u001b[0;34m,\u001b[0m \u001b[0;34m*\u001b[0m\u001b[0margs\u001b[0m\u001b[0;34m)\u001b[0m\u001b[0;34m\u001b[0m\u001b[0m\n",
      "\u001b[0;32m/Library/Frameworks/Python.framework/Versions/2.7/lib/python2.7/site-packages/scipy/optimize/optimize.pyc\u001b[0m in \u001b[0;36mapprox_fhess_p\u001b[0;34m(x0, p, fprime, epsilon, *args)\u001b[0m\n\u001b[1;32m    670\u001b[0m \u001b[0;32mdef\u001b[0m \u001b[0mapprox_fhess_p\u001b[0m\u001b[0;34m(\u001b[0m\u001b[0mx0\u001b[0m\u001b[0;34m,\u001b[0m \u001b[0mp\u001b[0m\u001b[0;34m,\u001b[0m \u001b[0mfprime\u001b[0m\u001b[0;34m,\u001b[0m \u001b[0mepsilon\u001b[0m\u001b[0;34m,\u001b[0m \u001b[0;34m*\u001b[0m\u001b[0margs\u001b[0m\u001b[0;34m)\u001b[0m\u001b[0;34m:\u001b[0m\u001b[0;34m\u001b[0m\u001b[0m\n\u001b[1;32m    671\u001b[0m     \u001b[0mf2\u001b[0m \u001b[0;34m=\u001b[0m \u001b[0mfprime\u001b[0m\u001b[0;34m(\u001b[0m\u001b[0;34m*\u001b[0m\u001b[0;34m(\u001b[0m\u001b[0;34m(\u001b[0m\u001b[0mx0\u001b[0m \u001b[0;34m+\u001b[0m \u001b[0mepsilon\u001b[0m\u001b[0;34m*\u001b[0m\u001b[0mp\u001b[0m\u001b[0;34m,\u001b[0m\u001b[0;34m)\u001b[0m \u001b[0;34m+\u001b[0m \u001b[0margs\u001b[0m\u001b[0;34m)\u001b[0m\u001b[0;34m)\u001b[0m\u001b[0;34m\u001b[0m\u001b[0m\n\u001b[0;32m--> 672\u001b[0;31m     \u001b[0mf1\u001b[0m \u001b[0;34m=\u001b[0m \u001b[0mfprime\u001b[0m\u001b[0;34m(\u001b[0m\u001b[0;34m*\u001b[0m\u001b[0;34m(\u001b[0m\u001b[0;34m(\u001b[0m\u001b[0mx0\u001b[0m\u001b[0;34m,\u001b[0m\u001b[0;34m)\u001b[0m \u001b[0;34m+\u001b[0m \u001b[0margs\u001b[0m\u001b[0;34m)\u001b[0m\u001b[0;34m)\u001b[0m\u001b[0;34m\u001b[0m\u001b[0m\n\u001b[0m\u001b[1;32m    673\u001b[0m     \u001b[0;32mreturn\u001b[0m \u001b[0;34m(\u001b[0m\u001b[0mf2\u001b[0m \u001b[0;34m-\u001b[0m \u001b[0mf1\u001b[0m\u001b[0;34m)\u001b[0m \u001b[0;34m/\u001b[0m \u001b[0mepsilon\u001b[0m\u001b[0;34m\u001b[0m\u001b[0m\n\u001b[1;32m    674\u001b[0m \u001b[0;34m\u001b[0m\u001b[0m\n",
      "\u001b[0;32m/Library/Frameworks/Python.framework/Versions/2.7/lib/python2.7/site-packages/scipy/optimize/optimize.pyc\u001b[0m in \u001b[0;36mfunction_wrapper\u001b[0;34m(*wrapper_args)\u001b[0m\n\u001b[1;32m    283\u001b[0m     \u001b[0;32mdef\u001b[0m \u001b[0mfunction_wrapper\u001b[0m\u001b[0;34m(\u001b[0m\u001b[0;34m*\u001b[0m\u001b[0mwrapper_args\u001b[0m\u001b[0;34m)\u001b[0m\u001b[0;34m:\u001b[0m\u001b[0;34m\u001b[0m\u001b[0m\n\u001b[1;32m    284\u001b[0m         \u001b[0mncalls\u001b[0m\u001b[0;34m[\u001b[0m\u001b[0;36m0\u001b[0m\u001b[0;34m]\u001b[0m \u001b[0;34m+=\u001b[0m \u001b[0;36m1\u001b[0m\u001b[0;34m\u001b[0m\u001b[0m\n\u001b[0;32m--> 285\u001b[0;31m         \u001b[0;32mreturn\u001b[0m \u001b[0mfunction\u001b[0m\u001b[0;34m(\u001b[0m\u001b[0;34m*\u001b[0m\u001b[0;34m(\u001b[0m\u001b[0mwrapper_args\u001b[0m \u001b[0;34m+\u001b[0m \u001b[0margs\u001b[0m\u001b[0;34m)\u001b[0m\u001b[0;34m)\u001b[0m\u001b[0;34m\u001b[0m\u001b[0m\n\u001b[0m\u001b[1;32m    286\u001b[0m \u001b[0;34m\u001b[0m\u001b[0m\n\u001b[1;32m    287\u001b[0m     \u001b[0;32mreturn\u001b[0m \u001b[0mncalls\u001b[0m\u001b[0;34m,\u001b[0m \u001b[0mfunction_wrapper\u001b[0m\u001b[0;34m\u001b[0m\u001b[0m\n",
      "\u001b[0;32m<ipython-input-88-6e611b4613e9>\u001b[0m in \u001b[0;36mgradient\u001b[0;34m(w, pairs)\u001b[0m\n\u001b[1;32m     27\u001b[0m \u001b[0;34m\u001b[0m\u001b[0m\n\u001b[1;32m     28\u001b[0m         \u001b[0;32mfor\u001b[0m \u001b[0mpair\u001b[0m \u001b[0;32min\u001b[0m \u001b[0mpairs\u001b[0m\u001b[0;34m:\u001b[0m\u001b[0;34m\u001b[0m\u001b[0m\n\u001b[0;32m---> 29\u001b[0;31m             \u001b[0;32mif\u001b[0m \u001b[0mi\u001b[0m \u001b[0;34m==\u001b[0m \u001b[0mpair\u001b[0m\u001b[0;34m[\u001b[0m\u001b[0;36m0\u001b[0m\u001b[0;34m]\u001b[0m\u001b[0;34m:\u001b[0m\u001b[0;34m\u001b[0m\u001b[0m\n\u001b[0m\u001b[1;32m     30\u001b[0m                 \u001b[0mout\u001b[0m \u001b[0;34m=\u001b[0m \u001b[0;34m-\u001b[0m\u001b[0;36m1\u001b[0m\u001b[0;34m\u001b[0m\u001b[0m\n\u001b[1;32m     31\u001b[0m             \u001b[0;32melif\u001b[0m \u001b[0mi\u001b[0m \u001b[0;34m==\u001b[0m \u001b[0mpair\u001b[0m\u001b[0;34m[\u001b[0m\u001b[0;36m1\u001b[0m\u001b[0;34m]\u001b[0m\u001b[0;34m:\u001b[0m\u001b[0;34m\u001b[0m\u001b[0m\n",
      "\u001b[0;31mKeyboardInterrupt\u001b[0m: "
     ]
    }
   ],
   "source": [
    "results = {}\n",
    "num_test_pairs = (np.array((1,0.9,0.8,0.7,0.6,0.5,0.4,0.3,0.2,0.1))* total_pairs).astype(int)\n",
    "# num_test_pairs = (np.array((1,0.8,0.6,0.4,0.2))* total_pairs).astype(int)\n",
    "# num_test_pairs = (np.array((0.4,0.2))* total_pairs).astype(int)\n",
    "\n",
    "\n",
    "sparsity_error_nihar = []\n",
    "sparsity_error_isabelle = []\n",
    "\n",
    "for test_pair_num in num_test_pairs:\n",
    "    \n",
    "    print 'Current evaluating with %d test pairs' % test_pair_num\n",
    "    \n",
    "    test_pairs = [pairs_truth[i] for i in random.sample(range(total_pairs), test_pair_num)]\n",
    "\n",
    "    w = np.ones(video_num)\n",
    "\n",
    "    res = optimize.minimize(mle, w, \n",
    "                            method='Newton-CG',\n",
    "                            jac=gradient, \n",
    "                            args=(test_pairs,),\n",
    "                            options={'disp': False})\n",
    "    \n",
    "    w_hat = res.x\n",
    "    results[str(test_pair_num)] = w_hat\n",
    "#     compare_rank(video_score, res.x, verbose=False, hist=False)\n",
    "    \n",
    "    sparsity_error_nihar.append(performance_nihar(video_score,w_hat))\n",
    "    sparsity_error_isabelle.append(performance_isabelle(video_score, video_num, w_hat))"
   ]
  },
  {
   "cell_type": "code",
   "execution_count": null,
   "metadata": {
    "collapsed": false
   },
   "outputs": [],
   "source": [
    "plt.figure()\n",
    "plt.plot(sparsity_error_isabelle)\n",
    "plt.figure()\n",
    "plt.plot(sparsity_error_nihar)"
   ]
  },
  {
   "cell_type": "code",
   "execution_count": null,
   "metadata": {
    "collapsed": false
   },
   "outputs": [],
   "source": []
  },
  {
   "cell_type": "markdown",
   "metadata": {
    "collapsed": false
   },
   "source": [
    "### Different Number of Videos"
   ]
  },
  {
   "cell_type": "code",
   "execution_count": null,
   "metadata": {
    "collapsed": false
   },
   "outputs": [],
   "source": [
    "video_nums = [50,100,150,200,250,300]\n",
    "\n",
    "Nihar = True\n",
    "Isabelle = True\n",
    "showResult = False\n",
    "\n",
    "number_error_nihar = []\n",
    "number_error_isabelle = []\n",
    "\n",
    "for num in video_nums:\n",
    "    \n",
    "    video_num = num\n",
    "    \n",
    "    video_score = np.random.uniform(-5,5,video_num)\n",
    "    resolution = 0.1\n",
    "    video_score = np.round(video_score/resolution)*resolution\n",
    "\n",
    "    pairs_truth = []\n",
    "\n",
    "    for i in range(len(video_score)-1):\n",
    "        for j in range(i+1, len(video_score)):\n",
    "            if video_score[i] > video_score[j]:\n",
    "                pairs_truth.append((i,j))\n",
    "            else:\n",
    "                pairs_truth.append((j,i))\n",
    "\n",
    "    total_pairs = len(pairs_truth)  \n",
    "    \n",
    "    print 'Current evaluating with %d videos' % video_num\n",
    "    \n",
    "    test_pairs = pairs_truth\n",
    "#     test_pairs = [pairs_truth[i] for i in random.sample(range(total_pairs), test_pair_num)]\n",
    "\n",
    "    w = np.ones(video_num)\n",
    "\n",
    "    res = optimize.minimize(mle, w, \n",
    "                            method='Newton-CG',\n",
    "                            jac=gradient, \n",
    "                            args=(test_pairs,),\n",
    "                            options={'disp': True})\n",
    "    w_hat = res.x\n",
    "    number_error_nihar.append(performance_nihar(video_score,w_hat))\n",
    "    number_error_isabelle.append(performance_isabelle(video_score, video_num, w_hat))"
   ]
  },
  {
   "cell_type": "markdown",
   "metadata": {
    "collapsed": false
   },
   "source": [
    "### Generate data with BTL with diff sparsity"
   ]
  },
  {
   "cell_type": "code",
   "execution_count": 84,
   "metadata": {
    "collapsed": false
   },
   "outputs": [],
   "source": [
    "def sigmoid(x):\n",
    "    return 1 / (1 + np.exp(-x))\n",
    "\n",
    "def noise_generation(video_score, pair):\n",
    "    \"\"\"\n",
    "    Generate a decision of whether to flip, using proability from normal distribution and then \n",
    "    Bernoulli to decide whether to flip\n",
    "    \"\"\"\n",
    "\n",
    "    difference = video_score[pair[0]] - video_score[pair[1]]\n",
    "    p = sigmoid(difference)*(1-sigmoid(difference))\n",
    "    decision = bernoulli.rvs(p,size=1)\n",
    "\n",
    "    return decision"
   ]
  },
  {
   "cell_type": "code",
   "execution_count": null,
   "metadata": {
    "collapsed": false
   },
   "outputs": [],
   "source": [
    "# num_test_pairs = (np.array((1,0.9,0.8,0.7,0.6,0.5,0.4,0.3,0.2,0.1))* total_pairs).astype(int)\n",
    "num_test_pairs = (np.array((0.4,0.2))* total_pairs).astype(int)\n",
    "\n",
    "sparsity_error_generative_nihar = []\n",
    "sparsity_error_generative_isabelle = []\n",
    "\n",
    "for test_pair_num in num_test_pairs:\n",
    "    \n",
    "    print 'Current evaluating with %d test pairs' % test_pair_num\n",
    "    \n",
    "    test_pairs = [pairs_truth[i] for i in random.sample(range(total_pairs), test_pair_num)]\n",
    "    \n",
    "    flip_count = 0\n",
    "    for i in range(len(test_pairs)):\n",
    "        if noise_generation(video_score, test_pairs[i]):\n",
    "            temp = (test_pairs[i][1], test_pairs[i][0])\n",
    "            test_pairs[i] = temp\n",
    "            flip_count +=1\n",
    "    \n",
    "\n",
    "    w = np.ones(video_num)\n",
    "    print 'evaluating', flip_count/len(test_pairs)\n",
    "    res = optimize.minimize(mle, w, \n",
    "                            method='Newton-CG',\n",
    "                            jac=gradient, \n",
    "                            args=(test_pairs,),\n",
    "                            options={'disp': False})\n",
    "    \n",
    "    w_hat = res.x\n",
    "    \n",
    "    sparsity_error_generative_nihar.append(performance_nihar(video_score,w_hat))\n",
    "    sparsity_error_generative_isabelle.append(performance_isabelle(video_score, video_num, w_hat))"
   ]
  },
  {
   "cell_type": "code",
   "execution_count": null,
   "metadata": {
    "collapsed": false
   },
   "outputs": [],
   "source": []
  },
  {
   "cell_type": "code",
   "execution_count": null,
   "metadata": {
    "collapsed": false
   },
   "outputs": [],
   "source": []
  },
  {
   "cell_type": "code",
   "execution_count": null,
   "metadata": {
    "collapsed": true
   },
   "outputs": [],
   "source": []
  },
  {
   "cell_type": "code",
   "execution_count": null,
   "metadata": {
    "collapsed": false
   },
   "outputs": [],
   "source": []
  },
  {
   "cell_type": "code",
   "execution_count": null,
   "metadata": {
    "collapsed": false
   },
   "outputs": [],
   "source": []
  },
  {
   "cell_type": "code",
   "execution_count": null,
   "metadata": {
    "collapsed": false
   },
   "outputs": [],
   "source": []
  },
  {
   "cell_type": "code",
   "execution_count": null,
   "metadata": {
    "collapsed": false
   },
   "outputs": [],
   "source": []
  },
  {
   "cell_type": "code",
   "execution_count": null,
   "metadata": {
    "collapsed": false
   },
   "outputs": [],
   "source": []
  },
  {
   "cell_type": "code",
   "execution_count": null,
   "metadata": {
    "collapsed": false
   },
   "outputs": [],
   "source": []
  },
  {
   "cell_type": "code",
   "execution_count": null,
   "metadata": {
    "collapsed": false
   },
   "outputs": [],
   "source": []
  },
  {
   "cell_type": "code",
   "execution_count": null,
   "metadata": {
    "collapsed": false
   },
   "outputs": [],
   "source": []
  },
  {
   "cell_type": "code",
   "execution_count": null,
   "metadata": {
    "collapsed": false
   },
   "outputs": [],
   "source": []
  },
  {
   "cell_type": "code",
   "execution_count": null,
   "metadata": {
    "collapsed": false
   },
   "outputs": [],
   "source": []
  },
  {
   "cell_type": "code",
   "execution_count": null,
   "metadata": {
    "collapsed": true
   },
   "outputs": [],
   "source": []
  },
  {
   "cell_type": "code",
   "execution_count": null,
   "metadata": {
    "collapsed": true
   },
   "outputs": [],
   "source": []
  },
  {
   "cell_type": "code",
   "execution_count": null,
   "metadata": {
    "collapsed": true
   },
   "outputs": [],
   "source": []
  },
  {
   "cell_type": "code",
   "execution_count": null,
   "metadata": {
    "collapsed": true
   },
   "outputs": [],
   "source": []
  },
  {
   "cell_type": "code",
   "execution_count": null,
   "metadata": {
    "collapsed": true
   },
   "outputs": [],
   "source": []
  },
  {
   "cell_type": "code",
   "execution_count": null,
   "metadata": {
    "collapsed": true
   },
   "outputs": [],
   "source": []
  },
  {
   "cell_type": "code",
   "execution_count": null,
   "metadata": {
    "collapsed": true
   },
   "outputs": [],
   "source": []
  }
 ],
 "metadata": {
  "kernelspec": {
   "display_name": "Python 2",
   "language": "python",
   "name": "python2"
  },
  "language_info": {
   "codemirror_mode": {
    "name": "ipython",
    "version": 2
   },
   "file_extension": ".py",
   "mimetype": "text/x-python",
   "name": "python",
   "nbconvert_exporter": "python",
   "pygments_lexer": "ipython2",
   "version": "2.7.10"
  }
 },
 "nbformat": 4,
 "nbformat_minor": 0
}
