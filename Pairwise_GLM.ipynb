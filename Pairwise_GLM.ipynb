{
 "cells": [
  {
   "cell_type": "markdown",
   "metadata": {},
   "source": [
    "# Below is with Generic Likelihood Model Class"
   ]
  },
  {
   "cell_type": "code",
   "execution_count": 2,
   "metadata": {
    "collapsed": true
   },
   "outputs": [],
   "source": [
    "import os, csv, random\n",
    "from __future__ import division\n",
    "from matplotlib import  pyplot as plt\n",
    "import numpy as np\n",
    "import scipy.io as sio\n",
    "from scipy import stats\n",
    "import seaborn as sns\n",
    "from statsmodels.base.model import GenericLikelihoodModel\n",
    "%matplotlib inline"
   ]
  },
  {
   "cell_type": "code",
   "execution_count": 3,
   "metadata": {
    "collapsed": true
   },
   "outputs": [],
   "source": [
    "class Pairwise(GenericLikelihoodModel):\n",
    "    def __init__(self, endog, exog=None, **kwds):\n",
    "        super(Pairwise, self).__init__(endog, exog, **kwds)\n",
    "    \n",
    "    def nloglikeobs(self, params):\n",
    "        '''\n",
    "        Here params is a list: [pairs, w]\n",
    "        '''\n",
    "        out = 1\n",
    "        pairs = self.endog\n",
    "        w = params\n",
    "        \n",
    "        for pair in pairs:\n",
    "            out *= 1/(1+np.exp(-w[pair[0]] + w[pair[1]]))   \n",
    "            \n",
    "        return -np.log(out)\n",
    "    \n",
    "    def fit(self, start_params=None, maxiter=1000, maxfun=5000):  \n",
    "        return super(Pairwise, self).fit(start_params=start_params, maxiter=maxiter, maxfun=maxfun)"
   ]
  },
  {
   "cell_type": "markdown",
   "metadata": {},
   "source": [
    "# Generate Data randomly"
   ]
  },
  {
   "cell_type": "code",
   "execution_count": 28,
   "metadata": {
    "collapsed": true
   },
   "outputs": [],
   "source": [
    "def compare_rank(video_score, results, verbose=False, hist=False, pct=100):\n",
    "    true_order = np.array(video_score).argsort()\n",
    "    true_ranks = true_order.argsort()\n",
    "\n",
    "    temp_o = np.array(results.params).argsort()\n",
    "    temp_r = temp_o.argsort()\n",
    "\n",
    "    resolution = 0.1\n",
    "    video_score_results = np.round(results.params/resolution)*resolution\n",
    "    \n",
    "    if verbose:\n",
    "        print 'Result Order \\t True Order \\t Result Score \\t Ture Score'\n",
    "        for i in range(len(temp_r)):\n",
    "            print temp_r[i], '\\t\\t', true_ranks[i], '\\t\\t', video_score_results[i], '\\t\\t', video_score[i]\n",
    "            \n",
    "    if hist:\n",
    "        \n",
    "        diff = np.abs(temp_r - true_ranks)\n",
    "        plt.hist(diff, alpha=0.5)\n",
    "#         plt.title('Histogram of ranking difference between truth and predictions with %d percent of pairs' % pct)"
   ]
  },
  {
   "cell_type": "code",
   "execution_count": 12,
   "metadata": {
    "collapsed": true
   },
   "outputs": [],
   "source": [
    "video_num = 30\n",
    "\n",
    "video_score = np.random.uniform(-5,5,video_num)\n",
    "resolution = 0.1\n",
    "video_score = np.round(video_score/resolution)*resolution\n",
    "\n",
    "pairs_truth = []\n",
    "\n",
    "for i in range(len(video_score)-1):\n",
    "    for j in range(i+1, len(video_score)):\n",
    "        if video_score[i] > video_score[j]:\n",
    "            pairs_truth.append((i,j))\n",
    "        else:\n",
    "            pairs_truth.append((j,i))\n",
    "            \n",
    "total_pairs = len(pairs_truth)"
   ]
  },
  {
   "cell_type": "code",
   "execution_count": 13,
   "metadata": {
    "collapsed": false
   },
   "outputs": [
    {
     "name": "stdout",
     "output_type": "stream",
     "text": [
      "Optimization terminated successfully.\n",
      "         Current function value: -0.000000\n",
      "         Iterations: 31798\n",
      "         Function evaluations: 38751\n"
     ]
    }
   ],
   "source": [
    "model = Pairwise(pairs_truth)\n",
    "# w_init = np.ones(video_num)\n",
    "w_init = np.random.uniform(-5,5,video_num)\n",
    "results = model.fit(w_init, maxiter=100000, maxfun=50000)"
   ]
  },
  {
   "cell_type": "code",
   "execution_count": 14,
   "metadata": {
    "collapsed": false
   },
   "outputs": [
    {
     "name": "stdout",
     "output_type": "stream",
     "text": [
      "Result Order \t True Order \t Result Score \t Ture Score\n",
      "13 \t\t13 \t\t42092.2 \t\t-1.0\n",
      "27 \t\t27 \t\t142976.2 \t\t4.2\n",
      "12 \t\t12 \t\t36013.8 \t\t-1.1\n",
      "9 \t\t9 \t\t35595.1 \t\t-1.9\n",
      "1 \t\t1 \t\t-68036.9 \t\t-4.0\n",
      "19 \t\t19 \t\t54262.8 \t\t1.4\n",
      "25 \t\t25 \t\t142065.1 \t\t3.7\n",
      "5 \t\t5 \t\t-40592.0 \t\t-3.0\n",
      "26 \t\t26 \t\t142343.6 \t\t4.1\n",
      "17 \t\t17 \t\t50607.0 \t\t0.5\n",
      "2 \t\t2 \t\t-67989.0 \t\t-3.9\n",
      "11 \t\t11 \t\t35674.5 \t\t-1.3\n",
      "3 \t\t3 \t\t-67894.9 \t\t-3.5\n",
      "18 \t\t18 \t\t51034.8 \t\t1.1\n",
      "14 \t\t14 \t\t50427.9 \t\t-1.0\n",
      "6 \t\t6 \t\t-40471.8 \t\t-3.0\n",
      "8 \t\t8 \t\t35544.7 \t\t-2.2\n",
      "24 \t\t24 \t\t115351.1 \t\t3.1\n",
      "21 \t\t21 \t\t114345.1 \t\t2.0\n",
      "28 \t\t28 \t\t143242.4 \t\t4.5\n",
      "15 \t\t15 \t\t50465.6 \t\t-0.5\n",
      "29 \t\t29 \t\t290974.5 \t\t4.7\n",
      "10 \t\t10 \t\t35636.2 \t\t-1.7\n",
      "0 \t\t0 \t\t-155414.4 \t\t-4.2\n",
      "7 \t\t7 \t\t35498.8 \t\t-2.8\n",
      "20 \t\t20 \t\t54558.9 \t\t1.5\n",
      "22 \t\t22 \t\t114409.8 \t\t2.1\n",
      "23 \t\t23 \t\t114470.3 \t\t2.8\n",
      "4 \t\t4 \t\t-42374.2 \t\t-3.4\n",
      "16 \t\t16 \t\t50550.8 \t\t0.1\n"
     ]
    }
   ],
   "source": [
    "compare_rank(video_score, results, True)"
   ]
  },
  {
   "cell_type": "code",
   "execution_count": 16,
   "metadata": {
    "collapsed": false
   },
   "outputs": [
    {
     "data": {
      "text/plain": [
       "<matplotlib.text.Text at 0x10875f4d0>"
      ]
     },
     "execution_count": 16,
     "metadata": {},
     "output_type": "execute_result"
    },
    {
     "data": {
      "image/png": "[encoded data removed]"
     },
     "metadata": {},
     "output_type": "display_data"
    }
   ],
   "source": [
    "diff = np.abs(temp_r - true_ranks)\n",
    "plt.hist(diff)\n",
    "plt.title('Histogram of ranking between truth and predictions with all pairs')"
   ]
  },
  {
   "cell_type": "code",
   "execution_count": 32,
   "metadata": {
    "collapsed": false
   },
   "outputs": [
    {
     "name": "stdout",
     "output_type": "stream",
     "text": [
      "Current evaluating with 190 test pairs\n",
      "Optimization terminated successfully.\n",
      "         Current function value: -0.000000\n",
      "         Iterations: 12429\n",
      "         Function evaluations: 16097\n",
      "Current evaluating with 152 test pairs\n",
      "Optimization terminated successfully.\n",
      "         Current function value: -0.000000\n",
      "         Iterations: 2858\n",
      "         Function evaluations: 4041\n",
      "Current evaluating with 114 test pairs\n",
      "Optimization terminated successfully.\n",
      "         Current function value: -0.000000\n",
      "         Iterations: 13514\n",
      "         Function evaluations: 17419\n",
      "Current evaluating with 76 test pairs\n",
      "Optimization terminated successfully.\n",
      "         Current function value: -0.000000\n",
      "         Iterations: 1302\n",
      "         Function evaluations: 2059\n",
      "Current evaluating with 38 test pairs\n",
      "Optimization terminated successfully.\n",
      "         Current function value: -0.000000\n",
      "         Iterations: 2722\n",
      "         Function evaluations: 3860\n"
     ]
    },
    {
     "data": {
      "text/plain": [
       "<matplotlib.legend.Legend at 0x10b391f90>"
      ]
     },
     "execution_count": 32,
     "metadata": {},
     "output_type": "execute_result"
    },
    {
     "data": {
      "image/png": "[encoded data removed]"
     },
     "metadata": {},
     "output_type": "display_data"
    }
   ],
   "source": [
    "video_num = 20\n",
    "video_score = np.random.uniform(-5,5,video_num)\n",
    "resolution = 0.1\n",
    "video_score = np.round(video_score/resolution)*resolution\n",
    "\n",
    "pairs_truth = []\n",
    "\n",
    "for i in range(len(video_score)-1):\n",
    "    for j in range(i+1, len(video_score)):\n",
    "        if video_score[i] > video_score[j]:\n",
    "            pairs_truth.append((i,j))\n",
    "        else:\n",
    "            pairs_truth.append((j,i))\n",
    "            \n",
    "total_pairs = len(pairs_truth)  \n",
    "\n",
    "\n",
    "# num_test_pairs = (np.array((0.1, 0.2, 0.3, 0.4, 0.5, 0.6, 0.7, 0.8, 0.9, 1))*total_pairs).astype(int)\n",
    "num_test_pairs = (np.array((1,0.8,0.6,0.4,0.2))*total_pairs).astype(int)\n",
    "# num_test_pairs = (np.array((0.1, 0.2, 0.3))*total_pairs).astype(int)\n",
    "num_to_be_flipped = np.array((0.05, 0.1, 0.15, 0.2, 0.25, 0.3, 0.4, 0.5))\n",
    "\n",
    "\n",
    "for test_pair_num in num_test_pairs:\n",
    "    print 'Current evaluating with %d test pairs' % test_pair_num\n",
    "    test_pairs = [pairs_truth[i] for i in random.sample(range(total_pairs), test_pair_num)]\n",
    "    model = Pairwise(test_pairs)\n",
    "    w_init = np.random.uniform(-5,5,video_num)\n",
    "    results = model.fit(w_init, maxiter=100000, maxfun=50000)\n",
    "    compare_rank(video_score, results, False, True, int(test_pair_num/total_pairs*100))\n",
    "plt.legend([str(i) for i in num_test_pairs])"
   ]
  },
  {
   "cell_type": "code",
   "execution_count": null,
   "metadata": {
    "collapsed": true
   },
   "outputs": [],
   "source": []
  },
  {
   "cell_type": "code",
   "execution_count": 40,
   "metadata": {
    "collapsed": false
   },
   "outputs": [
    {
     "name": "stdout",
     "output_type": "stream",
     "text": [
      "Current evaluating with 0.050000 to flip\n",
      "Optimization terminated successfully.\n",
      "         Current function value: 0.336758\n",
      "         Iterations: 8938\n",
      "         Function evaluations: 11296\n",
      "Current evaluating with 0.150000 to flip\n",
      "Optimization terminated successfully.\n",
      "         Current function value: 0.462347\n",
      "         Iterations: 18649\n",
      "         Function evaluations: 23413\n",
      "Current evaluating with 0.250000 to flip\n",
      "Optimization terminated successfully.\n",
      "         Current function value: 0.669138\n",
      "         Iterations: 15997\n",
      "         Function evaluations: 20064\n",
      "Current evaluating with 0.400000 to flip\n",
      "Optimization terminated successfully.\n",
      "         Current function value: 0.639298\n",
      "         Iterations: 16954\n",
      "         Function evaluations: 21270\n",
      "Current evaluating with 0.600000 to flip\n",
      "Optimization terminated successfully.\n",
      "         Current function value: 0.626728\n",
      "         Iterations: 18208\n",
      "         Function evaluations: 22781\n"
     ]
    },
    {
     "data": {
      "text/plain": [
       "<matplotlib.legend.Legend at 0x10b538690>"
      ]
     },
     "execution_count": 40,
     "metadata": {},
     "output_type": "execute_result"
    },
    {
     "data": {
      "image/png": "[encoded data removed]"
     },
     "metadata": {},
     "output_type": "display_data"
    }
   ],
   "source": [
    "video_num = 20\n",
    "video_score = np.random.uniform(-5,5,video_num)\n",
    "resolution = 0.1\n",
    "video_score = np.round(video_score/resolution)*resolution\n",
    "\n",
    "pairs_truth = []\n",
    "\n",
    "for i in range(len(video_score)-1):\n",
    "    for j in range(i+1, len(video_score)):\n",
    "        if video_score[i] > video_score[j]:\n",
    "            pairs_truth.append((i,j))\n",
    "        else:\n",
    "            pairs_truth.append((j,i))\n",
    "            \n",
    "total_pairs = len(pairs_truth)  \n",
    "\n",
    "\n",
    "\n",
    "num_test_pairs = total_pairs\n",
    "num_to_be_flipped = np.array((0.05, 0.15, 0.25,  0.4, 0.6))\n",
    "\n",
    "\n",
    "for to_flip in num_to_be_flipped:\n",
    "    print 'Current evaluating with %f to flip' % to_flip\n",
    "    \n",
    "    test_pairs_with_error = pairs_truth\n",
    "    \n",
    "    num_to_flip = int(num_test_pairs*to_flip)\n",
    "    \n",
    "    for i in random.sample(range(num_test_pairs), num_to_flip):\n",
    "        test_pairs_with_error[i] = (pairs_truth[i][1],pairs_truth[i][0])\n",
    "        \n",
    "    model = Pairwise(test_pairs_with_error)\n",
    "    w_init = np.random.uniform(-5,5,video_num)\n",
    "    results = model.fit(w_init, maxiter=100000, maxfun=50000)\n",
    "    compare_rank(video_score, results, False, True, int(test_pair_num/total_pairs*100))\n",
    "plt.legend([str(i) for i in num_to_be_flipped])"
   ]
  },
  {
   "cell_type": "code",
   "execution_count": null,
   "metadata": {
    "collapsed": true
   },
   "outputs": [],
   "source": []
  },
  {
   "cell_type": "code",
   "execution_count": null,
   "metadata": {
    "collapsed": true
   },
   "outputs": [],
   "source": []
  },
  {
   "cell_type": "code",
   "execution_count": null,
   "metadata": {
    "collapsed": true
   },
   "outputs": [],
   "source": []
  },
  {
   "cell_type": "code",
   "execution_count": null,
   "metadata": {
    "collapsed": true
   },
   "outputs": [],
   "source": []
  },
  {
   "cell_type": "code",
   "execution_count": null,
   "metadata": {
    "collapsed": true
   },
   "outputs": [],
   "source": []
  },
  {
   "cell_type": "markdown",
   "metadata": {},
   "source": [
    "# Read data from file"
   ]
  },
  {
   "cell_type": "code",
   "execution_count": 3,
   "metadata": {
    "collapsed": true
   },
   "outputs": [],
   "source": [
    "def append_pair(comp, name1, name2, name_to_num):\n",
    "    if comp == '-1':\n",
    "        return((name_to_num[name2], name_to_num[name1]))\n",
    "    if comp == '1':\n",
    "        return((name_to_num[name1], name_to_num[name2]))"
   ]
  },
  {
   "cell_type": "code",
   "execution_count": 4,
   "metadata": {
    "collapsed": true
   },
   "outputs": [],
   "source": [
    "# Used to store video name and their corresponding index\n",
    "name_to_num = dict()\n",
    "# Here pairs will be a list of 5 lists correpesonding to each of the 5 traits\n",
    "pairs = [[],[],[],[],[]]\n",
    "\n",
    "j = 0\n",
    "path = './data'\n",
    "files = [f for f in os.listdir(path) if f.endswith('.csv')]\n",
    "for file in files:\n",
    "    with open('./data/'+file, 'rb') as csvfile:\n",
    "        reader = csv.reader(csvfile, delimiter=' ')\n",
    "        for row in reader:\n",
    "            if not row[1] in name_to_num:\n",
    "                name_to_num[row[1]] = j\n",
    "                j += 1\n",
    "            if not row[2] in name_to_num:\n",
    "                name_to_num[row[2]] = j\n",
    "                j += 1\n",
    "            for i in range(3,8):\n",
    "                pair = append_pair(row[i],row[1],row[2],name_to_num)\n",
    "                if pair != None:\n",
    "                    pairs[i-3].append(pair)\n",
    "video_num = j"
   ]
  },
  {
   "cell_type": "code",
   "execution_count": 5,
   "metadata": {
    "collapsed": false
   },
   "outputs": [
    {
     "data": {
      "text/plain": [
       "{'../videos/-DXzJ6jxhOM.001.mp4': 28,\n",
       " '../videos/-_e7j8_W77g.000.mp4': 25,\n",
       " '../videos/-yuIc0nWsvs.000.mp4': 0,\n",
       " '../videos/1fvBSv1cNUU.000.mp4': 26,\n",
       " '../videos/1oEY1QQ_6ss.001.mp4': 8,\n",
       " '../videos/2IC74dLuG_U.000.mp4': 3,\n",
       " '../videos/2lCNSi1JD7w.001.mp4': 22,\n",
       " '../videos/2ltp6TYwjJE.001.mp4': 6,\n",
       " '../videos/3L1qnlifDk8.001.mp4': 19,\n",
       " '../videos/3NHxfy58SqA.000.mp4': 14,\n",
       " '../videos/3jdbKrQKw2s.002.mp4': 20,\n",
       " '../videos/4GTKcoCJHBs.002.mp4': 4,\n",
       " '../videos/4ZBHzdkFDrY.001.mp4': 18,\n",
       " '../videos/4ssTy-NvTLg.000.mp4': 17,\n",
       " '../videos/5izh7-zFFdg.001.mp4': 9,\n",
       " '../videos/6Z5NhCtqEkw.002.mp4': 27,\n",
       " '../videos/6yWbfD71gH4.002.mp4': 5,\n",
       " '../videos/84ieZEdwBN8.001.mp4': 16,\n",
       " '../videos/8CZEYuJQPX8.002.mp4': 13,\n",
       " '../videos/9iKnGQiOSt0.002.mp4': 10,\n",
       " '../videos/9oVaec0OVIg.002.mp4': 11,\n",
       " '../videos/AdLIA3nYSkU.001.mp4': 15,\n",
       " '../videos/B6QtDf9sIvQ.001.mp4': 21,\n",
       " '../videos/BBWnOheRxss.000.mp4': 24,\n",
       " '../videos/BOAekq80wBc.001.mp4': 29,\n",
       " '../videos/CG8vq7r1RqM.000.mp4': 23,\n",
       " '../videos/D69eTQ3fjyY.001.mp4': 1,\n",
       " '../videos/DQk7u2gEvhc.000.mp4': 2,\n",
       " '../videos/DbKNGqIbXb4.002.mp4': 12,\n",
       " '../videos/DloqZLuTLho.002.mp4': 7}"
      ]
     },
     "execution_count": 5,
     "metadata": {},
     "output_type": "execute_result"
    }
   ],
   "source": [
    "name_to_num"
   ]
  },
  {
   "cell_type": "code",
   "execution_count": 60,
   "metadata": {
    "collapsed": true
   },
   "outputs": [],
   "source": [
    "# estimated_for_each_trait = []\n",
    "# for i in range(5):\n",
    "#     print 'Evaluating trait %d', i+1\n",
    "#     model = Pairwise(pairs[i])\n",
    "#     w_init = np.random.uniform(-1000,1000,30)\n",
    "#     results = model.fit(w_init, maxiter=1000000, maxfun=1000000)\n",
    "#     estimated_for_each_trait.append(results.params)"
   ]
  },
  {
   "cell_type": "code",
   "execution_count": 49,
   "metadata": {
    "collapsed": false
   },
   "outputs": [
    {
     "name": "stdout",
     "output_type": "stream",
     "text": [
      "Optimization terminated successfully.\n",
      "         Current function value: 0.585953\n",
      "         Iterations: 17793\n",
      "         Function evaluations: 20971\n"
     ]
    }
   ],
   "source": [
    "model = Pairwise(pairs[0])\n",
    "w_init = np.zeros(30)\n",
    "results = model.fit(w_init, maxiter=1000000, maxfun=1000000)"
   ]
  },
  {
   "cell_type": "code",
   "execution_count": null,
   "metadata": {
    "collapsed": true
   },
   "outputs": [],
   "source": [
    "# Multi processor parallel code. Not very successful\n",
    "\n",
    "from multiprocessing import Pool\n",
    "\n",
    "estimated_for_each_trait = {}\n",
    "\n",
    "def f(i):\n",
    "    print 'Evaluating trait %d', i+1\n",
    "    model = Pairwise(pairs[i])\n",
    "    w_init = np.random.uniform(-5,5,video_num)\n",
    "    results = model.fit(w_init, maxiter=1000000, maxfun=1000000)\n",
    "    estimated_for_each_trait[str(i)] = results.params\n",
    "    return estimated_for_each_trait\n",
    "\n",
    "def mp_handler():\n",
    "    p = multiprocessing.Pool(8)\n",
    "    p.map(f, [0,1,2,3,4])\n",
    "    \n",
    "mp_handler()"
   ]
  },
  {
   "cell_type": "code",
   "execution_count": null,
   "metadata": {
    "collapsed": true
   },
   "outputs": [],
   "source": []
  },
  {
   "cell_type": "code",
   "execution_count": null,
   "metadata": {
    "collapsed": true
   },
   "outputs": [],
   "source": []
  },
  {
   "cell_type": "code",
   "execution_count": null,
   "metadata": {
    "collapsed": true
   },
   "outputs": [],
   "source": []
  },
  {
   "cell_type": "code",
   "execution_count": null,
   "metadata": {
    "collapsed": true
   },
   "outputs": [],
   "source": []
  }
 ],
 "metadata": {
  "kernelspec": {
   "display_name": "Python 2",
   "language": "python",
   "name": "python2"
  },
  "language_info": {
   "codemirror_mode": {
    "name": "ipython",
    "version": 2
   },
   "file_extension": ".py",
   "mimetype": "text/x-python",
   "name": "python",
   "nbconvert_exporter": "python",
   "pygments_lexer": "ipython2",
   "version": "2.7.10"
  }
 },
 "nbformat": 4,
 "nbformat_minor": 0
}
