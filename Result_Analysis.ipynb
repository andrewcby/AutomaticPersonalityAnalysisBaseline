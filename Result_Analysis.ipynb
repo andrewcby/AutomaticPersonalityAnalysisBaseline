{
 "cells": [
  {
   "cell_type": "code",
   "execution_count": 1,
   "metadata": {
    "collapsed": true
   },
   "outputs": [],
   "source": [
    "import random, csv, time, os, pickle, re\n",
    "\n",
    "import numpy as np\n",
    "import pandas as pd\n",
    "import matplotlib.pyplot as plt\n",
    "\n",
    "from scipy import optimize\n",
    "from scipy.stats import bernoulli\n",
    "from scipy.io import savemat\n",
    "from __future__ import division\n",
    "\n",
    "%matplotlib inline"
   ]
  },
  {
   "cell_type": "code",
   "execution_count": 2,
   "metadata": {
    "collapsed": true
   },
   "outputs": [],
   "source": [
    "def R2(yhat, y):\n",
    "    ybar = np.sum(y)/len(y) \n",
    "    ssreg = np.sum((yhat-ybar)**2)\n",
    "    sstot = np.sum((y - ybar)**2)\n",
    "    return ssreg/sstot\n",
    "\n",
    "def matching_func(param, video_score, w_hat):\n",
    "    return np.linalg.norm(video_score - param[0]*np.array(w_hat) - param[1])\n",
    "\n",
    "def regularized_vector(video_score,w_hat):\n",
    "    coeff = optimize.minimize(matching_func, [0, 0], args=(video_score, w_hat))\n",
    "    a = coeff['x'][0]\n",
    "    b = coeff['x'][1]\n",
    "    v = a*np.array(w_hat)+b\n",
    "    return v"
   ]
  },
  {
   "cell_type": "code",
   "execution_count": 39,
   "metadata": {
    "collapsed": false
   },
   "outputs": [],
   "source": [
    "path = './single_result_no_error/'\n",
    "error_files = [f for f in os.listdir(path) if f.endswith('.p') and 'random' not in f]\n"
   ]
  },
  {
   "cell_type": "code",
   "execution_count": 9,
   "metadata": {
    "collapsed": false
   },
   "outputs": [
    {
     "data": {
      "text/plain": [
       "0.7911372564606165"
      ]
     },
     "execution_count": 9,
     "metadata": {},
     "output_type": "execute_result"
    }
   ],
   "source": [
    "error_results = dict()\n",
    "\n",
    "# for f in error_files:\n",
    "fname= 'age1.p'\n",
    "# n, p = re.findall( r'\\d+\\.*\\d', f )\n",
    "\n",
    "# fname = os.path.join(path, f)\n",
    "temp = pickle.load( open( fname, \"rb\" ) )\n",
    "\n",
    "w_star = temp['video_score']\n",
    "w_hat_raw = temp['x']\n",
    "w_hat = regularized_vector(w_star,w_hat_raw)\n",
    "\n",
    "R2(w_hat, w_star)\n",
    "\n",
    "# if n not in error_results.keys():\n",
    "#     error_results[n] = dict()\n",
    "\n",
    "# if p not in error_results[n].keys():\n",
    "#     error_results[n][p] = R2(w_hat, w_star)\n",
    "        \n",
    "# # for f in random_error_files:\n",
    "# #     n, p = re.findall( r'\\d+\\.*\\d', f )\n",
    "    \n",
    "# #     fname = os.path.join(path, f)\n",
    "# #     temp = pickle.load( open( fname, \"rb\" ) )\n",
    "    \n",
    "# #     w_star = temp['video_score']\n",
    "# #     w_hat_raw = temp['x']\n",
    "# #     w_hat = regularized_vector(w_star,w_hat_raw)\n",
    "    \n",
    "# #     if n not in random_error_results.keys():\n",
    "# #         random_error_results[n] = dict()\n",
    "        \n",
    "# #     if p not in random_error_results[n].keys():\n",
    "# #         random_error_results[n][p] = []\n",
    "        \n",
    "# #         random_error_results[n][p].append(R2(w_hat, w_star))"
   ]
  },
  {
   "cell_type": "code",
   "execution_count": 7,
   "metadata": {
    "collapsed": false
   },
   "outputs": [
    {
     "data": {
      "text/plain": [
       "(array([  728.,   736.,  2500.,  1705.,   835.,   615.,   291.,   120.,\n",
       "           52.,     9.]),\n",
       " array([  0.9 ,  10.37,  19.84,  29.31,  38.78,  48.25,  57.72,  67.19,\n",
       "         76.66,  86.13,  95.6 ]),\n",
       " <a list of 10 Patch objects>)"
      ]
     },
     "execution_count": 7,
     "metadata": {},
     "output_type": "execute_result"
    },
    {
     "data": {
      "image/png": "[encoded data removed]",
      "text/plain": [
       "<matplotlib.figure.Figure at 0x107b20110>"
      ]
     },
     "metadata": {},
     "output_type": "display_data"
    }
   ],
   "source": [
    "plt.hist(w_star)"
   ]
  },
  {
   "cell_type": "code",
   "execution_count": 42,
   "metadata": {
    "collapsed": false
   },
   "outputs": [],
   "source": [
    "video_nums = [625,1250,2500,5000, 10000]\n",
    "num_edges_pct = [0.1, 0.5,1 , 2.17, 3]"
   ]
  },
  {
   "cell_type": "code",
   "execution_count": 43,
   "metadata": {
    "collapsed": false
   },
   "outputs": [
    {
     "name": "stdout",
     "output_type": "stream",
     "text": [
      "625\n",
      "( 0.1 , 0.534209641769 )\n",
      "( 0.5 , 0.783850095116 )\n",
      "( 1 , 0.869564297213 )\n",
      "( 2.17 , 0.934950041083 )\n",
      "( 3 , 0.952326591168 )\n",
      "1250\n",
      "( 0.1 , 0.485820318349 )\n",
      "( 0.5 , 0.772992701038 )\n",
      "( 1 , 0.868350682664 )\n",
      "( 2.17 , 0.939997166109 )\n",
      "( 3 , 0.953236911882 )\n",
      "2500\n",
      "( 0.1 , 0.52387079165 )\n",
      "( 0.5 , 0.799943458708 )\n",
      "( 1 , 0.882011747041 )\n",
      "( 2.17 , 0.946347195662 )\n",
      "( 3 , 0.959140935337 )\n",
      "5000\n",
      "( 0.1 , 0.507894857369 )\n",
      "( 0.5 , 0.810128678351 )\n",
      "( 1 , 0.888968058232 )\n",
      "( 2.17 , 0.949881173517 )\n",
      "( 3 , 0.988612103294 )\n",
      "10000\n",
      "( 0.1 , 0.499984824066 )\n",
      "( 0.5 , 0.805703057243 )\n",
      "( 1 , 0.8968612916 )\n",
      "( 2.17 , 0.952466560856 )\n",
      "( 3 , 0.963508980062 )\n"
     ]
    },
    {
     "data": {
      "text/plain": [
       "<matplotlib.figure.Figure at 0x7fc5f41108d0>"
      ]
     },
     "metadata": {},
     "output_type": "display_data"
    }
   ],
   "source": [
    "plt.figure(figsize=(10,5))\n",
    "for video_num in video_nums:\n",
    "    keys_str = error_results[str(video_num)].keys()\n",
    "    keys_str = [keys_str[i].replace(\".\",\"\") for i in range(len(keys_str))]\n",
    "    keys = np.sort(np.array(keys_str).astype(int))\n",
    "    r2 = []\n",
    "    edges = []\n",
    "    thresh = video_num*np.log(video_num)\n",
    "    for key in keys:\n",
    "        edges.append(key)\n",
    "        r2.append(error_results[str(video_num)][str(key)])\n",
    "        \n",
    "    print video_num\n",
    "    for i in range(len(num_edges_pct)):\n",
    "        print '(',num_edges_pct[i],',',r2[i],')'\n",
    "\n",
    "#     plt.plot(num_edges_pct, r2,linewidth=2)\n",
    "#     plt.title('Number of Pairs: '+ str(video_num))\n",
    "#     plt.ylabel(r'$R^2$')\n",
    "#     plt.xlabel(r\"Pairs Number\")\n",
    "# #     plt.axvline(x=thresh,linewidth=2, color='r')\n",
    "    \n",
    "#     plt.legend(['625','1250','2500','5000','10000'],bbox_to_anchor=(1.05, 1), loc=2, borderaxespad=0.)\n",
    "# #     plt.legend([r'$R^2$',r'$R^2$ of random', r'$R^2 = 0.9$'],bbox_to_anchor=(1.05, 1), loc=2, borderaxespad=0.)\n",
    "#     plt.ylim([0.4,1])\n",
    "#     plt.xlim([0,3])\n",
    "# #     plt.scatter(edges[3], r2_random[3],s=50)\n",
    "# # plt.axhline(y=0.9,linewidth=1, color='k')"
   ]
  },
  {
   "cell_type": "code",
   "execution_count": 15,
   "metadata": {
    "collapsed": false
   },
   "outputs": [],
   "source": [
    "def intersect(x1,y1,x2,y2):\n",
    "    y = 0.9\n",
    "    a = (y1-y2)/(x1-x2)\n",
    "    b = y1 - (y1-y2)/(x1-x2)*x1\n",
    "    return (y-b)/a"
   ]
  },
  {
   "cell_type": "code",
   "execution_count": 17,
   "metadata": {
    "collapsed": false
   },
   "outputs": [
    {
     "data": {
      "text/plain": [
       "1.3622918884526714"
      ]
     },
     "execution_count": 17,
     "metadata": {},
     "output_type": "execute_result"
    }
   ],
   "source": []
  },
  {
   "cell_type": "markdown",
   "metadata": {
    "collapsed": false
   },
   "source": [
    "# Intersect with $R^2$ = 9 with no noise"
   ]
  },
  {
   "cell_type": "code",
   "execution_count": 4,
   "metadata": {
    "collapsed": false
   },
   "outputs": [],
   "source": [
    "path = './single_result_no_error/'\n",
    "error_files = [f for f in os.listdir(path) if f.endswith('.p')]\n"
   ]
  },
  {
   "cell_type": "code",
   "execution_count": 25,
   "metadata": {
    "collapsed": false
   },
   "outputs": [],
   "source": [
    "error_results = dict()\n",
    "\n",
    "for f in error_files:\n",
    "    n, p = re.findall( r'\\d+\\.*\\d', f )\n",
    "    \n",
    "    fname = os.path.join(path, f)\n",
    "    temp = pickle.load( open( fname, \"rb\" ) )\n",
    "    \n",
    "    w_star = temp['video_score']\n",
    "    w_hat_raw = temp['x']\n",
    "    w_hat = regularized_vector(w_star,w_hat_raw)\n",
    "    \n",
    "    if n not in error_results.keys():\n",
    "        error_results[n] = dict()\n",
    "        \n",
    "    if p not in error_results[n].keys():\n",
    "        error_results[n][p] = R2(w_hat, w_star)"
   ]
  },
  {
   "cell_type": "code",
   "execution_count": 26,
   "metadata": {
    "collapsed": false
   },
   "outputs": [],
   "source": [
    "video_nums = [625,1250,2500,5000, 10000]\n",
    "num_edges_pct = [0.1, 0.5,1 , 2.17, 3]"
   ]
  },
  {
   "cell_type": "code",
   "execution_count": 27,
   "metadata": {
    "collapsed": false
   },
   "outputs": [
    {
     "name": "stdout",
     "output_type": "stream",
     "text": [
      "( 1 , 0.869564297213 , 2.17 , 0.934950041083 )\n",
      "( 1 , 0.868350682664 , 2.17 , 0.939997166109 )\n",
      "( 1 , 0.882011747041 , 2.17 , 0.946347195662 )\n",
      "( 1 , 0.888968058232 , 2.17 , 0.949881173517 )\n",
      "( 1 , 0.8968612916 , 2.17 , 0.952466560856 )\n"
     ]
    }
   ],
   "source": [
    "# plt.figure(figsize=(10,5))\n",
    "for video_num in video_nums:\n",
    "    keys_str = error_results[str(video_num)].keys()\n",
    "    keys_str = [keys_str[i].replace(\".\",\"\") for i in range(len(keys_str))]\n",
    "    keys = np.sort(np.array(keys_str).astype(int))\n",
    "    r2 = []\n",
    "    edges = []\n",
    "    thresh = video_num*np.log(video_num)\n",
    "    for key in keys:\n",
    "        edges.append(key)\n",
    "        r2.append(error_results[str(video_num)][str(key)])\n",
    "        \n",
    "    print '(', num_edges_pct[2],',', r2[2],',', num_edges_pct[3],',', r2[3],')'"
   ]
  },
  {
   "cell_type": "code",
   "execution_count": 28,
   "metadata": {
    "collapsed": false
   },
   "outputs": [
    {
     "data": {
      "text/plain": [
       "1.516839061773998"
      ]
     },
     "execution_count": 28,
     "metadata": {},
     "output_type": "execute_result"
    }
   ],
   "source": [
    "intersect(1 , 0.868350682664 , 2.17 , 0.939997166109 )\n"
   ]
  },
  {
   "cell_type": "markdown",
   "metadata": {},
   "source": [
    "# $R^2$ as a function of $\\frac {p} {nlogn}$"
   ]
  },
  {
   "cell_type": "code",
   "execution_count": 29,
   "metadata": {
    "collapsed": false
   },
   "outputs": [
    {
     "ename": "KeyError",
     "evalue": "'625'",
     "output_type": "error",
     "traceback": [
      "\u001b[1;31m---------------------------------------------------------------------------\u001b[0m",
      "\u001b[1;31mKeyError\u001b[0m                                  Traceback (most recent call last)",
      "\u001b[1;32m<ipython-input-29-20853a12b503>\u001b[0m in \u001b[0;36m<module>\u001b[1;34m()\u001b[0m\n\u001b[0;32m     14\u001b[0m     \u001b[0mthresh_random\u001b[0m \u001b[1;33m=\u001b[0m \u001b[0mvideo_num\u001b[0m\u001b[1;33m*\u001b[0m\u001b[0mnp\u001b[0m\u001b[1;33m.\u001b[0m\u001b[0mlog\u001b[0m\u001b[1;33m(\u001b[0m\u001b[0mvideo_num\u001b[0m\u001b[1;33m)\u001b[0m\u001b[1;33m\u001b[0m\u001b[0m\n\u001b[0;32m     15\u001b[0m     \u001b[1;32mfor\u001b[0m \u001b[0mkey\u001b[0m \u001b[1;32min\u001b[0m \u001b[0mkeys\u001b[0m\u001b[1;33m:\u001b[0m\u001b[1;33m\u001b[0m\u001b[0m\n\u001b[1;32m---> 16\u001b[1;33m         \u001b[0mr2_random\u001b[0m\u001b[1;33m.\u001b[0m\u001b[0mappend\u001b[0m\u001b[1;33m(\u001b[0m\u001b[0mrandom_error_results\u001b[0m\u001b[1;33m[\u001b[0m\u001b[0mstr\u001b[0m\u001b[1;33m(\u001b[0m\u001b[0mvideo_num\u001b[0m\u001b[1;33m)\u001b[0m\u001b[1;33m]\u001b[0m\u001b[1;33m[\u001b[0m\u001b[0mstr\u001b[0m\u001b[1;33m(\u001b[0m\u001b[0mkey\u001b[0m\u001b[1;33m)\u001b[0m\u001b[1;33m]\u001b[0m\u001b[1;33m)\u001b[0m\u001b[1;33m\u001b[0m\u001b[0m\n\u001b[0m\u001b[0;32m     17\u001b[0m \u001b[1;33m\u001b[0m\u001b[0m\n\u001b[0;32m     18\u001b[0m     \u001b[1;32mprint\u001b[0m \u001b[1;34m'('\u001b[0m\u001b[1;33m,\u001b[0m \u001b[0mnum_edges_pct\u001b[0m\u001b[1;33m[\u001b[0m\u001b[1;36m2\u001b[0m\u001b[1;33m]\u001b[0m\u001b[1;33m,\u001b[0m\u001b[1;34m','\u001b[0m\u001b[1;33m,\u001b[0m \u001b[0mr2\u001b[0m\u001b[1;33m[\u001b[0m\u001b[1;36m2\u001b[0m\u001b[1;33m]\u001b[0m\u001b[1;33m,\u001b[0m\u001b[1;34m','\u001b[0m\u001b[1;33m,\u001b[0m \u001b[0mnum_edges_pct\u001b[0m\u001b[1;33m[\u001b[0m\u001b[1;36m3\u001b[0m\u001b[1;33m]\u001b[0m\u001b[1;33m,\u001b[0m\u001b[1;34m','\u001b[0m\u001b[1;33m,\u001b[0m \u001b[0mr2\u001b[0m\u001b[1;33m[\u001b[0m\u001b[1;36m3\u001b[0m\u001b[1;33m]\u001b[0m\u001b[1;33m,\u001b[0m\u001b[1;34m')'\u001b[0m\u001b[1;33m\u001b[0m\u001b[0m\n",
      "\u001b[1;31mKeyError\u001b[0m: '625'"
     ]
    },
    {
     "data": {
      "text/plain": [
       "<matplotlib.figure.Figure at 0x7f866254ab50>"
      ]
     },
     "metadata": {},
     "output_type": "display_data"
    }
   ],
   "source": [
    "plt.figure(figsize=(10,5))\n",
    "for video_num in video_nums:\n",
    "    keys_str = error_results[str(video_num)].keys()\n",
    "    keys_str = [keys_str[i].replace(\".\",\"\") for i in range(len(keys_str))]\n",
    "    keys = np.sort(np.array(keys_str).astype(int))\n",
    "    r2 = []\n",
    "    edges = []\n",
    "    thresh = video_num*np.log(video_num)\n",
    "    for key in keys:\n",
    "        edges.append(key)\n",
    "        r2.append(error_results[str(video_num)][str(key)])\n",
    "        \n",
    "    r2_random = []\n",
    "    thresh_random = video_num*np.log(video_num)\n",
    "    for key in keys:\n",
    "        r2_random.append(random_error_results[str(video_num)][str(key)])\n",
    "        \n",
    "    print '(', num_edges_pct[2],',', r2[2],',', num_edges_pct[3],',', r2[3],')'\n",
    "\n",
    "    plt.plot(num_edges_pct, r2,linewidth=2)\n",
    "#     plt.plot(edges, r2_random,'b.-')\n",
    "    \n",
    "    plt.title('Number of Pairs: '+str(video_num))\n",
    "    plt.ylabel(r'$R^2$')\n",
    "    plt.xlabel(r\"Pairs Number\")\n",
    "#     plt.axvline(x=thresh,linewidth=2, color='r')\n",
    "    \n",
    "    plt.legend(['625','1250','2500','5000','10000'],bbox_to_anchor=(1.05, 1), loc=2, borderaxespad=0.)\n",
    "#     plt.legend([r'$R^2$',r'$R^2$ of random', r'$R^2 = 0.9$'],bbox_to_anchor=(1.05, 1), loc=2, borderaxespad=0.)\n",
    "    plt.ylim([0.4,1])\n",
    "    plt.xlim([0,edges[-1]*1.05])\n",
    "    plt.scatter(edges[3], r2_random[3],s=50)\n",
    "plt.axhline(y=0.9,linewidth=1, color='k')"
   ]
  },
  {
   "cell_type": "markdown",
   "metadata": {
    "collapsed": false
   },
   "source": [
    "# Below we explore the effect of sigma"
   ]
  },
  {
   "cell_type": "code",
   "execution_count": 38,
   "metadata": {
    "collapsed": false
   },
   "outputs": [
    {
     "name": "stdout",
     "output_type": "stream",
     "text": [
      "( 625 , 0.90376501564 )\n",
      "( 1250 , 0.915725153968 )\n",
      "( 2500 , 0.918903831952 )\n",
      "( 5000 , 0.928049492951 )\n",
      "( 10000 , 0.93136238162 )\n"
     ]
    }
   ],
   "source": [
    "path = './sigma_results/'\n",
    "error_files = [f for f in os.listdir(path) if f.endswith('.p') and 'sigma_03' in f]\n",
    "\n",
    "error_results = dict()\n",
    "\n",
    "for f in error_files:\n",
    "    sigma, n, p = re.findall( r'\\d+\\.*\\d', f )\n",
    "    \n",
    "    fname = os.path.join(path, f)\n",
    "    temp = pickle.load( open( fname, \"rb\" ) )\n",
    "    \n",
    "    w_star = temp['video_score']\n",
    "    w_hat_raw = temp['x']\n",
    "    w_hat = regularized_vector(w_star,w_hat_raw)\n",
    "    \n",
    "    if n not in error_results.keys():\n",
    "        error_results[n] = dict()\n",
    "        \n",
    "    if p not in error_results[n].keys():\n",
    "        error_results[n][p] = R2(w_hat, w_star)\n",
    "        \n",
    "video_nums = [625,1250,2500,5000, 10000]\n",
    "num_edges_pct = [0.1, 0.5,1 , 2.17, 3]\n",
    "\n",
    "j = 0\n",
    "for video_num in video_nums:\n",
    "    \n",
    "    keys_str = error_results[str(video_num)].keys()\n",
    "    keys_str = [keys_str[i].replace(\".\",\"\") for i in range(len(keys_str))]\n",
    "    keys = np.sort(np.array(keys_str).astype(int))\n",
    "    r2 = []\n",
    "    edges = []\n",
    "    thresh = video_num*np.log(video_num)\n",
    "    for key in keys:\n",
    "        edges.append(key)\n",
    "        r2.append(error_results[str(video_num)][str(key)])\n",
    "\n",
    "    print '(', video_num,',', r2[0],')'\n",
    "    j += 1"
   ]
  },
  {
   "cell_type": "code",
   "execution_count": 31,
   "metadata": {
    "collapsed": false
   },
   "outputs": [
    {
     "data": {
      "text/plain": [
       "1"
      ]
     },
     "execution_count": 31,
     "metadata": {},
     "output_type": "execute_result"
    }
   ],
   "source": [
    "len(r2)"
   ]
  },
  {
   "cell_type": "code",
   "execution_count": 20,
   "metadata": {
    "collapsed": false
   },
   "outputs": [],
   "source": [
    "f = 'a_05_32324_4345'"
   ]
  },
  {
   "cell_type": "code",
   "execution_count": null,
   "metadata": {
    "collapsed": true
   },
   "outputs": [],
   "source": []
  }
 ],
 "metadata": {
  "kernelspec": {
   "display_name": "Python 2",
   "language": "python",
   "name": "python2"
  },
  "language_info": {
   "codemirror_mode": {
    "name": "ipython",
    "version": 2
   },
   "file_extension": ".py",
   "mimetype": "text/x-python",
   "name": "python",
   "nbconvert_exporter": "python",
   "pygments_lexer": "ipython2",
   "version": "2.7.10"
  }
 },
 "nbformat": 4,
 "nbformat_minor": 0
}
